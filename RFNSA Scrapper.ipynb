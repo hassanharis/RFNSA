{
 "cells": [
  {
   "cell_type": "markdown",
   "id": "fc11cf88",
   "metadata": {},
   "source": [
    "# RFNSA Antenna Details\n",
    "##### ©Haris Hassan\n"
   ]
  },
  {
   "cell_type": "code",
   "execution_count": 1,
   "id": "b177ee9f",
   "metadata": {},
   "outputs": [],
   "source": [
    "################ Import Libraries ################\n",
    "import sys\n",
    "#!conda install --yes --prefix {sys.prefix} natsort\n",
    "from IPython import get_ipython;\n",
    "#from natsort import index_natsorted\n",
    "get_ipython().magic('reset -sf')\n",
    "import pandas as pd\n",
    "pd.set_option('display.max_colwidth', None)\n",
    "from IPython.display import display, HTML\n",
    "import re\n",
    "import math\n",
    "import numpy as np\n",
    "from itertools import count\n",
    "class text_format:\n",
    "   PURPLE = '\\033[95m'\n",
    "   CYAN = '\\033[96m'\n",
    "   DARKCYAN = '\\033[36m'\n",
    "   BLUE = '\\033[94m'\n",
    "   GREEN = '\\033[92m'\n",
    "   YELLOW = '\\033[93m'\n",
    "   RED = '\\033[91m'\n",
    "   BOLD = '\\033[1m'\n",
    "   UNDERLINE = '\\033[4m'\n",
    "   END = '\\033[0m'\n",
    "    \n",
    "# Function to convert from mW to dBm\n",
    "def W2dBm(mW):\n",
    "    return 10.*log10(mW) + 30\n",
    "\n",
    "\n",
    "# Function to convert from dBm to mW\n",
    "def dBm2W(dBm):\n",
    "    return 10**((dBm-30)/10.)\n",
    "\n",
    "################################################"
   ]
  },
  {
   "cell_type": "code",
   "execution_count": 2,
   "id": "2e71d00d",
   "metadata": {},
   "outputs": [],
   "source": [
    "################### Replace with path to your excel file. \n",
    "data = pd.read_excel(r'C:\\Users\\Mewtwo\\Downloads\\New Microsoft Excel Worksheet.xlsx')\n",
    "\n",
    "#remove the proposed Antennas\n",
    "data = data.drop(data[data['Existing/Proposed'] == 'Proposed'].index)\n",
    "\n",
    "################ Create the dataframe from meaningful columns of STAD table and rename the columns ################\n",
    "df = pd.DataFrame(data, columns=['Antenna ID No','Add ID','Antenna Model','Sector','Height - Phase Centre (m)'\n",
    "                                 ,'Bearing Degrees (true)',\n",
    "                                 'Mech Downtilt','Elect Downtilt','System',\n",
    "                                 'Port Number (Band Power per Port (dBm))','Band Power per Port (dBm)','Notes'])\n",
    "df = df.rename(columns={'Antenna Model': 'Antenna', 'Antenna ID No': 'ID', 'Bearing Degrees (true)': 'Bearing'\n",
    "                  , 'Mech Downtilt': 'MDT', 'Elect Downtilt': 'EDT', 'Height - Phase Centre (m)': 'Height', \n",
    "                   'Port Number (Band Power per Port (dBm))': 'Possible Ports', \n",
    "                   'Band Power per Port (dBm)': 'Powers'})\n",
    "\n",
    "df.fillna(value = 0,inplace = True)\n",
    "df = df.reset_index(drop=True)\n"
   ]
  },
  {
   "cell_type": "code",
   "execution_count": 3,
   "id": "0af49bc4",
   "metadata": {},
   "outputs": [],
   "source": [
    "AntennasUnique = list( dict.fromkeys(df['Antenna']) )\n",
    "#AntennasUnique = sorted(AntennasUnique, key=lambda x: int(re.search('\\d+', x).group(0)))\n",
    "#display(AntennasUnique)\n",
    "IDUnique = list( dict.fromkeys(df['ID'],df['Antenna']) )\n",
    "#Special and Unique function to sort the ids string universally\n",
    "#IDUnique = sorted(IDUnique, key=lambda x: (2,int(x)) if re.search('^\\d+$', x) else (1,int(re.search('\\d+', x).group(0))) if re.search('\\d+$', x) else (0, x))"
   ]
  },
  {
   "cell_type": "code",
   "execution_count": 4,
   "id": "0799640f",
   "metadata": {},
   "outputs": [],
   "source": [
    "# Extracting Carrier (optus, telstra, Vodafone), technology/Frequency (i.e LTE900, NR2100, WCDMA850) information from System \n",
    "\n",
    "df['System'] = df['System'].str.replace(' - LOCKED', '', regex=True)\n",
    "df['System'] = df['System'].str.replace('[Macro]', '', regex=False)\n",
    "df['System'] = df['System'].str.replace(' \\[', ';', regex=True)\n",
    "df['System'] = df['System'].str.replace('/', ';', 1, regex=True)\n",
    "df['Operator'] = df['System'].str.split(\" ;\").str[0]"
   ]
  },
  {
   "cell_type": "code",
   "execution_count": 5,
   "id": "e17fa599",
   "metadata": {},
   "outputs": [],
   "source": [
    "#display(df.loc[(df['Antenna'] == 'RV4PX310R') &  (df['ID'] == '21-J'), {'ID','MDT'}])"
   ]
  },
  {
   "cell_type": "code",
   "execution_count": 6,
   "id": "f4dc2c61",
   "metadata": {},
   "outputs": [],
   "source": [
    "Carriers=[]\n",
    "for idx in IDUnique:\n",
    "    multicarrier = []\n",
    "    counter = 0\n",
    "    #display(df.loc[df['ID'] == idx, {'Antenna','System','Carrier','Tech'}])\n",
    "    for x in df.loc[df['ID'] == idx, 'Operator']:\n",
    "        multicarrier.append(x)\n",
    "        counter +=1\n",
    "        #display(idx)\n",
    "        #display(x)\n",
    "    for c in range(counter):\n",
    "        Carriers.append('/'.join(list( dict.fromkeys(multicarrier))))\n",
    "df['Carrier'] = Carriers"
   ]
  },
  {
   "cell_type": "code",
   "execution_count": 7,
   "id": "73030d67",
   "metadata": {},
   "outputs": [],
   "source": [
    "#df['Tech'] = df['System'].str.split(\";\").str[1]\n",
    "tech = []\n",
    "df['Tech'] = df['System'].str.split(\";\").str[1]\n",
    "for x, y in enumerate(df['Carrier']):\n",
    "    if '/' in y:\n",
    "        tech.append(''.join(df['System'][x].split(\";\")))\n",
    "    else:\n",
    "        tech.append(df['System'][x].split(\";\")[1])\n",
    "        \n",
    "df['Tech'] = tech"
   ]
  },
  {
   "cell_type": "code",
   "execution_count": 8,
   "id": "5fe4cc13",
   "metadata": {},
   "outputs": [],
   "source": [
    "\n",
    "df[\"sorter\"] =  df[\"Carrier\"] + df[\"ID\"].astype(str)\n",
    "df = df.iloc[df['sorter'].astype(str).apply(lambda x: (2, int(x)) if re.search('^\\d+$', x) else (1, int(re.search('\\d+', x).group(0))) if re.search('\\d+$', x) else (0, x)).argsort()]\n",
    "df = df.reset_index(drop=True)\n",
    "df.index += 1\n",
    "\n",
    "AntennasUnique = list( dict.fromkeys(df['Antenna']) )\n",
    "#AntennasUnique = sorted(AntennasUnique, key=lambda x: int(re.search('\\d+', x).group(0)))\n",
    "#display(AntennasUnique)\n",
    "IDUnique = list( dict.fromkeys(df['ID'],df['Antenna']) )\n",
    "#Special and Unique function to sort the ids string universally\n",
    "#IDUnique = sorted(IDUnique, key=lambda x: (2,int(x)) if re.search('^\\d+$', x) else (1,int(re.search('\\d+', x).group(0))) if re.search('\\d+$', x) else (0, x))\n",
    "AntennaIds = {}\n",
    "for antenna in AntennasUnique:\n",
    "    IdsForAntenna = list(dict.fromkeys(df.loc[df['Antenna'] == antenna, 'ID']))\n",
    "    AntennaIds[antenna] = IdsForAntenna\n",
    "    \n",
    "#df = df.iloc[index_natsorted(df.sorter)]\n",
    "# Sorting the STAD dataframe to match with RFNSA\n",
    "#df.index = df['sorter'].str.replace('[a-zA-Z]+','.').astype(float)\n",
    "#df = df.sort_index().reset_index(drop=True)\n",
    "#df.sort_values('sorter',key=lambda x: (2,int(x)) if re.search('^\\d+$', x) else (1,int(re.search('\\d+', x).group(0))) if re.search('\\d+$', x) else (0, x))\n",
    "#IDUnique = sorted(IDUnique, key=lambda x: (2,int(x)) if re.search('^\\d+$', x) else (1,int(re.search('\\d+', x).group(0))) if re.search('\\d+$', x) else (0, x))\n",
    "#df.sort_values(by=['sorter'], ascending=[True], inplace = True)\n",
    "#df.sort_values(by=['Carrier','ID'], ascending=[True, True], inplace = True)\n",
    "#Reset index of dataframe after sorting and start from 1\n",
    "\n",
    "\n",
    "#Count the total ports of each antenna\n",
    "df['Total Ports'] = df['Powers'].str.count(';')\n",
    "df.fillna(value = 0,inplace = True)\n",
    "df['Total Ports'] = df['Total Ports'] + 1\n",
    "df['Total Ports'] = list(x for x in df['Total Ports'])\n",
    "\n",
    "#Format/Clean the Data\n",
    "df['EDT'] = df['EDT'].str.replace(' to ', '-', regex=True)\n",
    "df['EDT'] = df['EDT'].str.replace(r'\\(.*\\)','', regex=True)\n",
    "df['Sector'] = df['Sector'].astype(str).replace('\\.0', '', regex=True)\n",
    "df['System/Sector']= [''.join(''.join(map(str, m))+' - Sector ' +f'{l}') for l, m in zip(df['Sector'],df['Tech'])]\n",
    "\n",
    "#Correcting microwavelinks\n",
    "templist = []\n",
    "for x in df['Powers']:\n",
    "    if ';' not in str(x):\n",
    "        templist.append(str(x)+';')\n",
    "    else:\n",
    "        templist.append(str(x))        \n",
    "df['Powers'] = templist"
   ]
  },
  {
   "cell_type": "code",
   "execution_count": 9,
   "id": "6a528be2",
   "metadata": {},
   "outputs": [],
   "source": [
    "# Find the sectors\n",
    "Sectors = []\n",
    "for idx in IDUnique:\n",
    "    Sectorstemp = []\n",
    "    counter = 0\n",
    "    for x in df.loc[df['ID'] == idx, 'Sector']:\n",
    "        Sectorstemp.append(str(x))\n",
    "        counter +=1\n",
    "        #display(idx)\n",
    "    for c in range(counter):\n",
    "        Sectors.append(', '.join(list( dict.fromkeys(Sectorstemp))))\n",
    "df['Sectors'] = Sectors"
   ]
  },
  {
   "cell_type": "code",
   "execution_count": 10,
   "id": "0f0c83fb",
   "metadata": {},
   "outputs": [],
   "source": [
    "### Convert te Power(dBm) into Watts\n",
    "temp_power = []\n",
    "for elm in df['Powers'].str.split(\";\"):\n",
    "    if isinstance(elm, (list, tuple)):\n",
    "        elm = [x for x in elm if x != '']  # Remove any empty strings from the list\n",
    "        converted_values = []\n",
    "        for sub in elm:\n",
    "            if float(sub) >= 30:\n",
    "                try:\n",
    "                    converted_values.append(round(dBm2W(float(sub)),1))\n",
    "                except ValueError:\n",
    "                    converted_values.append(sub)\n",
    "                    pass  # Skip the current value if it cannot be converted to a float\n",
    "            else:\n",
    "                 try:\n",
    "                    converted_values.append(round(dBm2W(float(sub)),4))\n",
    "                 except ValueError:\n",
    "                    converted_values.append(sub)\n",
    "                    pass  # Skip the current value if it cannot be converted to a float\n",
    "        temp_power.append(converted_values)\n",
    "    else:\n",
    "        try:\n",
    "            temp_power.append([dBm2W(float(elm))])\n",
    "        except ValueError:\n",
    "            temp_power.append([])\n",
    "\n",
    "df['Powers (W)'] = temp_power"
   ]
  },
  {
   "cell_type": "code",
   "execution_count": 11,
   "id": "93563635",
   "metadata": {},
   "outputs": [
    {
     "data": {
      "text/html": [
       "<div>\n",
       "<style scoped>\n",
       "    .dataframe tbody tr th:only-of-type {\n",
       "        vertical-align: middle;\n",
       "    }\n",
       "\n",
       "    .dataframe tbody tr th {\n",
       "        vertical-align: top;\n",
       "    }\n",
       "\n",
       "    .dataframe thead th {\n",
       "        text-align: right;\n",
       "    }\n",
       "</style>\n",
       "<table border=\"1\" class=\"dataframe\">\n",
       "  <thead>\n",
       "    <tr style=\"text-align: right;\">\n",
       "      <th></th>\n",
       "      <th>ID</th>\n",
       "      <th>Add ID</th>\n",
       "      <th>Antenna</th>\n",
       "      <th>Sector</th>\n",
       "      <th>Height</th>\n",
       "      <th>Bearing</th>\n",
       "      <th>MDT</th>\n",
       "      <th>EDT</th>\n",
       "      <th>System</th>\n",
       "      <th>Possible Ports</th>\n",
       "      <th>Powers</th>\n",
       "      <th>Notes</th>\n",
       "      <th>Operator</th>\n",
       "      <th>Carrier</th>\n",
       "      <th>Tech</th>\n",
       "      <th>sorter</th>\n",
       "      <th>Total Ports</th>\n",
       "      <th>System/Sector</th>\n",
       "      <th>Sectors</th>\n",
       "      <th>Powers (W)</th>\n",
       "    </tr>\n",
       "  </thead>\n",
       "  <tbody>\n",
       "    <tr>\n",
       "      <th>1</th>\n",
       "      <td>A1</td>\n",
       "      <td>363673</td>\n",
       "      <td>AIR 5322 B258</td>\n",
       "      <td>0</td>\n",
       "      <td>7.18</td>\n",
       "      <td>30</td>\n",
       "      <td>0</td>\n",
       "      <td>0</td>\n",
       "      <td>Telstra ; NR26000;Small Cell]</td>\n",
       "      <td>1;2</td>\n",
       "      <td>18.91;18.91</td>\n",
       "      <td>NR26G AAU solution</td>\n",
       "      <td>Telstra</td>\n",
       "      <td>Telstra</td>\n",
       "      <td>NR26000</td>\n",
       "      <td>TelstraA1</td>\n",
       "      <td>2</td>\n",
       "      <td>NR26000 - Sector 0</td>\n",
       "      <td>0</td>\n",
       "      <td>[0.0778, 0.0778]</td>\n",
       "    </tr>\n",
       "    <tr>\n",
       "      <th>2</th>\n",
       "      <td>A2</td>\n",
       "      <td>363673</td>\n",
       "      <td>AIR 5322 B258</td>\n",
       "      <td>0</td>\n",
       "      <td>7.18</td>\n",
       "      <td>150</td>\n",
       "      <td>0</td>\n",
       "      <td>0</td>\n",
       "      <td>Telstra ; NR26000;Small Cell]</td>\n",
       "      <td>1;2</td>\n",
       "      <td>18.91;18.91</td>\n",
       "      <td>NR26G AAU solution</td>\n",
       "      <td>Telstra</td>\n",
       "      <td>Telstra</td>\n",
       "      <td>NR26000</td>\n",
       "      <td>TelstraA2</td>\n",
       "      <td>2</td>\n",
       "      <td>NR26000 - Sector 0</td>\n",
       "      <td>0</td>\n",
       "      <td>[0.0778, 0.0778]</td>\n",
       "    </tr>\n",
       "    <tr>\n",
       "      <th>3</th>\n",
       "      <td>A3</td>\n",
       "      <td>363673</td>\n",
       "      <td>AIR 5322 B258</td>\n",
       "      <td>0</td>\n",
       "      <td>7.18</td>\n",
       "      <td>270</td>\n",
       "      <td>0</td>\n",
       "      <td>0</td>\n",
       "      <td>Telstra ; NR26000;Small Cell]</td>\n",
       "      <td>1;2</td>\n",
       "      <td>18.91;18.91</td>\n",
       "      <td>NR26G AAU solution</td>\n",
       "      <td>Telstra</td>\n",
       "      <td>Telstra</td>\n",
       "      <td>NR26000</td>\n",
       "      <td>TelstraA3</td>\n",
       "      <td>2</td>\n",
       "      <td>NR26000 - Sector 0</td>\n",
       "      <td>0</td>\n",
       "      <td>[0.0778, 0.0778]</td>\n",
       "    </tr>\n",
       "    <tr>\n",
       "      <th>4</th>\n",
       "      <td>A4</td>\n",
       "      <td>363673</td>\n",
       "      <td>Antenna 6525</td>\n",
       "      <td>1</td>\n",
       "      <td>6.83</td>\n",
       "      <td>30</td>\n",
       "      <td>0</td>\n",
       "      <td>8</td>\n",
       "      <td>Telstra ; NR/LTE2600;Small Cell]</td>\n",
       "      <td>1;2;3;4</td>\n",
       "      <td>37;37;37;37</td>\n",
       "      <td>NR/L26 RRU solution</td>\n",
       "      <td>Telstra</td>\n",
       "      <td>Telstra</td>\n",
       "      <td>NR/LTE2600</td>\n",
       "      <td>TelstraA4</td>\n",
       "      <td>4</td>\n",
       "      <td>NR/LTE2600 - Sector 1</td>\n",
       "      <td>1</td>\n",
       "      <td>[5.0, 5.0, 5.0, 5.0]</td>\n",
       "    </tr>\n",
       "    <tr>\n",
       "      <th>5</th>\n",
       "      <td>A5</td>\n",
       "      <td>363673</td>\n",
       "      <td>Antenna 6525</td>\n",
       "      <td>2</td>\n",
       "      <td>6.83</td>\n",
       "      <td>150</td>\n",
       "      <td>0</td>\n",
       "      <td>8</td>\n",
       "      <td>Telstra ; NR/LTE2600;Small Cell]</td>\n",
       "      <td>1;2;3;4</td>\n",
       "      <td>37;37;37;37</td>\n",
       "      <td>NR/L26 RRU solution</td>\n",
       "      <td>Telstra</td>\n",
       "      <td>Telstra</td>\n",
       "      <td>NR/LTE2600</td>\n",
       "      <td>TelstraA5</td>\n",
       "      <td>4</td>\n",
       "      <td>NR/LTE2600 - Sector 2</td>\n",
       "      <td>2</td>\n",
       "      <td>[5.0, 5.0, 5.0, 5.0]</td>\n",
       "    </tr>\n",
       "    <tr>\n",
       "      <th>6</th>\n",
       "      <td>A6</td>\n",
       "      <td>363673</td>\n",
       "      <td>Antenna 6525</td>\n",
       "      <td>3</td>\n",
       "      <td>6.83</td>\n",
       "      <td>270</td>\n",
       "      <td>0</td>\n",
       "      <td>8</td>\n",
       "      <td>Telstra ; NR/LTE2600;Small Cell]</td>\n",
       "      <td>1;2;3;4</td>\n",
       "      <td>37;37;37;37</td>\n",
       "      <td>NR/L26 RRU solution</td>\n",
       "      <td>Telstra</td>\n",
       "      <td>Telstra</td>\n",
       "      <td>NR/LTE2600</td>\n",
       "      <td>TelstraA6</td>\n",
       "      <td>4</td>\n",
       "      <td>NR/LTE2600 - Sector 3</td>\n",
       "      <td>3</td>\n",
       "      <td>[5.0, 5.0, 5.0, 5.0]</td>\n",
       "    </tr>\n",
       "  </tbody>\n",
       "</table>\n",
       "</div>"
      ],
      "text/plain": [
       "   ID  Add ID        Antenna Sector  Height  Bearing  MDT EDT  \\\n",
       "1  A1  363673  AIR 5322 B258      0    7.18       30    0  0    \n",
       "2  A2  363673  AIR 5322 B258      0    7.18      150    0  0    \n",
       "3  A3  363673  AIR 5322 B258      0    7.18      270    0  0    \n",
       "4  A4  363673   Antenna 6525      1    6.83       30    0  8    \n",
       "5  A5  363673   Antenna 6525      2    6.83      150    0  8    \n",
       "6  A6  363673   Antenna 6525      3    6.83      270    0  8    \n",
       "\n",
       "                             System Possible Ports       Powers  \\\n",
       "1     Telstra ; NR26000;Small Cell]            1;2  18.91;18.91   \n",
       "2     Telstra ; NR26000;Small Cell]            1;2  18.91;18.91   \n",
       "3     Telstra ; NR26000;Small Cell]            1;2  18.91;18.91   \n",
       "4  Telstra ; NR/LTE2600;Small Cell]        1;2;3;4  37;37;37;37   \n",
       "5  Telstra ; NR/LTE2600;Small Cell]        1;2;3;4  37;37;37;37   \n",
       "6  Telstra ; NR/LTE2600;Small Cell]        1;2;3;4  37;37;37;37   \n",
       "\n",
       "                 Notes Operator  Carrier         Tech     sorter  Total Ports  \\\n",
       "1   NR26G AAU solution  Telstra  Telstra      NR26000  TelstraA1            2   \n",
       "2   NR26G AAU solution  Telstra  Telstra      NR26000  TelstraA2            2   \n",
       "3   NR26G AAU solution  Telstra  Telstra      NR26000  TelstraA3            2   \n",
       "4  NR/L26 RRU solution  Telstra  Telstra   NR/LTE2600  TelstraA4            4   \n",
       "5  NR/L26 RRU solution  Telstra  Telstra   NR/LTE2600  TelstraA5            4   \n",
       "6  NR/L26 RRU solution  Telstra  Telstra   NR/LTE2600  TelstraA6            4   \n",
       "\n",
       "            System/Sector Sectors            Powers (W)  \n",
       "1      NR26000 - Sector 0       0      [0.0778, 0.0778]  \n",
       "2      NR26000 - Sector 0       0      [0.0778, 0.0778]  \n",
       "3      NR26000 - Sector 0       0      [0.0778, 0.0778]  \n",
       "4   NR/LTE2600 - Sector 1       1  [5.0, 5.0, 5.0, 5.0]  \n",
       "5   NR/LTE2600 - Sector 2       2  [5.0, 5.0, 5.0, 5.0]  \n",
       "6   NR/LTE2600 - Sector 3       3  [5.0, 5.0, 5.0, 5.0]  "
      ]
     },
     "metadata": {},
     "output_type": "display_data"
    }
   ],
   "source": [
    "display(df)"
   ]
  },
  {
   "cell_type": "code",
   "execution_count": 12,
   "id": "c1a6a22a",
   "metadata": {},
   "outputs": [],
   "source": [
    "######## what should be the frequency? ########\n",
    "Assess_Freq_list = []\n",
    "for i in df['Tech']:\n",
    "    if any([x in i for x in ['GSM900', 'WCDMA850', 'NB-IOT900', 'WCDMA900','LTE850', 'NR850','LTE900']]):\n",
    "        Assess_Freq_list.append('900')\n",
    "    elif any([x in i for x in ['NR/LTE2100', 'WCDMA2100', 'LTE2100']]):\n",
    "        Assess_Freq_list.append('2100')\n",
    "    elif any([x in i for x in ['NR/LTE1800', 'LTE1800']]):\n",
    "        Assess_Freq_list.append('1800')\n",
    "    elif any([x in i for x in ['LTE2600', 'NR2600']]):\n",
    "        Assess_Freq_list.append('2600')\n",
    "    elif 'LTE700' in i:\n",
    "        Assess_Freq_list.append('750')\n",
    "    elif 'LTE2300' in i:\n",
    "        Assess_Freq_list.append('2350')\n",
    "    else:\n",
    "        Assess_Freq_list.append(i)\n",
    "df['Assess Freq'] = Assess_Freq_list"
   ]
  },
  {
   "cell_type": "code",
   "execution_count": 13,
   "id": "959d53f2",
   "metadata": {},
   "outputs": [],
   "source": [
    "######## Which ports to add powers to? ########\n",
    "Mylist =[]\n",
    "\n",
    "for i in df['Powers']:\n",
    "    count = 1\n",
    "    lister = []\n",
    "    if isinstance(i, str):\n",
    "        for j in i:\n",
    "            if j==';':\n",
    "                count+=1\n",
    "            else:\n",
    "                lister.append(count)\n",
    "        Mylist.append(lister)\n",
    "    else:\n",
    "        Mylist.append(list(str(i))) \n",
    "        \n",
    "    \n",
    "new_k = []\n",
    "for elem in Mylist:\n",
    "    kiterator=[]\n",
    "    for el in elem:\n",
    "        if el not in kiterator:\n",
    "            kiterator.append(el)\n",
    "    new_k.append(kiterator)\n",
    "k = new_k\n",
    "\n",
    "df['WhereToAddPower'] = k"
   ]
  },
  {
   "cell_type": "code",
   "execution_count": 14,
   "id": "556375fe",
   "metadata": {},
   "outputs": [],
   "source": [
    "####Formatting Powers Column with ports numbers\n",
    "\n",
    "#itArr=[]\n",
    "#for index, elm in df['Powers'].iteritems():\n",
    "#    if isinstance(elm, (list, tuple)):\n",
    "#        itArr.append([f'{i+1}. {l}' for i, l in enumerate(elm)])\n",
    "#    else:\n",
    "#        itArr.append([elm])\n",
    "#df=df.drop(columns='Powers', axis=1)\n",
    "#df.insert(2, 'Powers', itArr)\n",
    "#############################################"
   ]
  },
  {
   "cell_type": "markdown",
   "id": "595edbc6",
   "metadata": {},
   "source": [
    "## Add these Antennas to prox5"
   ]
  },
  {
   "cell_type": "code",
   "execution_count": 15,
   "id": "e52e342b",
   "metadata": {},
   "outputs": [
    {
     "name": "stdout",
     "output_type": "stream",
     "text": [
      "You need to add these antennas\n",
      "\n",
      "AIR 5322 B258 \n",
      "Antenna 6525 \n",
      "\n",
      "to PROX5\n"
     ]
    }
   ],
   "source": [
    "print('You need to add these antennas\\n\\n'+str.join(\" \\n\", AntennasUnique)+' \\n\\nto PROX5')"
   ]
  },
  {
   "cell_type": "markdown",
   "id": "f762f917",
   "metadata": {},
   "source": [
    "## IDs for Antennas"
   ]
  },
  {
   "cell_type": "code",
   "execution_count": 16,
   "id": "d7e3cf27",
   "metadata": {},
   "outputs": [
    {
     "name": "stdout",
     "output_type": "stream",
     "text": [
      "\n",
      "The id of \u001b[1mAIR 5322 B258\u001b[0m are\n",
      "['A1', 'A2', 'A3']\n",
      "\n",
      "The id of \u001b[1mAntenna 6525\u001b[0m are\n",
      "['A4', 'A5', 'A6']\n"
     ]
    }
   ],
   "source": [
    "for x, y in AntennaIds.items():\n",
    "    print(f'\\nThe id of '+text_format.BOLD+ x + text_format.END + ' are\\n'+str.join(\"\", str(y)))\n"
   ]
  },
  {
   "cell_type": "markdown",
   "id": "016b9f19",
   "metadata": {},
   "source": [
    "## Antenna Settings"
   ]
  },
  {
   "cell_type": "code",
   "execution_count": 17,
   "id": "64c239af",
   "metadata": {},
   "outputs": [
    {
     "data": {
      "text/plain": [
       "'Set Power and Frequency to ports in Prox5'"
      ]
     },
     "metadata": {},
     "output_type": "display_data"
    },
    {
     "name": "stdout",
     "output_type": "stream",
     "text": [
      "\n",
      "For \u001b[1mA1\u001b[0m, the Settings are\n"
     ]
    },
    {
     "data": {
      "text/html": [
       "<div>\n",
       "<style scoped>\n",
       "    .dataframe tbody tr th:only-of-type {\n",
       "        vertical-align: middle;\n",
       "    }\n",
       "\n",
       "    .dataframe tbody tr th {\n",
       "        vertical-align: top;\n",
       "    }\n",
       "\n",
       "    .dataframe thead th {\n",
       "        text-align: right;\n",
       "    }\n",
       "</style>\n",
       "<table border=\"1\" class=\"dataframe\">\n",
       "  <thead>\n",
       "    <tr style=\"text-align: right;\">\n",
       "      <th></th>\n",
       "      <th>ID</th>\n",
       "      <th>Height</th>\n",
       "      <th>Bearing</th>\n",
       "      <th>MDT</th>\n",
       "    </tr>\n",
       "  </thead>\n",
       "  <tbody>\n",
       "    <tr>\n",
       "      <th>1</th>\n",
       "      <td>A1</td>\n",
       "      <td>7.18</td>\n",
       "      <td>30</td>\n",
       "      <td>0</td>\n",
       "    </tr>\n",
       "  </tbody>\n",
       "</table>\n",
       "</div>"
      ],
      "text/plain": [
       "   ID  Height  Bearing  MDT\n",
       "1  A1    7.18       30    0"
      ]
     },
     "metadata": {},
     "output_type": "display_data"
    },
    {
     "name": "stdout",
     "output_type": "stream",
     "text": [
      "\n",
      "For \u001b[1mA2\u001b[0m, the Settings are\n"
     ]
    },
    {
     "data": {
      "text/html": [
       "<div>\n",
       "<style scoped>\n",
       "    .dataframe tbody tr th:only-of-type {\n",
       "        vertical-align: middle;\n",
       "    }\n",
       "\n",
       "    .dataframe tbody tr th {\n",
       "        vertical-align: top;\n",
       "    }\n",
       "\n",
       "    .dataframe thead th {\n",
       "        text-align: right;\n",
       "    }\n",
       "</style>\n",
       "<table border=\"1\" class=\"dataframe\">\n",
       "  <thead>\n",
       "    <tr style=\"text-align: right;\">\n",
       "      <th></th>\n",
       "      <th>ID</th>\n",
       "      <th>Height</th>\n",
       "      <th>Bearing</th>\n",
       "      <th>MDT</th>\n",
       "    </tr>\n",
       "  </thead>\n",
       "  <tbody>\n",
       "    <tr>\n",
       "      <th>2</th>\n",
       "      <td>A2</td>\n",
       "      <td>7.18</td>\n",
       "      <td>150</td>\n",
       "      <td>0</td>\n",
       "    </tr>\n",
       "  </tbody>\n",
       "</table>\n",
       "</div>"
      ],
      "text/plain": [
       "   ID  Height  Bearing  MDT\n",
       "2  A2    7.18      150    0"
      ]
     },
     "metadata": {},
     "output_type": "display_data"
    },
    {
     "name": "stdout",
     "output_type": "stream",
     "text": [
      "\n",
      "For \u001b[1mA3\u001b[0m, the Settings are\n"
     ]
    },
    {
     "data": {
      "text/html": [
       "<div>\n",
       "<style scoped>\n",
       "    .dataframe tbody tr th:only-of-type {\n",
       "        vertical-align: middle;\n",
       "    }\n",
       "\n",
       "    .dataframe tbody tr th {\n",
       "        vertical-align: top;\n",
       "    }\n",
       "\n",
       "    .dataframe thead th {\n",
       "        text-align: right;\n",
       "    }\n",
       "</style>\n",
       "<table border=\"1\" class=\"dataframe\">\n",
       "  <thead>\n",
       "    <tr style=\"text-align: right;\">\n",
       "      <th></th>\n",
       "      <th>ID</th>\n",
       "      <th>Height</th>\n",
       "      <th>Bearing</th>\n",
       "      <th>MDT</th>\n",
       "    </tr>\n",
       "  </thead>\n",
       "  <tbody>\n",
       "    <tr>\n",
       "      <th>3</th>\n",
       "      <td>A3</td>\n",
       "      <td>7.18</td>\n",
       "      <td>270</td>\n",
       "      <td>0</td>\n",
       "    </tr>\n",
       "  </tbody>\n",
       "</table>\n",
       "</div>"
      ],
      "text/plain": [
       "   ID  Height  Bearing  MDT\n",
       "3  A3    7.18      270    0"
      ]
     },
     "metadata": {},
     "output_type": "display_data"
    },
    {
     "name": "stdout",
     "output_type": "stream",
     "text": [
      "\n",
      "For \u001b[1mA4\u001b[0m, the Settings are\n"
     ]
    },
    {
     "data": {
      "text/html": [
       "<div>\n",
       "<style scoped>\n",
       "    .dataframe tbody tr th:only-of-type {\n",
       "        vertical-align: middle;\n",
       "    }\n",
       "\n",
       "    .dataframe tbody tr th {\n",
       "        vertical-align: top;\n",
       "    }\n",
       "\n",
       "    .dataframe thead th {\n",
       "        text-align: right;\n",
       "    }\n",
       "</style>\n",
       "<table border=\"1\" class=\"dataframe\">\n",
       "  <thead>\n",
       "    <tr style=\"text-align: right;\">\n",
       "      <th></th>\n",
       "      <th>ID</th>\n",
       "      <th>Height</th>\n",
       "      <th>Bearing</th>\n",
       "      <th>MDT</th>\n",
       "    </tr>\n",
       "  </thead>\n",
       "  <tbody>\n",
       "    <tr>\n",
       "      <th>4</th>\n",
       "      <td>A4</td>\n",
       "      <td>6.83</td>\n",
       "      <td>30</td>\n",
       "      <td>0</td>\n",
       "    </tr>\n",
       "  </tbody>\n",
       "</table>\n",
       "</div>"
      ],
      "text/plain": [
       "   ID  Height  Bearing  MDT\n",
       "4  A4    6.83       30    0"
      ]
     },
     "metadata": {},
     "output_type": "display_data"
    },
    {
     "name": "stdout",
     "output_type": "stream",
     "text": [
      "\n",
      "For \u001b[1mA5\u001b[0m, the Settings are\n"
     ]
    },
    {
     "data": {
      "text/html": [
       "<div>\n",
       "<style scoped>\n",
       "    .dataframe tbody tr th:only-of-type {\n",
       "        vertical-align: middle;\n",
       "    }\n",
       "\n",
       "    .dataframe tbody tr th {\n",
       "        vertical-align: top;\n",
       "    }\n",
       "\n",
       "    .dataframe thead th {\n",
       "        text-align: right;\n",
       "    }\n",
       "</style>\n",
       "<table border=\"1\" class=\"dataframe\">\n",
       "  <thead>\n",
       "    <tr style=\"text-align: right;\">\n",
       "      <th></th>\n",
       "      <th>ID</th>\n",
       "      <th>Height</th>\n",
       "      <th>Bearing</th>\n",
       "      <th>MDT</th>\n",
       "    </tr>\n",
       "  </thead>\n",
       "  <tbody>\n",
       "    <tr>\n",
       "      <th>5</th>\n",
       "      <td>A5</td>\n",
       "      <td>6.83</td>\n",
       "      <td>150</td>\n",
       "      <td>0</td>\n",
       "    </tr>\n",
       "  </tbody>\n",
       "</table>\n",
       "</div>"
      ],
      "text/plain": [
       "   ID  Height  Bearing  MDT\n",
       "5  A5    6.83      150    0"
      ]
     },
     "metadata": {},
     "output_type": "display_data"
    },
    {
     "name": "stdout",
     "output_type": "stream",
     "text": [
      "\n",
      "For \u001b[1mA6\u001b[0m, the Settings are\n"
     ]
    },
    {
     "data": {
      "text/html": [
       "<div>\n",
       "<style scoped>\n",
       "    .dataframe tbody tr th:only-of-type {\n",
       "        vertical-align: middle;\n",
       "    }\n",
       "\n",
       "    .dataframe tbody tr th {\n",
       "        vertical-align: top;\n",
       "    }\n",
       "\n",
       "    .dataframe thead th {\n",
       "        text-align: right;\n",
       "    }\n",
       "</style>\n",
       "<table border=\"1\" class=\"dataframe\">\n",
       "  <thead>\n",
       "    <tr style=\"text-align: right;\">\n",
       "      <th></th>\n",
       "      <th>ID</th>\n",
       "      <th>Height</th>\n",
       "      <th>Bearing</th>\n",
       "      <th>MDT</th>\n",
       "    </tr>\n",
       "  </thead>\n",
       "  <tbody>\n",
       "    <tr>\n",
       "      <th>6</th>\n",
       "      <td>A6</td>\n",
       "      <td>6.83</td>\n",
       "      <td>270</td>\n",
       "      <td>0</td>\n",
       "    </tr>\n",
       "  </tbody>\n",
       "</table>\n",
       "</div>"
      ],
      "text/plain": [
       "   ID  Height  Bearing  MDT\n",
       "6  A6    6.83      270    0"
      ]
     },
     "metadata": {},
     "output_type": "display_data"
    }
   ],
   "source": [
    "display('Set Power and Frequency to ports in Prox5')\n",
    "Settings = {}\n",
    "#for i in IDUnique:\n",
    "#    IdsForAntenna = list(dict.fromkeys(df.loc[df['ID'] == i, 'ID']))\n",
    "#    AntennaIds[antenna] = IdsForAntenna\n",
    "\n",
    "for i in IDUnique:\n",
    "        print(f'\\nFor '+text_format.BOLD+str(i)+text_format.END+f', the Settings are')\n",
    "        display(df.loc[(df['ID'] == i),['ID','Height','Bearing','MDT']])"
   ]
  },
  {
   "cell_type": "markdown",
   "id": "1d819800",
   "metadata": {},
   "source": [
    "## Set Power and Frequency to ports in Prox5"
   ]
  },
  {
   "cell_type": "code",
   "execution_count": 18,
   "id": "77cad71a",
   "metadata": {},
   "outputs": [
    {
     "data": {
      "text/plain": [
       "'Set Power and Frequency to ports in Prox5'"
      ]
     },
     "metadata": {},
     "output_type": "display_data"
    },
    {
     "name": "stdout",
     "output_type": "stream",
     "text": [
      "\u001b[1mA1\n"
     ]
    },
    {
     "data": {
      "text/html": [
       "<div>\n",
       "<style scoped>\n",
       "    .dataframe tbody tr th:only-of-type {\n",
       "        vertical-align: middle;\n",
       "    }\n",
       "\n",
       "    .dataframe tbody tr th {\n",
       "        vertical-align: top;\n",
       "    }\n",
       "\n",
       "    .dataframe thead th {\n",
       "        text-align: right;\n",
       "    }\n",
       "</style>\n",
       "<table border=\"1\" class=\"dataframe\">\n",
       "  <thead>\n",
       "    <tr style=\"text-align: right;\">\n",
       "      <th></th>\n",
       "      <th>ID</th>\n",
       "      <th>EDT</th>\n",
       "      <th>Tech</th>\n",
       "      <th>Possible Ports</th>\n",
       "      <th>WhereToAddPower</th>\n",
       "      <th>Powers (W)</th>\n",
       "    </tr>\n",
       "  </thead>\n",
       "  <tbody>\n",
       "    <tr>\n",
       "      <th>1</th>\n",
       "      <td>A1</td>\n",
       "      <td>0</td>\n",
       "      <td>NR26000</td>\n",
       "      <td>1;2</td>\n",
       "      <td>[1, 2]</td>\n",
       "      <td>[0.0778, 0.0778]</td>\n",
       "    </tr>\n",
       "  </tbody>\n",
       "</table>\n",
       "</div>"
      ],
      "text/plain": [
       "   ID EDT      Tech Possible Ports WhereToAddPower        Powers (W)\n",
       "1  A1  0    NR26000            1;2          [1, 2]  [0.0778, 0.0778]"
      ]
     },
     "metadata": {},
     "output_type": "display_data"
    },
    {
     "name": "stdout",
     "output_type": "stream",
     "text": [
      "\u001b[1mA2\n"
     ]
    },
    {
     "data": {
      "text/html": [
       "<div>\n",
       "<style scoped>\n",
       "    .dataframe tbody tr th:only-of-type {\n",
       "        vertical-align: middle;\n",
       "    }\n",
       "\n",
       "    .dataframe tbody tr th {\n",
       "        vertical-align: top;\n",
       "    }\n",
       "\n",
       "    .dataframe thead th {\n",
       "        text-align: right;\n",
       "    }\n",
       "</style>\n",
       "<table border=\"1\" class=\"dataframe\">\n",
       "  <thead>\n",
       "    <tr style=\"text-align: right;\">\n",
       "      <th></th>\n",
       "      <th>ID</th>\n",
       "      <th>EDT</th>\n",
       "      <th>Tech</th>\n",
       "      <th>Possible Ports</th>\n",
       "      <th>WhereToAddPower</th>\n",
       "      <th>Powers (W)</th>\n",
       "    </tr>\n",
       "  </thead>\n",
       "  <tbody>\n",
       "    <tr>\n",
       "      <th>2</th>\n",
       "      <td>A2</td>\n",
       "      <td>0</td>\n",
       "      <td>NR26000</td>\n",
       "      <td>1;2</td>\n",
       "      <td>[1, 2]</td>\n",
       "      <td>[0.0778, 0.0778]</td>\n",
       "    </tr>\n",
       "  </tbody>\n",
       "</table>\n",
       "</div>"
      ],
      "text/plain": [
       "   ID EDT      Tech Possible Ports WhereToAddPower        Powers (W)\n",
       "2  A2  0    NR26000            1;2          [1, 2]  [0.0778, 0.0778]"
      ]
     },
     "metadata": {},
     "output_type": "display_data"
    },
    {
     "name": "stdout",
     "output_type": "stream",
     "text": [
      "\u001b[1mA3\n"
     ]
    },
    {
     "data": {
      "text/html": [
       "<div>\n",
       "<style scoped>\n",
       "    .dataframe tbody tr th:only-of-type {\n",
       "        vertical-align: middle;\n",
       "    }\n",
       "\n",
       "    .dataframe tbody tr th {\n",
       "        vertical-align: top;\n",
       "    }\n",
       "\n",
       "    .dataframe thead th {\n",
       "        text-align: right;\n",
       "    }\n",
       "</style>\n",
       "<table border=\"1\" class=\"dataframe\">\n",
       "  <thead>\n",
       "    <tr style=\"text-align: right;\">\n",
       "      <th></th>\n",
       "      <th>ID</th>\n",
       "      <th>EDT</th>\n",
       "      <th>Tech</th>\n",
       "      <th>Possible Ports</th>\n",
       "      <th>WhereToAddPower</th>\n",
       "      <th>Powers (W)</th>\n",
       "    </tr>\n",
       "  </thead>\n",
       "  <tbody>\n",
       "    <tr>\n",
       "      <th>3</th>\n",
       "      <td>A3</td>\n",
       "      <td>0</td>\n",
       "      <td>NR26000</td>\n",
       "      <td>1;2</td>\n",
       "      <td>[1, 2]</td>\n",
       "      <td>[0.0778, 0.0778]</td>\n",
       "    </tr>\n",
       "  </tbody>\n",
       "</table>\n",
       "</div>"
      ],
      "text/plain": [
       "   ID EDT      Tech Possible Ports WhereToAddPower        Powers (W)\n",
       "3  A3  0    NR26000            1;2          [1, 2]  [0.0778, 0.0778]"
      ]
     },
     "metadata": {},
     "output_type": "display_data"
    },
    {
     "name": "stdout",
     "output_type": "stream",
     "text": [
      "\u001b[1mA4\n"
     ]
    },
    {
     "data": {
      "text/html": [
       "<div>\n",
       "<style scoped>\n",
       "    .dataframe tbody tr th:only-of-type {\n",
       "        vertical-align: middle;\n",
       "    }\n",
       "\n",
       "    .dataframe tbody tr th {\n",
       "        vertical-align: top;\n",
       "    }\n",
       "\n",
       "    .dataframe thead th {\n",
       "        text-align: right;\n",
       "    }\n",
       "</style>\n",
       "<table border=\"1\" class=\"dataframe\">\n",
       "  <thead>\n",
       "    <tr style=\"text-align: right;\">\n",
       "      <th></th>\n",
       "      <th>ID</th>\n",
       "      <th>EDT</th>\n",
       "      <th>Tech</th>\n",
       "      <th>Possible Ports</th>\n",
       "      <th>WhereToAddPower</th>\n",
       "      <th>Powers (W)</th>\n",
       "    </tr>\n",
       "  </thead>\n",
       "  <tbody>\n",
       "    <tr>\n",
       "      <th>4</th>\n",
       "      <td>A4</td>\n",
       "      <td>8</td>\n",
       "      <td>NR/LTE2600</td>\n",
       "      <td>1;2;3;4</td>\n",
       "      <td>[1, 2, 3, 4]</td>\n",
       "      <td>[5.0, 5.0, 5.0, 5.0]</td>\n",
       "    </tr>\n",
       "  </tbody>\n",
       "</table>\n",
       "</div>"
      ],
      "text/plain": [
       "   ID EDT         Tech Possible Ports WhereToAddPower            Powers (W)\n",
       "4  A4  8    NR/LTE2600        1;2;3;4    [1, 2, 3, 4]  [5.0, 5.0, 5.0, 5.0]"
      ]
     },
     "metadata": {},
     "output_type": "display_data"
    },
    {
     "name": "stdout",
     "output_type": "stream",
     "text": [
      "\u001b[1mA5\n"
     ]
    },
    {
     "data": {
      "text/html": [
       "<div>\n",
       "<style scoped>\n",
       "    .dataframe tbody tr th:only-of-type {\n",
       "        vertical-align: middle;\n",
       "    }\n",
       "\n",
       "    .dataframe tbody tr th {\n",
       "        vertical-align: top;\n",
       "    }\n",
       "\n",
       "    .dataframe thead th {\n",
       "        text-align: right;\n",
       "    }\n",
       "</style>\n",
       "<table border=\"1\" class=\"dataframe\">\n",
       "  <thead>\n",
       "    <tr style=\"text-align: right;\">\n",
       "      <th></th>\n",
       "      <th>ID</th>\n",
       "      <th>EDT</th>\n",
       "      <th>Tech</th>\n",
       "      <th>Possible Ports</th>\n",
       "      <th>WhereToAddPower</th>\n",
       "      <th>Powers (W)</th>\n",
       "    </tr>\n",
       "  </thead>\n",
       "  <tbody>\n",
       "    <tr>\n",
       "      <th>5</th>\n",
       "      <td>A5</td>\n",
       "      <td>8</td>\n",
       "      <td>NR/LTE2600</td>\n",
       "      <td>1;2;3;4</td>\n",
       "      <td>[1, 2, 3, 4]</td>\n",
       "      <td>[5.0, 5.0, 5.0, 5.0]</td>\n",
       "    </tr>\n",
       "  </tbody>\n",
       "</table>\n",
       "</div>"
      ],
      "text/plain": [
       "   ID EDT         Tech Possible Ports WhereToAddPower            Powers (W)\n",
       "5  A5  8    NR/LTE2600        1;2;3;4    [1, 2, 3, 4]  [5.0, 5.0, 5.0, 5.0]"
      ]
     },
     "metadata": {},
     "output_type": "display_data"
    },
    {
     "name": "stdout",
     "output_type": "stream",
     "text": [
      "\u001b[1mA6\n"
     ]
    },
    {
     "data": {
      "text/html": [
       "<div>\n",
       "<style scoped>\n",
       "    .dataframe tbody tr th:only-of-type {\n",
       "        vertical-align: middle;\n",
       "    }\n",
       "\n",
       "    .dataframe tbody tr th {\n",
       "        vertical-align: top;\n",
       "    }\n",
       "\n",
       "    .dataframe thead th {\n",
       "        text-align: right;\n",
       "    }\n",
       "</style>\n",
       "<table border=\"1\" class=\"dataframe\">\n",
       "  <thead>\n",
       "    <tr style=\"text-align: right;\">\n",
       "      <th></th>\n",
       "      <th>ID</th>\n",
       "      <th>EDT</th>\n",
       "      <th>Tech</th>\n",
       "      <th>Possible Ports</th>\n",
       "      <th>WhereToAddPower</th>\n",
       "      <th>Powers (W)</th>\n",
       "    </tr>\n",
       "  </thead>\n",
       "  <tbody>\n",
       "    <tr>\n",
       "      <th>6</th>\n",
       "      <td>A6</td>\n",
       "      <td>8</td>\n",
       "      <td>NR/LTE2600</td>\n",
       "      <td>1;2;3;4</td>\n",
       "      <td>[1, 2, 3, 4]</td>\n",
       "      <td>[5.0, 5.0, 5.0, 5.0]</td>\n",
       "    </tr>\n",
       "  </tbody>\n",
       "</table>\n",
       "</div>"
      ],
      "text/plain": [
       "   ID EDT         Tech Possible Ports WhereToAddPower            Powers (W)\n",
       "6  A6  8    NR/LTE2600        1;2;3;4    [1, 2, 3, 4]  [5.0, 5.0, 5.0, 5.0]"
      ]
     },
     "metadata": {},
     "output_type": "display_data"
    }
   ],
   "source": [
    "display('Set Power and Frequency to ports in Prox5')\n",
    "for i in IDUnique:\n",
    "        print(text_format.BOLD+str(i))\n",
    "        display(df.loc[(df['ID'] == i),['ID','EDT','Tech','Possible Ports','WhereToAddPower','Powers (W)']])"
   ]
  },
  {
   "cell_type": "markdown",
   "id": "747576e0",
   "metadata": {},
   "source": [
    "## EMEG Equipment List"
   ]
  },
  {
   "cell_type": "code",
   "execution_count": 19,
   "id": "94b304b6",
   "metadata": {},
   "outputs": [
    {
     "data": {
      "text/plain": [
       "'A1'"
      ]
     },
     "metadata": {},
     "output_type": "display_data"
    },
    {
     "data": {
      "text/plain": [
       "'A2'"
      ]
     },
     "metadata": {},
     "output_type": "display_data"
    },
    {
     "data": {
      "text/plain": [
       "'A3'"
      ]
     },
     "metadata": {},
     "output_type": "display_data"
    },
    {
     "data": {
      "text/plain": [
       "'A4'"
      ]
     },
     "metadata": {},
     "output_type": "display_data"
    },
    {
     "data": {
      "text/plain": [
       "'A5'"
      ]
     },
     "metadata": {},
     "output_type": "display_data"
    },
    {
     "data": {
      "text/plain": [
       "'A6'"
      ]
     },
     "metadata": {},
     "output_type": "display_data"
    }
   ],
   "source": [
    "\n",
    "totalPortsdict = {}\n",
    "for idantenna in IDUnique:\n",
    "    totalPorts = list(dict.fromkeys(df.loc[df['ID'] == idantenna, 'Total Ports']))\n",
    "    totalPortsdict[idantenna] = totalPorts\n",
    "    \n",
    "#display(totalPortsdict)   \n",
    "#print(df.loc[(df['ID']=='11-O'), ['EDT','Sector','WhereToAddPower','Power (W)']])\n",
    "#display(df.loc[(df['ID'] == i),['ID','Height','Bearing','MDT']])\n",
    "\n",
    "listpow = []\n",
    "listsec = []\n",
    "x = 0\n",
    "yprev = 0\n",
    "for AntId, AntPorts in totalPortsdict.items():\n",
    "    templistpow = [''] * (int(AntPorts[0] / 2) + int(AntPorts[0] % 2))\n",
    "    templistsec = [''] * (int(AntPorts[0] / 2) + int(AntPorts[0] % 2))\n",
    "    tempdf = df.loc[(df['ID']==AntId), ['EDT','System/Sector','WhereToAddPower','Powers (W)']]\n",
    "    for sector, port, power in zip(tempdf['System/Sector'], tempdf['WhereToAddPower'], tempdf['Powers (W)']):\n",
    "        display(AntId)\n",
    "        if len(port)>1:\n",
    "            for x, y in enumerate(port):       \n",
    "                if sector not in templistsec[math.ceil(int(y)/2)-1]:\n",
    "                    templistsec[math.ceil(int(y)/2)-1] += sector +'\\n'\n",
    "                    templistpow[math.ceil(int(y)/2)-1] += '\\n'\n",
    "                templistpow[math.ceil(int(y)/2)-1] += '+' + str(power[x])\n",
    "        if len(port)==1:\n",
    "            for x, y in enumerate(port):\n",
    "                display(math.ceil(int(y)/2)-1)\n",
    "                templistsec[math.ceil(int(y)/2)-1] += sector +'\\n'\n",
    "                if y%2==0:\n",
    "                    templistpow[math.ceil(int(y)/2)-1] += '\\n0 ++ ' + str(power[x])\n",
    "                else:\n",
    "                    templistpow[math.ceil(int(y)/2)-1] += '\\n' + str(power[x]) + ' ++ 0'\n",
    "            \n",
    "    listpow.append(templistpow)\n",
    "    listsec.append(templistsec)\n",
    "\n",
    "for index1, x in enumerate(listpow):\n",
    "    for index2, y in enumerate(x):\n",
    "        if y == '':\n",
    "            listpow[index1][index2] = '0'\n",
    "        \n",
    "for index1, x in enumerate(listsec):\n",
    "    for index2, y in enumerate(x):\n",
    "        if y == '':\n",
    "            listsec[index1][index2] = '-'\n",
    "        \n",
    "\n",
    "EquipmentList = pd.DataFrame(totalPortsdict.items(), columns=['ID', 'No. of ports'])\n",
    "EquipmentList['System/Sector'] = listsec\n",
    "EquipmentList['Power (W)'] = listpow\n",
    "\n",
    "EquipmentList_final = pd.DataFrame([], columns=['ID','System/Sector', 'Power (W)'])\n",
    "\n",
    "for a, x, y in zip(EquipmentList['ID'],EquipmentList['System/Sector'], EquipmentList['Power (W)']): \n",
    "        EquipmentListAntenna = pd.DataFrame([a]*len(x),columns=['ID'])\n",
    "        EquipmentListAntenna['System/Sector'] = x\n",
    "        EquipmentListAntenna['Power (W)'] = y\n",
    "        EquipmentList_final = pd.concat([EquipmentList_final, EquipmentListAntenna], axis=0)\n",
    "\n",
    "EquipmentList_final['Power (W)'] = EquipmentList_final['Power (W)'].str.replace('\\+', '', 1, regex=True)\n",
    "EquipmentList_final['Power (W)'] = EquipmentList_final['Power (W)'].str.replace('\\+\\+', '+', regex=True)\n",
    "EquipmentList_final['Power (W)'] = EquipmentList_final['Power (W)'].str.replace('\\\\n\\+', '\\\\n', regex=True)\n",
    "EquipmentList_final['Power (W)'] = EquipmentList_final['Power (W)'].str.strip()\n",
    "EquipmentList_final['System/Sector'] = EquipmentList_final['System/Sector'].str.strip()\n",
    "#display(EquipmentList_final)\n"
   ]
  },
  {
   "cell_type": "markdown",
   "id": "a2765459",
   "metadata": {},
   "source": [
    "## CANRAD"
   ]
  },
  {
   "cell_type": "code",
   "execution_count": 20,
   "id": "bdaf2e0b",
   "metadata": {},
   "outputs": [
    {
     "data": {
      "text/html": [
       "<div>\n",
       "<style scoped>\n",
       "    .dataframe tbody tr th:only-of-type {\n",
       "        vertical-align: middle;\n",
       "    }\n",
       "\n",
       "    .dataframe tbody tr th {\n",
       "        vertical-align: top;\n",
       "    }\n",
       "\n",
       "    .dataframe thead th {\n",
       "        text-align: right;\n",
       "    }\n",
       "</style>\n",
       "<table border=\"1\" class=\"dataframe\">\n",
       "  <thead>\n",
       "    <tr style=\"text-align: right;\">\n",
       "      <th></th>\n",
       "      <th>ID</th>\n",
       "      <th>Function</th>\n",
       "      <th>Total Power</th>\n",
       "    </tr>\n",
       "  </thead>\n",
       "  <tbody>\n",
       "    <tr>\n",
       "      <th>0</th>\n",
       "      <td>A1</td>\n",
       "      <td>NR26000/</td>\n",
       "      <td>0.0778</td>\n",
       "    </tr>\n",
       "    <tr>\n",
       "      <th>1</th>\n",
       "      <td>A1</td>\n",
       "      <td>NR26000/</td>\n",
       "      <td>0.0778</td>\n",
       "    </tr>\n",
       "    <tr>\n",
       "      <th>0</th>\n",
       "      <td>A2</td>\n",
       "      <td>NR26000/</td>\n",
       "      <td>0.0778</td>\n",
       "    </tr>\n",
       "    <tr>\n",
       "      <th>1</th>\n",
       "      <td>A2</td>\n",
       "      <td>NR26000/</td>\n",
       "      <td>0.0778</td>\n",
       "    </tr>\n",
       "    <tr>\n",
       "      <th>0</th>\n",
       "      <td>A3</td>\n",
       "      <td>NR26000/</td>\n",
       "      <td>0.0778</td>\n",
       "    </tr>\n",
       "    <tr>\n",
       "      <th>1</th>\n",
       "      <td>A3</td>\n",
       "      <td>NR26000/</td>\n",
       "      <td>0.0778</td>\n",
       "    </tr>\n",
       "    <tr>\n",
       "      <th>0</th>\n",
       "      <td>A4</td>\n",
       "      <td>NR/LTE2600/</td>\n",
       "      <td>5.0</td>\n",
       "    </tr>\n",
       "    <tr>\n",
       "      <th>1</th>\n",
       "      <td>A4</td>\n",
       "      <td>NR/LTE2600/</td>\n",
       "      <td>5.0</td>\n",
       "    </tr>\n",
       "    <tr>\n",
       "      <th>2</th>\n",
       "      <td>A4</td>\n",
       "      <td>NR/LTE2600/</td>\n",
       "      <td>5.0</td>\n",
       "    </tr>\n",
       "    <tr>\n",
       "      <th>3</th>\n",
       "      <td>A4</td>\n",
       "      <td>NR/LTE2600/</td>\n",
       "      <td>5.0</td>\n",
       "    </tr>\n",
       "    <tr>\n",
       "      <th>0</th>\n",
       "      <td>A5</td>\n",
       "      <td>NR/LTE2600/</td>\n",
       "      <td>5.0</td>\n",
       "    </tr>\n",
       "    <tr>\n",
       "      <th>1</th>\n",
       "      <td>A5</td>\n",
       "      <td>NR/LTE2600/</td>\n",
       "      <td>5.0</td>\n",
       "    </tr>\n",
       "    <tr>\n",
       "      <th>2</th>\n",
       "      <td>A5</td>\n",
       "      <td>NR/LTE2600/</td>\n",
       "      <td>5.0</td>\n",
       "    </tr>\n",
       "    <tr>\n",
       "      <th>3</th>\n",
       "      <td>A5</td>\n",
       "      <td>NR/LTE2600/</td>\n",
       "      <td>5.0</td>\n",
       "    </tr>\n",
       "    <tr>\n",
       "      <th>0</th>\n",
       "      <td>A6</td>\n",
       "      <td>NR/LTE2600/</td>\n",
       "      <td>5.0</td>\n",
       "    </tr>\n",
       "    <tr>\n",
       "      <th>1</th>\n",
       "      <td>A6</td>\n",
       "      <td>NR/LTE2600/</td>\n",
       "      <td>5.0</td>\n",
       "    </tr>\n",
       "    <tr>\n",
       "      <th>2</th>\n",
       "      <td>A6</td>\n",
       "      <td>NR/LTE2600/</td>\n",
       "      <td>5.0</td>\n",
       "    </tr>\n",
       "    <tr>\n",
       "      <th>3</th>\n",
       "      <td>A6</td>\n",
       "      <td>NR/LTE2600/</td>\n",
       "      <td>5.0</td>\n",
       "    </tr>\n",
       "  </tbody>\n",
       "</table>\n",
       "</div>"
      ],
      "text/plain": [
       "   ID      Function Total Power\n",
       "0  A1      NR26000/      0.0778\n",
       "1  A1      NR26000/      0.0778\n",
       "0  A2      NR26000/      0.0778\n",
       "1  A2      NR26000/      0.0778\n",
       "0  A3      NR26000/      0.0778\n",
       "1  A3      NR26000/      0.0778\n",
       "0  A4   NR/LTE2600/         5.0\n",
       "1  A4   NR/LTE2600/         5.0\n",
       "2  A4   NR/LTE2600/         5.0\n",
       "3  A4   NR/LTE2600/         5.0\n",
       "0  A5   NR/LTE2600/         5.0\n",
       "1  A5   NR/LTE2600/         5.0\n",
       "2  A5   NR/LTE2600/         5.0\n",
       "3  A5   NR/LTE2600/         5.0\n",
       "0  A6   NR/LTE2600/         5.0\n",
       "1  A6   NR/LTE2600/         5.0\n",
       "2  A6   NR/LTE2600/         5.0\n",
       "3  A6   NR/LTE2600/         5.0"
      ]
     },
     "metadata": {},
     "output_type": "display_data"
    }
   ],
   "source": [
    "listpow = []\n",
    "listfunc = []\n",
    "x = 0\n",
    "yprev = 0\n",
    "\n",
    "for AntId, AntPorts in totalPortsdict.items():\n",
    "    templistpow = [0] * int(AntPorts[0])\n",
    "    templistfunc = [''] * int(AntPorts[0])\n",
    "    #tempfunc = [''] * int(AntPorts[0])\n",
    "    tempdf = df.loc[(df['ID']==AntId), ['Sector','Tech','WhereToAddPower','Powers (W)']]\n",
    "    for sector, tech, port, power in zip(tempdf['Sector'], tempdf['Tech'], tempdf['WhereToAddPower'], tempdf['Powers (W)']):\n",
    "        for x, y in enumerate(port):       \n",
    "            #if sector not in templistfunc[y]:\n",
    "            templistfunc[y-1] += tech +'/'\n",
    "            templistpow[y-1] = str(float(templistpow[y-1]) + float(power[x]))\n",
    "    listpow.append(templistpow)\n",
    "    listfunc.append(templistfunc)\n",
    "        \n",
    "\n",
    "CANRAD = pd.DataFrame(totalPortsdict.items(), columns=['ID', 'No. of ports'])\n",
    "CANRAD['Function'] = listfunc\n",
    "CANRAD['Total Power'] = listpow\n",
    "\n",
    "CANRAD_final = pd.DataFrame([], columns=['ID','Function', 'Total Power'])\n",
    "\n",
    "for a, x, y in zip(CANRAD['ID'],CANRAD['Function'], CANRAD['Total Power']): \n",
    "        CANRADAntenna = pd.DataFrame([a]*len(x),columns=['ID'])\n",
    "        CANRADAntenna['Function'] = x\n",
    "        CANRADAntenna['Total Power'] = y\n",
    "        CANRAD_final = pd.concat([CANRAD_final, CANRADAntenna], axis=0)\n",
    "\n",
    "display(CANRAD_final)\n"
   ]
  },
  {
   "cell_type": "code",
   "execution_count": 21,
   "id": "6502367d",
   "metadata": {},
   "outputs": [
    {
     "data": {
      "text/plain": [
       "[' NR/LTE2600/', ' NR/LTE2600/', ' NR/LTE2600/', ' NR/LTE2600/']"
      ]
     },
     "metadata": {},
     "output_type": "display_data"
    }
   ],
   "source": [
    "display(templistfunc)"
   ]
  },
  {
   "cell_type": "markdown",
   "id": "1f3da6e5",
   "metadata": {},
   "source": [
    "## Exports"
   ]
  },
  {
   "cell_type": "code",
   "execution_count": 22,
   "id": "780bbe15",
   "metadata": {},
   "outputs": [],
   "source": [
    "#df3 = pd.DataFrame.from_dict(AntennaIds)\n",
    "df3 = pd.DataFrame(dict([(k,pd.Series(v)) for k,v in AntennaIds.items() ]))\n",
    "df3 = df3.fillna('')\n",
    "\n",
    "\n",
    "\n",
    "dfAntennaSettings = df[['Carrier','ID','Height','Bearing','MDT','Total Ports','Sectors']].copy()\n",
    "dfAntennaSettings = dfAntennaSettings.drop_duplicates(keep='first')\n",
    "\n",
    "path = r'C:\\Users\\Mewtwo\\Desktop'+'\\\\'+ data['Site Name'][3] + 'RFNSA Wrangled Data.xlsx'\n",
    "\n",
    "from openpyxl.utils import get_column_letter\n",
    "from openpyxl import Workbook\n",
    "from openpyxl import load_workbook\n",
    "\n",
    "wb = Workbook()\n",
    "wb.save(path)\n",
    "\n",
    "writer = pd.ExcelWriter(path, engine='openpyxl')\n",
    "df3.to_excel(writer, sheet_name = 'Antenna IDs', index=False)\n",
    "dfAntennaSettings.to_excel(writer, sheet_name = 'Antenna Settings', index=False)\n",
    "df.to_excel(writer, sheet_name = 'Add powers to Prox', columns = ['Antenna','ID','EDT','Tech','Possible Ports','WhereToAddPower','Powers (W)','Assess Freq','Notes'], index=False)\n",
    "EquipmentList_final.to_excel(writer, sheet_name = 'EMEG List', index=False)\n",
    "CANRAD_final.to_excel(writer, sheet_name = 'CANRAD', index=False)\n",
    "# load the Excel file with openpyxl\n",
    "workbook = writer.book\n",
    "\n",
    "for sheet in workbook:\n",
    "    for column in range(1, sheet.max_column + 2):\n",
    "        letter = get_column_letter(column)\n",
    "        #sheet.column_dimensions[letter].auto_size = True\n",
    "        sheet.column_dimensions[letter].bestFit = True\n",
    "\n",
    "# save the modified workbook\n",
    "workbook.save(path)"
   ]
  },
  {
   "cell_type": "code",
   "execution_count": 23,
   "id": "0fc9c891",
   "metadata": {},
   "outputs": [
    {
     "name": "stderr",
     "output_type": "stream",
     "text": [
      "C:\\Users\\Mewtwo\\anaconda3\\lib\\site-packages\\ipykernel_launcher.py:5: FutureWarning: The default value of regex will change from True to False in a future version.\n",
      "  \"\"\"\n"
     ]
    }
   ],
   "source": [
    "#display( HTML( df.to_html().replace(\"\\\\n\",\"<br><li type='1'>\") ) )\n",
    "EquipmentList_final['Power (W)'] = EquipmentList_final['Power (W)'].str.replace(r'\\n','<br>', regex=True)\n",
    "#EquipmentList_final['System/Sector'] = EquipmentList_final['System/Sector'].str.replace((r'\\n','<br>', regex=True)\n",
    "\n",
    "EquipmentList_final['System/Sector'] = EquipmentList_final['System/Sector'].str.replace(r'\\n','&#10;')\n",
    "\n",
    "#EquipmentList_final.to_html(r'C:\\Users\\Mewtwo\\Desktop\\EMEGList.html', index=False)\n",
    "#dfAntennaSettings.to_html(r'C:\\Users\\Mewtwo\\Desktop\\Antennadata.html', index=False)\n",
    "#df3.to_html(r'C:\\Users\\Mewtwo\\Desktop\\Antennadata2.html',index=False)\n",
    "#df.to_html(r'C:\\Users\\Mewtwo\\Desktop\\Antennadata3.html', columns = ['ID','EDT','Tech','Possible Ports','WhereToAddPower','Powers (W)','Assess Freq','Notes'], index=False)\n",
    "\n",
    "#df.to_html(r'C:\\Users\\Mewtwo\\Desktop\\Antennadata4.html',columns = ['ID','EDT','Sector','WhereToAddPower','Powers (W)'],index=False)\n",
    "#import subprocess\n",
    "#subprocess.call('wkhtmltoimage -f png --width 0 Antennadata.html Antennadata.png', shell=True)\n"
   ]
  },
  {
   "cell_type": "code",
   "execution_count": 24,
   "id": "4c7789f3",
   "metadata": {},
   "outputs": [],
   "source": [
    "\n",
    "for sheetname in workbook.sheetnames:\n",
    "    worksheet = workbook[sheetname]\n",
    "\n",
    "    # set best fit attribute to true for all columns\n",
    "    for column_cells in worksheet.columns:\n",
    "        length = max(len(str(cell.value)) for cell in column_cells)\n",
    "        worksheet.column_dimensions[column_cells[0].column_letter].width = length + 5\n",
    "        worksheet.column_dimensions[column_cells[0].column_letter].bestFit = True\n",
    "\n",
    "worksheet = workbook.active\n",
    "\n",
    "# set the width of column A to 15\n",
    "column_letter = get_column_letter(1)  # A\n",
    "column_dimension = worksheet.column_dimensions[column_letter]\n",
    "column_dimension.width = 15\n",
    "column_dimension.bestFit = True\n"
   ]
  },
  {
   "cell_type": "code",
   "execution_count": 25,
   "id": "23d17a31",
   "metadata": {},
   "outputs": [],
   "source": [
    "#with open(\"C:\\\\Users\\\\Mewtwo\\\\Downloads\\\\RFNSA Scrapper_V2.html\", encoding=\"utf8\") as html_file:\n",
    "#    content = html_file.read()\n",
    "\n",
    "# Get rid off prompts and source code\n",
    "#content = content.replace(\"div.input_area {\",\"div.input_area {\\n\\tdisplay: none;\")    \n",
    "#content = content.replace(\".prompt {\",\".prompt {\\n\\tdisplay: none;\")\n",
    "\n",
    "#f = open(FILE, 'w')\n",
    "#f.write(content)\n",
    "#f.close()"
   ]
  },
  {
   "cell_type": "code",
   "execution_count": 26,
   "id": "032049c9",
   "metadata": {},
   "outputs": [],
   "source": [
    "#jupyter nbconvert --to pdf 'RFNSA Scrapper_V2.ipynb' --template=hidecode.tplx\n"
   ]
  }
 ],
 "metadata": {
  "kernelspec": {
   "display_name": "Python 3",
   "language": "python",
   "name": "python3"
  },
  "language_info": {
   "codemirror_mode": {
    "name": "ipython",
    "version": 3
   },
   "file_extension": ".py",
   "mimetype": "text/x-python",
   "name": "python",
   "nbconvert_exporter": "python",
   "pygments_lexer": "ipython3",
   "version": "3.7.16"
  }
 },
 "nbformat": 4,
 "nbformat_minor": 5
}
