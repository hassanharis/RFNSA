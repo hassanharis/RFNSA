{
 "cells": [
  {
   "cell_type": "markdown",
   "id": "fc11cf88",
   "metadata": {},
   "source": [
    "# RFNSA Antenna Details\n",
    "##### ©Haris Hassan\n"
   ]
  },
  {
   "cell_type": "code",
   "execution_count": 27,
   "id": "b177ee9f",
   "metadata": {},
   "outputs": [],
   "source": [
    "################ Import Libraries ################\n",
    "\n",
    "from IPython import get_ipython;   \n",
    "get_ipython().magic('reset -sf')\n",
    "import pandas as pd\n",
    "pd.set_option('display.max_colwidth', None)\n",
    "from IPython.display import display, HTML\n",
    "import re\n",
    "import math\n",
    "import numpy as np\n",
    "from itertools import count\n",
    "class text_format:\n",
    "   PURPLE = '\\033[95m'\n",
    "   CYAN = '\\033[96m'\n",
    "   DARKCYAN = '\\033[36m'\n",
    "   BLUE = '\\033[94m'\n",
    "   GREEN = '\\033[92m'\n",
    "   YELLOW = '\\033[93m'\n",
    "   RED = '\\033[91m'\n",
    "   BOLD = '\\033[1m'\n",
    "   UNDERLINE = '\\033[4m'\n",
    "   END = '\\033[0m'\n",
    "    \n",
    "# Function to convert from mW to dBm\n",
    "def W2dBm(mW):\n",
    "    return 10.*log10(mW) + 30\n",
    "\n",
    "\n",
    "# Function to convert from dBm to mW\n",
    "def dBm2W(dBm):\n",
    "    return 10**((dBm-30)/10.)\n",
    "\n",
    "################################################\n",
    "\n",
    "    \n",
    "################### Replace with path to your excel file. \n",
    "data = pd.read_excel(r'C:\\Users\\Mewtwo\\Downloads\\New Microsoft Excel Worksheet.xlsx')\n",
    "\n",
    "#remove the proposed Antennas\n",
    "data = data.drop(data[data['Existing/Proposed'] == 'Proposed'].index)\n",
    "\n",
    "################ Create the dataframe from meaningful columns of STAD table and rename the columns ################\n",
    "df = pd.DataFrame(data, columns=['Antenna ID No','Antenna Model','Sector','Height - Phase Centre (m)'\n",
    "                                 ,'Bearing Degrees (true)',\n",
    "                                 'Mech Downtilt','Elect Downtilt','System',\n",
    "                                 'Port Number (Band Power per Port (dBm))','Band Power per Port (dBm)','Notes'])\n",
    "df = df.rename(columns={'Antenna Model': 'Antenna', 'Antenna ID No': 'ID', 'Bearing Degrees (true)': 'Bearing'\n",
    "                  , 'Mech Downtilt': 'MDT', 'Elect Downtilt': 'EDT', 'Height - Phase Centre (m)': 'Height', \n",
    "                   'Port Number (Band Power per Port (dBm))': 'Possible Ports', \n",
    "                   'Band Power per Port (dBm)': 'Powers'})\n",
    "\n",
    "df.fillna(value = 0,inplace = True)\n",
    "\n",
    "# Extracting Carrier (optus, telstra, Vodafone), technology/Frequency (i.e LTE900, NR2100, WCDMA850) information from System \n",
    "df['System'] = df['System'].str.replace(' \\[', ';', regex=True)\n",
    "df['System'] = df['System'].str.replace('/', ';', 1, regex=True)\n",
    "df['Carrier'] = df['System'].str.split(\" ;\").str[0]\n",
    "df['Tech'] = df['System'].str.split(\";\").str[1]\n",
    "\n",
    "# Sorting the STAD dataframe to match with RFNSA\n",
    "df.sort_values(by=['Carrier','ID'], ascending=[True, True], inplace = True)\n",
    "#Reset index of dataframe after sorting and start from 1\n",
    "df = df.reset_index(drop=True)\n",
    "df.index += 1\n",
    "\n",
    "#Count the total ports of each antenna\n",
    "df['Total Ports'] = df['Powers'].str.count(';')\n",
    "df.fillna(value = 0,inplace = True)\n",
    "df['Total Ports'] = df['Total Ports'] + 1\n",
    "df['Total Ports'] = list(x for x in df['Total Ports'])\n",
    "\n",
    "#Format/Clean the Data\n",
    "df['EDT'] = df['EDT'].str.replace(' to ', '-', regex=True)\n",
    "df['EDT'] = df['EDT'].str.replace(r'\\(.*\\)','', regex=True)\n",
    "df['Sector'] = df['Sector'].astype(str).replace('\\.0', '', regex=True)\n",
    "df['Sector']= [''.join(''.join(map(str, m))+' - Sector ' +f'{l}') for l, m in zip(df['Sector'],df['Tech'])]\n",
    "\n",
    "#Correcting microwavelinks\n",
    "templist = []\n",
    "for x in df['Powers']:\n",
    "    if ';' not in str(x):\n",
    "        templist.append(str(x)+';')\n",
    "    else:\n",
    "        templist.append(str(x))        \n",
    "df['Powers'] = templist"
   ]
  },
  {
   "cell_type": "code",
   "execution_count": 28,
   "id": "0f0c83fb",
   "metadata": {},
   "outputs": [],
   "source": [
    "### Convert te Power(dBm) into Watts\n",
    "temp_power = []\n",
    "for elm in df['Powers'].str.split(\";\"):\n",
    "    if isinstance(elm, (list, tuple)):\n",
    "        elm = [x for x in elm if x != '']  # Remove any empty strings from the list\n",
    "        converted_values = []\n",
    "        for sub in elm:\n",
    "            if float(sub) >= 30:\n",
    "                try:\n",
    "                    converted_values.append(round(dBm2W(float(sub)),1))\n",
    "                except ValueError:\n",
    "                    converted_values.append(sub)\n",
    "                    pass  # Skip the current value if it cannot be converted to a float\n",
    "            else:\n",
    "                 try:\n",
    "                    converted_values.append(round(dBm2W(float(sub)),4))\n",
    "                 except ValueError:\n",
    "                    converted_values.append(sub)\n",
    "                    pass  # Skip the current value if it cannot be converted to a float\n",
    "        temp_power.append(converted_values)\n",
    "    else:\n",
    "        try:\n",
    "            temp_power.append([dBm2W(float(elm))])\n",
    "        except ValueError:\n",
    "            temp_power.append([])\n",
    "\n",
    "df['Powers (W)'] = temp_power"
   ]
  },
  {
   "cell_type": "code",
   "execution_count": 29,
   "id": "037cc14c",
   "metadata": {},
   "outputs": [
    {
     "data": {
      "text/html": [
       "<div>\n",
       "<style scoped>\n",
       "    .dataframe tbody tr th:only-of-type {\n",
       "        vertical-align: middle;\n",
       "    }\n",
       "\n",
       "    .dataframe tbody tr th {\n",
       "        vertical-align: top;\n",
       "    }\n",
       "\n",
       "    .dataframe thead th {\n",
       "        text-align: right;\n",
       "    }\n",
       "</style>\n",
       "<table border=\"1\" class=\"dataframe\">\n",
       "  <thead>\n",
       "    <tr style=\"text-align: right;\">\n",
       "      <th></th>\n",
       "      <th>ID</th>\n",
       "      <th>Antenna</th>\n",
       "      <th>Sector</th>\n",
       "      <th>Height</th>\n",
       "      <th>Bearing</th>\n",
       "      <th>MDT</th>\n",
       "      <th>EDT</th>\n",
       "      <th>System</th>\n",
       "      <th>Possible Ports</th>\n",
       "      <th>Powers</th>\n",
       "      <th>Notes</th>\n",
       "      <th>Carrier</th>\n",
       "      <th>Tech</th>\n",
       "      <th>Total Ports</th>\n",
       "      <th>Powers (W)</th>\n",
       "    </tr>\n",
       "  </thead>\n",
       "  <tbody>\n",
       "    <tr>\n",
       "      <th>1</th>\n",
       "      <td>12-O</td>\n",
       "      <td>T2004L6R021</td>\n",
       "      <td>WCDMA900 - Sector 1</td>\n",
       "      <td>19.0</td>\n",
       "      <td>50.0</td>\n",
       "      <td>0</td>\n",
       "      <td>2-10</td>\n",
       "      <td>Optus ; WCDMA900;Macro]</td>\n",
       "      <td>1;2;3;4</td>\n",
       "      <td>;;43;;;;;;;;;</td>\n",
       "      <td>U9 Power updated as per FY19 V3.1 (Feeder solution, Rack Top 1*40W, 3dB nominal loss)</td>\n",
       "      <td>Optus</td>\n",
       "      <td>WCDMA900</td>\n",
       "      <td>12.0</td>\n",
       "      <td>[20.0]</td>\n",
       "    </tr>\n",
       "    <tr>\n",
       "      <th>2</th>\n",
       "      <td>12-O</td>\n",
       "      <td>T2004L6R021</td>\n",
       "      <td>LTE700 - Sector 1</td>\n",
       "      <td>19.0</td>\n",
       "      <td>50.0</td>\n",
       "      <td>0</td>\n",
       "      <td>2-10</td>\n",
       "      <td>Optus ; LTE700;Macro]</td>\n",
       "      <td>1;2;3;4</td>\n",
       "      <td>46;46;46;46;;;;;;;;</td>\n",
       "      <td>L7 Power updated as per FY19 V3.1 (RRU solution, Rack Top 4*50W, 1dB nominal loss)</td>\n",
       "      <td>Optus</td>\n",
       "      <td>LTE700</td>\n",
       "      <td>12.0</td>\n",
       "      <td>[39.8, 39.8, 39.8, 39.8]</td>\n",
       "    </tr>\n",
       "    <tr>\n",
       "      <th>3</th>\n",
       "      <td>12-O</td>\n",
       "      <td>T2004L6R021</td>\n",
       "      <td>NR/LTE900 - Sector 1</td>\n",
       "      <td>19.0</td>\n",
       "      <td>50.0</td>\n",
       "      <td>0</td>\n",
       "      <td>2-10</td>\n",
       "      <td>Optus ; NR/LTE900;Macro]</td>\n",
       "      <td>1;2;3;4</td>\n",
       "      <td>45;45;;;;;;;;;;</td>\n",
       "      <td>Converted from LTE900 to NR/LTE900.</td>\n",
       "      <td>Optus</td>\n",
       "      <td>NR/LTE900</td>\n",
       "      <td>12.0</td>\n",
       "      <td>[31.6, 31.6]</td>\n",
       "    </tr>\n",
       "    <tr>\n",
       "      <th>4</th>\n",
       "      <td>12-O</td>\n",
       "      <td>T2004L6R021</td>\n",
       "      <td>LTE1800 - Sector 1</td>\n",
       "      <td>19.0</td>\n",
       "      <td>50.0</td>\n",
       "      <td>0</td>\n",
       "      <td>2-10</td>\n",
       "      <td>Optus ; LTE1800;Macro]</td>\n",
       "      <td>5;6;7;8;9;10;11;12</td>\n",
       "      <td>;;;;;;;;47;47;47;47</td>\n",
       "      <td>L18 Power updated as per FY19 V3.1 (RRU solution, Rack Top 4*60W, 1dB nominal loss)</td>\n",
       "      <td>Optus</td>\n",
       "      <td>LTE1800</td>\n",
       "      <td>12.0</td>\n",
       "      <td>[50.1, 50.1, 50.1, 50.1]</td>\n",
       "    </tr>\n",
       "    <tr>\n",
       "      <th>5</th>\n",
       "      <td>12-O</td>\n",
       "      <td>T2004L6R021</td>\n",
       "      <td>NR/LTE2100 - Sector 1</td>\n",
       "      <td>19.0</td>\n",
       "      <td>50.0</td>\n",
       "      <td>0</td>\n",
       "      <td>2-10</td>\n",
       "      <td>Optus ; NR/LTE2100;Macro]</td>\n",
       "      <td>5;6;7;8;9;10;11;12</td>\n",
       "      <td>;;;;;;;;45;45;45;45</td>\n",
       "      <td>N/L21 Power updated as per FY19 V3.1 (RRU solution, Rack Top 4*40W, 1dB nominal loss)</td>\n",
       "      <td>Optus</td>\n",
       "      <td>NR/LTE2100</td>\n",
       "      <td>12.0</td>\n",
       "      <td>[31.6, 31.6, 31.6, 31.6]</td>\n",
       "    </tr>\n",
       "    <tr>\n",
       "      <th>...</th>\n",
       "      <td>...</td>\n",
       "      <td>...</td>\n",
       "      <td>...</td>\n",
       "      <td>...</td>\n",
       "      <td>...</td>\n",
       "      <td>...</td>\n",
       "      <td>...</td>\n",
       "      <td>...</td>\n",
       "      <td>...</td>\n",
       "      <td>...</td>\n",
       "      <td>...</td>\n",
       "      <td>...</td>\n",
       "      <td>...</td>\n",
       "      <td>...</td>\n",
       "      <td>...</td>\n",
       "    </tr>\n",
       "    <tr>\n",
       "      <th>66</th>\n",
       "      <td>31-V</td>\n",
       "      <td>RR2VV-6533D-R6</td>\n",
       "      <td>NR/LTE850 - Sector 3</td>\n",
       "      <td>19.0</td>\n",
       "      <td>320.0</td>\n",
       "      <td>0</td>\n",
       "      <td>2-12</td>\n",
       "      <td>Vodafone ; NR/LTE850;Macro]</td>\n",
       "      <td>1;2;3;4</td>\n",
       "      <td>46.78;46.78;46.78;46.78;;;;;;;;</td>\n",
       "      <td>NRL850 RRU Solution (Rack Top Power: 4x60w)  RAN Refresh Project. Actual power applied - 1dB RRU loss considered.</td>\n",
       "      <td>Vodafone</td>\n",
       "      <td>NR/LTE850</td>\n",
       "      <td>12.0</td>\n",
       "      <td>[47.6, 47.6, 47.6, 47.6]</td>\n",
       "    </tr>\n",
       "    <tr>\n",
       "      <th>67</th>\n",
       "      <td>31-V</td>\n",
       "      <td>RR2VV-6533D-R6</td>\n",
       "      <td>NR/LTE2100 - Sector 3</td>\n",
       "      <td>19.0</td>\n",
       "      <td>320.0</td>\n",
       "      <td>0</td>\n",
       "      <td>2-12</td>\n",
       "      <td>Vodafone ; NR/LTE2100;Macro]</td>\n",
       "      <td>5;6;7;8;9;10;11;12</td>\n",
       "      <td>;;;;46.78;46.78;46.78;46.78;46.78;46.78;46.78;46.78</td>\n",
       "      <td>NRL2100 RRU Solution (Rack Top Power: 8x60w)  RAN Refresh Project. Actual power applied - 1dB RRU loss considered.</td>\n",
       "      <td>Vodafone</td>\n",
       "      <td>NR/LTE2100</td>\n",
       "      <td>12.0</td>\n",
       "      <td>[47.6, 47.6, 47.6, 47.6, 47.6, 47.6, 47.6, 47.6]</td>\n",
       "    </tr>\n",
       "    <tr>\n",
       "      <th>68</th>\n",
       "      <td>31-V</td>\n",
       "      <td>RR2VV-6533D-R6</td>\n",
       "      <td>NB-IOT900 - Sector 3</td>\n",
       "      <td>19.0</td>\n",
       "      <td>320.0</td>\n",
       "      <td>0</td>\n",
       "      <td>2-12</td>\n",
       "      <td>Vodafone ; NB-IOT900;Macro]</td>\n",
       "      <td>1;2;3;4</td>\n",
       "      <td>;;42.01;42.01;;;;;;;;</td>\n",
       "      <td>NB-IOT900 RRU Solution (Rack Top Power: 2x20w)  RAN Refresh Project. Actual power applied - 1dB RRU loss considered.</td>\n",
       "      <td>Vodafone</td>\n",
       "      <td>NB-IOT900</td>\n",
       "      <td>12.0</td>\n",
       "      <td>[15.9, 15.9]</td>\n",
       "    </tr>\n",
       "    <tr>\n",
       "      <th>69</th>\n",
       "      <td>33-V</td>\n",
       "      <td>AEQE</td>\n",
       "      <td>NR3500 - Sector 3</td>\n",
       "      <td>20.0</td>\n",
       "      <td>320.0</td>\n",
       "      <td>2</td>\n",
       "      <td>6</td>\n",
       "      <td>Vodafone ; NR3500;Macro]</td>\n",
       "      <td>1;2</td>\n",
       "      <td>47;</td>\n",
       "      <td>NR3500 on Nokia AEQE antenna (Rack Top Power: 1x200w)  RAN Refresh Project. Realistic power applied - 6dB loss considered.  Tilt all sectors have a fixed E-tilt of 6 degree Sector 1 RET = 0 Sector 2 RET = 0 Sector 3 RET = 0</td>\n",
       "      <td>Vodafone</td>\n",
       "      <td>NR3500</td>\n",
       "      <td>2.0</td>\n",
       "      <td>[50.1]</td>\n",
       "    </tr>\n",
       "    <tr>\n",
       "      <th>70</th>\n",
       "      <td>H21862502</td>\n",
       "      <td>* UKY 210 77/SC11</td>\n",
       "      <td>Microwave Link - Sector 0</td>\n",
       "      <td>18.0</td>\n",
       "      <td>56.8</td>\n",
       "      <td>0</td>\n",
       "      <td></td>\n",
       "      <td>Vodafone ; Microwave Link</td>\n",
       "      <td>0</td>\n",
       "      <td>14;</td>\n",
       "      <td>0</td>\n",
       "      <td>Vodafone</td>\n",
       "      <td>Microwave Link</td>\n",
       "      <td>1.0</td>\n",
       "      <td>[0.0251]</td>\n",
       "    </tr>\n",
       "  </tbody>\n",
       "</table>\n",
       "<p>70 rows × 15 columns</p>\n",
       "</div>"
      ],
      "text/plain": [
       "           ID            Antenna                      Sector  Height  Bearing  \\\n",
       "1        12-O        T2004L6R021         WCDMA900 - Sector 1    19.0     50.0   \n",
       "2        12-O        T2004L6R021           LTE700 - Sector 1    19.0     50.0   \n",
       "3        12-O        T2004L6R021        NR/LTE900 - Sector 1    19.0     50.0   \n",
       "4        12-O        T2004L6R021          LTE1800 - Sector 1    19.0     50.0   \n",
       "5        12-O        T2004L6R021       NR/LTE2100 - Sector 1    19.0     50.0   \n",
       "..        ...                ...                         ...     ...      ...   \n",
       "66       31-V     RR2VV-6533D-R6        NR/LTE850 - Sector 3    19.0    320.0   \n",
       "67       31-V     RR2VV-6533D-R6       NR/LTE2100 - Sector 3    19.0    320.0   \n",
       "68       31-V     RR2VV-6533D-R6        NB-IOT900 - Sector 3    19.0    320.0   \n",
       "69       33-V               AEQE           NR3500 - Sector 3    20.0    320.0   \n",
       "70  H21862502  * UKY 210 77/SC11   Microwave Link - Sector 0    18.0     56.8   \n",
       "\n",
       "    MDT    EDT                        System      Possible Ports  \\\n",
       "1     0  2-10        Optus ; WCDMA900;Macro]             1;2;3;4   \n",
       "2     0  2-10          Optus ; LTE700;Macro]             1;2;3;4   \n",
       "3     0  2-10       Optus ; NR/LTE900;Macro]             1;2;3;4   \n",
       "4     0  2-10         Optus ; LTE1800;Macro]  5;6;7;8;9;10;11;12   \n",
       "5     0  2-10      Optus ; NR/LTE2100;Macro]  5;6;7;8;9;10;11;12   \n",
       "..  ...    ...                           ...                 ...   \n",
       "66    0  2-12    Vodafone ; NR/LTE850;Macro]             1;2;3;4   \n",
       "67    0  2-12   Vodafone ; NR/LTE2100;Macro]  5;6;7;8;9;10;11;12   \n",
       "68    0  2-12    Vodafone ; NB-IOT900;Macro]             1;2;3;4   \n",
       "69    2     6       Vodafone ; NR3500;Macro]                 1;2   \n",
       "70    0            Vodafone ; Microwave Link                   0   \n",
       "\n",
       "                                                 Powers  \\\n",
       "1                                         ;;43;;;;;;;;;   \n",
       "2                                   46;46;46;46;;;;;;;;   \n",
       "3                                       45;45;;;;;;;;;;   \n",
       "4                                   ;;;;;;;;47;47;47;47   \n",
       "5                                   ;;;;;;;;45;45;45;45   \n",
       "..                                                  ...   \n",
       "66                      46.78;46.78;46.78;46.78;;;;;;;;   \n",
       "67  ;;;;46.78;46.78;46.78;46.78;46.78;46.78;46.78;46.78   \n",
       "68                                ;;42.01;42.01;;;;;;;;   \n",
       "69                                                  47;   \n",
       "70                                                  14;   \n",
       "\n",
       "                                                                                                                                                                                                                              Notes  \\\n",
       "1                                                                                                                                             U9 Power updated as per FY19 V3.1 (Feeder solution, Rack Top 1*40W, 3dB nominal loss)   \n",
       "2                                                                                                                                                L7 Power updated as per FY19 V3.1 (RRU solution, Rack Top 4*50W, 1dB nominal loss)   \n",
       "3                                                                                                                                                                                               Converted from LTE900 to NR/LTE900.   \n",
       "4                                                                                                                                               L18 Power updated as per FY19 V3.1 (RRU solution, Rack Top 4*60W, 1dB nominal loss)   \n",
       "5                                                                                                                                             N/L21 Power updated as per FY19 V3.1 (RRU solution, Rack Top 4*40W, 1dB nominal loss)   \n",
       "..                                                                                                                                                                                                                              ...   \n",
       "66                                                                                                                NRL850 RRU Solution (Rack Top Power: 4x60w)  RAN Refresh Project. Actual power applied - 1dB RRU loss considered.   \n",
       "67                                                                                                               NRL2100 RRU Solution (Rack Top Power: 8x60w)  RAN Refresh Project. Actual power applied - 1dB RRU loss considered.   \n",
       "68                                                                                                             NB-IOT900 RRU Solution (Rack Top Power: 2x20w)  RAN Refresh Project. Actual power applied - 1dB RRU loss considered.   \n",
       "69  NR3500 on Nokia AEQE antenna (Rack Top Power: 1x200w)  RAN Refresh Project. Realistic power applied - 6dB loss considered.  Tilt all sectors have a fixed E-tilt of 6 degree Sector 1 RET = 0 Sector 2 RET = 0 Sector 3 RET = 0   \n",
       "70                                                                                                                                                                                                                                0   \n",
       "\n",
       "     Carrier             Tech  Total Ports  \\\n",
       "1      Optus         WCDMA900         12.0   \n",
       "2      Optus           LTE700         12.0   \n",
       "3      Optus        NR/LTE900         12.0   \n",
       "4      Optus          LTE1800         12.0   \n",
       "5      Optus       NR/LTE2100         12.0   \n",
       "..       ...              ...          ...   \n",
       "66  Vodafone        NR/LTE850         12.0   \n",
       "67  Vodafone       NR/LTE2100         12.0   \n",
       "68  Vodafone        NB-IOT900         12.0   \n",
       "69  Vodafone           NR3500          2.0   \n",
       "70  Vodafone   Microwave Link          1.0   \n",
       "\n",
       "                                          Powers (W)  \n",
       "1                                             [20.0]  \n",
       "2                           [39.8, 39.8, 39.8, 39.8]  \n",
       "3                                       [31.6, 31.6]  \n",
       "4                           [50.1, 50.1, 50.1, 50.1]  \n",
       "5                           [31.6, 31.6, 31.6, 31.6]  \n",
       "..                                               ...  \n",
       "66                          [47.6, 47.6, 47.6, 47.6]  \n",
       "67  [47.6, 47.6, 47.6, 47.6, 47.6, 47.6, 47.6, 47.6]  \n",
       "68                                      [15.9, 15.9]  \n",
       "69                                            [50.1]  \n",
       "70                                          [0.0251]  \n",
       "\n",
       "[70 rows x 15 columns]"
      ]
     },
     "metadata": {},
     "output_type": "display_data"
    }
   ],
   "source": [
    "display(df)"
   ]
  },
  {
   "cell_type": "code",
   "execution_count": 30,
   "id": "c1a6a22a",
   "metadata": {},
   "outputs": [],
   "source": [
    "######## what should be the frequency? ########\n",
    "Assess_Freq_list = []\n",
    "for i in df['Tech']:\n",
    "    if any([x in i for x in ['GSM900', 'WCDMA850', 'NB-IOT900', 'WCDMA900','LTE850', 'NR850','LTE900']]):\n",
    "        Assess_Freq_list.append('900')\n",
    "    elif any([x in i for x in ['NR/LTE2100', 'WCDMA2100', 'LTE2100']]):\n",
    "        Assess_Freq_list.append('2100')\n",
    "    elif any([x in i for x in ['NR/LTE1800', 'LTE1800']]):\n",
    "        Assess_Freq_list.append('1800')\n",
    "    elif any([x in i for x in ['LTE2600', 'NR2600']]):\n",
    "        Assess_Freq_list.append('2600')\n",
    "    elif 'LTE700' in i:\n",
    "        Assess_Freq_list.append('750')\n",
    "    elif 'LTE2300' in i:\n",
    "        Assess_Freq_list.append('2350')\n",
    "    else:\n",
    "        Assess_Freq_list.append(i)\n",
    "df['Assess Freq'] = Assess_Freq_list"
   ]
  },
  {
   "cell_type": "code",
   "execution_count": 31,
   "id": "959d53f2",
   "metadata": {},
   "outputs": [],
   "source": [
    "######## Which ports to add powers to? ########\n",
    "Mylist =[]\n",
    "\n",
    "for i in df['Powers']:\n",
    "    count = 1\n",
    "    lister = []\n",
    "    if isinstance(i, str):\n",
    "        for j in i:\n",
    "            if j==';':\n",
    "                count+=1\n",
    "            else:\n",
    "                lister.append(count)\n",
    "        Mylist.append(lister)\n",
    "    else:\n",
    "        Mylist.append(list(str(i))) \n",
    "        \n",
    "    \n",
    "new_k = []\n",
    "for elem in Mylist:\n",
    "    kiterator=[]\n",
    "    for el in elem:\n",
    "        if el not in kiterator:\n",
    "            kiterator.append(el)\n",
    "    new_k.append(kiterator)\n",
    "k = new_k\n",
    "\n",
    "df['WhereToAddPower'] = k"
   ]
  },
  {
   "cell_type": "code",
   "execution_count": 32,
   "id": "556375fe",
   "metadata": {},
   "outputs": [],
   "source": [
    "####Formatting Powers Column with ports numbers\n",
    "\n",
    "#itArr=[]\n",
    "#for index, elm in df['Powers'].iteritems():\n",
    "#    if isinstance(elm, (list, tuple)):\n",
    "#        itArr.append([f'{i+1}. {l}' for i, l in enumerate(elm)])\n",
    "#    else:\n",
    "#        itArr.append([elm])\n",
    "#df=df.drop(columns='Powers', axis=1)\n",
    "#df.insert(2, 'Powers', itArr)\n",
    "#############################################"
   ]
  },
  {
   "cell_type": "markdown",
   "id": "595edbc6",
   "metadata": {},
   "source": [
    "## Add these Antennas to prox5"
   ]
  },
  {
   "cell_type": "code",
   "execution_count": 33,
   "id": "e52e342b",
   "metadata": {},
   "outputs": [
    {
     "name": "stdout",
     "output_type": "stream",
     "text": [
      "You need to add these antennas\n",
      "\n",
      "T2004L6R021 \n",
      "AIR6488 \n",
      "AIR3239 B40 \n",
      "RV4PX310R-V2 \n",
      "RVVPX310B2 \n",
      "RR2VV-6533D-R6 \n",
      "AEQE \n",
      "* UKY 210 77/SC11 \n",
      "\n",
      "to PROX5\n"
     ]
    }
   ],
   "source": [
    "AntennasUnique = list( dict.fromkeys(df['Antenna']) )\n",
    "print('You need to add these antennas\\n\\n'+str.join(\" \\n\", AntennasUnique)+' \\n\\nto PROX5')"
   ]
  },
  {
   "cell_type": "markdown",
   "id": "f762f917",
   "metadata": {},
   "source": [
    "## IDs for Antennas"
   ]
  },
  {
   "cell_type": "code",
   "execution_count": 34,
   "id": "d7e3cf27",
   "metadata": {},
   "outputs": [
    {
     "name": "stdout",
     "output_type": "stream",
     "text": [
      "\n",
      "The id of \u001b[1mT2004L6R021\u001b[0m are\n",
      "[ \n",
      "' \n",
      "1 \n",
      "2 \n",
      "- \n",
      "O \n",
      "' \n",
      ", \n",
      "  \n",
      "' \n",
      "2 \n",
      "2 \n",
      "- \n",
      "O \n",
      "' \n",
      ", \n",
      "  \n",
      "' \n",
      "3 \n",
      "2 \n",
      "- \n",
      "O \n",
      "' \n",
      "]\n",
      "\n",
      "The id of \u001b[1mAIR6488\u001b[0m are\n",
      "[ \n",
      "' \n",
      "1 \n",
      "4 \n",
      "- \n",
      "O \n",
      "' \n",
      ", \n",
      "  \n",
      "' \n",
      "2 \n",
      "4 \n",
      "- \n",
      "O \n",
      "' \n",
      ", \n",
      "  \n",
      "' \n",
      "3 \n",
      "4 \n",
      "- \n",
      "O \n",
      "' \n",
      ", \n",
      "  \n",
      "' \n",
      "A \n",
      "2 \n",
      "' \n",
      ", \n",
      "  \n",
      "' \n",
      "A \n",
      "6 \n",
      "' \n",
      ", \n",
      "  \n",
      "' \n",
      "A \n",
      "7 \n",
      "' \n",
      "]\n",
      "\n",
      "The id of \u001b[1mAIR3239 B40\u001b[0m are\n",
      "[ \n",
      "' \n",
      "1 \n",
      "6 \n",
      "- \n",
      "O \n",
      "' \n",
      ", \n",
      "  \n",
      "' \n",
      "2 \n",
      "6 \n",
      "- \n",
      "O \n",
      "' \n",
      ", \n",
      "  \n",
      "' \n",
      "3 \n",
      "6 \n",
      "- \n",
      "O \n",
      "' \n",
      "]\n",
      "\n",
      "The id of \u001b[1mRV4PX310R-V2\u001b[0m are\n",
      "[ \n",
      "' \n",
      "A \n",
      "1 \n",
      "1 \n",
      "' \n",
      ", \n",
      "  \n",
      "' \n",
      "A \n",
      "1 \n",
      "7 \n",
      "' \n",
      ", \n",
      "  \n",
      "' \n",
      "A \n",
      "5 \n",
      "' \n",
      "]\n",
      "\n",
      "The id of \u001b[1mRVVPX310B2\u001b[0m are\n",
      "[ \n",
      "' \n",
      "A \n",
      "1 \n",
      "5 \n",
      "' \n",
      ", \n",
      "  \n",
      "' \n",
      "A \n",
      "3 \n",
      "' \n",
      ", \n",
      "  \n",
      "' \n",
      "A \n",
      "9 \n",
      "' \n",
      "]\n",
      "\n",
      "The id of \u001b[1mRR2VV-6533D-R6\u001b[0m are\n",
      "[ \n",
      "' \n",
      "1 \n",
      "1 \n",
      "- \n",
      "V \n",
      "' \n",
      ", \n",
      "  \n",
      "' \n",
      "2 \n",
      "1 \n",
      "- \n",
      "V \n",
      "' \n",
      ", \n",
      "  \n",
      "' \n",
      "3 \n",
      "1 \n",
      "- \n",
      "V \n",
      "' \n",
      "]\n",
      "\n",
      "The id of \u001b[1mAEQE\u001b[0m are\n",
      "[ \n",
      "' \n",
      "1 \n",
      "3 \n",
      "- \n",
      "V \n",
      "' \n",
      ", \n",
      "  \n",
      "' \n",
      "2 \n",
      "3 \n",
      "- \n",
      "V \n",
      "' \n",
      ", \n",
      "  \n",
      "' \n",
      "3 \n",
      "3 \n",
      "- \n",
      "V \n",
      "' \n",
      "]\n",
      "\n",
      "The id of \u001b[1m* UKY 210 77/SC11\u001b[0m are\n",
      "[ \n",
      "' \n",
      "H \n",
      "2 \n",
      "1 \n",
      "8 \n",
      "6 \n",
      "2 \n",
      "5 \n",
      "0 \n",
      "2 \n",
      "' \n",
      "]\n"
     ]
    }
   ],
   "source": [
    "IDUnique = list( dict.fromkeys(df['ID'],df['Antenna']) )\n",
    "AntennaIds = {}\n",
    "for antenna in AntennasUnique:\n",
    "    IdsForAntenna = list(dict.fromkeys(df.loc[df['Antenna'] == antenna, 'ID']))\n",
    "    AntennaIds[antenna] = IdsForAntenna\n",
    "\n",
    "for x, y in AntennaIds.items():\n",
    "    print(f'\\nThe id of '+text_format.BOLD+ x + text_format.END + ' are\\n'+str.join(\" \\n\", str(y)))\n"
   ]
  },
  {
   "cell_type": "markdown",
   "id": "016b9f19",
   "metadata": {},
   "source": [
    "## Antenna Settings"
   ]
  },
  {
   "cell_type": "code",
   "execution_count": 35,
   "id": "64c239af",
   "metadata": {},
   "outputs": [
    {
     "data": {
      "text/plain": [
       "'Set Power and Frequency to ports in Prox5'"
      ]
     },
     "metadata": {},
     "output_type": "display_data"
    },
    {
     "name": "stdout",
     "output_type": "stream",
     "text": [
      "\n",
      "For \u001b[1m12-O\u001b[0m, the Settings are\n"
     ]
    },
    {
     "data": {
      "text/html": [
       "<div>\n",
       "<style scoped>\n",
       "    .dataframe tbody tr th:only-of-type {\n",
       "        vertical-align: middle;\n",
       "    }\n",
       "\n",
       "    .dataframe tbody tr th {\n",
       "        vertical-align: top;\n",
       "    }\n",
       "\n",
       "    .dataframe thead th {\n",
       "        text-align: right;\n",
       "    }\n",
       "</style>\n",
       "<table border=\"1\" class=\"dataframe\">\n",
       "  <thead>\n",
       "    <tr style=\"text-align: right;\">\n",
       "      <th></th>\n",
       "      <th>ID</th>\n",
       "      <th>Height</th>\n",
       "      <th>Bearing</th>\n",
       "      <th>MDT</th>\n",
       "    </tr>\n",
       "  </thead>\n",
       "  <tbody>\n",
       "    <tr>\n",
       "      <th>1</th>\n",
       "      <td>12-O</td>\n",
       "      <td>19.0</td>\n",
       "      <td>50.0</td>\n",
       "      <td>0</td>\n",
       "    </tr>\n",
       "    <tr>\n",
       "      <th>2</th>\n",
       "      <td>12-O</td>\n",
       "      <td>19.0</td>\n",
       "      <td>50.0</td>\n",
       "      <td>0</td>\n",
       "    </tr>\n",
       "    <tr>\n",
       "      <th>3</th>\n",
       "      <td>12-O</td>\n",
       "      <td>19.0</td>\n",
       "      <td>50.0</td>\n",
       "      <td>0</td>\n",
       "    </tr>\n",
       "    <tr>\n",
       "      <th>4</th>\n",
       "      <td>12-O</td>\n",
       "      <td>19.0</td>\n",
       "      <td>50.0</td>\n",
       "      <td>0</td>\n",
       "    </tr>\n",
       "    <tr>\n",
       "      <th>5</th>\n",
       "      <td>12-O</td>\n",
       "      <td>19.0</td>\n",
       "      <td>50.0</td>\n",
       "      <td>0</td>\n",
       "    </tr>\n",
       "    <tr>\n",
       "      <th>6</th>\n",
       "      <td>12-O</td>\n",
       "      <td>19.0</td>\n",
       "      <td>50.0</td>\n",
       "      <td>0</td>\n",
       "    </tr>\n",
       "    <tr>\n",
       "      <th>7</th>\n",
       "      <td>12-O</td>\n",
       "      <td>19.0</td>\n",
       "      <td>50.0</td>\n",
       "      <td>0</td>\n",
       "    </tr>\n",
       "    <tr>\n",
       "      <th>8</th>\n",
       "      <td>12-O</td>\n",
       "      <td>19.0</td>\n",
       "      <td>50.0</td>\n",
       "      <td>0</td>\n",
       "    </tr>\n",
       "  </tbody>\n",
       "</table>\n",
       "</div>"
      ],
      "text/plain": [
       "     ID  Height  Bearing  MDT\n",
       "1  12-O    19.0     50.0    0\n",
       "2  12-O    19.0     50.0    0\n",
       "3  12-O    19.0     50.0    0\n",
       "4  12-O    19.0     50.0    0\n",
       "5  12-O    19.0     50.0    0\n",
       "6  12-O    19.0     50.0    0\n",
       "7  12-O    19.0     50.0    0\n",
       "8  12-O    19.0     50.0    0"
      ]
     },
     "metadata": {},
     "output_type": "display_data"
    },
    {
     "name": "stdout",
     "output_type": "stream",
     "text": [
      "\n",
      "For \u001b[1m14-O\u001b[0m, the Settings are\n"
     ]
    },
    {
     "data": {
      "text/html": [
       "<div>\n",
       "<style scoped>\n",
       "    .dataframe tbody tr th:only-of-type {\n",
       "        vertical-align: middle;\n",
       "    }\n",
       "\n",
       "    .dataframe tbody tr th {\n",
       "        vertical-align: top;\n",
       "    }\n",
       "\n",
       "    .dataframe thead th {\n",
       "        text-align: right;\n",
       "    }\n",
       "</style>\n",
       "<table border=\"1\" class=\"dataframe\">\n",
       "  <thead>\n",
       "    <tr style=\"text-align: right;\">\n",
       "      <th></th>\n",
       "      <th>ID</th>\n",
       "      <th>Height</th>\n",
       "      <th>Bearing</th>\n",
       "      <th>MDT</th>\n",
       "    </tr>\n",
       "  </thead>\n",
       "  <tbody>\n",
       "    <tr>\n",
       "      <th>9</th>\n",
       "      <td>14-O</td>\n",
       "      <td>18.95</td>\n",
       "      <td>50.0</td>\n",
       "      <td>0</td>\n",
       "    </tr>\n",
       "  </tbody>\n",
       "</table>\n",
       "</div>"
      ],
      "text/plain": [
       "     ID  Height  Bearing  MDT\n",
       "9  14-O   18.95     50.0    0"
      ]
     },
     "metadata": {},
     "output_type": "display_data"
    },
    {
     "name": "stdout",
     "output_type": "stream",
     "text": [
      "\n",
      "For \u001b[1m16-O\u001b[0m, the Settings are\n"
     ]
    },
    {
     "data": {
      "text/html": [
       "<div>\n",
       "<style scoped>\n",
       "    .dataframe tbody tr th:only-of-type {\n",
       "        vertical-align: middle;\n",
       "    }\n",
       "\n",
       "    .dataframe tbody tr th {\n",
       "        vertical-align: top;\n",
       "    }\n",
       "\n",
       "    .dataframe thead th {\n",
       "        text-align: right;\n",
       "    }\n",
       "</style>\n",
       "<table border=\"1\" class=\"dataframe\">\n",
       "  <thead>\n",
       "    <tr style=\"text-align: right;\">\n",
       "      <th></th>\n",
       "      <th>ID</th>\n",
       "      <th>Height</th>\n",
       "      <th>Bearing</th>\n",
       "      <th>MDT</th>\n",
       "    </tr>\n",
       "  </thead>\n",
       "  <tbody>\n",
       "    <tr>\n",
       "      <th>10</th>\n",
       "      <td>16-O</td>\n",
       "      <td>17.9</td>\n",
       "      <td>50.0</td>\n",
       "      <td>0</td>\n",
       "    </tr>\n",
       "  </tbody>\n",
       "</table>\n",
       "</div>"
      ],
      "text/plain": [
       "      ID  Height  Bearing  MDT\n",
       "10  16-O    17.9     50.0    0"
      ]
     },
     "metadata": {},
     "output_type": "display_data"
    },
    {
     "name": "stdout",
     "output_type": "stream",
     "text": [
      "\n",
      "For \u001b[1m22-O\u001b[0m, the Settings are\n"
     ]
    },
    {
     "data": {
      "text/html": [
       "<div>\n",
       "<style scoped>\n",
       "    .dataframe tbody tr th:only-of-type {\n",
       "        vertical-align: middle;\n",
       "    }\n",
       "\n",
       "    .dataframe tbody tr th {\n",
       "        vertical-align: top;\n",
       "    }\n",
       "\n",
       "    .dataframe thead th {\n",
       "        text-align: right;\n",
       "    }\n",
       "</style>\n",
       "<table border=\"1\" class=\"dataframe\">\n",
       "  <thead>\n",
       "    <tr style=\"text-align: right;\">\n",
       "      <th></th>\n",
       "      <th>ID</th>\n",
       "      <th>Height</th>\n",
       "      <th>Bearing</th>\n",
       "      <th>MDT</th>\n",
       "    </tr>\n",
       "  </thead>\n",
       "  <tbody>\n",
       "    <tr>\n",
       "      <th>11</th>\n",
       "      <td>22-O</td>\n",
       "      <td>19.0</td>\n",
       "      <td>190.0</td>\n",
       "      <td>0</td>\n",
       "    </tr>\n",
       "    <tr>\n",
       "      <th>12</th>\n",
       "      <td>22-O</td>\n",
       "      <td>19.0</td>\n",
       "      <td>190.0</td>\n",
       "      <td>0</td>\n",
       "    </tr>\n",
       "    <tr>\n",
       "      <th>13</th>\n",
       "      <td>22-O</td>\n",
       "      <td>19.0</td>\n",
       "      <td>190.0</td>\n",
       "      <td>0</td>\n",
       "    </tr>\n",
       "    <tr>\n",
       "      <th>14</th>\n",
       "      <td>22-O</td>\n",
       "      <td>19.0</td>\n",
       "      <td>190.0</td>\n",
       "      <td>0</td>\n",
       "    </tr>\n",
       "    <tr>\n",
       "      <th>15</th>\n",
       "      <td>22-O</td>\n",
       "      <td>19.0</td>\n",
       "      <td>190.0</td>\n",
       "      <td>0</td>\n",
       "    </tr>\n",
       "    <tr>\n",
       "      <th>16</th>\n",
       "      <td>22-O</td>\n",
       "      <td>19.0</td>\n",
       "      <td>190.0</td>\n",
       "      <td>0</td>\n",
       "    </tr>\n",
       "    <tr>\n",
       "      <th>17</th>\n",
       "      <td>22-O</td>\n",
       "      <td>19.0</td>\n",
       "      <td>190.0</td>\n",
       "      <td>0</td>\n",
       "    </tr>\n",
       "    <tr>\n",
       "      <th>18</th>\n",
       "      <td>22-O</td>\n",
       "      <td>19.0</td>\n",
       "      <td>190.0</td>\n",
       "      <td>0</td>\n",
       "    </tr>\n",
       "  </tbody>\n",
       "</table>\n",
       "</div>"
      ],
      "text/plain": [
       "      ID  Height  Bearing  MDT\n",
       "11  22-O    19.0    190.0    0\n",
       "12  22-O    19.0    190.0    0\n",
       "13  22-O    19.0    190.0    0\n",
       "14  22-O    19.0    190.0    0\n",
       "15  22-O    19.0    190.0    0\n",
       "16  22-O    19.0    190.0    0\n",
       "17  22-O    19.0    190.0    0\n",
       "18  22-O    19.0    190.0    0"
      ]
     },
     "metadata": {},
     "output_type": "display_data"
    },
    {
     "name": "stdout",
     "output_type": "stream",
     "text": [
      "\n",
      "For \u001b[1m24-O\u001b[0m, the Settings are\n"
     ]
    },
    {
     "data": {
      "text/html": [
       "<div>\n",
       "<style scoped>\n",
       "    .dataframe tbody tr th:only-of-type {\n",
       "        vertical-align: middle;\n",
       "    }\n",
       "\n",
       "    .dataframe tbody tr th {\n",
       "        vertical-align: top;\n",
       "    }\n",
       "\n",
       "    .dataframe thead th {\n",
       "        text-align: right;\n",
       "    }\n",
       "</style>\n",
       "<table border=\"1\" class=\"dataframe\">\n",
       "  <thead>\n",
       "    <tr style=\"text-align: right;\">\n",
       "      <th></th>\n",
       "      <th>ID</th>\n",
       "      <th>Height</th>\n",
       "      <th>Bearing</th>\n",
       "      <th>MDT</th>\n",
       "    </tr>\n",
       "  </thead>\n",
       "  <tbody>\n",
       "    <tr>\n",
       "      <th>19</th>\n",
       "      <td>24-O</td>\n",
       "      <td>18.95</td>\n",
       "      <td>190.0</td>\n",
       "      <td>0</td>\n",
       "    </tr>\n",
       "  </tbody>\n",
       "</table>\n",
       "</div>"
      ],
      "text/plain": [
       "      ID  Height  Bearing  MDT\n",
       "19  24-O   18.95    190.0    0"
      ]
     },
     "metadata": {},
     "output_type": "display_data"
    },
    {
     "name": "stdout",
     "output_type": "stream",
     "text": [
      "\n",
      "For \u001b[1m26-O\u001b[0m, the Settings are\n"
     ]
    },
    {
     "data": {
      "text/html": [
       "<div>\n",
       "<style scoped>\n",
       "    .dataframe tbody tr th:only-of-type {\n",
       "        vertical-align: middle;\n",
       "    }\n",
       "\n",
       "    .dataframe tbody tr th {\n",
       "        vertical-align: top;\n",
       "    }\n",
       "\n",
       "    .dataframe thead th {\n",
       "        text-align: right;\n",
       "    }\n",
       "</style>\n",
       "<table border=\"1\" class=\"dataframe\">\n",
       "  <thead>\n",
       "    <tr style=\"text-align: right;\">\n",
       "      <th></th>\n",
       "      <th>ID</th>\n",
       "      <th>Height</th>\n",
       "      <th>Bearing</th>\n",
       "      <th>MDT</th>\n",
       "    </tr>\n",
       "  </thead>\n",
       "  <tbody>\n",
       "    <tr>\n",
       "      <th>20</th>\n",
       "      <td>26-O</td>\n",
       "      <td>17.9</td>\n",
       "      <td>190.0</td>\n",
       "      <td>0</td>\n",
       "    </tr>\n",
       "  </tbody>\n",
       "</table>\n",
       "</div>"
      ],
      "text/plain": [
       "      ID  Height  Bearing  MDT\n",
       "20  26-O    17.9    190.0    0"
      ]
     },
     "metadata": {},
     "output_type": "display_data"
    },
    {
     "name": "stdout",
     "output_type": "stream",
     "text": [
      "\n",
      "For \u001b[1m32-O\u001b[0m, the Settings are\n"
     ]
    },
    {
     "data": {
      "text/html": [
       "<div>\n",
       "<style scoped>\n",
       "    .dataframe tbody tr th:only-of-type {\n",
       "        vertical-align: middle;\n",
       "    }\n",
       "\n",
       "    .dataframe tbody tr th {\n",
       "        vertical-align: top;\n",
       "    }\n",
       "\n",
       "    .dataframe thead th {\n",
       "        text-align: right;\n",
       "    }\n",
       "</style>\n",
       "<table border=\"1\" class=\"dataframe\">\n",
       "  <thead>\n",
       "    <tr style=\"text-align: right;\">\n",
       "      <th></th>\n",
       "      <th>ID</th>\n",
       "      <th>Height</th>\n",
       "      <th>Bearing</th>\n",
       "      <th>MDT</th>\n",
       "    </tr>\n",
       "  </thead>\n",
       "  <tbody>\n",
       "    <tr>\n",
       "      <th>21</th>\n",
       "      <td>32-O</td>\n",
       "      <td>19.0</td>\n",
       "      <td>310.0</td>\n",
       "      <td>0</td>\n",
       "    </tr>\n",
       "    <tr>\n",
       "      <th>22</th>\n",
       "      <td>32-O</td>\n",
       "      <td>19.0</td>\n",
       "      <td>310.0</td>\n",
       "      <td>0</td>\n",
       "    </tr>\n",
       "    <tr>\n",
       "      <th>23</th>\n",
       "      <td>32-O</td>\n",
       "      <td>19.0</td>\n",
       "      <td>310.0</td>\n",
       "      <td>0</td>\n",
       "    </tr>\n",
       "    <tr>\n",
       "      <th>24</th>\n",
       "      <td>32-O</td>\n",
       "      <td>19.0</td>\n",
       "      <td>310.0</td>\n",
       "      <td>0</td>\n",
       "    </tr>\n",
       "    <tr>\n",
       "      <th>25</th>\n",
       "      <td>32-O</td>\n",
       "      <td>19.0</td>\n",
       "      <td>310.0</td>\n",
       "      <td>0</td>\n",
       "    </tr>\n",
       "    <tr>\n",
       "      <th>26</th>\n",
       "      <td>32-O</td>\n",
       "      <td>19.0</td>\n",
       "      <td>310.0</td>\n",
       "      <td>0</td>\n",
       "    </tr>\n",
       "    <tr>\n",
       "      <th>27</th>\n",
       "      <td>32-O</td>\n",
       "      <td>19.0</td>\n",
       "      <td>310.0</td>\n",
       "      <td>0</td>\n",
       "    </tr>\n",
       "    <tr>\n",
       "      <th>28</th>\n",
       "      <td>32-O</td>\n",
       "      <td>19.0</td>\n",
       "      <td>310.0</td>\n",
       "      <td>0</td>\n",
       "    </tr>\n",
       "  </tbody>\n",
       "</table>\n",
       "</div>"
      ],
      "text/plain": [
       "      ID  Height  Bearing  MDT\n",
       "21  32-O    19.0    310.0    0\n",
       "22  32-O    19.0    310.0    0\n",
       "23  32-O    19.0    310.0    0\n",
       "24  32-O    19.0    310.0    0\n",
       "25  32-O    19.0    310.0    0\n",
       "26  32-O    19.0    310.0    0\n",
       "27  32-O    19.0    310.0    0\n",
       "28  32-O    19.0    310.0    0"
      ]
     },
     "metadata": {},
     "output_type": "display_data"
    },
    {
     "name": "stdout",
     "output_type": "stream",
     "text": [
      "\n",
      "For \u001b[1m34-O\u001b[0m, the Settings are\n"
     ]
    },
    {
     "data": {
      "text/html": [
       "<div>\n",
       "<style scoped>\n",
       "    .dataframe tbody tr th:only-of-type {\n",
       "        vertical-align: middle;\n",
       "    }\n",
       "\n",
       "    .dataframe tbody tr th {\n",
       "        vertical-align: top;\n",
       "    }\n",
       "\n",
       "    .dataframe thead th {\n",
       "        text-align: right;\n",
       "    }\n",
       "</style>\n",
       "<table border=\"1\" class=\"dataframe\">\n",
       "  <thead>\n",
       "    <tr style=\"text-align: right;\">\n",
       "      <th></th>\n",
       "      <th>ID</th>\n",
       "      <th>Height</th>\n",
       "      <th>Bearing</th>\n",
       "      <th>MDT</th>\n",
       "    </tr>\n",
       "  </thead>\n",
       "  <tbody>\n",
       "    <tr>\n",
       "      <th>29</th>\n",
       "      <td>34-O</td>\n",
       "      <td>18.95</td>\n",
       "      <td>310.0</td>\n",
       "      <td>0</td>\n",
       "    </tr>\n",
       "  </tbody>\n",
       "</table>\n",
       "</div>"
      ],
      "text/plain": [
       "      ID  Height  Bearing  MDT\n",
       "29  34-O   18.95    310.0    0"
      ]
     },
     "metadata": {},
     "output_type": "display_data"
    },
    {
     "name": "stdout",
     "output_type": "stream",
     "text": [
      "\n",
      "For \u001b[1m36-O\u001b[0m, the Settings are\n"
     ]
    },
    {
     "data": {
      "text/html": [
       "<div>\n",
       "<style scoped>\n",
       "    .dataframe tbody tr th:only-of-type {\n",
       "        vertical-align: middle;\n",
       "    }\n",
       "\n",
       "    .dataframe tbody tr th {\n",
       "        vertical-align: top;\n",
       "    }\n",
       "\n",
       "    .dataframe thead th {\n",
       "        text-align: right;\n",
       "    }\n",
       "</style>\n",
       "<table border=\"1\" class=\"dataframe\">\n",
       "  <thead>\n",
       "    <tr style=\"text-align: right;\">\n",
       "      <th></th>\n",
       "      <th>ID</th>\n",
       "      <th>Height</th>\n",
       "      <th>Bearing</th>\n",
       "      <th>MDT</th>\n",
       "    </tr>\n",
       "  </thead>\n",
       "  <tbody>\n",
       "    <tr>\n",
       "      <th>30</th>\n",
       "      <td>36-O</td>\n",
       "      <td>17.9</td>\n",
       "      <td>310.0</td>\n",
       "      <td>0</td>\n",
       "    </tr>\n",
       "  </tbody>\n",
       "</table>\n",
       "</div>"
      ],
      "text/plain": [
       "      ID  Height  Bearing  MDT\n",
       "30  36-O    17.9    310.0    0"
      ]
     },
     "metadata": {},
     "output_type": "display_data"
    },
    {
     "name": "stdout",
     "output_type": "stream",
     "text": [
      "\n",
      "For \u001b[1mA11\u001b[0m, the Settings are\n"
     ]
    },
    {
     "data": {
      "text/html": [
       "<div>\n",
       "<style scoped>\n",
       "    .dataframe tbody tr th:only-of-type {\n",
       "        vertical-align: middle;\n",
       "    }\n",
       "\n",
       "    .dataframe tbody tr th {\n",
       "        vertical-align: top;\n",
       "    }\n",
       "\n",
       "    .dataframe thead th {\n",
       "        text-align: right;\n",
       "    }\n",
       "</style>\n",
       "<table border=\"1\" class=\"dataframe\">\n",
       "  <thead>\n",
       "    <tr style=\"text-align: right;\">\n",
       "      <th></th>\n",
       "      <th>ID</th>\n",
       "      <th>Height</th>\n",
       "      <th>Bearing</th>\n",
       "      <th>MDT</th>\n",
       "    </tr>\n",
       "  </thead>\n",
       "  <tbody>\n",
       "    <tr>\n",
       "      <th>31</th>\n",
       "      <td>A11</td>\n",
       "      <td>25.0</td>\n",
       "      <td>185.0</td>\n",
       "      <td>0</td>\n",
       "    </tr>\n",
       "    <tr>\n",
       "      <th>32</th>\n",
       "      <td>A11</td>\n",
       "      <td>25.0</td>\n",
       "      <td>185.0</td>\n",
       "      <td>0</td>\n",
       "    </tr>\n",
       "    <tr>\n",
       "      <th>33</th>\n",
       "      <td>A11</td>\n",
       "      <td>25.0</td>\n",
       "      <td>185.0</td>\n",
       "      <td>0</td>\n",
       "    </tr>\n",
       "  </tbody>\n",
       "</table>\n",
       "</div>"
      ],
      "text/plain": [
       "     ID  Height  Bearing  MDT\n",
       "31  A11    25.0    185.0    0\n",
       "32  A11    25.0    185.0    0\n",
       "33  A11    25.0    185.0    0"
      ]
     },
     "metadata": {},
     "output_type": "display_data"
    },
    {
     "name": "stdout",
     "output_type": "stream",
     "text": [
      "\n",
      "For \u001b[1mA15\u001b[0m, the Settings are\n"
     ]
    },
    {
     "data": {
      "text/html": [
       "<div>\n",
       "<style scoped>\n",
       "    .dataframe tbody tr th:only-of-type {\n",
       "        vertical-align: middle;\n",
       "    }\n",
       "\n",
       "    .dataframe tbody tr th {\n",
       "        vertical-align: top;\n",
       "    }\n",
       "\n",
       "    .dataframe thead th {\n",
       "        text-align: right;\n",
       "    }\n",
       "</style>\n",
       "<table border=\"1\" class=\"dataframe\">\n",
       "  <thead>\n",
       "    <tr style=\"text-align: right;\">\n",
       "      <th></th>\n",
       "      <th>ID</th>\n",
       "      <th>Height</th>\n",
       "      <th>Bearing</th>\n",
       "      <th>MDT</th>\n",
       "    </tr>\n",
       "  </thead>\n",
       "  <tbody>\n",
       "    <tr>\n",
       "      <th>34</th>\n",
       "      <td>A15</td>\n",
       "      <td>25.0</td>\n",
       "      <td>280.0</td>\n",
       "      <td>0</td>\n",
       "    </tr>\n",
       "    <tr>\n",
       "      <th>35</th>\n",
       "      <td>A15</td>\n",
       "      <td>25.0</td>\n",
       "      <td>280.0</td>\n",
       "      <td>0</td>\n",
       "    </tr>\n",
       "  </tbody>\n",
       "</table>\n",
       "</div>"
      ],
      "text/plain": [
       "     ID  Height  Bearing  MDT\n",
       "34  A15    25.0    280.0    0\n",
       "35  A15    25.0    280.0    0"
      ]
     },
     "metadata": {},
     "output_type": "display_data"
    },
    {
     "name": "stdout",
     "output_type": "stream",
     "text": [
      "\n",
      "For \u001b[1mA17\u001b[0m, the Settings are\n"
     ]
    },
    {
     "data": {
      "text/html": [
       "<div>\n",
       "<style scoped>\n",
       "    .dataframe tbody tr th:only-of-type {\n",
       "        vertical-align: middle;\n",
       "    }\n",
       "\n",
       "    .dataframe tbody tr th {\n",
       "        vertical-align: top;\n",
       "    }\n",
       "\n",
       "    .dataframe thead th {\n",
       "        text-align: right;\n",
       "    }\n",
       "</style>\n",
       "<table border=\"1\" class=\"dataframe\">\n",
       "  <thead>\n",
       "    <tr style=\"text-align: right;\">\n",
       "      <th></th>\n",
       "      <th>ID</th>\n",
       "      <th>Height</th>\n",
       "      <th>Bearing</th>\n",
       "      <th>MDT</th>\n",
       "    </tr>\n",
       "  </thead>\n",
       "  <tbody>\n",
       "    <tr>\n",
       "      <th>36</th>\n",
       "      <td>A17</td>\n",
       "      <td>25.0</td>\n",
       "      <td>280.0</td>\n",
       "      <td>0</td>\n",
       "    </tr>\n",
       "    <tr>\n",
       "      <th>37</th>\n",
       "      <td>A17</td>\n",
       "      <td>25.0</td>\n",
       "      <td>280.0</td>\n",
       "      <td>0</td>\n",
       "    </tr>\n",
       "    <tr>\n",
       "      <th>38</th>\n",
       "      <td>A17</td>\n",
       "      <td>25.0</td>\n",
       "      <td>280.0</td>\n",
       "      <td>0</td>\n",
       "    </tr>\n",
       "  </tbody>\n",
       "</table>\n",
       "</div>"
      ],
      "text/plain": [
       "     ID  Height  Bearing  MDT\n",
       "36  A17    25.0    280.0    0\n",
       "37  A17    25.0    280.0    0\n",
       "38  A17    25.0    280.0    0"
      ]
     },
     "metadata": {},
     "output_type": "display_data"
    },
    {
     "name": "stdout",
     "output_type": "stream",
     "text": [
      "\n",
      "For \u001b[1mA2\u001b[0m, the Settings are\n"
     ]
    },
    {
     "data": {
      "text/html": [
       "<div>\n",
       "<style scoped>\n",
       "    .dataframe tbody tr th:only-of-type {\n",
       "        vertical-align: middle;\n",
       "    }\n",
       "\n",
       "    .dataframe tbody tr th {\n",
       "        vertical-align: top;\n",
       "    }\n",
       "\n",
       "    .dataframe thead th {\n",
       "        text-align: right;\n",
       "    }\n",
       "</style>\n",
       "<table border=\"1\" class=\"dataframe\">\n",
       "  <thead>\n",
       "    <tr style=\"text-align: right;\">\n",
       "      <th></th>\n",
       "      <th>ID</th>\n",
       "      <th>Height</th>\n",
       "      <th>Bearing</th>\n",
       "      <th>MDT</th>\n",
       "    </tr>\n",
       "  </thead>\n",
       "  <tbody>\n",
       "    <tr>\n",
       "      <th>39</th>\n",
       "      <td>A2</td>\n",
       "      <td>25.7</td>\n",
       "      <td>35.0</td>\n",
       "      <td>7</td>\n",
       "    </tr>\n",
       "  </tbody>\n",
       "</table>\n",
       "</div>"
      ],
      "text/plain": [
       "    ID  Height  Bearing  MDT\n",
       "39  A2    25.7     35.0    7"
      ]
     },
     "metadata": {},
     "output_type": "display_data"
    },
    {
     "name": "stdout",
     "output_type": "stream",
     "text": [
      "\n",
      "For \u001b[1mA3\u001b[0m, the Settings are\n"
     ]
    },
    {
     "data": {
      "text/html": [
       "<div>\n",
       "<style scoped>\n",
       "    .dataframe tbody tr th:only-of-type {\n",
       "        vertical-align: middle;\n",
       "    }\n",
       "\n",
       "    .dataframe tbody tr th {\n",
       "        vertical-align: top;\n",
       "    }\n",
       "\n",
       "    .dataframe thead th {\n",
       "        text-align: right;\n",
       "    }\n",
       "</style>\n",
       "<table border=\"1\" class=\"dataframe\">\n",
       "  <thead>\n",
       "    <tr style=\"text-align: right;\">\n",
       "      <th></th>\n",
       "      <th>ID</th>\n",
       "      <th>Height</th>\n",
       "      <th>Bearing</th>\n",
       "      <th>MDT</th>\n",
       "    </tr>\n",
       "  </thead>\n",
       "  <tbody>\n",
       "    <tr>\n",
       "      <th>40</th>\n",
       "      <td>A3</td>\n",
       "      <td>25.0</td>\n",
       "      <td>35.0</td>\n",
       "      <td>0</td>\n",
       "    </tr>\n",
       "    <tr>\n",
       "      <th>41</th>\n",
       "      <td>A3</td>\n",
       "      <td>25.0</td>\n",
       "      <td>35.0</td>\n",
       "      <td>0</td>\n",
       "    </tr>\n",
       "  </tbody>\n",
       "</table>\n",
       "</div>"
      ],
      "text/plain": [
       "    ID  Height  Bearing  MDT\n",
       "40  A3    25.0     35.0    0\n",
       "41  A3    25.0     35.0    0"
      ]
     },
     "metadata": {},
     "output_type": "display_data"
    },
    {
     "name": "stdout",
     "output_type": "stream",
     "text": [
      "\n",
      "For \u001b[1mA5\u001b[0m, the Settings are\n"
     ]
    },
    {
     "data": {
      "text/html": [
       "<div>\n",
       "<style scoped>\n",
       "    .dataframe tbody tr th:only-of-type {\n",
       "        vertical-align: middle;\n",
       "    }\n",
       "\n",
       "    .dataframe tbody tr th {\n",
       "        vertical-align: top;\n",
       "    }\n",
       "\n",
       "    .dataframe thead th {\n",
       "        text-align: right;\n",
       "    }\n",
       "</style>\n",
       "<table border=\"1\" class=\"dataframe\">\n",
       "  <thead>\n",
       "    <tr style=\"text-align: right;\">\n",
       "      <th></th>\n",
       "      <th>ID</th>\n",
       "      <th>Height</th>\n",
       "      <th>Bearing</th>\n",
       "      <th>MDT</th>\n",
       "    </tr>\n",
       "  </thead>\n",
       "  <tbody>\n",
       "    <tr>\n",
       "      <th>42</th>\n",
       "      <td>A5</td>\n",
       "      <td>25.0</td>\n",
       "      <td>35.0</td>\n",
       "      <td>0</td>\n",
       "    </tr>\n",
       "    <tr>\n",
       "      <th>43</th>\n",
       "      <td>A5</td>\n",
       "      <td>25.0</td>\n",
       "      <td>35.0</td>\n",
       "      <td>0</td>\n",
       "    </tr>\n",
       "    <tr>\n",
       "      <th>44</th>\n",
       "      <td>A5</td>\n",
       "      <td>25.0</td>\n",
       "      <td>35.0</td>\n",
       "      <td>0</td>\n",
       "    </tr>\n",
       "  </tbody>\n",
       "</table>\n",
       "</div>"
      ],
      "text/plain": [
       "    ID  Height  Bearing  MDT\n",
       "42  A5    25.0     35.0    0\n",
       "43  A5    25.0     35.0    0\n",
       "44  A5    25.0     35.0    0"
      ]
     },
     "metadata": {},
     "output_type": "display_data"
    },
    {
     "name": "stdout",
     "output_type": "stream",
     "text": [
      "\n",
      "For \u001b[1mA6\u001b[0m, the Settings are\n"
     ]
    },
    {
     "data": {
      "text/html": [
       "<div>\n",
       "<style scoped>\n",
       "    .dataframe tbody tr th:only-of-type {\n",
       "        vertical-align: middle;\n",
       "    }\n",
       "\n",
       "    .dataframe tbody tr th {\n",
       "        vertical-align: top;\n",
       "    }\n",
       "\n",
       "    .dataframe thead th {\n",
       "        text-align: right;\n",
       "    }\n",
       "</style>\n",
       "<table border=\"1\" class=\"dataframe\">\n",
       "  <thead>\n",
       "    <tr style=\"text-align: right;\">\n",
       "      <th></th>\n",
       "      <th>ID</th>\n",
       "      <th>Height</th>\n",
       "      <th>Bearing</th>\n",
       "      <th>MDT</th>\n",
       "    </tr>\n",
       "  </thead>\n",
       "  <tbody>\n",
       "    <tr>\n",
       "      <th>45</th>\n",
       "      <td>A6</td>\n",
       "      <td>25.7</td>\n",
       "      <td>185.0</td>\n",
       "      <td>7</td>\n",
       "    </tr>\n",
       "  </tbody>\n",
       "</table>\n",
       "</div>"
      ],
      "text/plain": [
       "    ID  Height  Bearing  MDT\n",
       "45  A6    25.7    185.0    7"
      ]
     },
     "metadata": {},
     "output_type": "display_data"
    },
    {
     "name": "stdout",
     "output_type": "stream",
     "text": [
      "\n",
      "For \u001b[1mA7\u001b[0m, the Settings are\n"
     ]
    },
    {
     "data": {
      "text/html": [
       "<div>\n",
       "<style scoped>\n",
       "    .dataframe tbody tr th:only-of-type {\n",
       "        vertical-align: middle;\n",
       "    }\n",
       "\n",
       "    .dataframe tbody tr th {\n",
       "        vertical-align: top;\n",
       "    }\n",
       "\n",
       "    .dataframe thead th {\n",
       "        text-align: right;\n",
       "    }\n",
       "</style>\n",
       "<table border=\"1\" class=\"dataframe\">\n",
       "  <thead>\n",
       "    <tr style=\"text-align: right;\">\n",
       "      <th></th>\n",
       "      <th>ID</th>\n",
       "      <th>Height</th>\n",
       "      <th>Bearing</th>\n",
       "      <th>MDT</th>\n",
       "    </tr>\n",
       "  </thead>\n",
       "  <tbody>\n",
       "    <tr>\n",
       "      <th>46</th>\n",
       "      <td>A7</td>\n",
       "      <td>25.7</td>\n",
       "      <td>280.0</td>\n",
       "      <td>7</td>\n",
       "    </tr>\n",
       "  </tbody>\n",
       "</table>\n",
       "</div>"
      ],
      "text/plain": [
       "    ID  Height  Bearing  MDT\n",
       "46  A7    25.7    280.0    7"
      ]
     },
     "metadata": {},
     "output_type": "display_data"
    },
    {
     "name": "stdout",
     "output_type": "stream",
     "text": [
      "\n",
      "For \u001b[1mA9\u001b[0m, the Settings are\n"
     ]
    },
    {
     "data": {
      "text/html": [
       "<div>\n",
       "<style scoped>\n",
       "    .dataframe tbody tr th:only-of-type {\n",
       "        vertical-align: middle;\n",
       "    }\n",
       "\n",
       "    .dataframe tbody tr th {\n",
       "        vertical-align: top;\n",
       "    }\n",
       "\n",
       "    .dataframe thead th {\n",
       "        text-align: right;\n",
       "    }\n",
       "</style>\n",
       "<table border=\"1\" class=\"dataframe\">\n",
       "  <thead>\n",
       "    <tr style=\"text-align: right;\">\n",
       "      <th></th>\n",
       "      <th>ID</th>\n",
       "      <th>Height</th>\n",
       "      <th>Bearing</th>\n",
       "      <th>MDT</th>\n",
       "    </tr>\n",
       "  </thead>\n",
       "  <tbody>\n",
       "    <tr>\n",
       "      <th>47</th>\n",
       "      <td>A9</td>\n",
       "      <td>25.0</td>\n",
       "      <td>185.0</td>\n",
       "      <td>0</td>\n",
       "    </tr>\n",
       "    <tr>\n",
       "      <th>48</th>\n",
       "      <td>A9</td>\n",
       "      <td>25.0</td>\n",
       "      <td>185.0</td>\n",
       "      <td>0</td>\n",
       "    </tr>\n",
       "  </tbody>\n",
       "</table>\n",
       "</div>"
      ],
      "text/plain": [
       "    ID  Height  Bearing  MDT\n",
       "47  A9    25.0    185.0    0\n",
       "48  A9    25.0    185.0    0"
      ]
     },
     "metadata": {},
     "output_type": "display_data"
    },
    {
     "name": "stdout",
     "output_type": "stream",
     "text": [
      "\n",
      "For \u001b[1m11-V\u001b[0m, the Settings are\n"
     ]
    },
    {
     "data": {
      "text/html": [
       "<div>\n",
       "<style scoped>\n",
       "    .dataframe tbody tr th:only-of-type {\n",
       "        vertical-align: middle;\n",
       "    }\n",
       "\n",
       "    .dataframe tbody tr th {\n",
       "        vertical-align: top;\n",
       "    }\n",
       "\n",
       "    .dataframe thead th {\n",
       "        text-align: right;\n",
       "    }\n",
       "</style>\n",
       "<table border=\"1\" class=\"dataframe\">\n",
       "  <thead>\n",
       "    <tr style=\"text-align: right;\">\n",
       "      <th></th>\n",
       "      <th>ID</th>\n",
       "      <th>Height</th>\n",
       "      <th>Bearing</th>\n",
       "      <th>MDT</th>\n",
       "    </tr>\n",
       "  </thead>\n",
       "  <tbody>\n",
       "    <tr>\n",
       "      <th>49</th>\n",
       "      <td>11-V</td>\n",
       "      <td>19.0</td>\n",
       "      <td>60.0</td>\n",
       "      <td>0</td>\n",
       "    </tr>\n",
       "    <tr>\n",
       "      <th>50</th>\n",
       "      <td>11-V</td>\n",
       "      <td>19.0</td>\n",
       "      <td>60.0</td>\n",
       "      <td>0</td>\n",
       "    </tr>\n",
       "    <tr>\n",
       "      <th>51</th>\n",
       "      <td>11-V</td>\n",
       "      <td>19.0</td>\n",
       "      <td>60.0</td>\n",
       "      <td>0</td>\n",
       "    </tr>\n",
       "    <tr>\n",
       "      <th>52</th>\n",
       "      <td>11-V</td>\n",
       "      <td>19.0</td>\n",
       "      <td>60.0</td>\n",
       "      <td>0</td>\n",
       "    </tr>\n",
       "    <tr>\n",
       "      <th>53</th>\n",
       "      <td>11-V</td>\n",
       "      <td>19.0</td>\n",
       "      <td>60.0</td>\n",
       "      <td>0</td>\n",
       "    </tr>\n",
       "    <tr>\n",
       "      <th>54</th>\n",
       "      <td>11-V</td>\n",
       "      <td>19.0</td>\n",
       "      <td>60.0</td>\n",
       "      <td>0</td>\n",
       "    </tr>\n",
       "  </tbody>\n",
       "</table>\n",
       "</div>"
      ],
      "text/plain": [
       "      ID  Height  Bearing  MDT\n",
       "49  11-V    19.0     60.0    0\n",
       "50  11-V    19.0     60.0    0\n",
       "51  11-V    19.0     60.0    0\n",
       "52  11-V    19.0     60.0    0\n",
       "53  11-V    19.0     60.0    0\n",
       "54  11-V    19.0     60.0    0"
      ]
     },
     "metadata": {},
     "output_type": "display_data"
    },
    {
     "name": "stdout",
     "output_type": "stream",
     "text": [
      "\n",
      "For \u001b[1m13-V\u001b[0m, the Settings are\n"
     ]
    },
    {
     "data": {
      "text/html": [
       "<div>\n",
       "<style scoped>\n",
       "    .dataframe tbody tr th:only-of-type {\n",
       "        vertical-align: middle;\n",
       "    }\n",
       "\n",
       "    .dataframe tbody tr th {\n",
       "        vertical-align: top;\n",
       "    }\n",
       "\n",
       "    .dataframe thead th {\n",
       "        text-align: right;\n",
       "    }\n",
       "</style>\n",
       "<table border=\"1\" class=\"dataframe\">\n",
       "  <thead>\n",
       "    <tr style=\"text-align: right;\">\n",
       "      <th></th>\n",
       "      <th>ID</th>\n",
       "      <th>Height</th>\n",
       "      <th>Bearing</th>\n",
       "      <th>MDT</th>\n",
       "    </tr>\n",
       "  </thead>\n",
       "  <tbody>\n",
       "    <tr>\n",
       "      <th>55</th>\n",
       "      <td>13-V</td>\n",
       "      <td>20.0</td>\n",
       "      <td>60.0</td>\n",
       "      <td>1</td>\n",
       "    </tr>\n",
       "  </tbody>\n",
       "</table>\n",
       "</div>"
      ],
      "text/plain": [
       "      ID  Height  Bearing  MDT\n",
       "55  13-V    20.0     60.0    1"
      ]
     },
     "metadata": {},
     "output_type": "display_data"
    },
    {
     "name": "stdout",
     "output_type": "stream",
     "text": [
      "\n",
      "For \u001b[1m21-V\u001b[0m, the Settings are\n"
     ]
    },
    {
     "data": {
      "text/html": [
       "<div>\n",
       "<style scoped>\n",
       "    .dataframe tbody tr th:only-of-type {\n",
       "        vertical-align: middle;\n",
       "    }\n",
       "\n",
       "    .dataframe tbody tr th {\n",
       "        vertical-align: top;\n",
       "    }\n",
       "\n",
       "    .dataframe thead th {\n",
       "        text-align: right;\n",
       "    }\n",
       "</style>\n",
       "<table border=\"1\" class=\"dataframe\">\n",
       "  <thead>\n",
       "    <tr style=\"text-align: right;\">\n",
       "      <th></th>\n",
       "      <th>ID</th>\n",
       "      <th>Height</th>\n",
       "      <th>Bearing</th>\n",
       "      <th>MDT</th>\n",
       "    </tr>\n",
       "  </thead>\n",
       "  <tbody>\n",
       "    <tr>\n",
       "      <th>56</th>\n",
       "      <td>21-V</td>\n",
       "      <td>19.0</td>\n",
       "      <td>220.0</td>\n",
       "      <td>0</td>\n",
       "    </tr>\n",
       "    <tr>\n",
       "      <th>57</th>\n",
       "      <td>21-V</td>\n",
       "      <td>19.0</td>\n",
       "      <td>220.0</td>\n",
       "      <td>0</td>\n",
       "    </tr>\n",
       "    <tr>\n",
       "      <th>58</th>\n",
       "      <td>21-V</td>\n",
       "      <td>19.0</td>\n",
       "      <td>220.0</td>\n",
       "      <td>0</td>\n",
       "    </tr>\n",
       "    <tr>\n",
       "      <th>59</th>\n",
       "      <td>21-V</td>\n",
       "      <td>19.0</td>\n",
       "      <td>220.0</td>\n",
       "      <td>0</td>\n",
       "    </tr>\n",
       "    <tr>\n",
       "      <th>60</th>\n",
       "      <td>21-V</td>\n",
       "      <td>19.0</td>\n",
       "      <td>220.0</td>\n",
       "      <td>0</td>\n",
       "    </tr>\n",
       "    <tr>\n",
       "      <th>61</th>\n",
       "      <td>21-V</td>\n",
       "      <td>19.0</td>\n",
       "      <td>220.0</td>\n",
       "      <td>0</td>\n",
       "    </tr>\n",
       "  </tbody>\n",
       "</table>\n",
       "</div>"
      ],
      "text/plain": [
       "      ID  Height  Bearing  MDT\n",
       "56  21-V    19.0    220.0    0\n",
       "57  21-V    19.0    220.0    0\n",
       "58  21-V    19.0    220.0    0\n",
       "59  21-V    19.0    220.0    0\n",
       "60  21-V    19.0    220.0    0\n",
       "61  21-V    19.0    220.0    0"
      ]
     },
     "metadata": {},
     "output_type": "display_data"
    },
    {
     "name": "stdout",
     "output_type": "stream",
     "text": [
      "\n",
      "For \u001b[1m23-V\u001b[0m, the Settings are\n"
     ]
    },
    {
     "data": {
      "text/html": [
       "<div>\n",
       "<style scoped>\n",
       "    .dataframe tbody tr th:only-of-type {\n",
       "        vertical-align: middle;\n",
       "    }\n",
       "\n",
       "    .dataframe tbody tr th {\n",
       "        vertical-align: top;\n",
       "    }\n",
       "\n",
       "    .dataframe thead th {\n",
       "        text-align: right;\n",
       "    }\n",
       "</style>\n",
       "<table border=\"1\" class=\"dataframe\">\n",
       "  <thead>\n",
       "    <tr style=\"text-align: right;\">\n",
       "      <th></th>\n",
       "      <th>ID</th>\n",
       "      <th>Height</th>\n",
       "      <th>Bearing</th>\n",
       "      <th>MDT</th>\n",
       "    </tr>\n",
       "  </thead>\n",
       "  <tbody>\n",
       "    <tr>\n",
       "      <th>62</th>\n",
       "      <td>23-V</td>\n",
       "      <td>20.0</td>\n",
       "      <td>220.0</td>\n",
       "      <td>0</td>\n",
       "    </tr>\n",
       "  </tbody>\n",
       "</table>\n",
       "</div>"
      ],
      "text/plain": [
       "      ID  Height  Bearing  MDT\n",
       "62  23-V    20.0    220.0    0"
      ]
     },
     "metadata": {},
     "output_type": "display_data"
    },
    {
     "name": "stdout",
     "output_type": "stream",
     "text": [
      "\n",
      "For \u001b[1m31-V\u001b[0m, the Settings are\n"
     ]
    },
    {
     "data": {
      "text/html": [
       "<div>\n",
       "<style scoped>\n",
       "    .dataframe tbody tr th:only-of-type {\n",
       "        vertical-align: middle;\n",
       "    }\n",
       "\n",
       "    .dataframe tbody tr th {\n",
       "        vertical-align: top;\n",
       "    }\n",
       "\n",
       "    .dataframe thead th {\n",
       "        text-align: right;\n",
       "    }\n",
       "</style>\n",
       "<table border=\"1\" class=\"dataframe\">\n",
       "  <thead>\n",
       "    <tr style=\"text-align: right;\">\n",
       "      <th></th>\n",
       "      <th>ID</th>\n",
       "      <th>Height</th>\n",
       "      <th>Bearing</th>\n",
       "      <th>MDT</th>\n",
       "    </tr>\n",
       "  </thead>\n",
       "  <tbody>\n",
       "    <tr>\n",
       "      <th>63</th>\n",
       "      <td>31-V</td>\n",
       "      <td>19.0</td>\n",
       "      <td>320.0</td>\n",
       "      <td>0</td>\n",
       "    </tr>\n",
       "    <tr>\n",
       "      <th>64</th>\n",
       "      <td>31-V</td>\n",
       "      <td>19.0</td>\n",
       "      <td>320.0</td>\n",
       "      <td>0</td>\n",
       "    </tr>\n",
       "    <tr>\n",
       "      <th>65</th>\n",
       "      <td>31-V</td>\n",
       "      <td>19.0</td>\n",
       "      <td>320.0</td>\n",
       "      <td>0</td>\n",
       "    </tr>\n",
       "    <tr>\n",
       "      <th>66</th>\n",
       "      <td>31-V</td>\n",
       "      <td>19.0</td>\n",
       "      <td>320.0</td>\n",
       "      <td>0</td>\n",
       "    </tr>\n",
       "    <tr>\n",
       "      <th>67</th>\n",
       "      <td>31-V</td>\n",
       "      <td>19.0</td>\n",
       "      <td>320.0</td>\n",
       "      <td>0</td>\n",
       "    </tr>\n",
       "    <tr>\n",
       "      <th>68</th>\n",
       "      <td>31-V</td>\n",
       "      <td>19.0</td>\n",
       "      <td>320.0</td>\n",
       "      <td>0</td>\n",
       "    </tr>\n",
       "  </tbody>\n",
       "</table>\n",
       "</div>"
      ],
      "text/plain": [
       "      ID  Height  Bearing  MDT\n",
       "63  31-V    19.0    320.0    0\n",
       "64  31-V    19.0    320.0    0\n",
       "65  31-V    19.0    320.0    0\n",
       "66  31-V    19.0    320.0    0\n",
       "67  31-V    19.0    320.0    0\n",
       "68  31-V    19.0    320.0    0"
      ]
     },
     "metadata": {},
     "output_type": "display_data"
    },
    {
     "name": "stdout",
     "output_type": "stream",
     "text": [
      "\n",
      "For \u001b[1m33-V\u001b[0m, the Settings are\n"
     ]
    },
    {
     "data": {
      "text/html": [
       "<div>\n",
       "<style scoped>\n",
       "    .dataframe tbody tr th:only-of-type {\n",
       "        vertical-align: middle;\n",
       "    }\n",
       "\n",
       "    .dataframe tbody tr th {\n",
       "        vertical-align: top;\n",
       "    }\n",
       "\n",
       "    .dataframe thead th {\n",
       "        text-align: right;\n",
       "    }\n",
       "</style>\n",
       "<table border=\"1\" class=\"dataframe\">\n",
       "  <thead>\n",
       "    <tr style=\"text-align: right;\">\n",
       "      <th></th>\n",
       "      <th>ID</th>\n",
       "      <th>Height</th>\n",
       "      <th>Bearing</th>\n",
       "      <th>MDT</th>\n",
       "    </tr>\n",
       "  </thead>\n",
       "  <tbody>\n",
       "    <tr>\n",
       "      <th>69</th>\n",
       "      <td>33-V</td>\n",
       "      <td>20.0</td>\n",
       "      <td>320.0</td>\n",
       "      <td>2</td>\n",
       "    </tr>\n",
       "  </tbody>\n",
       "</table>\n",
       "</div>"
      ],
      "text/plain": [
       "      ID  Height  Bearing  MDT\n",
       "69  33-V    20.0    320.0    2"
      ]
     },
     "metadata": {},
     "output_type": "display_data"
    },
    {
     "name": "stdout",
     "output_type": "stream",
     "text": [
      "\n",
      "For \u001b[1mH21862502\u001b[0m, the Settings are\n"
     ]
    },
    {
     "data": {
      "text/html": [
       "<div>\n",
       "<style scoped>\n",
       "    .dataframe tbody tr th:only-of-type {\n",
       "        vertical-align: middle;\n",
       "    }\n",
       "\n",
       "    .dataframe tbody tr th {\n",
       "        vertical-align: top;\n",
       "    }\n",
       "\n",
       "    .dataframe thead th {\n",
       "        text-align: right;\n",
       "    }\n",
       "</style>\n",
       "<table border=\"1\" class=\"dataframe\">\n",
       "  <thead>\n",
       "    <tr style=\"text-align: right;\">\n",
       "      <th></th>\n",
       "      <th>ID</th>\n",
       "      <th>Height</th>\n",
       "      <th>Bearing</th>\n",
       "      <th>MDT</th>\n",
       "    </tr>\n",
       "  </thead>\n",
       "  <tbody>\n",
       "    <tr>\n",
       "      <th>70</th>\n",
       "      <td>H21862502</td>\n",
       "      <td>18.0</td>\n",
       "      <td>56.8</td>\n",
       "      <td>0</td>\n",
       "    </tr>\n",
       "  </tbody>\n",
       "</table>\n",
       "</div>"
      ],
      "text/plain": [
       "           ID  Height  Bearing  MDT\n",
       "70  H21862502    18.0     56.8    0"
      ]
     },
     "metadata": {},
     "output_type": "display_data"
    }
   ],
   "source": [
    "display('Set Power and Frequency to ports in Prox5')\n",
    "Settings = {}\n",
    "#for i in IDUnique:\n",
    "#    IdsForAntenna = list(dict.fromkeys(df.loc[df['ID'] == i, 'ID']))\n",
    "#    AntennaIds[antenna] = IdsForAntenna\n",
    "\n",
    "for i in IDUnique:\n",
    "        print(f'\\nFor '+text_format.BOLD+str(i)+text_format.END+f', the Settings are')\n",
    "        display(df.loc[(df['ID'] == i),['ID','Height','Bearing','MDT']])"
   ]
  },
  {
   "cell_type": "markdown",
   "id": "1d819800",
   "metadata": {},
   "source": [
    "## Set Power and Frequency to ports in Prox5"
   ]
  },
  {
   "cell_type": "code",
   "execution_count": 36,
   "id": "77cad71a",
   "metadata": {},
   "outputs": [
    {
     "data": {
      "text/plain": [
       "'Set Power and Frequency to ports in Prox5'"
      ]
     },
     "metadata": {},
     "output_type": "display_data"
    },
    {
     "name": "stdout",
     "output_type": "stream",
     "text": [
      "\u001b[1m12-O\n"
     ]
    },
    {
     "data": {
      "text/html": [
       "<div>\n",
       "<style scoped>\n",
       "    .dataframe tbody tr th:only-of-type {\n",
       "        vertical-align: middle;\n",
       "    }\n",
       "\n",
       "    .dataframe tbody tr th {\n",
       "        vertical-align: top;\n",
       "    }\n",
       "\n",
       "    .dataframe thead th {\n",
       "        text-align: right;\n",
       "    }\n",
       "</style>\n",
       "<table border=\"1\" class=\"dataframe\">\n",
       "  <thead>\n",
       "    <tr style=\"text-align: right;\">\n",
       "      <th></th>\n",
       "      <th>ID</th>\n",
       "      <th>EDT</th>\n",
       "      <th>Tech</th>\n",
       "      <th>Possible Ports</th>\n",
       "      <th>WhereToAddPower</th>\n",
       "      <th>Powers (W)</th>\n",
       "    </tr>\n",
       "  </thead>\n",
       "  <tbody>\n",
       "    <tr>\n",
       "      <th>1</th>\n",
       "      <td>12-O</td>\n",
       "      <td>2-10</td>\n",
       "      <td>WCDMA900</td>\n",
       "      <td>1;2;3;4</td>\n",
       "      <td>[3]</td>\n",
       "      <td>[20.0]</td>\n",
       "    </tr>\n",
       "    <tr>\n",
       "      <th>2</th>\n",
       "      <td>12-O</td>\n",
       "      <td>2-10</td>\n",
       "      <td>LTE700</td>\n",
       "      <td>1;2;3;4</td>\n",
       "      <td>[1, 2, 3, 4]</td>\n",
       "      <td>[39.8, 39.8, 39.8, 39.8]</td>\n",
       "    </tr>\n",
       "    <tr>\n",
       "      <th>3</th>\n",
       "      <td>12-O</td>\n",
       "      <td>2-10</td>\n",
       "      <td>NR/LTE900</td>\n",
       "      <td>1;2;3;4</td>\n",
       "      <td>[1, 2]</td>\n",
       "      <td>[31.6, 31.6]</td>\n",
       "    </tr>\n",
       "    <tr>\n",
       "      <th>4</th>\n",
       "      <td>12-O</td>\n",
       "      <td>2-10</td>\n",
       "      <td>LTE1800</td>\n",
       "      <td>5;6;7;8;9;10;11;12</td>\n",
       "      <td>[9, 10, 11, 12]</td>\n",
       "      <td>[50.1, 50.1, 50.1, 50.1]</td>\n",
       "    </tr>\n",
       "    <tr>\n",
       "      <th>5</th>\n",
       "      <td>12-O</td>\n",
       "      <td>2-10</td>\n",
       "      <td>NR/LTE2100</td>\n",
       "      <td>5;6;7;8;9;10;11;12</td>\n",
       "      <td>[9, 10, 11, 12]</td>\n",
       "      <td>[31.6, 31.6, 31.6, 31.6]</td>\n",
       "    </tr>\n",
       "    <tr>\n",
       "      <th>6</th>\n",
       "      <td>12-O</td>\n",
       "      <td>2-10</td>\n",
       "      <td>LTE2600</td>\n",
       "      <td>5;6;7;8;9;10;11;12</td>\n",
       "      <td>[5, 6, 7, 8]</td>\n",
       "      <td>[31.6, 31.6, 31.6, 31.6]</td>\n",
       "    </tr>\n",
       "    <tr>\n",
       "      <th>7</th>\n",
       "      <td>12-O</td>\n",
       "      <td>2-10</td>\n",
       "      <td>LTE2300</td>\n",
       "      <td>5;6;7;8;9;10;11;12</td>\n",
       "      <td>[5, 6, 7, 8]</td>\n",
       "      <td>[31.6, 31.6, 31.6, 31.6]</td>\n",
       "    </tr>\n",
       "    <tr>\n",
       "      <th>8</th>\n",
       "      <td>12-O</td>\n",
       "      <td>2-10</td>\n",
       "      <td>WCDMA2100</td>\n",
       "      <td>5;6;7;8;9;10;11;12</td>\n",
       "      <td>[5]</td>\n",
       "      <td>[20.0]</td>\n",
       "    </tr>\n",
       "  </tbody>\n",
       "</table>\n",
       "</div>"
      ],
      "text/plain": [
       "     ID    EDT         Tech      Possible Ports  WhereToAddPower  \\\n",
       "1  12-O  2-10      WCDMA900             1;2;3;4              [3]   \n",
       "2  12-O  2-10        LTE700             1;2;3;4     [1, 2, 3, 4]   \n",
       "3  12-O  2-10     NR/LTE900             1;2;3;4           [1, 2]   \n",
       "4  12-O  2-10       LTE1800  5;6;7;8;9;10;11;12  [9, 10, 11, 12]   \n",
       "5  12-O  2-10    NR/LTE2100  5;6;7;8;9;10;11;12  [9, 10, 11, 12]   \n",
       "6  12-O  2-10       LTE2600  5;6;7;8;9;10;11;12     [5, 6, 7, 8]   \n",
       "7  12-O  2-10       LTE2300  5;6;7;8;9;10;11;12     [5, 6, 7, 8]   \n",
       "8  12-O  2-10     WCDMA2100  5;6;7;8;9;10;11;12              [5]   \n",
       "\n",
       "                 Powers (W)  \n",
       "1                    [20.0]  \n",
       "2  [39.8, 39.8, 39.8, 39.8]  \n",
       "3              [31.6, 31.6]  \n",
       "4  [50.1, 50.1, 50.1, 50.1]  \n",
       "5  [31.6, 31.6, 31.6, 31.6]  \n",
       "6  [31.6, 31.6, 31.6, 31.6]  \n",
       "7  [31.6, 31.6, 31.6, 31.6]  \n",
       "8                    [20.0]  "
      ]
     },
     "metadata": {},
     "output_type": "display_data"
    },
    {
     "name": "stdout",
     "output_type": "stream",
     "text": [
      "\u001b[1m14-O\n"
     ]
    },
    {
     "data": {
      "text/html": [
       "<div>\n",
       "<style scoped>\n",
       "    .dataframe tbody tr th:only-of-type {\n",
       "        vertical-align: middle;\n",
       "    }\n",
       "\n",
       "    .dataframe tbody tr th {\n",
       "        vertical-align: top;\n",
       "    }\n",
       "\n",
       "    .dataframe thead th {\n",
       "        text-align: right;\n",
       "    }\n",
       "</style>\n",
       "<table border=\"1\" class=\"dataframe\">\n",
       "  <thead>\n",
       "    <tr style=\"text-align: right;\">\n",
       "      <th></th>\n",
       "      <th>ID</th>\n",
       "      <th>EDT</th>\n",
       "      <th>Tech</th>\n",
       "      <th>Possible Ports</th>\n",
       "      <th>WhereToAddPower</th>\n",
       "      <th>Powers (W)</th>\n",
       "    </tr>\n",
       "  </thead>\n",
       "  <tbody>\n",
       "    <tr>\n",
       "      <th>9</th>\n",
       "      <td>14-O</td>\n",
       "      <td>3</td>\n",
       "      <td>NR3500</td>\n",
       "      <td>1;2</td>\n",
       "      <td>[1]</td>\n",
       "      <td>[50.1]</td>\n",
       "    </tr>\n",
       "  </tbody>\n",
       "</table>\n",
       "</div>"
      ],
      "text/plain": [
       "     ID EDT     Tech Possible Ports WhereToAddPower Powers (W)\n",
       "9  14-O  3    NR3500            1;2             [1]     [50.1]"
      ]
     },
     "metadata": {},
     "output_type": "display_data"
    },
    {
     "name": "stdout",
     "output_type": "stream",
     "text": [
      "\u001b[1m16-O\n"
     ]
    },
    {
     "data": {
      "text/html": [
       "<div>\n",
       "<style scoped>\n",
       "    .dataframe tbody tr th:only-of-type {\n",
       "        vertical-align: middle;\n",
       "    }\n",
       "\n",
       "    .dataframe tbody tr th {\n",
       "        vertical-align: top;\n",
       "    }\n",
       "\n",
       "    .dataframe thead th {\n",
       "        text-align: right;\n",
       "    }\n",
       "</style>\n",
       "<table border=\"1\" class=\"dataframe\">\n",
       "  <thead>\n",
       "    <tr style=\"text-align: right;\">\n",
       "      <th></th>\n",
       "      <th>ID</th>\n",
       "      <th>EDT</th>\n",
       "      <th>Tech</th>\n",
       "      <th>Possible Ports</th>\n",
       "      <th>WhereToAddPower</th>\n",
       "      <th>Powers (W)</th>\n",
       "    </tr>\n",
       "  </thead>\n",
       "  <tbody>\n",
       "    <tr>\n",
       "      <th>10</th>\n",
       "      <td>16-O</td>\n",
       "      <td>6</td>\n",
       "      <td>NR2300</td>\n",
       "      <td>1;2</td>\n",
       "      <td>[1]</td>\n",
       "      <td>[39.8]</td>\n",
       "    </tr>\n",
       "  </tbody>\n",
       "</table>\n",
       "</div>"
      ],
      "text/plain": [
       "      ID EDT     Tech Possible Ports WhereToAddPower Powers (W)\n",
       "10  16-O  6    NR2300            1;2             [1]     [39.8]"
      ]
     },
     "metadata": {},
     "output_type": "display_data"
    },
    {
     "name": "stdout",
     "output_type": "stream",
     "text": [
      "\u001b[1m22-O\n"
     ]
    },
    {
     "data": {
      "text/html": [
       "<div>\n",
       "<style scoped>\n",
       "    .dataframe tbody tr th:only-of-type {\n",
       "        vertical-align: middle;\n",
       "    }\n",
       "\n",
       "    .dataframe tbody tr th {\n",
       "        vertical-align: top;\n",
       "    }\n",
       "\n",
       "    .dataframe thead th {\n",
       "        text-align: right;\n",
       "    }\n",
       "</style>\n",
       "<table border=\"1\" class=\"dataframe\">\n",
       "  <thead>\n",
       "    <tr style=\"text-align: right;\">\n",
       "      <th></th>\n",
       "      <th>ID</th>\n",
       "      <th>EDT</th>\n",
       "      <th>Tech</th>\n",
       "      <th>Possible Ports</th>\n",
       "      <th>WhereToAddPower</th>\n",
       "      <th>Powers (W)</th>\n",
       "    </tr>\n",
       "  </thead>\n",
       "  <tbody>\n",
       "    <tr>\n",
       "      <th>11</th>\n",
       "      <td>22-O</td>\n",
       "      <td>2-10</td>\n",
       "      <td>WCDMA900</td>\n",
       "      <td>1;2;3;4</td>\n",
       "      <td>[3]</td>\n",
       "      <td>[20.0]</td>\n",
       "    </tr>\n",
       "    <tr>\n",
       "      <th>12</th>\n",
       "      <td>22-O</td>\n",
       "      <td>2-10</td>\n",
       "      <td>LTE700</td>\n",
       "      <td>1;2;3;4</td>\n",
       "      <td>[1, 2, 3, 4]</td>\n",
       "      <td>[39.8, 39.8, 39.8, 39.8]</td>\n",
       "    </tr>\n",
       "    <tr>\n",
       "      <th>13</th>\n",
       "      <td>22-O</td>\n",
       "      <td>2-10</td>\n",
       "      <td>NR/LTE900</td>\n",
       "      <td>1;2;3;4</td>\n",
       "      <td>[1, 2]</td>\n",
       "      <td>[31.6, 31.6]</td>\n",
       "    </tr>\n",
       "    <tr>\n",
       "      <th>14</th>\n",
       "      <td>22-O</td>\n",
       "      <td>2-10</td>\n",
       "      <td>LTE1800</td>\n",
       "      <td>5;6;7;8;9;10;11;12</td>\n",
       "      <td>[5, 6, 7, 8]</td>\n",
       "      <td>[50.1, 50.1, 50.1, 50.1]</td>\n",
       "    </tr>\n",
       "    <tr>\n",
       "      <th>15</th>\n",
       "      <td>22-O</td>\n",
       "      <td>2-10</td>\n",
       "      <td>NR/LTE2100</td>\n",
       "      <td>5;6;7;8;9;10;11;12</td>\n",
       "      <td>[5, 6, 7, 8]</td>\n",
       "      <td>[31.6, 31.6, 31.6, 31.6]</td>\n",
       "    </tr>\n",
       "    <tr>\n",
       "      <th>16</th>\n",
       "      <td>22-O</td>\n",
       "      <td>2-10</td>\n",
       "      <td>LTE2600</td>\n",
       "      <td>5;6;7;8;9;10;11;12</td>\n",
       "      <td>[5, 6, 7, 8]</td>\n",
       "      <td>[31.6, 31.6, 31.6, 31.6]</td>\n",
       "    </tr>\n",
       "    <tr>\n",
       "      <th>17</th>\n",
       "      <td>22-O</td>\n",
       "      <td>2-10</td>\n",
       "      <td>LTE2300</td>\n",
       "      <td>5;6;7;8;9;10;11;12</td>\n",
       "      <td>[9, 10, 11, 12]</td>\n",
       "      <td>[31.6, 31.6, 31.6, 31.6]</td>\n",
       "    </tr>\n",
       "    <tr>\n",
       "      <th>18</th>\n",
       "      <td>22-O</td>\n",
       "      <td>2-10</td>\n",
       "      <td>WCDMA2100</td>\n",
       "      <td>5;6;7;8;9;10;11;12</td>\n",
       "      <td>[9]</td>\n",
       "      <td>[20.0]</td>\n",
       "    </tr>\n",
       "  </tbody>\n",
       "</table>\n",
       "</div>"
      ],
      "text/plain": [
       "      ID    EDT         Tech      Possible Ports  WhereToAddPower  \\\n",
       "11  22-O  2-10      WCDMA900             1;2;3;4              [3]   \n",
       "12  22-O  2-10        LTE700             1;2;3;4     [1, 2, 3, 4]   \n",
       "13  22-O  2-10     NR/LTE900             1;2;3;4           [1, 2]   \n",
       "14  22-O  2-10       LTE1800  5;6;7;8;9;10;11;12     [5, 6, 7, 8]   \n",
       "15  22-O  2-10    NR/LTE2100  5;6;7;8;9;10;11;12     [5, 6, 7, 8]   \n",
       "16  22-O  2-10       LTE2600  5;6;7;8;9;10;11;12     [5, 6, 7, 8]   \n",
       "17  22-O  2-10       LTE2300  5;6;7;8;9;10;11;12  [9, 10, 11, 12]   \n",
       "18  22-O  2-10     WCDMA2100  5;6;7;8;9;10;11;12              [9]   \n",
       "\n",
       "                  Powers (W)  \n",
       "11                    [20.0]  \n",
       "12  [39.8, 39.8, 39.8, 39.8]  \n",
       "13              [31.6, 31.6]  \n",
       "14  [50.1, 50.1, 50.1, 50.1]  \n",
       "15  [31.6, 31.6, 31.6, 31.6]  \n",
       "16  [31.6, 31.6, 31.6, 31.6]  \n",
       "17  [31.6, 31.6, 31.6, 31.6]  \n",
       "18                    [20.0]  "
      ]
     },
     "metadata": {},
     "output_type": "display_data"
    },
    {
     "name": "stdout",
     "output_type": "stream",
     "text": [
      "\u001b[1m24-O\n"
     ]
    },
    {
     "data": {
      "text/html": [
       "<div>\n",
       "<style scoped>\n",
       "    .dataframe tbody tr th:only-of-type {\n",
       "        vertical-align: middle;\n",
       "    }\n",
       "\n",
       "    .dataframe tbody tr th {\n",
       "        vertical-align: top;\n",
       "    }\n",
       "\n",
       "    .dataframe thead th {\n",
       "        text-align: right;\n",
       "    }\n",
       "</style>\n",
       "<table border=\"1\" class=\"dataframe\">\n",
       "  <thead>\n",
       "    <tr style=\"text-align: right;\">\n",
       "      <th></th>\n",
       "      <th>ID</th>\n",
       "      <th>EDT</th>\n",
       "      <th>Tech</th>\n",
       "      <th>Possible Ports</th>\n",
       "      <th>WhereToAddPower</th>\n",
       "      <th>Powers (W)</th>\n",
       "    </tr>\n",
       "  </thead>\n",
       "  <tbody>\n",
       "    <tr>\n",
       "      <th>19</th>\n",
       "      <td>24-O</td>\n",
       "      <td>3</td>\n",
       "      <td>NR3500</td>\n",
       "      <td>1;2</td>\n",
       "      <td>[1]</td>\n",
       "      <td>[50.1]</td>\n",
       "    </tr>\n",
       "  </tbody>\n",
       "</table>\n",
       "</div>"
      ],
      "text/plain": [
       "      ID EDT     Tech Possible Ports WhereToAddPower Powers (W)\n",
       "19  24-O  3    NR3500            1;2             [1]     [50.1]"
      ]
     },
     "metadata": {},
     "output_type": "display_data"
    },
    {
     "name": "stdout",
     "output_type": "stream",
     "text": [
      "\u001b[1m26-O\n"
     ]
    },
    {
     "data": {
      "text/html": [
       "<div>\n",
       "<style scoped>\n",
       "    .dataframe tbody tr th:only-of-type {\n",
       "        vertical-align: middle;\n",
       "    }\n",
       "\n",
       "    .dataframe tbody tr th {\n",
       "        vertical-align: top;\n",
       "    }\n",
       "\n",
       "    .dataframe thead th {\n",
       "        text-align: right;\n",
       "    }\n",
       "</style>\n",
       "<table border=\"1\" class=\"dataframe\">\n",
       "  <thead>\n",
       "    <tr style=\"text-align: right;\">\n",
       "      <th></th>\n",
       "      <th>ID</th>\n",
       "      <th>EDT</th>\n",
       "      <th>Tech</th>\n",
       "      <th>Possible Ports</th>\n",
       "      <th>WhereToAddPower</th>\n",
       "      <th>Powers (W)</th>\n",
       "    </tr>\n",
       "  </thead>\n",
       "  <tbody>\n",
       "    <tr>\n",
       "      <th>20</th>\n",
       "      <td>26-O</td>\n",
       "      <td>6</td>\n",
       "      <td>NR2300</td>\n",
       "      <td>1;2</td>\n",
       "      <td>[1]</td>\n",
       "      <td>[39.8]</td>\n",
       "    </tr>\n",
       "  </tbody>\n",
       "</table>\n",
       "</div>"
      ],
      "text/plain": [
       "      ID EDT     Tech Possible Ports WhereToAddPower Powers (W)\n",
       "20  26-O  6    NR2300            1;2             [1]     [39.8]"
      ]
     },
     "metadata": {},
     "output_type": "display_data"
    },
    {
     "name": "stdout",
     "output_type": "stream",
     "text": [
      "\u001b[1m32-O\n"
     ]
    },
    {
     "data": {
      "text/html": [
       "<div>\n",
       "<style scoped>\n",
       "    .dataframe tbody tr th:only-of-type {\n",
       "        vertical-align: middle;\n",
       "    }\n",
       "\n",
       "    .dataframe tbody tr th {\n",
       "        vertical-align: top;\n",
       "    }\n",
       "\n",
       "    .dataframe thead th {\n",
       "        text-align: right;\n",
       "    }\n",
       "</style>\n",
       "<table border=\"1\" class=\"dataframe\">\n",
       "  <thead>\n",
       "    <tr style=\"text-align: right;\">\n",
       "      <th></th>\n",
       "      <th>ID</th>\n",
       "      <th>EDT</th>\n",
       "      <th>Tech</th>\n",
       "      <th>Possible Ports</th>\n",
       "      <th>WhereToAddPower</th>\n",
       "      <th>Powers (W)</th>\n",
       "    </tr>\n",
       "  </thead>\n",
       "  <tbody>\n",
       "    <tr>\n",
       "      <th>21</th>\n",
       "      <td>32-O</td>\n",
       "      <td>2-10</td>\n",
       "      <td>WCDMA900</td>\n",
       "      <td>1;2;3;4</td>\n",
       "      <td>[3]</td>\n",
       "      <td>[20.0]</td>\n",
       "    </tr>\n",
       "    <tr>\n",
       "      <th>22</th>\n",
       "      <td>32-O</td>\n",
       "      <td>2-10</td>\n",
       "      <td>LTE700</td>\n",
       "      <td>1;2;3;4</td>\n",
       "      <td>[1, 2, 3, 4]</td>\n",
       "      <td>[39.8, 39.8, 39.8, 39.8]</td>\n",
       "    </tr>\n",
       "    <tr>\n",
       "      <th>23</th>\n",
       "      <td>32-O</td>\n",
       "      <td>2-10</td>\n",
       "      <td>NR/LTE900</td>\n",
       "      <td>1;2;3;4</td>\n",
       "      <td>[1, 2]</td>\n",
       "      <td>[31.6, 31.6]</td>\n",
       "    </tr>\n",
       "    <tr>\n",
       "      <th>24</th>\n",
       "      <td>32-O</td>\n",
       "      <td>2-10</td>\n",
       "      <td>LTE1800</td>\n",
       "      <td>5;6;7;8;9;10;11;12</td>\n",
       "      <td>[9, 10, 11, 12]</td>\n",
       "      <td>[50.1, 50.1, 50.1, 50.1]</td>\n",
       "    </tr>\n",
       "    <tr>\n",
       "      <th>25</th>\n",
       "      <td>32-O</td>\n",
       "      <td>2-10</td>\n",
       "      <td>NR/LTE2100</td>\n",
       "      <td>5;6;7;8;9;10;11;12</td>\n",
       "      <td>[9, 10, 11, 12]</td>\n",
       "      <td>[31.6, 31.6, 31.6, 31.6]</td>\n",
       "    </tr>\n",
       "    <tr>\n",
       "      <th>26</th>\n",
       "      <td>32-O</td>\n",
       "      <td>2-10</td>\n",
       "      <td>LTE2600</td>\n",
       "      <td>5;6;7;8;9;10;11;12</td>\n",
       "      <td>[5, 6, 7, 8]</td>\n",
       "      <td>[31.6, 31.6, 31.6, 31.6]</td>\n",
       "    </tr>\n",
       "    <tr>\n",
       "      <th>27</th>\n",
       "      <td>32-O</td>\n",
       "      <td>2-10</td>\n",
       "      <td>LTE2300</td>\n",
       "      <td>5;6;7;8;9;10;11;12</td>\n",
       "      <td>[5, 6, 7, 8]</td>\n",
       "      <td>[31.6, 31.6, 31.6, 31.6]</td>\n",
       "    </tr>\n",
       "    <tr>\n",
       "      <th>28</th>\n",
       "      <td>32-O</td>\n",
       "      <td>2-10</td>\n",
       "      <td>WCDMA2100</td>\n",
       "      <td>5;6;7;8;9;10;11;12</td>\n",
       "      <td>[5]</td>\n",
       "      <td>[20.0]</td>\n",
       "    </tr>\n",
       "  </tbody>\n",
       "</table>\n",
       "</div>"
      ],
      "text/plain": [
       "      ID    EDT         Tech      Possible Ports  WhereToAddPower  \\\n",
       "21  32-O  2-10      WCDMA900             1;2;3;4              [3]   \n",
       "22  32-O  2-10        LTE700             1;2;3;4     [1, 2, 3, 4]   \n",
       "23  32-O  2-10     NR/LTE900             1;2;3;4           [1, 2]   \n",
       "24  32-O  2-10       LTE1800  5;6;7;8;9;10;11;12  [9, 10, 11, 12]   \n",
       "25  32-O  2-10    NR/LTE2100  5;6;7;8;9;10;11;12  [9, 10, 11, 12]   \n",
       "26  32-O  2-10       LTE2600  5;6;7;8;9;10;11;12     [5, 6, 7, 8]   \n",
       "27  32-O  2-10       LTE2300  5;6;7;8;9;10;11;12     [5, 6, 7, 8]   \n",
       "28  32-O  2-10     WCDMA2100  5;6;7;8;9;10;11;12              [5]   \n",
       "\n",
       "                  Powers (W)  \n",
       "21                    [20.0]  \n",
       "22  [39.8, 39.8, 39.8, 39.8]  \n",
       "23              [31.6, 31.6]  \n",
       "24  [50.1, 50.1, 50.1, 50.1]  \n",
       "25  [31.6, 31.6, 31.6, 31.6]  \n",
       "26  [31.6, 31.6, 31.6, 31.6]  \n",
       "27  [31.6, 31.6, 31.6, 31.6]  \n",
       "28                    [20.0]  "
      ]
     },
     "metadata": {},
     "output_type": "display_data"
    },
    {
     "name": "stdout",
     "output_type": "stream",
     "text": [
      "\u001b[1m34-O\n"
     ]
    },
    {
     "data": {
      "text/html": [
       "<div>\n",
       "<style scoped>\n",
       "    .dataframe tbody tr th:only-of-type {\n",
       "        vertical-align: middle;\n",
       "    }\n",
       "\n",
       "    .dataframe tbody tr th {\n",
       "        vertical-align: top;\n",
       "    }\n",
       "\n",
       "    .dataframe thead th {\n",
       "        text-align: right;\n",
       "    }\n",
       "</style>\n",
       "<table border=\"1\" class=\"dataframe\">\n",
       "  <thead>\n",
       "    <tr style=\"text-align: right;\">\n",
       "      <th></th>\n",
       "      <th>ID</th>\n",
       "      <th>EDT</th>\n",
       "      <th>Tech</th>\n",
       "      <th>Possible Ports</th>\n",
       "      <th>WhereToAddPower</th>\n",
       "      <th>Powers (W)</th>\n",
       "    </tr>\n",
       "  </thead>\n",
       "  <tbody>\n",
       "    <tr>\n",
       "      <th>29</th>\n",
       "      <td>34-O</td>\n",
       "      <td>3</td>\n",
       "      <td>NR3500</td>\n",
       "      <td>1;2</td>\n",
       "      <td>[1]</td>\n",
       "      <td>[50.1]</td>\n",
       "    </tr>\n",
       "  </tbody>\n",
       "</table>\n",
       "</div>"
      ],
      "text/plain": [
       "      ID EDT     Tech Possible Ports WhereToAddPower Powers (W)\n",
       "29  34-O  3    NR3500            1;2             [1]     [50.1]"
      ]
     },
     "metadata": {},
     "output_type": "display_data"
    },
    {
     "name": "stdout",
     "output_type": "stream",
     "text": [
      "\u001b[1m36-O\n"
     ]
    },
    {
     "data": {
      "text/html": [
       "<div>\n",
       "<style scoped>\n",
       "    .dataframe tbody tr th:only-of-type {\n",
       "        vertical-align: middle;\n",
       "    }\n",
       "\n",
       "    .dataframe tbody tr th {\n",
       "        vertical-align: top;\n",
       "    }\n",
       "\n",
       "    .dataframe thead th {\n",
       "        text-align: right;\n",
       "    }\n",
       "</style>\n",
       "<table border=\"1\" class=\"dataframe\">\n",
       "  <thead>\n",
       "    <tr style=\"text-align: right;\">\n",
       "      <th></th>\n",
       "      <th>ID</th>\n",
       "      <th>EDT</th>\n",
       "      <th>Tech</th>\n",
       "      <th>Possible Ports</th>\n",
       "      <th>WhereToAddPower</th>\n",
       "      <th>Powers (W)</th>\n",
       "    </tr>\n",
       "  </thead>\n",
       "  <tbody>\n",
       "    <tr>\n",
       "      <th>30</th>\n",
       "      <td>36-O</td>\n",
       "      <td>6</td>\n",
       "      <td>NR2300</td>\n",
       "      <td>1;2</td>\n",
       "      <td>[1]</td>\n",
       "      <td>[39.8]</td>\n",
       "    </tr>\n",
       "  </tbody>\n",
       "</table>\n",
       "</div>"
      ],
      "text/plain": [
       "      ID EDT     Tech Possible Ports WhereToAddPower Powers (W)\n",
       "30  36-O  6    NR2300            1;2             [1]     [39.8]"
      ]
     },
     "metadata": {},
     "output_type": "display_data"
    },
    {
     "name": "stdout",
     "output_type": "stream",
     "text": [
      "\u001b[1mA11\n"
     ]
    },
    {
     "data": {
      "text/html": [
       "<div>\n",
       "<style scoped>\n",
       "    .dataframe tbody tr th:only-of-type {\n",
       "        vertical-align: middle;\n",
       "    }\n",
       "\n",
       "    .dataframe tbody tr th {\n",
       "        vertical-align: top;\n",
       "    }\n",
       "\n",
       "    .dataframe thead th {\n",
       "        text-align: right;\n",
       "    }\n",
       "</style>\n",
       "<table border=\"1\" class=\"dataframe\">\n",
       "  <thead>\n",
       "    <tr style=\"text-align: right;\">\n",
       "      <th></th>\n",
       "      <th>ID</th>\n",
       "      <th>EDT</th>\n",
       "      <th>Tech</th>\n",
       "      <th>Possible Ports</th>\n",
       "      <th>WhereToAddPower</th>\n",
       "      <th>Powers (W)</th>\n",
       "    </tr>\n",
       "  </thead>\n",
       "  <tbody>\n",
       "    <tr>\n",
       "      <th>31</th>\n",
       "      <td>A11</td>\n",
       "      <td>0-10</td>\n",
       "      <td>WCDMA850</td>\n",
       "      <td>1;2</td>\n",
       "      <td>[1, 2]</td>\n",
       "      <td>[31.6, 31.6]</td>\n",
       "    </tr>\n",
       "    <tr>\n",
       "      <th>32</th>\n",
       "      <td>A11</td>\n",
       "      <td>0-10</td>\n",
       "      <td>LTE2100</td>\n",
       "      <td>3;4;5;6;7;8;9;10</td>\n",
       "      <td>[7, 8, 9, 10]</td>\n",
       "      <td>[31.6, 31.6, 31.6, 31.6]</td>\n",
       "    </tr>\n",
       "    <tr>\n",
       "      <th>33</th>\n",
       "      <td>A11</td>\n",
       "      <td>0-10</td>\n",
       "      <td>LTE1800</td>\n",
       "      <td>3;4;5;6;7;8;9;10</td>\n",
       "      <td>[3, 4, 5, 6]</td>\n",
       "      <td>[31.6, 31.6, 31.6, 31.6]</td>\n",
       "    </tr>\n",
       "  </tbody>\n",
       "</table>\n",
       "</div>"
      ],
      "text/plain": [
       "     ID    EDT       Tech    Possible Ports WhereToAddPower  \\\n",
       "31  A11  0-10    WCDMA850               1;2          [1, 2]   \n",
       "32  A11  0-10     LTE2100  3;4;5;6;7;8;9;10   [7, 8, 9, 10]   \n",
       "33  A11  0-10     LTE1800  3;4;5;6;7;8;9;10    [3, 4, 5, 6]   \n",
       "\n",
       "                  Powers (W)  \n",
       "31              [31.6, 31.6]  \n",
       "32  [31.6, 31.6, 31.6, 31.6]  \n",
       "33  [31.6, 31.6, 31.6, 31.6]  "
      ]
     },
     "metadata": {},
     "output_type": "display_data"
    },
    {
     "name": "stdout",
     "output_type": "stream",
     "text": [
      "\u001b[1mA15\n"
     ]
    },
    {
     "data": {
      "text/html": [
       "<div>\n",
       "<style scoped>\n",
       "    .dataframe tbody tr th:only-of-type {\n",
       "        vertical-align: middle;\n",
       "    }\n",
       "\n",
       "    .dataframe tbody tr th {\n",
       "        vertical-align: top;\n",
       "    }\n",
       "\n",
       "    .dataframe thead th {\n",
       "        text-align: right;\n",
       "    }\n",
       "</style>\n",
       "<table border=\"1\" class=\"dataframe\">\n",
       "  <thead>\n",
       "    <tr style=\"text-align: right;\">\n",
       "      <th></th>\n",
       "      <th>ID</th>\n",
       "      <th>EDT</th>\n",
       "      <th>Tech</th>\n",
       "      <th>Possible Ports</th>\n",
       "      <th>WhereToAddPower</th>\n",
       "      <th>Powers (W)</th>\n",
       "    </tr>\n",
       "  </thead>\n",
       "  <tbody>\n",
       "    <tr>\n",
       "      <th>34</th>\n",
       "      <td>A15</td>\n",
       "      <td>0-10</td>\n",
       "      <td>LTE2600</td>\n",
       "      <td>3;4;5;6</td>\n",
       "      <td>[3, 4, 5, 6]</td>\n",
       "      <td>[31.6, 31.6, 31.6, 31.6]</td>\n",
       "    </tr>\n",
       "    <tr>\n",
       "      <th>35</th>\n",
       "      <td>A15</td>\n",
       "      <td>0-10</td>\n",
       "      <td>LTE700</td>\n",
       "      <td>1;2</td>\n",
       "      <td>[1, 2]</td>\n",
       "      <td>[50.1, 50.1]</td>\n",
       "    </tr>\n",
       "  </tbody>\n",
       "</table>\n",
       "</div>"
      ],
      "text/plain": [
       "     ID    EDT      Tech Possible Ports WhereToAddPower  \\\n",
       "34  A15  0-10    LTE2600        3;4;5;6    [3, 4, 5, 6]   \n",
       "35  A15  0-10     LTE700            1;2          [1, 2]   \n",
       "\n",
       "                  Powers (W)  \n",
       "34  [31.6, 31.6, 31.6, 31.6]  \n",
       "35              [50.1, 50.1]  "
      ]
     },
     "metadata": {},
     "output_type": "display_data"
    },
    {
     "name": "stdout",
     "output_type": "stream",
     "text": [
      "\u001b[1mA17\n"
     ]
    },
    {
     "data": {
      "text/html": [
       "<div>\n",
       "<style scoped>\n",
       "    .dataframe tbody tr th:only-of-type {\n",
       "        vertical-align: middle;\n",
       "    }\n",
       "\n",
       "    .dataframe tbody tr th {\n",
       "        vertical-align: top;\n",
       "    }\n",
       "\n",
       "    .dataframe thead th {\n",
       "        text-align: right;\n",
       "    }\n",
       "</style>\n",
       "<table border=\"1\" class=\"dataframe\">\n",
       "  <thead>\n",
       "    <tr style=\"text-align: right;\">\n",
       "      <th></th>\n",
       "      <th>ID</th>\n",
       "      <th>EDT</th>\n",
       "      <th>Tech</th>\n",
       "      <th>Possible Ports</th>\n",
       "      <th>WhereToAddPower</th>\n",
       "      <th>Powers (W)</th>\n",
       "    </tr>\n",
       "  </thead>\n",
       "  <tbody>\n",
       "    <tr>\n",
       "      <th>36</th>\n",
       "      <td>A17</td>\n",
       "      <td>0-10</td>\n",
       "      <td>WCDMA850</td>\n",
       "      <td>1;2</td>\n",
       "      <td>[1, 2]</td>\n",
       "      <td>[31.6, 31.6]</td>\n",
       "    </tr>\n",
       "    <tr>\n",
       "      <th>37</th>\n",
       "      <td>A17</td>\n",
       "      <td>0-10</td>\n",
       "      <td>LTE2100</td>\n",
       "      <td>3;4;5;6;7;8;9;10</td>\n",
       "      <td>[7, 8, 9, 10]</td>\n",
       "      <td>[31.6, 31.6, 31.6, 31.6]</td>\n",
       "    </tr>\n",
       "    <tr>\n",
       "      <th>38</th>\n",
       "      <td>A17</td>\n",
       "      <td>0-10</td>\n",
       "      <td>LTE1800</td>\n",
       "      <td>3;4;5;6;7;8;9;10</td>\n",
       "      <td>[3, 4, 5, 6]</td>\n",
       "      <td>[31.6, 31.6, 31.6, 31.6]</td>\n",
       "    </tr>\n",
       "  </tbody>\n",
       "</table>\n",
       "</div>"
      ],
      "text/plain": [
       "     ID    EDT       Tech    Possible Ports WhereToAddPower  \\\n",
       "36  A17  0-10    WCDMA850               1;2          [1, 2]   \n",
       "37  A17  0-10     LTE2100  3;4;5;6;7;8;9;10   [7, 8, 9, 10]   \n",
       "38  A17  0-10     LTE1800  3;4;5;6;7;8;9;10    [3, 4, 5, 6]   \n",
       "\n",
       "                  Powers (W)  \n",
       "36              [31.6, 31.6]  \n",
       "37  [31.6, 31.6, 31.6, 31.6]  \n",
       "38  [31.6, 31.6, 31.6, 31.6]  "
      ]
     },
     "metadata": {},
     "output_type": "display_data"
    },
    {
     "name": "stdout",
     "output_type": "stream",
     "text": [
      "\u001b[1mA2\n"
     ]
    },
    {
     "data": {
      "text/html": [
       "<div>\n",
       "<style scoped>\n",
       "    .dataframe tbody tr th:only-of-type {\n",
       "        vertical-align: middle;\n",
       "    }\n",
       "\n",
       "    .dataframe tbody tr th {\n",
       "        vertical-align: top;\n",
       "    }\n",
       "\n",
       "    .dataframe thead th {\n",
       "        text-align: right;\n",
       "    }\n",
       "</style>\n",
       "<table border=\"1\" class=\"dataframe\">\n",
       "  <thead>\n",
       "    <tr style=\"text-align: right;\">\n",
       "      <th></th>\n",
       "      <th>ID</th>\n",
       "      <th>EDT</th>\n",
       "      <th>Tech</th>\n",
       "      <th>Possible Ports</th>\n",
       "      <th>WhereToAddPower</th>\n",
       "      <th>Powers (W)</th>\n",
       "    </tr>\n",
       "  </thead>\n",
       "  <tbody>\n",
       "    <tr>\n",
       "      <th>39</th>\n",
       "      <td>A2</td>\n",
       "      <td>3</td>\n",
       "      <td>NR3500</td>\n",
       "      <td>1;2</td>\n",
       "      <td>[1, 2]</td>\n",
       "      <td>[50.1, 50.1]</td>\n",
       "    </tr>\n",
       "  </tbody>\n",
       "</table>\n",
       "</div>"
      ],
      "text/plain": [
       "    ID EDT     Tech Possible Ports WhereToAddPower    Powers (W)\n",
       "39  A2  3    NR3500            1;2          [1, 2]  [50.1, 50.1]"
      ]
     },
     "metadata": {},
     "output_type": "display_data"
    },
    {
     "name": "stdout",
     "output_type": "stream",
     "text": [
      "\u001b[1mA3\n"
     ]
    },
    {
     "data": {
      "text/html": [
       "<div>\n",
       "<style scoped>\n",
       "    .dataframe tbody tr th:only-of-type {\n",
       "        vertical-align: middle;\n",
       "    }\n",
       "\n",
       "    .dataframe tbody tr th {\n",
       "        vertical-align: top;\n",
       "    }\n",
       "\n",
       "    .dataframe thead th {\n",
       "        text-align: right;\n",
       "    }\n",
       "</style>\n",
       "<table border=\"1\" class=\"dataframe\">\n",
       "  <thead>\n",
       "    <tr style=\"text-align: right;\">\n",
       "      <th></th>\n",
       "      <th>ID</th>\n",
       "      <th>EDT</th>\n",
       "      <th>Tech</th>\n",
       "      <th>Possible Ports</th>\n",
       "      <th>WhereToAddPower</th>\n",
       "      <th>Powers (W)</th>\n",
       "    </tr>\n",
       "  </thead>\n",
       "  <tbody>\n",
       "    <tr>\n",
       "      <th>40</th>\n",
       "      <td>A3</td>\n",
       "      <td>0-10</td>\n",
       "      <td>LTE2600</td>\n",
       "      <td>3;4;5;6</td>\n",
       "      <td>[3, 4, 5, 6]</td>\n",
       "      <td>[31.6, 31.6, 31.6, 31.6]</td>\n",
       "    </tr>\n",
       "    <tr>\n",
       "      <th>41</th>\n",
       "      <td>A3</td>\n",
       "      <td>0-10</td>\n",
       "      <td>LTE700</td>\n",
       "      <td>1;2</td>\n",
       "      <td>[1, 2]</td>\n",
       "      <td>[50.1, 50.1]</td>\n",
       "    </tr>\n",
       "  </tbody>\n",
       "</table>\n",
       "</div>"
      ],
      "text/plain": [
       "    ID    EDT      Tech Possible Ports WhereToAddPower  \\\n",
       "40  A3  0-10    LTE2600        3;4;5;6    [3, 4, 5, 6]   \n",
       "41  A3  0-10     LTE700            1;2          [1, 2]   \n",
       "\n",
       "                  Powers (W)  \n",
       "40  [31.6, 31.6, 31.6, 31.6]  \n",
       "41              [50.1, 50.1]  "
      ]
     },
     "metadata": {},
     "output_type": "display_data"
    },
    {
     "name": "stdout",
     "output_type": "stream",
     "text": [
      "\u001b[1mA5\n"
     ]
    },
    {
     "data": {
      "text/html": [
       "<div>\n",
       "<style scoped>\n",
       "    .dataframe tbody tr th:only-of-type {\n",
       "        vertical-align: middle;\n",
       "    }\n",
       "\n",
       "    .dataframe tbody tr th {\n",
       "        vertical-align: top;\n",
       "    }\n",
       "\n",
       "    .dataframe thead th {\n",
       "        text-align: right;\n",
       "    }\n",
       "</style>\n",
       "<table border=\"1\" class=\"dataframe\">\n",
       "  <thead>\n",
       "    <tr style=\"text-align: right;\">\n",
       "      <th></th>\n",
       "      <th>ID</th>\n",
       "      <th>EDT</th>\n",
       "      <th>Tech</th>\n",
       "      <th>Possible Ports</th>\n",
       "      <th>WhereToAddPower</th>\n",
       "      <th>Powers (W)</th>\n",
       "    </tr>\n",
       "  </thead>\n",
       "  <tbody>\n",
       "    <tr>\n",
       "      <th>42</th>\n",
       "      <td>A5</td>\n",
       "      <td>0-10</td>\n",
       "      <td>WCDMA850</td>\n",
       "      <td>1;2</td>\n",
       "      <td>[1, 2]</td>\n",
       "      <td>[31.6, 31.6]</td>\n",
       "    </tr>\n",
       "    <tr>\n",
       "      <th>43</th>\n",
       "      <td>A5</td>\n",
       "      <td>0-10</td>\n",
       "      <td>LTE2100</td>\n",
       "      <td>3;4;5;6;7;8;9;10</td>\n",
       "      <td>[7, 8, 9, 10]</td>\n",
       "      <td>[31.6, 31.6, 31.6, 31.6]</td>\n",
       "    </tr>\n",
       "    <tr>\n",
       "      <th>44</th>\n",
       "      <td>A5</td>\n",
       "      <td>0-10</td>\n",
       "      <td>LTE1800</td>\n",
       "      <td>3;4;5;6;7;8;9;10</td>\n",
       "      <td>[3, 4, 5, 6]</td>\n",
       "      <td>[31.6, 31.6, 31.6, 31.6]</td>\n",
       "    </tr>\n",
       "  </tbody>\n",
       "</table>\n",
       "</div>"
      ],
      "text/plain": [
       "    ID    EDT       Tech    Possible Ports WhereToAddPower  \\\n",
       "42  A5  0-10    WCDMA850               1;2          [1, 2]   \n",
       "43  A5  0-10     LTE2100  3;4;5;6;7;8;9;10   [7, 8, 9, 10]   \n",
       "44  A5  0-10     LTE1800  3;4;5;6;7;8;9;10    [3, 4, 5, 6]   \n",
       "\n",
       "                  Powers (W)  \n",
       "42              [31.6, 31.6]  \n",
       "43  [31.6, 31.6, 31.6, 31.6]  \n",
       "44  [31.6, 31.6, 31.6, 31.6]  "
      ]
     },
     "metadata": {},
     "output_type": "display_data"
    },
    {
     "name": "stdout",
     "output_type": "stream",
     "text": [
      "\u001b[1mA6\n"
     ]
    },
    {
     "data": {
      "text/html": [
       "<div>\n",
       "<style scoped>\n",
       "    .dataframe tbody tr th:only-of-type {\n",
       "        vertical-align: middle;\n",
       "    }\n",
       "\n",
       "    .dataframe tbody tr th {\n",
       "        vertical-align: top;\n",
       "    }\n",
       "\n",
       "    .dataframe thead th {\n",
       "        text-align: right;\n",
       "    }\n",
       "</style>\n",
       "<table border=\"1\" class=\"dataframe\">\n",
       "  <thead>\n",
       "    <tr style=\"text-align: right;\">\n",
       "      <th></th>\n",
       "      <th>ID</th>\n",
       "      <th>EDT</th>\n",
       "      <th>Tech</th>\n",
       "      <th>Possible Ports</th>\n",
       "      <th>WhereToAddPower</th>\n",
       "      <th>Powers (W)</th>\n",
       "    </tr>\n",
       "  </thead>\n",
       "  <tbody>\n",
       "    <tr>\n",
       "      <th>45</th>\n",
       "      <td>A6</td>\n",
       "      <td>3</td>\n",
       "      <td>NR3500</td>\n",
       "      <td>1;2</td>\n",
       "      <td>[1, 2]</td>\n",
       "      <td>[50.1, 50.1]</td>\n",
       "    </tr>\n",
       "  </tbody>\n",
       "</table>\n",
       "</div>"
      ],
      "text/plain": [
       "    ID EDT     Tech Possible Ports WhereToAddPower    Powers (W)\n",
       "45  A6  3    NR3500            1;2          [1, 2]  [50.1, 50.1]"
      ]
     },
     "metadata": {},
     "output_type": "display_data"
    },
    {
     "name": "stdout",
     "output_type": "stream",
     "text": [
      "\u001b[1mA7\n"
     ]
    },
    {
     "data": {
      "text/html": [
       "<div>\n",
       "<style scoped>\n",
       "    .dataframe tbody tr th:only-of-type {\n",
       "        vertical-align: middle;\n",
       "    }\n",
       "\n",
       "    .dataframe tbody tr th {\n",
       "        vertical-align: top;\n",
       "    }\n",
       "\n",
       "    .dataframe thead th {\n",
       "        text-align: right;\n",
       "    }\n",
       "</style>\n",
       "<table border=\"1\" class=\"dataframe\">\n",
       "  <thead>\n",
       "    <tr style=\"text-align: right;\">\n",
       "      <th></th>\n",
       "      <th>ID</th>\n",
       "      <th>EDT</th>\n",
       "      <th>Tech</th>\n",
       "      <th>Possible Ports</th>\n",
       "      <th>WhereToAddPower</th>\n",
       "      <th>Powers (W)</th>\n",
       "    </tr>\n",
       "  </thead>\n",
       "  <tbody>\n",
       "    <tr>\n",
       "      <th>46</th>\n",
       "      <td>A7</td>\n",
       "      <td>3</td>\n",
       "      <td>NR3500</td>\n",
       "      <td>1;2</td>\n",
       "      <td>[1, 2]</td>\n",
       "      <td>[50.1, 50.1]</td>\n",
       "    </tr>\n",
       "  </tbody>\n",
       "</table>\n",
       "</div>"
      ],
      "text/plain": [
       "    ID EDT     Tech Possible Ports WhereToAddPower    Powers (W)\n",
       "46  A7  3    NR3500            1;2          [1, 2]  [50.1, 50.1]"
      ]
     },
     "metadata": {},
     "output_type": "display_data"
    },
    {
     "name": "stdout",
     "output_type": "stream",
     "text": [
      "\u001b[1mA9\n"
     ]
    },
    {
     "data": {
      "text/html": [
       "<div>\n",
       "<style scoped>\n",
       "    .dataframe tbody tr th:only-of-type {\n",
       "        vertical-align: middle;\n",
       "    }\n",
       "\n",
       "    .dataframe tbody tr th {\n",
       "        vertical-align: top;\n",
       "    }\n",
       "\n",
       "    .dataframe thead th {\n",
       "        text-align: right;\n",
       "    }\n",
       "</style>\n",
       "<table border=\"1\" class=\"dataframe\">\n",
       "  <thead>\n",
       "    <tr style=\"text-align: right;\">\n",
       "      <th></th>\n",
       "      <th>ID</th>\n",
       "      <th>EDT</th>\n",
       "      <th>Tech</th>\n",
       "      <th>Possible Ports</th>\n",
       "      <th>WhereToAddPower</th>\n",
       "      <th>Powers (W)</th>\n",
       "    </tr>\n",
       "  </thead>\n",
       "  <tbody>\n",
       "    <tr>\n",
       "      <th>47</th>\n",
       "      <td>A9</td>\n",
       "      <td>0-10</td>\n",
       "      <td>LTE2600</td>\n",
       "      <td>3;4;5;6</td>\n",
       "      <td>[3, 4, 5, 6]</td>\n",
       "      <td>[31.6, 31.6, 31.6, 31.6]</td>\n",
       "    </tr>\n",
       "    <tr>\n",
       "      <th>48</th>\n",
       "      <td>A9</td>\n",
       "      <td>0-10</td>\n",
       "      <td>LTE700</td>\n",
       "      <td>1;2</td>\n",
       "      <td>[1, 2]</td>\n",
       "      <td>[50.1, 50.1]</td>\n",
       "    </tr>\n",
       "  </tbody>\n",
       "</table>\n",
       "</div>"
      ],
      "text/plain": [
       "    ID    EDT      Tech Possible Ports WhereToAddPower  \\\n",
       "47  A9  0-10    LTE2600        3;4;5;6    [3, 4, 5, 6]   \n",
       "48  A9  0-10     LTE700            1;2          [1, 2]   \n",
       "\n",
       "                  Powers (W)  \n",
       "47  [31.6, 31.6, 31.6, 31.6]  \n",
       "48              [50.1, 50.1]  "
      ]
     },
     "metadata": {},
     "output_type": "display_data"
    },
    {
     "name": "stdout",
     "output_type": "stream",
     "text": [
      "\u001b[1m11-V\n"
     ]
    },
    {
     "data": {
      "text/html": [
       "<div>\n",
       "<style scoped>\n",
       "    .dataframe tbody tr th:only-of-type {\n",
       "        vertical-align: middle;\n",
       "    }\n",
       "\n",
       "    .dataframe tbody tr th {\n",
       "        vertical-align: top;\n",
       "    }\n",
       "\n",
       "    .dataframe thead th {\n",
       "        text-align: right;\n",
       "    }\n",
       "</style>\n",
       "<table border=\"1\" class=\"dataframe\">\n",
       "  <thead>\n",
       "    <tr style=\"text-align: right;\">\n",
       "      <th></th>\n",
       "      <th>ID</th>\n",
       "      <th>EDT</th>\n",
       "      <th>Tech</th>\n",
       "      <th>Possible Ports</th>\n",
       "      <th>WhereToAddPower</th>\n",
       "      <th>Powers (W)</th>\n",
       "    </tr>\n",
       "  </thead>\n",
       "  <tbody>\n",
       "    <tr>\n",
       "      <th>49</th>\n",
       "      <td>11-V</td>\n",
       "      <td>2-12</td>\n",
       "      <td>NR/LTE700</td>\n",
       "      <td>1;2;3;4</td>\n",
       "      <td>[1, 2, 3, 4]</td>\n",
       "      <td>[47.6, 47.6, 47.6, 47.6]</td>\n",
       "    </tr>\n",
       "    <tr>\n",
       "      <th>50</th>\n",
       "      <td>11-V</td>\n",
       "      <td>2-12</td>\n",
       "      <td>NR/LTE1800</td>\n",
       "      <td>5;6;7;8;9;10;11;12</td>\n",
       "      <td>[5, 6, 7, 8, 9, 10, 11, 12]</td>\n",
       "      <td>[47.6, 47.6, 47.6, 47.6, 47.6, 47.6, 47.6, 47.6]</td>\n",
       "    </tr>\n",
       "    <tr>\n",
       "      <th>51</th>\n",
       "      <td>11-V</td>\n",
       "      <td>2-12</td>\n",
       "      <td>WCDMA900</td>\n",
       "      <td>1;2;3;4</td>\n",
       "      <td>[3, 4]</td>\n",
       "      <td>[47.6, 47.6]</td>\n",
       "    </tr>\n",
       "    <tr>\n",
       "      <th>52</th>\n",
       "      <td>11-V</td>\n",
       "      <td>2-12</td>\n",
       "      <td>NR/LTE850</td>\n",
       "      <td>1;2;3;4</td>\n",
       "      <td>[1, 2, 3, 4]</td>\n",
       "      <td>[47.6, 47.6, 47.6, 47.6]</td>\n",
       "    </tr>\n",
       "    <tr>\n",
       "      <th>53</th>\n",
       "      <td>11-V</td>\n",
       "      <td>2-12</td>\n",
       "      <td>NR/LTE2100</td>\n",
       "      <td>5;6;7;8;9;10;11;12</td>\n",
       "      <td>[5, 6, 7, 8, 9, 10, 11, 12]</td>\n",
       "      <td>[47.6, 47.6, 47.6, 47.6, 47.6, 47.6, 47.6, 47.6]</td>\n",
       "    </tr>\n",
       "    <tr>\n",
       "      <th>54</th>\n",
       "      <td>11-V</td>\n",
       "      <td>2-12</td>\n",
       "      <td>NB-IOT900</td>\n",
       "      <td>1;2;3;4</td>\n",
       "      <td>[3, 4]</td>\n",
       "      <td>[15.9, 15.9]</td>\n",
       "    </tr>\n",
       "  </tbody>\n",
       "</table>\n",
       "</div>"
      ],
      "text/plain": [
       "      ID    EDT         Tech      Possible Ports              WhereToAddPower  \\\n",
       "49  11-V  2-12     NR/LTE700             1;2;3;4                 [1, 2, 3, 4]   \n",
       "50  11-V  2-12    NR/LTE1800  5;6;7;8;9;10;11;12  [5, 6, 7, 8, 9, 10, 11, 12]   \n",
       "51  11-V  2-12      WCDMA900             1;2;3;4                       [3, 4]   \n",
       "52  11-V  2-12     NR/LTE850             1;2;3;4                 [1, 2, 3, 4]   \n",
       "53  11-V  2-12    NR/LTE2100  5;6;7;8;9;10;11;12  [5, 6, 7, 8, 9, 10, 11, 12]   \n",
       "54  11-V  2-12     NB-IOT900             1;2;3;4                       [3, 4]   \n",
       "\n",
       "                                          Powers (W)  \n",
       "49                          [47.6, 47.6, 47.6, 47.6]  \n",
       "50  [47.6, 47.6, 47.6, 47.6, 47.6, 47.6, 47.6, 47.6]  \n",
       "51                                      [47.6, 47.6]  \n",
       "52                          [47.6, 47.6, 47.6, 47.6]  \n",
       "53  [47.6, 47.6, 47.6, 47.6, 47.6, 47.6, 47.6, 47.6]  \n",
       "54                                      [15.9, 15.9]  "
      ]
     },
     "metadata": {},
     "output_type": "display_data"
    },
    {
     "name": "stdout",
     "output_type": "stream",
     "text": [
      "\u001b[1m13-V\n"
     ]
    },
    {
     "data": {
      "text/html": [
       "<div>\n",
       "<style scoped>\n",
       "    .dataframe tbody tr th:only-of-type {\n",
       "        vertical-align: middle;\n",
       "    }\n",
       "\n",
       "    .dataframe tbody tr th {\n",
       "        vertical-align: top;\n",
       "    }\n",
       "\n",
       "    .dataframe thead th {\n",
       "        text-align: right;\n",
       "    }\n",
       "</style>\n",
       "<table border=\"1\" class=\"dataframe\">\n",
       "  <thead>\n",
       "    <tr style=\"text-align: right;\">\n",
       "      <th></th>\n",
       "      <th>ID</th>\n",
       "      <th>EDT</th>\n",
       "      <th>Tech</th>\n",
       "      <th>Possible Ports</th>\n",
       "      <th>WhereToAddPower</th>\n",
       "      <th>Powers (W)</th>\n",
       "    </tr>\n",
       "  </thead>\n",
       "  <tbody>\n",
       "    <tr>\n",
       "      <th>55</th>\n",
       "      <td>13-V</td>\n",
       "      <td>6</td>\n",
       "      <td>NR3500</td>\n",
       "      <td>1;2</td>\n",
       "      <td>[1]</td>\n",
       "      <td>[50.1]</td>\n",
       "    </tr>\n",
       "  </tbody>\n",
       "</table>\n",
       "</div>"
      ],
      "text/plain": [
       "      ID EDT     Tech Possible Ports WhereToAddPower Powers (W)\n",
       "55  13-V  6    NR3500            1;2             [1]     [50.1]"
      ]
     },
     "metadata": {},
     "output_type": "display_data"
    },
    {
     "name": "stdout",
     "output_type": "stream",
     "text": [
      "\u001b[1m21-V\n"
     ]
    },
    {
     "data": {
      "text/html": [
       "<div>\n",
       "<style scoped>\n",
       "    .dataframe tbody tr th:only-of-type {\n",
       "        vertical-align: middle;\n",
       "    }\n",
       "\n",
       "    .dataframe tbody tr th {\n",
       "        vertical-align: top;\n",
       "    }\n",
       "\n",
       "    .dataframe thead th {\n",
       "        text-align: right;\n",
       "    }\n",
       "</style>\n",
       "<table border=\"1\" class=\"dataframe\">\n",
       "  <thead>\n",
       "    <tr style=\"text-align: right;\">\n",
       "      <th></th>\n",
       "      <th>ID</th>\n",
       "      <th>EDT</th>\n",
       "      <th>Tech</th>\n",
       "      <th>Possible Ports</th>\n",
       "      <th>WhereToAddPower</th>\n",
       "      <th>Powers (W)</th>\n",
       "    </tr>\n",
       "  </thead>\n",
       "  <tbody>\n",
       "    <tr>\n",
       "      <th>56</th>\n",
       "      <td>21-V</td>\n",
       "      <td>2-12</td>\n",
       "      <td>NR/LTE700</td>\n",
       "      <td>1;2;3;4</td>\n",
       "      <td>[1, 2, 3, 4]</td>\n",
       "      <td>[47.6, 47.6, 47.6, 47.6]</td>\n",
       "    </tr>\n",
       "    <tr>\n",
       "      <th>57</th>\n",
       "      <td>21-V</td>\n",
       "      <td>2-12</td>\n",
       "      <td>NR/LTE1800</td>\n",
       "      <td>5;6;7;8;9;10;11;12</td>\n",
       "      <td>[5, 6, 7, 8, 9, 10, 11, 12]</td>\n",
       "      <td>[47.6, 47.6, 47.6, 47.6, 47.6, 47.6, 47.6, 47.6]</td>\n",
       "    </tr>\n",
       "    <tr>\n",
       "      <th>58</th>\n",
       "      <td>21-V</td>\n",
       "      <td>2-12</td>\n",
       "      <td>WCDMA900</td>\n",
       "      <td>1;2;3;4</td>\n",
       "      <td>[3, 4]</td>\n",
       "      <td>[47.6, 47.6]</td>\n",
       "    </tr>\n",
       "    <tr>\n",
       "      <th>59</th>\n",
       "      <td>21-V</td>\n",
       "      <td>2-12</td>\n",
       "      <td>NR/LTE850</td>\n",
       "      <td>1;2;3;4</td>\n",
       "      <td>[1, 2, 3, 4]</td>\n",
       "      <td>[47.6, 47.6, 47.6, 47.6]</td>\n",
       "    </tr>\n",
       "    <tr>\n",
       "      <th>60</th>\n",
       "      <td>21-V</td>\n",
       "      <td>2-12</td>\n",
       "      <td>NR/LTE2100</td>\n",
       "      <td>5;6;7;8;9;10;11;12</td>\n",
       "      <td>[5, 6, 7, 8, 9, 10, 11, 12]</td>\n",
       "      <td>[47.6, 47.6, 47.6, 47.6, 47.6, 47.6, 47.6, 47.6]</td>\n",
       "    </tr>\n",
       "    <tr>\n",
       "      <th>61</th>\n",
       "      <td>21-V</td>\n",
       "      <td>2-12</td>\n",
       "      <td>NB-IOT900</td>\n",
       "      <td>1;2;3;4</td>\n",
       "      <td>[3, 4]</td>\n",
       "      <td>[15.9, 15.9]</td>\n",
       "    </tr>\n",
       "  </tbody>\n",
       "</table>\n",
       "</div>"
      ],
      "text/plain": [
       "      ID    EDT         Tech      Possible Ports              WhereToAddPower  \\\n",
       "56  21-V  2-12     NR/LTE700             1;2;3;4                 [1, 2, 3, 4]   \n",
       "57  21-V  2-12    NR/LTE1800  5;6;7;8;9;10;11;12  [5, 6, 7, 8, 9, 10, 11, 12]   \n",
       "58  21-V  2-12      WCDMA900             1;2;3;4                       [3, 4]   \n",
       "59  21-V  2-12     NR/LTE850             1;2;3;4                 [1, 2, 3, 4]   \n",
       "60  21-V  2-12    NR/LTE2100  5;6;7;8;9;10;11;12  [5, 6, 7, 8, 9, 10, 11, 12]   \n",
       "61  21-V  2-12     NB-IOT900             1;2;3;4                       [3, 4]   \n",
       "\n",
       "                                          Powers (W)  \n",
       "56                          [47.6, 47.6, 47.6, 47.6]  \n",
       "57  [47.6, 47.6, 47.6, 47.6, 47.6, 47.6, 47.6, 47.6]  \n",
       "58                                      [47.6, 47.6]  \n",
       "59                          [47.6, 47.6, 47.6, 47.6]  \n",
       "60  [47.6, 47.6, 47.6, 47.6, 47.6, 47.6, 47.6, 47.6]  \n",
       "61                                      [15.9, 15.9]  "
      ]
     },
     "metadata": {},
     "output_type": "display_data"
    },
    {
     "name": "stdout",
     "output_type": "stream",
     "text": [
      "\u001b[1m23-V\n"
     ]
    },
    {
     "data": {
      "text/html": [
       "<div>\n",
       "<style scoped>\n",
       "    .dataframe tbody tr th:only-of-type {\n",
       "        vertical-align: middle;\n",
       "    }\n",
       "\n",
       "    .dataframe tbody tr th {\n",
       "        vertical-align: top;\n",
       "    }\n",
       "\n",
       "    .dataframe thead th {\n",
       "        text-align: right;\n",
       "    }\n",
       "</style>\n",
       "<table border=\"1\" class=\"dataframe\">\n",
       "  <thead>\n",
       "    <tr style=\"text-align: right;\">\n",
       "      <th></th>\n",
       "      <th>ID</th>\n",
       "      <th>EDT</th>\n",
       "      <th>Tech</th>\n",
       "      <th>Possible Ports</th>\n",
       "      <th>WhereToAddPower</th>\n",
       "      <th>Powers (W)</th>\n",
       "    </tr>\n",
       "  </thead>\n",
       "  <tbody>\n",
       "    <tr>\n",
       "      <th>62</th>\n",
       "      <td>23-V</td>\n",
       "      <td>6</td>\n",
       "      <td>NR3500</td>\n",
       "      <td>1;2</td>\n",
       "      <td>[1]</td>\n",
       "      <td>[50.1]</td>\n",
       "    </tr>\n",
       "  </tbody>\n",
       "</table>\n",
       "</div>"
      ],
      "text/plain": [
       "      ID EDT     Tech Possible Ports WhereToAddPower Powers (W)\n",
       "62  23-V  6    NR3500            1;2             [1]     [50.1]"
      ]
     },
     "metadata": {},
     "output_type": "display_data"
    },
    {
     "name": "stdout",
     "output_type": "stream",
     "text": [
      "\u001b[1m31-V\n"
     ]
    },
    {
     "data": {
      "text/html": [
       "<div>\n",
       "<style scoped>\n",
       "    .dataframe tbody tr th:only-of-type {\n",
       "        vertical-align: middle;\n",
       "    }\n",
       "\n",
       "    .dataframe tbody tr th {\n",
       "        vertical-align: top;\n",
       "    }\n",
       "\n",
       "    .dataframe thead th {\n",
       "        text-align: right;\n",
       "    }\n",
       "</style>\n",
       "<table border=\"1\" class=\"dataframe\">\n",
       "  <thead>\n",
       "    <tr style=\"text-align: right;\">\n",
       "      <th></th>\n",
       "      <th>ID</th>\n",
       "      <th>EDT</th>\n",
       "      <th>Tech</th>\n",
       "      <th>Possible Ports</th>\n",
       "      <th>WhereToAddPower</th>\n",
       "      <th>Powers (W)</th>\n",
       "    </tr>\n",
       "  </thead>\n",
       "  <tbody>\n",
       "    <tr>\n",
       "      <th>63</th>\n",
       "      <td>31-V</td>\n",
       "      <td>2-12</td>\n",
       "      <td>NR/LTE700</td>\n",
       "      <td>1;2;3;4</td>\n",
       "      <td>[1, 2, 3, 4]</td>\n",
       "      <td>[47.6, 47.6, 47.6, 47.6]</td>\n",
       "    </tr>\n",
       "    <tr>\n",
       "      <th>64</th>\n",
       "      <td>31-V</td>\n",
       "      <td>2-12</td>\n",
       "      <td>NR/LTE1800</td>\n",
       "      <td>5;6;7;8;9;10;11;12</td>\n",
       "      <td>[5, 6, 7, 8, 9, 10, 11, 12]</td>\n",
       "      <td>[47.6, 47.6, 47.6, 47.6, 47.6, 47.6, 47.6, 47.6]</td>\n",
       "    </tr>\n",
       "    <tr>\n",
       "      <th>65</th>\n",
       "      <td>31-V</td>\n",
       "      <td>2-12</td>\n",
       "      <td>WCDMA900</td>\n",
       "      <td>1;2;3;4</td>\n",
       "      <td>[3, 4]</td>\n",
       "      <td>[47.6, 47.6]</td>\n",
       "    </tr>\n",
       "    <tr>\n",
       "      <th>66</th>\n",
       "      <td>31-V</td>\n",
       "      <td>2-12</td>\n",
       "      <td>NR/LTE850</td>\n",
       "      <td>1;2;3;4</td>\n",
       "      <td>[1, 2, 3, 4]</td>\n",
       "      <td>[47.6, 47.6, 47.6, 47.6]</td>\n",
       "    </tr>\n",
       "    <tr>\n",
       "      <th>67</th>\n",
       "      <td>31-V</td>\n",
       "      <td>2-12</td>\n",
       "      <td>NR/LTE2100</td>\n",
       "      <td>5;6;7;8;9;10;11;12</td>\n",
       "      <td>[5, 6, 7, 8, 9, 10, 11, 12]</td>\n",
       "      <td>[47.6, 47.6, 47.6, 47.6, 47.6, 47.6, 47.6, 47.6]</td>\n",
       "    </tr>\n",
       "    <tr>\n",
       "      <th>68</th>\n",
       "      <td>31-V</td>\n",
       "      <td>2-12</td>\n",
       "      <td>NB-IOT900</td>\n",
       "      <td>1;2;3;4</td>\n",
       "      <td>[3, 4]</td>\n",
       "      <td>[15.9, 15.9]</td>\n",
       "    </tr>\n",
       "  </tbody>\n",
       "</table>\n",
       "</div>"
      ],
      "text/plain": [
       "      ID    EDT         Tech      Possible Ports              WhereToAddPower  \\\n",
       "63  31-V  2-12     NR/LTE700             1;2;3;4                 [1, 2, 3, 4]   \n",
       "64  31-V  2-12    NR/LTE1800  5;6;7;8;9;10;11;12  [5, 6, 7, 8, 9, 10, 11, 12]   \n",
       "65  31-V  2-12      WCDMA900             1;2;3;4                       [3, 4]   \n",
       "66  31-V  2-12     NR/LTE850             1;2;3;4                 [1, 2, 3, 4]   \n",
       "67  31-V  2-12    NR/LTE2100  5;6;7;8;9;10;11;12  [5, 6, 7, 8, 9, 10, 11, 12]   \n",
       "68  31-V  2-12     NB-IOT900             1;2;3;4                       [3, 4]   \n",
       "\n",
       "                                          Powers (W)  \n",
       "63                          [47.6, 47.6, 47.6, 47.6]  \n",
       "64  [47.6, 47.6, 47.6, 47.6, 47.6, 47.6, 47.6, 47.6]  \n",
       "65                                      [47.6, 47.6]  \n",
       "66                          [47.6, 47.6, 47.6, 47.6]  \n",
       "67  [47.6, 47.6, 47.6, 47.6, 47.6, 47.6, 47.6, 47.6]  \n",
       "68                                      [15.9, 15.9]  "
      ]
     },
     "metadata": {},
     "output_type": "display_data"
    },
    {
     "name": "stdout",
     "output_type": "stream",
     "text": [
      "\u001b[1m33-V\n"
     ]
    },
    {
     "data": {
      "text/html": [
       "<div>\n",
       "<style scoped>\n",
       "    .dataframe tbody tr th:only-of-type {\n",
       "        vertical-align: middle;\n",
       "    }\n",
       "\n",
       "    .dataframe tbody tr th {\n",
       "        vertical-align: top;\n",
       "    }\n",
       "\n",
       "    .dataframe thead th {\n",
       "        text-align: right;\n",
       "    }\n",
       "</style>\n",
       "<table border=\"1\" class=\"dataframe\">\n",
       "  <thead>\n",
       "    <tr style=\"text-align: right;\">\n",
       "      <th></th>\n",
       "      <th>ID</th>\n",
       "      <th>EDT</th>\n",
       "      <th>Tech</th>\n",
       "      <th>Possible Ports</th>\n",
       "      <th>WhereToAddPower</th>\n",
       "      <th>Powers (W)</th>\n",
       "    </tr>\n",
       "  </thead>\n",
       "  <tbody>\n",
       "    <tr>\n",
       "      <th>69</th>\n",
       "      <td>33-V</td>\n",
       "      <td>6</td>\n",
       "      <td>NR3500</td>\n",
       "      <td>1;2</td>\n",
       "      <td>[1]</td>\n",
       "      <td>[50.1]</td>\n",
       "    </tr>\n",
       "  </tbody>\n",
       "</table>\n",
       "</div>"
      ],
      "text/plain": [
       "      ID EDT     Tech Possible Ports WhereToAddPower Powers (W)\n",
       "69  33-V  6    NR3500            1;2             [1]     [50.1]"
      ]
     },
     "metadata": {},
     "output_type": "display_data"
    },
    {
     "name": "stdout",
     "output_type": "stream",
     "text": [
      "\u001b[1mH21862502\n"
     ]
    },
    {
     "data": {
      "text/html": [
       "<div>\n",
       "<style scoped>\n",
       "    .dataframe tbody tr th:only-of-type {\n",
       "        vertical-align: middle;\n",
       "    }\n",
       "\n",
       "    .dataframe tbody tr th {\n",
       "        vertical-align: top;\n",
       "    }\n",
       "\n",
       "    .dataframe thead th {\n",
       "        text-align: right;\n",
       "    }\n",
       "</style>\n",
       "<table border=\"1\" class=\"dataframe\">\n",
       "  <thead>\n",
       "    <tr style=\"text-align: right;\">\n",
       "      <th></th>\n",
       "      <th>ID</th>\n",
       "      <th>EDT</th>\n",
       "      <th>Tech</th>\n",
       "      <th>Possible Ports</th>\n",
       "      <th>WhereToAddPower</th>\n",
       "      <th>Powers (W)</th>\n",
       "    </tr>\n",
       "  </thead>\n",
       "  <tbody>\n",
       "    <tr>\n",
       "      <th>70</th>\n",
       "      <td>H21862502</td>\n",
       "      <td></td>\n",
       "      <td>Microwave Link</td>\n",
       "      <td>0</td>\n",
       "      <td>[1]</td>\n",
       "      <td>[0.0251]</td>\n",
       "    </tr>\n",
       "  </tbody>\n",
       "</table>\n",
       "</div>"
      ],
      "text/plain": [
       "           ID EDT             Tech Possible Ports WhereToAddPower Powers (W)\n",
       "70  H21862502       Microwave Link              0             [1]   [0.0251]"
      ]
     },
     "metadata": {},
     "output_type": "display_data"
    }
   ],
   "source": [
    "display('Set Power and Frequency to ports in Prox5')\n",
    "for i in IDUnique:\n",
    "        print(text_format.BOLD+str(i))\n",
    "        display(df.loc[(df['ID'] == i),['ID','EDT','Tech','Possible Ports','WhereToAddPower','Powers (W)']])"
   ]
  },
  {
   "cell_type": "markdown",
   "id": "747576e0",
   "metadata": {},
   "source": [
    "## EMEG Equipment List"
   ]
  },
  {
   "cell_type": "code",
   "execution_count": 45,
   "id": "94b304b6",
   "metadata": {},
   "outputs": [
    {
     "data": {
      "text/plain": [
       "'12-O'"
      ]
     },
     "metadata": {},
     "output_type": "display_data"
    },
    {
     "data": {
      "text/plain": [
       "1"
      ]
     },
     "metadata": {},
     "output_type": "display_data"
    },
    {
     "data": {
      "text/plain": [
       "'12-O'"
      ]
     },
     "metadata": {},
     "output_type": "display_data"
    },
    {
     "data": {
      "text/plain": [
       "'12-O'"
      ]
     },
     "metadata": {},
     "output_type": "display_data"
    },
    {
     "data": {
      "text/plain": [
       "'12-O'"
      ]
     },
     "metadata": {},
     "output_type": "display_data"
    },
    {
     "data": {
      "text/plain": [
       "'12-O'"
      ]
     },
     "metadata": {},
     "output_type": "display_data"
    },
    {
     "data": {
      "text/plain": [
       "'12-O'"
      ]
     },
     "metadata": {},
     "output_type": "display_data"
    },
    {
     "data": {
      "text/plain": [
       "'12-O'"
      ]
     },
     "metadata": {},
     "output_type": "display_data"
    },
    {
     "data": {
      "text/plain": [
       "'12-O'"
      ]
     },
     "metadata": {},
     "output_type": "display_data"
    },
    {
     "data": {
      "text/plain": [
       "2"
      ]
     },
     "metadata": {},
     "output_type": "display_data"
    },
    {
     "data": {
      "text/plain": [
       "'14-O'"
      ]
     },
     "metadata": {},
     "output_type": "display_data"
    },
    {
     "data": {
      "text/plain": [
       "0"
      ]
     },
     "metadata": {},
     "output_type": "display_data"
    },
    {
     "data": {
      "text/plain": [
       "'16-O'"
      ]
     },
     "metadata": {},
     "output_type": "display_data"
    },
    {
     "data": {
      "text/plain": [
       "0"
      ]
     },
     "metadata": {},
     "output_type": "display_data"
    },
    {
     "data": {
      "text/plain": [
       "'22-O'"
      ]
     },
     "metadata": {},
     "output_type": "display_data"
    },
    {
     "data": {
      "text/plain": [
       "1"
      ]
     },
     "metadata": {},
     "output_type": "display_data"
    },
    {
     "data": {
      "text/plain": [
       "'22-O'"
      ]
     },
     "metadata": {},
     "output_type": "display_data"
    },
    {
     "data": {
      "text/plain": [
       "'22-O'"
      ]
     },
     "metadata": {},
     "output_type": "display_data"
    },
    {
     "data": {
      "text/plain": [
       "'22-O'"
      ]
     },
     "metadata": {},
     "output_type": "display_data"
    },
    {
     "data": {
      "text/plain": [
       "'22-O'"
      ]
     },
     "metadata": {},
     "output_type": "display_data"
    },
    {
     "data": {
      "text/plain": [
       "'22-O'"
      ]
     },
     "metadata": {},
     "output_type": "display_data"
    },
    {
     "data": {
      "text/plain": [
       "'22-O'"
      ]
     },
     "metadata": {},
     "output_type": "display_data"
    },
    {
     "data": {
      "text/plain": [
       "'22-O'"
      ]
     },
     "metadata": {},
     "output_type": "display_data"
    },
    {
     "data": {
      "text/plain": [
       "4"
      ]
     },
     "metadata": {},
     "output_type": "display_data"
    },
    {
     "data": {
      "text/plain": [
       "'24-O'"
      ]
     },
     "metadata": {},
     "output_type": "display_data"
    },
    {
     "data": {
      "text/plain": [
       "0"
      ]
     },
     "metadata": {},
     "output_type": "display_data"
    },
    {
     "data": {
      "text/plain": [
       "'26-O'"
      ]
     },
     "metadata": {},
     "output_type": "display_data"
    },
    {
     "data": {
      "text/plain": [
       "0"
      ]
     },
     "metadata": {},
     "output_type": "display_data"
    },
    {
     "data": {
      "text/plain": [
       "'32-O'"
      ]
     },
     "metadata": {},
     "output_type": "display_data"
    },
    {
     "data": {
      "text/plain": [
       "1"
      ]
     },
     "metadata": {},
     "output_type": "display_data"
    },
    {
     "data": {
      "text/plain": [
       "'32-O'"
      ]
     },
     "metadata": {},
     "output_type": "display_data"
    },
    {
     "data": {
      "text/plain": [
       "'32-O'"
      ]
     },
     "metadata": {},
     "output_type": "display_data"
    },
    {
     "data": {
      "text/plain": [
       "'32-O'"
      ]
     },
     "metadata": {},
     "output_type": "display_data"
    },
    {
     "data": {
      "text/plain": [
       "'32-O'"
      ]
     },
     "metadata": {},
     "output_type": "display_data"
    },
    {
     "data": {
      "text/plain": [
       "'32-O'"
      ]
     },
     "metadata": {},
     "output_type": "display_data"
    },
    {
     "data": {
      "text/plain": [
       "'32-O'"
      ]
     },
     "metadata": {},
     "output_type": "display_data"
    },
    {
     "data": {
      "text/plain": [
       "'32-O'"
      ]
     },
     "metadata": {},
     "output_type": "display_data"
    },
    {
     "data": {
      "text/plain": [
       "2"
      ]
     },
     "metadata": {},
     "output_type": "display_data"
    },
    {
     "data": {
      "text/plain": [
       "'34-O'"
      ]
     },
     "metadata": {},
     "output_type": "display_data"
    },
    {
     "data": {
      "text/plain": [
       "0"
      ]
     },
     "metadata": {},
     "output_type": "display_data"
    },
    {
     "data": {
      "text/plain": [
       "'36-O'"
      ]
     },
     "metadata": {},
     "output_type": "display_data"
    },
    {
     "data": {
      "text/plain": [
       "0"
      ]
     },
     "metadata": {},
     "output_type": "display_data"
    },
    {
     "data": {
      "text/plain": [
       "'A11'"
      ]
     },
     "metadata": {},
     "output_type": "display_data"
    },
    {
     "data": {
      "text/plain": [
       "'A11'"
      ]
     },
     "metadata": {},
     "output_type": "display_data"
    },
    {
     "data": {
      "text/plain": [
       "'A11'"
      ]
     },
     "metadata": {},
     "output_type": "display_data"
    },
    {
     "data": {
      "text/plain": [
       "'A15'"
      ]
     },
     "metadata": {},
     "output_type": "display_data"
    },
    {
     "data": {
      "text/plain": [
       "'A15'"
      ]
     },
     "metadata": {},
     "output_type": "display_data"
    },
    {
     "data": {
      "text/plain": [
       "'A17'"
      ]
     },
     "metadata": {},
     "output_type": "display_data"
    },
    {
     "data": {
      "text/plain": [
       "'A17'"
      ]
     },
     "metadata": {},
     "output_type": "display_data"
    },
    {
     "data": {
      "text/plain": [
       "'A17'"
      ]
     },
     "metadata": {},
     "output_type": "display_data"
    },
    {
     "data": {
      "text/plain": [
       "'A2'"
      ]
     },
     "metadata": {},
     "output_type": "display_data"
    },
    {
     "data": {
      "text/plain": [
       "'A3'"
      ]
     },
     "metadata": {},
     "output_type": "display_data"
    },
    {
     "data": {
      "text/plain": [
       "'A3'"
      ]
     },
     "metadata": {},
     "output_type": "display_data"
    },
    {
     "data": {
      "text/plain": [
       "'A5'"
      ]
     },
     "metadata": {},
     "output_type": "display_data"
    },
    {
     "data": {
      "text/plain": [
       "'A5'"
      ]
     },
     "metadata": {},
     "output_type": "display_data"
    },
    {
     "data": {
      "text/plain": [
       "'A5'"
      ]
     },
     "metadata": {},
     "output_type": "display_data"
    },
    {
     "data": {
      "text/plain": [
       "'A6'"
      ]
     },
     "metadata": {},
     "output_type": "display_data"
    },
    {
     "data": {
      "text/plain": [
       "'A7'"
      ]
     },
     "metadata": {},
     "output_type": "display_data"
    },
    {
     "data": {
      "text/plain": [
       "'A9'"
      ]
     },
     "metadata": {},
     "output_type": "display_data"
    },
    {
     "data": {
      "text/plain": [
       "'A9'"
      ]
     },
     "metadata": {},
     "output_type": "display_data"
    },
    {
     "data": {
      "text/plain": [
       "'11-V'"
      ]
     },
     "metadata": {},
     "output_type": "display_data"
    },
    {
     "data": {
      "text/plain": [
       "'11-V'"
      ]
     },
     "metadata": {},
     "output_type": "display_data"
    },
    {
     "data": {
      "text/plain": [
       "'11-V'"
      ]
     },
     "metadata": {},
     "output_type": "display_data"
    },
    {
     "data": {
      "text/plain": [
       "'11-V'"
      ]
     },
     "metadata": {},
     "output_type": "display_data"
    },
    {
     "data": {
      "text/plain": [
       "'11-V'"
      ]
     },
     "metadata": {},
     "output_type": "display_data"
    },
    {
     "data": {
      "text/plain": [
       "'11-V'"
      ]
     },
     "metadata": {},
     "output_type": "display_data"
    },
    {
     "data": {
      "text/plain": [
       "'13-V'"
      ]
     },
     "metadata": {},
     "output_type": "display_data"
    },
    {
     "data": {
      "text/plain": [
       "0"
      ]
     },
     "metadata": {},
     "output_type": "display_data"
    },
    {
     "data": {
      "text/plain": [
       "'21-V'"
      ]
     },
     "metadata": {},
     "output_type": "display_data"
    },
    {
     "data": {
      "text/plain": [
       "'21-V'"
      ]
     },
     "metadata": {},
     "output_type": "display_data"
    },
    {
     "data": {
      "text/plain": [
       "'21-V'"
      ]
     },
     "metadata": {},
     "output_type": "display_data"
    },
    {
     "data": {
      "text/plain": [
       "'21-V'"
      ]
     },
     "metadata": {},
     "output_type": "display_data"
    },
    {
     "data": {
      "text/plain": [
       "'21-V'"
      ]
     },
     "metadata": {},
     "output_type": "display_data"
    },
    {
     "data": {
      "text/plain": [
       "'21-V'"
      ]
     },
     "metadata": {},
     "output_type": "display_data"
    },
    {
     "data": {
      "text/plain": [
       "'23-V'"
      ]
     },
     "metadata": {},
     "output_type": "display_data"
    },
    {
     "data": {
      "text/plain": [
       "0"
      ]
     },
     "metadata": {},
     "output_type": "display_data"
    },
    {
     "data": {
      "text/plain": [
       "'31-V'"
      ]
     },
     "metadata": {},
     "output_type": "display_data"
    },
    {
     "data": {
      "text/plain": [
       "'31-V'"
      ]
     },
     "metadata": {},
     "output_type": "display_data"
    },
    {
     "data": {
      "text/plain": [
       "'31-V'"
      ]
     },
     "metadata": {},
     "output_type": "display_data"
    },
    {
     "data": {
      "text/plain": [
       "'31-V'"
      ]
     },
     "metadata": {},
     "output_type": "display_data"
    },
    {
     "data": {
      "text/plain": [
       "'31-V'"
      ]
     },
     "metadata": {},
     "output_type": "display_data"
    },
    {
     "data": {
      "text/plain": [
       "'31-V'"
      ]
     },
     "metadata": {},
     "output_type": "display_data"
    },
    {
     "data": {
      "text/plain": [
       "'33-V'"
      ]
     },
     "metadata": {},
     "output_type": "display_data"
    },
    {
     "data": {
      "text/plain": [
       "0"
      ]
     },
     "metadata": {},
     "output_type": "display_data"
    },
    {
     "data": {
      "text/plain": [
       "'H21862502'"
      ]
     },
     "metadata": {},
     "output_type": "display_data"
    },
    {
     "data": {
      "text/plain": [
       "0"
      ]
     },
     "metadata": {},
     "output_type": "display_data"
    }
   ],
   "source": [
    "\n",
    "totalPortsdict = {}\n",
    "for idantenna in IDUnique:\n",
    "    totalPorts = list(dict.fromkeys(df.loc[df['ID'] == idantenna, 'Total Ports']))\n",
    "    totalPortsdict[idantenna] = totalPorts\n",
    "    \n",
    "#display(totalPortsdict)   \n",
    "#print(df.loc[(df['ID']=='11-O'), ['EDT','Sector','WhereToAddPower','Power (W)']])\n",
    "#display(df.loc[(df['ID'] == i),['ID','Height','Bearing','MDT']])\n",
    "\n",
    "listpow = []\n",
    "listsec = []\n",
    "x = 0\n",
    "yprev = 0\n",
    "for AntId, AntPorts in totalPortsdict.items():\n",
    "    templistpow = [''] * (int(AntPorts[0] / 2) + int(AntPorts[0] % 2))\n",
    "    templistsec = [''] * (int(AntPorts[0] / 2) + int(AntPorts[0] % 2))\n",
    "    tempdf = df.loc[(df['ID']==AntId), ['EDT','Sector','WhereToAddPower','Powers (W)']]\n",
    "    for sector, port, power in zip(tempdf['Sector'], tempdf['WhereToAddPower'], tempdf['Powers (W)']):\n",
    "        display(AntId)\n",
    "        if len(port)>1:\n",
    "            for x, y in enumerate(port):       \n",
    "                if sector not in templistsec[math.ceil(int(y)/2)-1]:\n",
    "                    templistsec[math.ceil(int(y)/2)-1] += sector +'\\n'\n",
    "                    templistpow[math.ceil(int(y)/2)-1] += '\\n'\n",
    "                templistpow[math.ceil(int(y)/2)-1] += '+' + str(power[x])\n",
    "        if len(port)==1:\n",
    "            for x, y in enumerate(port):\n",
    "                display(math.ceil(int(y)/2)-1)\n",
    "                templistsec[math.ceil(int(y)/2)-1] += sector +'\\n'\n",
    "                if y%2==0:\n",
    "                    templistpow[math.ceil(int(y)/2)-1] += r'0 ++ ' + str(power[x])\n",
    "                else:\n",
    "                    templistpow[math.ceil(int(y)/2)-1] += str(power[x]) + ' ++ 0'\n",
    "            \n",
    "    listpow.append(templistpow)\n",
    "    listsec.append(templistsec)\n",
    "\n",
    "for index1, x in enumerate(listpow):\n",
    "    for index2, y in enumerate(x):\n",
    "        if y == '':\n",
    "            listpow[index1][index2] = '0'\n",
    "        \n",
    "for index1, x in enumerate(listsec):\n",
    "    for index2, y in enumerate(x):\n",
    "        if y == '':\n",
    "            listsec[index1][index2] = '-'\n",
    "        \n",
    "\n",
    "EquipmentList = pd.DataFrame(totalPortsdict.items(), columns=['ID', 'No. of ports'])\n",
    "EquipmentList['System/Sector'] = listsec\n",
    "EquipmentList['Power (W)'] = listpow\n",
    "\n",
    "EquipmentList_final = pd.DataFrame([], columns=['ID','System/Sector', 'Power (W)'])\n",
    "\n",
    "for a, x, y in zip(EquipmentList['ID'],EquipmentList['System/Sector'], EquipmentList['Power (W)']): \n",
    "        EquipmentListAntenna = pd.DataFrame([a]*len(x),columns=['ID'])\n",
    "        EquipmentListAntenna['System/Sector'] = x\n",
    "        EquipmentListAntenna['Power (W)'] = y\n",
    "        EquipmentList_final = pd.concat([EquipmentList_final, EquipmentListAntenna], axis=0)\n",
    "\n",
    "EquipmentList_final['Power (W)'] = EquipmentList_final['Power (W)'].str.replace('\\+', '', 1, regex=True)\n",
    "EquipmentList_final['Power (W)'] = EquipmentList_final['Power (W)'].str.replace('\\\\n\\+', '\\\\n', regex=True)\n",
    "EquipmentList_final['Power (W)'] = EquipmentList_final['Power (W)'].str.strip()\n",
    "EquipmentList_final['System/Sector'] = EquipmentList_final['System/Sector'].str.strip()\n",
    "#display(EquipmentList_final)\n"
   ]
  },
  {
   "cell_type": "markdown",
   "id": "1f3da6e5",
   "metadata": {},
   "source": [
    "## Exports"
   ]
  },
  {
   "cell_type": "code",
   "execution_count": 46,
   "id": "780bbe15",
   "metadata": {},
   "outputs": [],
   "source": [
    "#df3 = pd.DataFrame.from_dict(AntennaIds)\n",
    "df3 = pd.DataFrame(dict([(k,pd.Series(v)) for k,v in AntennaIds.items() ]))\n",
    "df3 = df3.fillna('')\n",
    "\n",
    "\n",
    "\n",
    "dfAntennaSettings = df[['ID','Height','Bearing','MDT','Total Ports']].copy()\n",
    "dfAntennaSettings=dfAntennaSettings.drop_duplicates(keep='first')\n",
    "\n",
    "path = r'C:\\Users\\Mewtwo\\Desktop'+'\\\\'+ data['Site Name'][3] + 'RFNSA Wrangled Data.xlsx'\n",
    "\n",
    "from openpyxl.utils import get_column_letter\n",
    "from openpyxl import Workbook\n",
    "from openpyxl import load_workbook\n",
    "\n",
    "wb = Workbook()\n",
    "wb.save(path)\n",
    "\n",
    "writer = pd.ExcelWriter(path, engine='openpyxl')\n",
    "df3.to_excel(writer, sheet_name = 'Antenna IDs', index=False)\n",
    "dfAntennaSettings.to_excel(writer, sheet_name = 'Antenna Settings', index=False)\n",
    "df.to_excel(writer, sheet_name = 'Add powers to Prox', columns = ['Antenna','ID','EDT','Tech','Possible Ports','WhereToAddPower','Powers (W)','Assess Freq','Notes'], index=False)\n",
    "EquipmentList_final.to_excel(writer, sheet_name = 'EMEG List', index=False)\n",
    "\n",
    "# load the Excel file with openpyxl\n",
    "workbook = writer.book\n",
    "\n",
    "for sheet in workbook:\n",
    "    for column in range(1, sheet.max_column + 2):\n",
    "        letter = get_column_letter(column)\n",
    "        #sheet.column_dimensions[letter].auto_size = True\n",
    "        sheet.column_dimensions[letter].bestFit = True\n",
    "\n",
    "# save the modified workbook\n",
    "workbook.save(path)"
   ]
  },
  {
   "cell_type": "code",
   "execution_count": 48,
   "id": "0fc9c891",
   "metadata": {},
   "outputs": [
    {
     "name": "stderr",
     "output_type": "stream",
     "text": [
      "C:\\Users\\Mewtwo\\anaconda3\\lib\\site-packages\\ipykernel_launcher.py:5: FutureWarning: The default value of regex will change from True to False in a future version.\n",
      "  \"\"\"\n"
     ]
    }
   ],
   "source": [
    "#display( HTML( df.to_html().replace(\"\\\\n\",\"<br><li type='1'>\") ) )\n",
    "EquipmentList_final['Power (W)'] = EquipmentList_final['Power (W)'].str.replace(r'\\n','<br>', regex=True)\n",
    "#EquipmentList_final['System/Sector'] = EquipmentList_final['System/Sector'].str.replace((r'\\n','<br>', regex=True)\n",
    "\n",
    "EquipmentList_final['System/Sector'] = EquipmentList_final['System/Sector'].str.replace(r'\\n','&#10;')\n",
    "\n",
    "#EquipmentList_final.to_html(r'C:\\Users\\Mewtwo\\Desktop\\EMEGList.html', index=False)\n",
    "#dfAntennaSettings.to_html(r'C:\\Users\\Mewtwo\\Desktop\\Antennadata.html', index=False)\n",
    "#df3.to_html(r'C:\\Users\\Mewtwo\\Desktop\\Antennadata2.html',index=False)\n",
    "#df.to_html(r'C:\\Users\\Mewtwo\\Desktop\\Antennadata3.html', columns = ['ID','EDT','Tech','Possible Ports','WhereToAddPower','Powers (W)','Assess Freq','Notes'], index=False)\n",
    "\n",
    "#df.to_html(r'C:\\Users\\Mewtwo\\Desktop\\Antennadata4.html',columns = ['ID','EDT','Sector','WhereToAddPower','Powers (W)'],index=False)\n",
    "#import subprocess\n",
    "#subprocess.call('wkhtmltoimage -f png --width 0 Antennadata.html Antennadata.png', shell=True)\n"
   ]
  },
  {
   "cell_type": "code",
   "execution_count": 49,
   "id": "4c7789f3",
   "metadata": {},
   "outputs": [],
   "source": [
    "\n",
    "for sheetname in workbook.sheetnames:\n",
    "    worksheet = workbook[sheetname]\n",
    "\n",
    "    # set best fit attribute to true for all columns\n",
    "    for column_cells in worksheet.columns:\n",
    "        length = max(len(str(cell.value)) for cell in column_cells)\n",
    "        worksheet.column_dimensions[column_cells[0].column_letter].width = length + 2\n",
    "        worksheet.column_dimensions[column_cells[0].column_letter].bestFit = True\n",
    "\n",
    "worksheet = workbook.active\n",
    "\n",
    "# set the width of column A to 15\n",
    "column_letter = get_column_letter(1)  # A\n",
    "column_dimension = worksheet.column_dimensions[column_letter]\n",
    "column_dimension.width = 15\n",
    "column_dimension.bestFit = True\n"
   ]
  },
  {
   "cell_type": "code",
   "execution_count": 50,
   "id": "23d17a31",
   "metadata": {},
   "outputs": [],
   "source": [
    "#with open(\"C:\\\\Users\\\\Mewtwo\\\\Downloads\\\\RFNSA Scrapper_V2.html\", encoding=\"utf8\") as html_file:\n",
    "#    content = html_file.read()\n",
    "\n",
    "# Get rid off prompts and source code\n",
    "#content = content.replace(\"div.input_area {\",\"div.input_area {\\n\\tdisplay: none;\")    \n",
    "#content = content.replace(\".prompt {\",\".prompt {\\n\\tdisplay: none;\")\n",
    "\n",
    "#f = open(FILE, 'w')\n",
    "#f.write(content)\n",
    "#f.close()"
   ]
  },
  {
   "cell_type": "code",
   "execution_count": 51,
   "id": "032049c9",
   "metadata": {},
   "outputs": [],
   "source": [
    "#jupyter nbconvert --to pdf 'RFNSA Scrapper_V2.ipynb' --template=hidecode.tplx\n"
   ]
  },
  {
   "cell_type": "code",
   "execution_count": null,
   "id": "7e06a5da",
   "metadata": {},
   "outputs": [],
   "source": []
  }
 ],
 "metadata": {
  "kernelspec": {
   "display_name": "Python 3",
   "language": "python",
   "name": "python3"
  },
  "language_info": {
   "codemirror_mode": {
    "name": "ipython",
    "version": 3
   },
   "file_extension": ".py",
   "mimetype": "text/x-python",
   "name": "python",
   "nbconvert_exporter": "python",
   "pygments_lexer": "ipython3",
   "version": "3.7.16"
  }
 },
 "nbformat": 4,
 "nbformat_minor": 5
}
