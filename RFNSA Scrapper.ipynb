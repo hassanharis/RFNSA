{
 "cells": [
  {
   "cell_type": "markdown",
   "id": "fc11cf88",
   "metadata": {},
   "source": [
    "# RFNSA STAD to \n",
    "# EMEG Equipment List, Prox5 RF Planning, CANRAD Validation\n",
    "\n"
   ]
  },
  {
   "cell_type": "markdown",
   "id": "2d17027e",
   "metadata": {},
   "source": [
    "##### ©Haris Hassan | All rights reserved. You're not allowed to use it for commercial purposes unless given consent in written"
   ]
  },
  {
   "cell_type": "markdown",
   "id": "192f8d7c",
   "metadata": {},
   "source": [
    "if you're using google colab put your data in \n",
    "https://docs.google.com/spreadsheets/d/1H0gCKcFrVTpaCtJ3vFqDuzjTmIrvVptw2AJIgzERh88/\n"
   ]
  },
  {
   "cell_type": "code",
   "execution_count": 1,
   "id": "b177ee9f",
   "metadata": {},
   "outputs": [],
   "source": [
    "# Import Libraries\n",
    "import sys\n",
    "from IPython import get_ipython;\n",
    "get_ipython().magic('reset -sf')\n",
    "import pandas as pd\n",
    "pd.set_option('display.max_colwidth', None)\n",
    "from IPython.display import display, HTML\n",
    "import re\n",
    "import math\n",
    "from itertools import count\n",
    "from openpyxl.utils import get_column_letter\n",
    "from openpyxl import Workbook\n",
    "from openpyxl import load_workbook"
   ]
  },
  {
   "cell_type": "code",
   "execution_count": 2,
   "id": "a233a33e",
   "metadata": {},
   "outputs": [],
   "source": [
    "# Replace with path to your excel file. \n",
    "input_file_path = r'C:\\Users\\Mewtwo\\Downloads\\New Microsoft Excel Worksheet (2).xlsx'\n",
    "\n",
    "#input_file_path = r'RFNSA STAD.xlsx'\n",
    "if 'google.colab' in str(get_ipython()):\n",
    "    print('Running on CoLab')\n",
    "    running_in_colab = True\n",
    "    input_file_path =  False\n",
    "    google_sheet_url = 'https://docs.google.com/spreadsheets/d/1H0gCKcFrVTpaCtJ3vFqDuzjTmIrvVptw2AJIgzERh88/'\n",
    "else:\n",
    "    google_sheet_url = False\n",
    "    running_in_colab = False"
   ]
  },
  {
   "cell_type": "code",
   "execution_count": 3,
   "id": "74d419e7",
   "metadata": {},
   "outputs": [],
   "source": [
    "class text_format:\n",
    "   PURPLE = '\\033[95m'\n",
    "   CYAN = '\\033[96m'\n",
    "   DARKCYAN = '\\033[36m'\n",
    "   BLUE = '\\033[94m'\n",
    "   GREEN = '\\033[92m'\n",
    "   YELLOW = '\\033[93m'\n",
    "   RED = '\\033[91m'\n",
    "   BOLD = '\\033[1m'\n",
    "   UNDERLINE = '\\033[4m'\n",
    "   END = '\\033[0m'\n",
    "\n",
    "def import_google_sheet(google_sheet_url):\n",
    "  # 1. Authorizing google colab\n",
    "    if running_in_colab:\n",
    "        from google.colab import auth\n",
    "        auth.authenticate_user()\n",
    "\n",
    "        # 2. credentials for google sheets\n",
    "        import gspread\n",
    "        from google.auth import default\n",
    "        creds, _ = default()\n",
    "\n",
    "        # 3. authotizing the connection\n",
    "        gc = gspread.authorize(creds)\n",
    "\n",
    "        #4. Connecting \n",
    "        spreadsheet = gc.open_by_url(google_sheet_url)\n",
    "        worksheet = spreadsheet.worksheet('Sheet1')\n",
    "\n",
    "        #5. Exporting data to get_all_values gives a list of rows.\n",
    "        rows = worksheet.get_all_values()\n",
    "\n",
    "        # 6. Using pandas to convert to a DataFrame and render.\n",
    "        df = pd.DataFrame(rows[1:], columns=rows[0])\n",
    "    return df\n",
    "\n",
    "def download_file_from_google_colab(output_file_path):\n",
    "    from google.colab import files\n",
    "    files.download(output_file_path)\n",
    "    print(f\"File downloaded: {output_file_path}\")\n",
    "\n",
    "\n",
    "# Function to convert from W to dBm\n",
    "def watts_to_dBm(mW):\n",
    "    return 10.*log10(mW) + 30\n",
    "\n",
    "# Function to convert from dBm to W\n",
    "def dBm_to_watts(dBm):\n",
    "    return 10**((dBm-30)/10)\n",
    "\n",
    "# Select 'Mount Height (m)' if available\n",
    "def find_mount_height(data):   \n",
    "    MountHeight = []\n",
    "    for l, m in zip(data['Height - Phase Centre (m)'], data['Mount Height (m)']):\n",
    "        if (m==0)|(m==''):\n",
    "            MountHeight.append(l)\n",
    "        else:\n",
    "            MountHeight.append(m)\n",
    "    return MountHeight\n",
    "\n",
    "# Find technology carrier in antenna \n",
    "def find_carriers(df):\n",
    "    Carriers = [''] * len(df)\n",
    "    for idx in list( dict.fromkeys(df['Antenna Name ID Combined']) ):\n",
    "        multicarrier = []\n",
    "        for x in df.loc[df['Antenna Name ID Combined'] == idx, 'Operator']:\n",
    "            multicarrier.append(x)       \n",
    "        for index, operator in df.loc[df['Antenna Name ID Combined'] == idx, 'Operator'].iteritems():\n",
    "            Carriers[index] = '/'.join(list( dict.fromkeys(multicarrier)))\n",
    "\n",
    "    return Carriers\n",
    "\n",
    "# Find technology in antenna \n",
    "def find_tech(df):\n",
    "    tech = []\n",
    "    for x, y in enumerate(df['Carrier']):\n",
    "        if '/' in y:\n",
    "            tech.append(''.join(df['System'][x].split(\";\")))\n",
    "        else:\n",
    "            tech.append(df['System'][x].split(\";\")[1].strip())\n",
    "    return tech\n",
    "\n",
    "# Find the sectors\n",
    "def find_sectors(df):\n",
    "    sectors = [''] * len(df)\n",
    "    for idx in list( dict.fromkeys(df['Antenna Name ID Combined'])):\n",
    "        Sectorstemp = []\n",
    "        counter = 0\n",
    "        for x in df.loc[df['Antenna Name ID Combined'] == idx, 'Sector']:\n",
    "            Sectorstemp.append(str(x))\n",
    "            counter +=1\n",
    "            #display(idx)\n",
    "        Sectorstemp.sort()\n",
    "            \n",
    "        for index, operator in df.loc[df['Antenna Name ID Combined'] == idx, 'Sector'].iteritems():\n",
    "            sectors[index] = '/'.join(list( dict.fromkeys(Sectorstemp)))\n",
    "    return sectors\n",
    "\n",
    "def find_EDT(df):\n",
    "    EDT = []\n",
    "    for idx in list( dict.fromkeys(df['ID'],df['Antenna'])):\n",
    "        EDTtemp = []\n",
    "        counter = 0\n",
    "        for x in df.loc[df['ID'] == idx, 'EDT']:\n",
    "            EDTtemp.append(str(x))\n",
    "            counter +=1\n",
    "            #display(idx)\n",
    "        EDTtemp.sort()\n",
    "        for c in range(counter):\n",
    "            EDT.append(', '.join(list( dict.fromkeys(EDTtemp))))\n",
    "    return EDT\n",
    "\n",
    "######## what should be the Assessment frequency? ########\n",
    "def Find_assesment_frequency(TECH):\n",
    "    Assess_Freq_list = []\n",
    "    for t in TECH:\n",
    "        try:\n",
    "            i = re.search(\"(\\d+)\", str(t)).group(0)\n",
    "            if any([x == i for x in ['900','850']]):\n",
    "                Assess_Freq_list.append('900')\n",
    "            elif any([i == 2100]):\n",
    "                Assess_Freq_list.append('2100')\n",
    "            elif i == '1800':\n",
    "                Assess_Freq_list.append('1800')\n",
    "            elif i== '2600':\n",
    "                Assess_Freq_list.append('2600')\n",
    "            elif any([x == i for x in ['700','750']]):\n",
    "                Assess_Freq_list.append('750')\n",
    "            elif i == '2300':\n",
    "                Assess_Freq_list.append('2350')\n",
    "            elif i == '3500':\n",
    "                Assess_Freq_list.append('3500')\n",
    "            else:\n",
    "                Assess_Freq_list.append(i)\n",
    "        except AttributeError:\n",
    "            Assess_Freq_list.append(t.strip())\n",
    "    return Assess_Freq_list\n",
    "\n",
    "#Correcting microwavelinks\n",
    "def fix_microwavelinks_power(df):\n",
    "    templist = []\n",
    "    for x in df['Powers']:\n",
    "        if ';' not in str(x):\n",
    "            templist.append(str(x)+';')\n",
    "        else:\n",
    "            templist.append(str(x))\n",
    "    return templist\n",
    "\n",
    "#Count the total ports of each antenna\n",
    "def count_total_ports(df):\n",
    "    total_ports = df['Powers'].str.count(';').fillna(0) + 1\n",
    "    return total_ports\n",
    "\n",
    "### Convert te Power(dBm) into Watts\n",
    "def find_power_in_watts(df):\n",
    "    temp_power = []\n",
    "    for elm in df['Powers'].str.split(\";\"):\n",
    "        if isinstance(elm, (list, tuple)):\n",
    "            elm = [x for x in elm if x != '']  # Remove any empty strings from the list\n",
    "            converted_values = []\n",
    "            for sub in elm:\n",
    "                if float(sub) >= 30:\n",
    "                    try:\n",
    "                        converted_values.append(round(dBm_to_watts(float(sub)),1))\n",
    "                    except ValueError:\n",
    "                        converted_values.append(sub)\n",
    "                        pass  # Skip the current value if it cannot be converted to a float\n",
    "                else:\n",
    "                     try:\n",
    "                        converted_values.append(round(dBm_to_watts(float(sub)),4))\n",
    "                     except ValueError:\n",
    "                        converted_values.append(sub)\n",
    "                        pass  # Skip the current value if it cannot be converted to a float\n",
    "            temp_power.append(converted_values)\n",
    "        else:\n",
    "            try:\n",
    "                temp_power.append([dBm_to_watts(float(elm))])\n",
    "            except ValueError:\n",
    "                temp_power.append([])\n",
    "    return temp_power\n",
    "\n",
    "######## Which ports to add powers to? ########\n",
    "def find_powered_ports(df):\n",
    "    Mylist =[]\n",
    "\n",
    "    for i in df['Powers']:\n",
    "        count = 1\n",
    "        lister = []\n",
    "        if isinstance(i, str):\n",
    "            for j in i:\n",
    "                if j==';':\n",
    "                    count+=1\n",
    "                else:\n",
    "                    lister.append(count)\n",
    "            Mylist.append(lister)\n",
    "        else:\n",
    "            Mylist.append(list(str(i))) \n",
    "\n",
    "    new_k = []\n",
    "    for elem in Mylist:\n",
    "        kiterator=[]\n",
    "        for el in elem:\n",
    "            if el not in kiterator:\n",
    "                kiterator.append(el)\n",
    "        new_k.append(kiterator)\n",
    "    k = new_k\n",
    "    return k\n",
    "\n",
    "#Add 0 before single digit\n",
    "def fix_alphanumeric(input_list):\n",
    "    fixed_list = []\n",
    "    for x in input_list:\n",
    "        templist = []\n",
    "        for y in re.split(r'(\\d+)', x.strip()):\n",
    "            if re.match('\\d{1,4}', y):\n",
    "                y = y.zfill(5)\n",
    "            templist.append(y)\n",
    "        fixed_list.append(''.join(templist))\n",
    "    return fixed_list\n",
    "\n",
    "def generate_telstra_canrad(total_Ports_dict, df):\n",
    "    listpow = []\n",
    "    listfunc = []\n",
    "    listport = []\n",
    "    x = 0\n",
    "    yprev = 0\n",
    "\n",
    "    for AntId, AntPorts in total_Ports_dict.items():\n",
    "        templistpow = [0] * int(AntPorts[0])\n",
    "        templistfunc = [''] * int(AntPorts[0])\n",
    "        templistport = list(range(1,int(AntPorts[0])+1))\n",
    "        #tempfunc = [''] * int(AntPorts[0])\n",
    "        tempdf = df.loc[(df['Antenna Name ID Combined']==AntId), ['Sector','Tech','WhereToAddPower','Powers (W)']]\n",
    "        for sector, tech, port, power in zip(tempdf['Sector'], tempdf['Tech'], tempdf['WhereToAddPower'], \n",
    "                                             tempdf['Powers (W)']):\n",
    "            for x, y in enumerate(port):       \n",
    "                #if sector not in templistfunc[y]:\n",
    "                templistfunc[y-1] += tech +'/'\n",
    "                templistpow[y-1] = str(round(float(templistpow[y-1]) + float(power[x]),3))\n",
    "        listpow.append(templistpow)\n",
    "        listport.append(templistport)\n",
    "        listfunc.append(templistfunc)\n",
    "    \n",
    "    listid_unwrap = []\n",
    "    listport_unwrap = []\n",
    "    listfunc_unwrap = []\n",
    "    listpow_unwrap = []\n",
    "    for a, z, x, y in zip([x for x in total_Ports_dict.keys()], listport, listfunc, listpow): \n",
    "        listid_unwrap.extend([a]*len(x))\n",
    "        listport_unwrap.extend(z)\n",
    "        listfunc_unwrap.extend(x)\n",
    "        listpow_unwrap.extend(y)\n",
    "    return listid_unwrap, listport_unwrap, listpow_unwrap, listfunc_unwrap\n",
    "\n",
    "def find_tech_total_power(df):\n",
    "    tech_total_power = []\n",
    "    for powers in df['Powers (W)']:\n",
    "        total_power = 0\n",
    "        for power in powers:\n",
    "            total_power = total_power + float(power)\n",
    "        tech_total_power.append(str(total_power)+' W')\n",
    "    return tech_total_power\n",
    "\n",
    "    \n",
    "def generate_equipment_list(total_Ports_dict, df):\n",
    "    EDT_dict = {}\n",
    "    for idantenna in list( dict.fromkeys(df['Antenna Name ID Combined'],df['Antenna'])):\n",
    "        EDT_dict[idantenna] = list(dict.fromkeys(df.loc[df['Antenna Name ID Combined'] == idantenna, 'EDT']))\n",
    "    \n",
    "    ID_dict = {}\n",
    "    for idantenna in list( dict.fromkeys(df['Antenna Name ID Combined'],df['Antenna'])):\n",
    "        ID_dict[idantenna] = list(dict.fromkeys(df.loc[df['Antenna Name ID Combined'] == idantenna, 'ID']))\n",
    "        \n",
    "    listpow = []\n",
    "    listsec = []\n",
    "    x = 0\n",
    "    yprev = 0\n",
    "    for AntId, AntPorts in total_Ports_dict.items():\n",
    "        templistpow = [''] * (int(AntPorts[0] / 2) + int(AntPorts[0] % 2))\n",
    "        templistsec = [''] * (int(AntPorts[0] / 2) + int(AntPorts[0] % 2))\n",
    "        tempdf = df.loc[(df['Antenna Name ID Combined']==AntId), ['EDT','System/Sector','WhereToAddPower','Powers (W)']]\n",
    "        for sector, port, power in zip(tempdf['System/Sector'], tempdf['WhereToAddPower'], tempdf['Powers (W)']):\n",
    "            display(AntId)\n",
    "            if len(port)>1:\n",
    "                for x, y in enumerate(port):       \n",
    "                    if sector not in templistsec[math.ceil(int(y)/2)-1]:\n",
    "                        templistsec[math.ceil(int(y)/2)-1] += sector +'\\n'\n",
    "                        templistpow[math.ceil(int(y)/2)-1] += '\\n'\n",
    "                    templistpow[math.ceil(int(y)/2)-1] += '+' + str(power[x])\n",
    "            if len(port)==1:\n",
    "                for x, y in enumerate(port):\n",
    "                    display(math.ceil(int(y)/2)-1)\n",
    "                    templistsec[math.ceil(int(y)/2)-1] += sector +'\\n'\n",
    "                    if y%2==0:\n",
    "                        templistpow[math.ceil(int(y)/2)-1] += '\\n0++' + str(power[x])\n",
    "                    else:\n",
    "                        templistpow[math.ceil(int(y)/2)-1] += '\\n' + str(power[x]) + '++0'\n",
    "\n",
    "        listpow.append(templistpow)\n",
    "        listsec.append(templistsec)\n",
    "\n",
    "    for index1, x in enumerate(listpow):\n",
    "        for index2, y in enumerate(x):\n",
    "            if y == '':\n",
    "                listpow[index1][index2] = '0'\n",
    "\n",
    "    for index1, x in enumerate(listsec):\n",
    "        for index2, y in enumerate(x):\n",
    "            if y == '':\n",
    "                listsec[index1][index2] = '-'\n",
    "    \n",
    "    listid_unwrap = []\n",
    "    listsec_unwrap = []\n",
    "    listpow_unwrap = []\n",
    "    listedt_unwrap = []\n",
    "    for a, b, x, y, z in zip([x for x in total_Ports_dict.keys()], [x for x in ID_dict.values()], listsec, listpow, [x for x in EDT_dict.values()]): \n",
    "        listid_unwrap.extend(b)\n",
    "        listid_unwrap.extend(['']*(len(x)-1))\n",
    "        listsec_unwrap.extend(x)\n",
    "        listpow_unwrap.extend(y)\n",
    "        listedt_unwrap.extend(z*len(x))\n",
    "    listpol = []\n",
    "    for index, sys_sec in enumerate(listsec_unwrap):\n",
    "        if 'link' in sys_sec or 'Radio' in sys_sec or 'Network' in sys_sec:\n",
    "            listpol.append('')\n",
    "        else:\n",
    "            listpol.append('Dual Slant')\n",
    "    \n",
    "    return listid_unwrap, listedt_unwrap, listpol, listsec_unwrap, listpow_unwrap\n",
    "\n",
    "def process_ibc_data(df_IBC):\n",
    "    antenna_list = []\n",
    "    structure_list = []\n",
    "    system_list = []\n",
    "    max_power_list = []\n",
    "    for struc in list( dict.fromkeys(df_IBC['Structure']) ):\n",
    "        structure_list.append(struc)\n",
    "        antenna_list.append(list(dict.fromkeys(df_IBC.loc[df_IBC['Structure'] == struc, 'Antenna'])))\n",
    "        system_list.append('\\n'.join(x for x in dict.fromkeys(df_IBC.loc[(df_IBC['Structure'] == struc) & (df_IBC['System'].str.contains('IBC Composite')== False), 'System'].sort_values(ascending=True))))\n",
    "\n",
    "    antenna_list = [[item for item in sublist if item not in ['MNC', 'DAS']] for sublist in antenna_list]\n",
    "    system_list = [item.replace(' [IBC]', '').replace(' ;','') for item in system_list]\n",
    "\n",
    "    for struc in antenna_list:\n",
    "        max_power_list_temp = []\n",
    "        for ant in struc:\n",
    "            max_power = max(df_IBC.loc[df_IBC['Antenna'] == ant, 'Tech Total Power'])\n",
    "            max_power_port =  ', '.join(str(x) for x in dict.fromkeys(df_IBC.loc[(df_IBC['Antenna'] == ant) & (df_IBC['Tech Total Power'] == max_power), 'ID']))\n",
    "            max_power_list_temp.append(str(max_power) + '\\n[' + str(max_power_port)+']')\n",
    "\n",
    "        max_power_list.append(max_power_list_temp)\n",
    "\n",
    "    antenna_list_unwrap = []\n",
    "    structure_list_unwrap = []\n",
    "    system_list_unwrap = []\n",
    "    max_power_list_unwrap = []\n",
    "\n",
    "    antenna_list_unwrap.extend(x for y in antenna_list for x in y)\n",
    "    structure_list_unwrap.extend(l for x, y in zip(structure_list, antenna_list) for l in [str(x)]*len(y))\n",
    "    system_list_unwrap.extend(l for x, y in zip(system_list, antenna_list) for l in [str(x)]*len(y))\n",
    "    max_power_list_unwrap.extend(x for y in max_power_list for x in y)\n",
    "    \n",
    "    return structure_list_unwrap, antenna_list_unwrap, system_list_unwrap, max_power_list_unwrap\n",
    "\n",
    "def export_to_excel(df, EquipmentList, CANRAD, dfSiteInfo, dfSiteNames, dfStructureInfo, IBC_data = False):\n",
    "    nsa_number = str(dfSiteInfo['NSA'].values.tolist()[0]) \n",
    "    site_name = re.sub(\"[\\\\\\\\/]\", \" \", dfSiteNames['Site Name'].values.tolist()[0])\n",
    "    output_file_name = nsa_number + ' ' + site_name + ' RFNSA Wrangled Data.xlsx'\n",
    "    output_file_path = r'C:\\Users\\Mewtwo\\Desktop'+'\\\\' + output_file_name\n",
    "    if running_in_colab:\n",
    "        output_file_path = output_file_name\n",
    "    antenna_names_dict = {}\n",
    "    for antenna in list( dict.fromkeys(df['Antenna']) ):\n",
    "        antenna_names_dict[antenna] = list(dict.fromkeys(df.loc[df['Antenna'] == antenna, 'ID']))\n",
    "\n",
    "    df3 = pd.DataFrame(dict([(k,pd.Series(v)) for k,v in antenna_names_dict.items() ]))\n",
    "    df3 = df3.fillna('')\n",
    "\n",
    "    dfAntennaSettings = df[['ID','Bearing','Height','MDT','Total Ports','Carrier','Antenna','Sectors']].copy()\n",
    "    dfAntennaSettings = dfAntennaSettings.drop_duplicates(keep='first')\n",
    "    dfAntennaSettings = dfAntennaSettings.reset_index(drop=True)\n",
    "    dfAntennaSettings.index += 1\n",
    "\n",
    "\n",
    "    wb = Workbook()\n",
    "    wb.save(output_file_path)\n",
    "    \n",
    "    #cell_format = wb.add_format({'bold': False, \"font_name\": \"Arial\"})\n",
    "\n",
    "    writer = pd.ExcelWriter(output_file_path, engine='openpyxl')\n",
    "    df3.to_excel(writer, sheet_name = 'Antenna IDs', index=False)\n",
    "    df.to_excel(writer, sheet_name = 'Powers to Prox', columns = ['Antenna','ID',\n",
    "                                                                      'Tech','Tech Total Power','WhereToAddPower',\n",
    "                                                                      'Powers (W)', 'ProX5 ports', \n",
    "                                                                      'ProX5 powers','Assess Freq','EDT',\n",
    "                                                                      'Notes'], index=False)\n",
    "    dfAntennaSettings.to_excel(writer, sheet_name = 'Antenna Settings', index=True)\n",
    "    pd.DataFrame([]).to_excel(writer, sheet_name = 'ProX5 Equip. Report', index=False)\n",
    "    EquipmentList.set_index(EquipmentList.columns[:2].tolist()).to_excel(writer, sheet_name = 'EMEG List')\n",
    "    #EquipmentList.set_index(EquipmentList.columns[:2].tolist()).to_excel('filename.xlsx')\n",
    "\n",
    "    CANRAD.to_excel(writer, sheet_name = 'CANRAD', index=False)\n",
    "    #df.to_excel(writer, sheet_name = 'df', index=False)\n",
    "    dfSiteInfo.to_excel(writer, sheet_name = 'Site Info', index=False)\n",
    "    dfSiteNames.to_excel(writer, sheet_name = 'Site Info', startcol = 3,index=False)\n",
    "    dfStructureInfo.to_excel(writer, sheet_name = 'Site Info',startcol = 5, index=False)\n",
    "\n",
    "    if not IBC_data.empty:\n",
    "        IBC_data.to_excel(writer, sheet_name = 'IBC', index=False)\n",
    "    # load the Excel file with openpyxl\n",
    "    workbook = writer.book\n",
    "\n",
    "    for sheet in workbook:\n",
    "        for column in range(1, sheet.max_column + 2):\n",
    "            letter = get_column_letter(column)\n",
    "            #sheet.column_dimensions[letter].auto_size = True\n",
    "            sheet.column_dimensions[letter].bestFit = True\n",
    "\n",
    "    # save the modified workbook\n",
    "    workbook.save(output_file_path)\n",
    "    \n",
    "    for sheetname in workbook.sheetnames:\n",
    "        worksheet = workbook[sheetname]\n",
    "\n",
    "        # set best fit attribute to true for all columns\n",
    "        for column_cells in worksheet.columns:\n",
    "            length = max(len(str(cell.value)) for cell in column_cells)\n",
    "            worksheet.column_dimensions[column_cells[0].column_letter].width = length + 5\n",
    "            worksheet.column_dimensions[column_cells[0].column_letter].bestFit = True\n",
    "\n",
    "    worksheet = workbook.active\n",
    "\n",
    "    #export_to_html(EquipmentList,dfAntennaSettings,  df3, df, CANRAD)\n",
    "   \n",
    "    # set the width of column A to 15\n",
    "    column_letter = get_column_letter(1)  # A\n",
    "    column_dimension = worksheet.column_dimensions[column_letter]\n",
    "    column_dimension.width = 15\n",
    "    column_dimension.bestFit = True\n",
    "    print(f\"Results saved to {output_file_path}\")\n",
    "    if running_in_colab:\n",
    "        download_file_from_google_colab(output_file_path)\n",
    "        \n",
    "def export_to_html(EquipmentList,dfAntennaSettings,  df3, df, CANRAD):\n",
    "        EquipmentList.to_html(r'C:\\Users\\Mewtwo\\Desktop\\EMEGList.html', index=False)\n",
    "        dfAntennaSettings.to_html(r'C:\\Users\\Mewtwo\\Desktop\\Antennadata.html', index=True)\n",
    "        df3.to_html(r'C:\\Users\\Mewtwo\\Desktop\\Antennadata2.html',index=False)\n",
    "        df.to_html(r'C:\\Users\\Mewtwo\\Desktop\\Antennadata3.html', columns = ['Antenna','ID',\n",
    "                                                                          'Tech','Tech Total Power','WhereToAddPower',\n",
    "                                                                          'Powers (W)', 'ProX5 ports', \n",
    "                                                                          'ProX5 powers','Assess Freq','EDT',\n",
    "                                                                          'Notes'], index=False)\n",
    "        CANRAD.to_html(r'C:\\Users\\Mewtwo\\Desktop\\Canrad.html',index=False)"
   ]
  },
  {
   "cell_type": "code",
   "execution_count": 4,
   "id": "2e71d00d",
   "metadata": {},
   "outputs": [],
   "source": [
    "if __name__ == \"__main__\":\n",
    "    try:\n",
    "        if input_file_path:\n",
    "            data = pd.read_excel(input_file_path)\n",
    "    except NameError:\n",
    "        print('No file with that name')\n",
    "        input_file_path = False\n",
    "        pass\n",
    "    try:\n",
    "        if google_sheet_url:\n",
    "            data = import_google_sheet(google_sheet_url)\n",
    "    except NameError:\n",
    "        print('No sheet with that name')\n",
    "        google_sheet_url = False\n",
    "        pass\n",
    "    data.fillna(value = 0,inplace = True)\n",
    "    #remove the proposed Antennas\n",
    "    data = data.drop(data[data['Existing/Proposed'] == 'Proposed'].index)\n",
    "    data['Height'] = find_mount_height(data)"
   ]
  },
  {
   "cell_type": "code",
   "execution_count": 5,
   "id": "fe36ba06",
   "metadata": {},
   "outputs": [],
   "source": [
    "    dfSiteInfo = pd.DataFrame(data, columns=['NSA','Latitude', 'Longitude', 'Region'])\n",
    "    dfSiteInfo['Coordinates'] = dfSiteInfo['Latitude'].astype(str) + ', ' + dfSiteInfo['Longitude'].astype(str)\n",
    "    dfSiteInfo = dfSiteInfo.drop('Latitude', axis=1)\n",
    "    dfSiteInfo = dfSiteInfo.drop('Longitude', axis=1)\n",
    "\n",
    "    dfStructureInfo = pd.DataFrame(data, columns=['Structure Owner','Structure',\n",
    "                                             'Site System (Structure No)',])\n",
    "    dfSiteNames = pd.DataFrame(data, columns=['System','Site Name'])\n",
    "    dfSiteNames['Operator'] = dfSiteNames['System'].str.split(\" /\").str[0]\n",
    "    dfSiteNames = dfSiteNames.drop('System', axis=1)\n",
    "    dfSiteNames['Site Name']=dfSiteNames['Site Name'].apply(lambda x: x.title())\n",
    "\n",
    "    dfStructureInfo['Structure'] = ['Structure ' +f'{l}' + ': ' + ''.join(''.join(map(str, m))) \n",
    "                                    for l, m in zip(dfStructureInfo['Site System (Structure No)'],\n",
    "                                                    dfStructureInfo['Structure'])]\n",
    "    dfStructureInfo = dfStructureInfo.drop('Site System (Structure No)', axis=1)\n",
    "\n",
    "    dfSiteNames = dfSiteNames.drop_duplicates(keep='first')\n",
    "    dfSiteInfo = dfSiteInfo.drop_duplicates(keep='first')\n",
    "    dfStructureInfo = dfStructureInfo.drop_duplicates(keep='first')"
   ]
  },
  {
   "cell_type": "code",
   "execution_count": 6,
   "id": "9ee4ffcf",
   "metadata": {},
   "outputs": [
    {
     "name": "stdout",
     "output_type": "stream",
     "text": [
      "219\n",
      "['Telstra ; LTE1800 [IBC]\\nTelstra ; WCDMA850 [IBC]', 'Optus ; LTE1800 [IBC]\\nOptus ; LTE2300 [IBC]\\nOptus ; LTE2600 [IBC]\\nOptus ; LTE700 [IBC]\\nOptus ; LTE900 [IBC]\\nOptus ; NR/LTE2100 [IBC]\\nOptus ; NR2300 [IBC]\\nOptus ; WCDMA900 [IBC]\\nTelstra ; LTE1800 [IBC]\\nTelstra ; LTE2600 [IBC]\\nTelstra ; LTE700 [IBC]\\nTelstra ; WCDMA850 [IBC]\\nVodafone ; LTE1800 [IBC]\\nVodafone ; LTE2100 [IBC]\\nVodafone ; LTE850 [IBC]\\nVodafone ; NR700 [IBC]\\nVodafone ; WCDMA900 [IBC]', 'OVJV ; WCDMA2100 [IBC]']\n"
     ]
    },
    {
     "data": {
      "text/plain": [
       "'AIR3239 B4016-O'"
      ]
     },
     "metadata": {},
     "output_type": "display_data"
    },
    {
     "data": {
      "text/plain": [
       "0"
      ]
     },
     "metadata": {},
     "output_type": "display_data"
    },
    {
     "data": {
      "text/plain": [
       "'AIR3239 B4026-O'"
      ]
     },
     "metadata": {},
     "output_type": "display_data"
    },
    {
     "data": {
      "text/plain": [
       "0"
      ]
     },
     "metadata": {},
     "output_type": "display_data"
    },
    {
     "data": {
      "text/plain": [
       "'AIR3239 B4036-O'"
      ]
     },
     "metadata": {},
     "output_type": "display_data"
    },
    {
     "data": {
      "text/plain": [
       "0"
      ]
     },
     "metadata": {},
     "output_type": "display_data"
    },
    {
     "data": {
      "text/plain": [
       "'AIR648814-O'"
      ]
     },
     "metadata": {},
     "output_type": "display_data"
    },
    {
     "data": {
      "text/plain": [
       "0"
      ]
     },
     "metadata": {},
     "output_type": "display_data"
    },
    {
     "data": {
      "text/plain": [
       "'AIR648824-O'"
      ]
     },
     "metadata": {},
     "output_type": "display_data"
    },
    {
     "data": {
      "text/plain": [
       "0"
      ]
     },
     "metadata": {},
     "output_type": "display_data"
    },
    {
     "data": {
      "text/plain": [
       "'AIR648834-O'"
      ]
     },
     "metadata": {},
     "output_type": "display_data"
    },
    {
     "data": {
      "text/plain": [
       "0"
      ]
     },
     "metadata": {},
     "output_type": "display_data"
    },
    {
     "data": {
      "text/plain": [
       "'APE4517R012-O'"
      ]
     },
     "metadata": {},
     "output_type": "display_data"
    },
    {
     "data": {
      "text/plain": [
       "'APE4517R012-O'"
      ]
     },
     "metadata": {},
     "output_type": "display_data"
    },
    {
     "data": {
      "text/plain": [
       "0"
      ]
     },
     "metadata": {},
     "output_type": "display_data"
    },
    {
     "data": {
      "text/plain": [
       "'APE4517R012-O'"
      ]
     },
     "metadata": {},
     "output_type": "display_data"
    },
    {
     "data": {
      "text/plain": [
       "'APE4517R012-O'"
      ]
     },
     "metadata": {},
     "output_type": "display_data"
    },
    {
     "data": {
      "text/plain": [
       "'APE4517R012-O'"
      ]
     },
     "metadata": {},
     "output_type": "display_data"
    },
    {
     "data": {
      "text/plain": [
       "'APE4517R012-O'"
      ]
     },
     "metadata": {},
     "output_type": "display_data"
    },
    {
     "data": {
      "text/plain": [
       "'APE4517R012-O'"
      ]
     },
     "metadata": {},
     "output_type": "display_data"
    },
    {
     "data": {
      "text/plain": [
       "'APE4517R022-O'"
      ]
     },
     "metadata": {},
     "output_type": "display_data"
    },
    {
     "data": {
      "text/plain": [
       "'APE4517R022-O'"
      ]
     },
     "metadata": {},
     "output_type": "display_data"
    },
    {
     "data": {
      "text/plain": [
       "0"
      ]
     },
     "metadata": {},
     "output_type": "display_data"
    },
    {
     "data": {
      "text/plain": [
       "'APE4517R022-O'"
      ]
     },
     "metadata": {},
     "output_type": "display_data"
    },
    {
     "data": {
      "text/plain": [
       "'APE4517R022-O'"
      ]
     },
     "metadata": {},
     "output_type": "display_data"
    },
    {
     "data": {
      "text/plain": [
       "'APE4517R022-O'"
      ]
     },
     "metadata": {},
     "output_type": "display_data"
    },
    {
     "data": {
      "text/plain": [
       "'APE4517R022-O'"
      ]
     },
     "metadata": {},
     "output_type": "display_data"
    },
    {
     "data": {
      "text/plain": [
       "'APE4517R022-O'"
      ]
     },
     "metadata": {},
     "output_type": "display_data"
    },
    {
     "data": {
      "text/plain": [
       "'T2004L6R02112-O'"
      ]
     },
     "metadata": {},
     "output_type": "display_data"
    },
    {
     "data": {
      "text/plain": [
       "'T2004L6R02112-O'"
      ]
     },
     "metadata": {},
     "output_type": "display_data"
    },
    {
     "data": {
      "text/plain": [
       "1"
      ]
     },
     "metadata": {},
     "output_type": "display_data"
    },
    {
     "data": {
      "text/plain": [
       "'T2004L6R02112-O'"
      ]
     },
     "metadata": {},
     "output_type": "display_data"
    },
    {
     "data": {
      "text/plain": [
       "'T2004L6R02112-O'"
      ]
     },
     "metadata": {},
     "output_type": "display_data"
    },
    {
     "data": {
      "text/plain": [
       "'T2004L6R02112-O'"
      ]
     },
     "metadata": {},
     "output_type": "display_data"
    },
    {
     "data": {
      "text/plain": [
       "2"
      ]
     },
     "metadata": {},
     "output_type": "display_data"
    },
    {
     "data": {
      "text/plain": [
       "'T2004L6R02112-O'"
      ]
     },
     "metadata": {},
     "output_type": "display_data"
    },
    {
     "data": {
      "text/plain": [
       "'T2004L6R02112-O'"
      ]
     },
     "metadata": {},
     "output_type": "display_data"
    },
    {
     "data": {
      "text/plain": [
       "'T2004L6R02112-O'"
      ]
     },
     "metadata": {},
     "output_type": "display_data"
    },
    {
     "data": {
      "text/plain": [
       "'T2004L6R02122-O'"
      ]
     },
     "metadata": {},
     "output_type": "display_data"
    },
    {
     "data": {
      "text/plain": [
       "'T2004L6R02122-O'"
      ]
     },
     "metadata": {},
     "output_type": "display_data"
    },
    {
     "data": {
      "text/plain": [
       "1"
      ]
     },
     "metadata": {},
     "output_type": "display_data"
    },
    {
     "data": {
      "text/plain": [
       "'T2004L6R02122-O'"
      ]
     },
     "metadata": {},
     "output_type": "display_data"
    },
    {
     "data": {
      "text/plain": [
       "'T2004L6R02122-O'"
      ]
     },
     "metadata": {},
     "output_type": "display_data"
    },
    {
     "data": {
      "text/plain": [
       "'T2004L6R02122-O'"
      ]
     },
     "metadata": {},
     "output_type": "display_data"
    },
    {
     "data": {
      "text/plain": [
       "4"
      ]
     },
     "metadata": {},
     "output_type": "display_data"
    },
    {
     "data": {
      "text/plain": [
       "'T2004L6R02122-O'"
      ]
     },
     "metadata": {},
     "output_type": "display_data"
    },
    {
     "data": {
      "text/plain": [
       "'T2004L6R02122-O'"
      ]
     },
     "metadata": {},
     "output_type": "display_data"
    },
    {
     "data": {
      "text/plain": [
       "'T2004L6R02122-O'"
      ]
     },
     "metadata": {},
     "output_type": "display_data"
    },
    {
     "data": {
      "text/plain": [
       "'T2004L6R02132-O'"
      ]
     },
     "metadata": {},
     "output_type": "display_data"
    },
    {
     "data": {
      "text/plain": [
       "'T2004L6R02132-O'"
      ]
     },
     "metadata": {},
     "output_type": "display_data"
    },
    {
     "data": {
      "text/plain": [
       "1"
      ]
     },
     "metadata": {},
     "output_type": "display_data"
    },
    {
     "data": {
      "text/plain": [
       "'T2004L6R02132-O'"
      ]
     },
     "metadata": {},
     "output_type": "display_data"
    },
    {
     "data": {
      "text/plain": [
       "'T2004L6R02132-O'"
      ]
     },
     "metadata": {},
     "output_type": "display_data"
    },
    {
     "data": {
      "text/plain": [
       "'T2004L6R02132-O'"
      ]
     },
     "metadata": {},
     "output_type": "display_data"
    },
    {
     "data": {
      "text/plain": [
       "2"
      ]
     },
     "metadata": {},
     "output_type": "display_data"
    },
    {
     "data": {
      "text/plain": [
       "'T2004L6R02132-O'"
      ]
     },
     "metadata": {},
     "output_type": "display_data"
    },
    {
     "data": {
      "text/plain": [
       "'T2004L6R02132-O'"
      ]
     },
     "metadata": {},
     "output_type": "display_data"
    },
    {
     "data": {
      "text/plain": [
       "'T2004L6R02132-O'"
      ]
     },
     "metadata": {},
     "output_type": "display_data"
    },
    {
     "data": {
      "text/plain": [
       "'AIR6488A2'"
      ]
     },
     "metadata": {},
     "output_type": "display_data"
    },
    {
     "data": {
      "text/plain": [
       "'AIR6488A6'"
      ]
     },
     "metadata": {},
     "output_type": "display_data"
    },
    {
     "data": {
      "text/plain": [
       "'AIR6488A7'"
      ]
     },
     "metadata": {},
     "output_type": "display_data"
    },
    {
     "data": {
      "text/plain": [
       "'APXV18-206517LA2'"
      ]
     },
     "metadata": {},
     "output_type": "display_data"
    },
    {
     "data": {
      "text/plain": [
       "'HPLP1-38A4'"
      ]
     },
     "metadata": {},
     "output_type": "display_data"
    },
    {
     "data": {
      "text/plain": [
       "0"
      ]
     },
     "metadata": {},
     "output_type": "display_data"
    },
    {
     "data": {
      "text/plain": [
       "'MPX310D-CXA1'"
      ]
     },
     "metadata": {},
     "output_type": "display_data"
    },
    {
     "data": {
      "text/plain": [
       "'RV4PX310R-V2A5'"
      ]
     },
     "metadata": {},
     "output_type": "display_data"
    },
    {
     "data": {
      "text/plain": [
       "'RV4PX310R-V2A5'"
      ]
     },
     "metadata": {},
     "output_type": "display_data"
    },
    {
     "data": {
      "text/plain": [
       "'RV4PX310R-V2A5'"
      ]
     },
     "metadata": {},
     "output_type": "display_data"
    },
    {
     "data": {
      "text/plain": [
       "'RV4PX310R-V2A11'"
      ]
     },
     "metadata": {},
     "output_type": "display_data"
    },
    {
     "data": {
      "text/plain": [
       "'RV4PX310R-V2A11'"
      ]
     },
     "metadata": {},
     "output_type": "display_data"
    },
    {
     "data": {
      "text/plain": [
       "'RV4PX310R-V2A11'"
      ]
     },
     "metadata": {},
     "output_type": "display_data"
    },
    {
     "data": {
      "text/plain": [
       "'RV4PX310R-V2A17'"
      ]
     },
     "metadata": {},
     "output_type": "display_data"
    },
    {
     "data": {
      "text/plain": [
       "'RV4PX310R-V2A17'"
      ]
     },
     "metadata": {},
     "output_type": "display_data"
    },
    {
     "data": {
      "text/plain": [
       "'RV4PX310R-V2A17'"
      ]
     },
     "metadata": {},
     "output_type": "display_data"
    },
    {
     "data": {
      "text/plain": [
       "'RVVPX310B2A3'"
      ]
     },
     "metadata": {},
     "output_type": "display_data"
    },
    {
     "data": {
      "text/plain": [
       "'RVVPX310B2A3'"
      ]
     },
     "metadata": {},
     "output_type": "display_data"
    },
    {
     "data": {
      "text/plain": [
       "'RVVPX310B2A9'"
      ]
     },
     "metadata": {},
     "output_type": "display_data"
    },
    {
     "data": {
      "text/plain": [
       "'RVVPX310B2A9'"
      ]
     },
     "metadata": {},
     "output_type": "display_data"
    },
    {
     "data": {
      "text/plain": [
       "'RVVPX310B2A15'"
      ]
     },
     "metadata": {},
     "output_type": "display_data"
    },
    {
     "data": {
      "text/plain": [
       "'RVVPX310B2A15'"
      ]
     },
     "metadata": {},
     "output_type": "display_data"
    },
    {
     "data": {
      "text/plain": [
       "'SB1-220-MDLA3'"
      ]
     },
     "metadata": {},
     "output_type": "display_data"
    },
    {
     "data": {
      "text/plain": [
       "0"
      ]
     },
     "metadata": {},
     "output_type": "display_data"
    },
    {
     "data": {
      "text/plain": [
       "'SB2-142A5'"
      ]
     },
     "metadata": {},
     "output_type": "display_data"
    },
    {
     "data": {
      "text/plain": [
       "0"
      ]
     },
     "metadata": {},
     "output_type": "display_data"
    },
    {
     "data": {
      "text/plain": [
       "'* UKY 210 77/SC11H21862502'"
      ]
     },
     "metadata": {},
     "output_type": "display_data"
    },
    {
     "data": {
      "text/plain": [
       "0"
      ]
     },
     "metadata": {},
     "output_type": "display_data"
    },
    {
     "data": {
      "text/plain": [
       "'AEQE13-V'"
      ]
     },
     "metadata": {},
     "output_type": "display_data"
    },
    {
     "data": {
      "text/plain": [
       "0"
      ]
     },
     "metadata": {},
     "output_type": "display_data"
    },
    {
     "data": {
      "text/plain": [
       "'AEQE23-V'"
      ]
     },
     "metadata": {},
     "output_type": "display_data"
    },
    {
     "data": {
      "text/plain": [
       "0"
      ]
     },
     "metadata": {},
     "output_type": "display_data"
    },
    {
     "data": {
      "text/plain": [
       "'AEQE33-V'"
      ]
     },
     "metadata": {},
     "output_type": "display_data"
    },
    {
     "data": {
      "text/plain": [
       "0"
      ]
     },
     "metadata": {},
     "output_type": "display_data"
    },
    {
     "data": {
      "text/plain": [
       "'APE4517R011-V'"
      ]
     },
     "metadata": {},
     "output_type": "display_data"
    },
    {
     "data": {
      "text/plain": [
       "0"
      ]
     },
     "metadata": {},
     "output_type": "display_data"
    },
    {
     "data": {
      "text/plain": [
       "'APE4517R011-V'"
      ]
     },
     "metadata": {},
     "output_type": "display_data"
    },
    {
     "data": {
      "text/plain": [
       "'APE4517R011-V'"
      ]
     },
     "metadata": {},
     "output_type": "display_data"
    },
    {
     "data": {
      "text/plain": [
       "'APE4517R011-V'"
      ]
     },
     "metadata": {},
     "output_type": "display_data"
    },
    {
     "data": {
      "text/plain": [
       "'APE4517R011-V'"
      ]
     },
     "metadata": {},
     "output_type": "display_data"
    },
    {
     "data": {
      "text/plain": [
       "'APE4517R021-V'"
      ]
     },
     "metadata": {},
     "output_type": "display_data"
    },
    {
     "data": {
      "text/plain": [
       "0"
      ]
     },
     "metadata": {},
     "output_type": "display_data"
    },
    {
     "data": {
      "text/plain": [
       "'APE4517R021-V'"
      ]
     },
     "metadata": {},
     "output_type": "display_data"
    },
    {
     "data": {
      "text/plain": [
       "'APE4517R021-V'"
      ]
     },
     "metadata": {},
     "output_type": "display_data"
    },
    {
     "data": {
      "text/plain": [
       "'APE4517R021-V'"
      ]
     },
     "metadata": {},
     "output_type": "display_data"
    },
    {
     "data": {
      "text/plain": [
       "'APE4517R021-V'"
      ]
     },
     "metadata": {},
     "output_type": "display_data"
    },
    {
     "data": {
      "text/plain": [
       "'RR2VV-6533D-R611-V'"
      ]
     },
     "metadata": {},
     "output_type": "display_data"
    },
    {
     "data": {
      "text/plain": [
       "'RR2VV-6533D-R611-V'"
      ]
     },
     "metadata": {},
     "output_type": "display_data"
    },
    {
     "data": {
      "text/plain": [
       "'RR2VV-6533D-R611-V'"
      ]
     },
     "metadata": {},
     "output_type": "display_data"
    },
    {
     "data": {
      "text/plain": [
       "'RR2VV-6533D-R611-V'"
      ]
     },
     "metadata": {},
     "output_type": "display_data"
    },
    {
     "data": {
      "text/plain": [
       "'RR2VV-6533D-R611-V'"
      ]
     },
     "metadata": {},
     "output_type": "display_data"
    },
    {
     "data": {
      "text/plain": [
       "'RR2VV-6533D-R611-V'"
      ]
     },
     "metadata": {},
     "output_type": "display_data"
    },
    {
     "data": {
      "text/plain": [
       "'RR2VV-6533D-R621-V'"
      ]
     },
     "metadata": {},
     "output_type": "display_data"
    },
    {
     "data": {
      "text/plain": [
       "'RR2VV-6533D-R621-V'"
      ]
     },
     "metadata": {},
     "output_type": "display_data"
    },
    {
     "data": {
      "text/plain": [
       "'RR2VV-6533D-R621-V'"
      ]
     },
     "metadata": {},
     "output_type": "display_data"
    },
    {
     "data": {
      "text/plain": [
       "'RR2VV-6533D-R621-V'"
      ]
     },
     "metadata": {},
     "output_type": "display_data"
    },
    {
     "data": {
      "text/plain": [
       "'RR2VV-6533D-R621-V'"
      ]
     },
     "metadata": {},
     "output_type": "display_data"
    },
    {
     "data": {
      "text/plain": [
       "'RR2VV-6533D-R621-V'"
      ]
     },
     "metadata": {},
     "output_type": "display_data"
    },
    {
     "data": {
      "text/plain": [
       "'RR2VV-6533D-R631-V'"
      ]
     },
     "metadata": {},
     "output_type": "display_data"
    },
    {
     "data": {
      "text/plain": [
       "'RR2VV-6533D-R631-V'"
      ]
     },
     "metadata": {},
     "output_type": "display_data"
    },
    {
     "data": {
      "text/plain": [
       "'RR2VV-6533D-R631-V'"
      ]
     },
     "metadata": {},
     "output_type": "display_data"
    },
    {
     "data": {
      "text/plain": [
       "'RR2VV-6533D-R631-V'"
      ]
     },
     "metadata": {},
     "output_type": "display_data"
    },
    {
     "data": {
      "text/plain": [
       "'RR2VV-6533D-R631-V'"
      ]
     },
     "metadata": {},
     "output_type": "display_data"
    },
    {
     "data": {
      "text/plain": [
       "'RR2VV-6533D-R631-V'"
      ]
     },
     "metadata": {},
     "output_type": "display_data"
    },
    {
     "name": "stdout",
     "output_type": "stream",
     "text": [
      "Results saved to C:\\Users\\Mewtwo\\Desktop\\2190002 Greenacre Oleander St RFNSA Wrangled Data.xlsx\n"
     ]
    }
   ],
   "source": [
    "    ################ Create the dataframe from meaningful columns of STAD table and rename the columns ################\n",
    "    df = pd.DataFrame(data, columns=['Antenna ID No','Add ID','Antenna Model','Sector','Height'\n",
    "                                     ,'Bearing Degrees (true)','Site System (Structure No)',\n",
    "                                     'Mech Downtilt','Elect Downtilt','System',\n",
    "                                     'Port Number (Band Power per Port (dBm))','Band Power per Port (dBm)','Notes'])\n",
    "    df = df.rename(columns={'Antenna Model': 'Antenna', 'Antenna ID No': 'ID', 'Bearing Degrees (true)': 'Bearing'\n",
    "                      , 'Mech Downtilt': 'MDT', 'Elect Downtilt': 'EDT', \n",
    "                            'Site System (Structure No)':'Structure',\n",
    "                       'Port Number (Band Power per Port (dBm))': 'Possible Ports', \n",
    "                       'Band Power per Port (dBm)': 'Powers'})\n",
    "    df.fillna(value = 0,inplace = True)\n",
    "    df = df.reset_index(drop=True)\n",
    "    # Extracting Carrier (optus, telstra, Vodafone), technology/Frequency (i.e LTE900, NR2100, WCDMA850) information from System \n",
    "    df['System'] = df['System'].str.replace(' - LOCKED', '', regex=False)\n",
    "    df['Antenna Name ID Combined'] =  df['Antenna'].astype(str) + df['ID'].astype(str)\n",
    "    df['Configuration'] = df['System'].str.split(\"[\").str[1]\n",
    "    df['Configuration'].fillna(value = '',inplace = True)\n",
    "    df['Configuration'] = df['Configuration'].str.replace(']', '', regex=False)\n",
    "    df['System'] = df['System'].str.replace('[Macro]', '', regex=False)\n",
    "    df['System'] = df['System'].str.replace('/', ';', 1, regex=False)\n",
    "    df['Operator'] = df['System'].str.split(\" ;\").str[0]\n",
    "    df['Carrier'] = find_carriers(df)\n",
    "    df['Tech'] = find_tech(df)\n",
    "    df['Assess Freq'] = Find_assesment_frequency(df['Tech'])\n",
    "\n",
    "    df['Total Ports'] = count_total_ports(df)\n",
    "    df['EDT'] = df['EDT'].astype(str).str.replace(' to ', '-', regex=False).replace(r'\\(.*\\)','', regex=True).replace('\\.0', '', regex=True).str.strip()\n",
    "    df['Sector'] = df['Sector'].astype(str).replace('\\.0', '', regex=True)\n",
    "    df['System/Sector'] = [''.join(''.join(map(str, m))+' - Sector ' +f'{l}') for l, m in zip(df['Sector'],df['Tech'])]\n",
    "    df['Sectors'] = find_sectors(df)\n",
    "    df['Powers'] = fix_microwavelinks_power(df)\n",
    "    df['Elec. Tilt'] = find_EDT(df)\n",
    "    df['Powers (W)'] = find_power_in_watts(df)\n",
    "    df['WhereToAddPower'] = find_powered_ports(df)\n",
    "    df['Tech Total Power'] = find_tech_total_power(df)\n",
    "    df['ProX5 ports'] = [''] * len(df)\n",
    "    df['ProX5 powers'] = [''] * len(df)\n",
    "    \n",
    "    df.loc[df['Tech'] == 'IBC Composite Systems', 'Configuration'] = 'IBC'\n",
    "    \n",
    "    if any([x == 'IBC' for x in df['Configuration']]):\n",
    "        IBC_data =  pd.DataFrame([], columns=['Structure', 'Type/Make/Model','System/Function/Sector', 'Power (Watts)'])\n",
    "        IBC_data['Structure'], IBC_data['Type/Make/Model'], IBC_data['System/Function/Sector'], IBC_data['Power (Watts)'] = process_ibc_data(df[df['Configuration']=='IBC'])\n",
    "        #IBC_data['System/Function/Sector'] = IBC_data['System/Function/Sector'].str.replace(r\"\\['|',\\s*'|'\\]\", '\\n', regex=True)\n",
    "    else:\n",
    "        IBC_data=False\n",
    "    df = df.drop(df[df['Configuration'] == 'IBC'].index)\n",
    "    \n",
    "    df[\"sorter\"] =  fix_alphanumeric(df[\"Carrier\"] + df['Antenna'].astype(str) + ['a']*len(df)+ df[\"ID\"].astype(str)+ ['a']*len(df)+ df['Assess Freq'].astype(str) + ['a']*len(df)+ df[\"Tech Total Power\"].astype(str))\n",
    "    df.sort_values(by=['sorter'], inplace=True)\n",
    "    df = df.reset_index(drop=True)\n",
    "    df.index += 1\n",
    "    \n",
    "    total_ports_dict = {}\n",
    "    for idantenna in list( dict.fromkeys(df['Antenna Name ID Combined'],df['Antenna'])):\n",
    "        total_ports_dict[idantenna] = list(dict.fromkeys(df.loc[df['Antenna Name ID Combined'] == idantenna, 'Total Ports']))\n",
    "    \n",
    "    EquipmentList = pd.DataFrame([], columns=['ID','Elec. Tilt','Pol','System/Sector', 'Power (W)'])\n",
    "    EquipmentList['ID'], EquipmentList['Elec. Tilt'], EquipmentList['Pol'],EquipmentList['System/Sector'], EquipmentList['Power (W)'] = generate_equipment_list(total_ports_dict, df)\n",
    "\n",
    "    EquipmentList['Power (W)'] = EquipmentList['Power (W)'].str.replace('\\+', '', 1, regex=True)\n",
    "    EquipmentList['Power (W)'] = EquipmentList['Power (W)'].str.replace('\\+\\+', '+', regex=True)\n",
    "    EquipmentList['Power (W)'] = EquipmentList['Power (W)'].str.replace('\\\\n\\+', '\\\\n', regex=True)\n",
    "    EquipmentList['Power (W)'] = EquipmentList['Power (W)'].str.replace('+', ' + ', regex=False)\n",
    "    EquipmentList['Power (W)'] = EquipmentList['Power (W)'].str.strip()\n",
    "\n",
    "    EquipmentList['System/Sector'] = EquipmentList['System/Sector'].str.replace('\\n ', '\\n', regex=False)\n",
    "    EquipmentList['System/Sector'] = EquipmentList['System/Sector'].str.strip()\n",
    "    CANRAD = pd.DataFrame([], columns=['ID','Port', 'Total Power', 'Function'])\n",
    "    CANRAD['ID'], CANRAD['Port'], CANRAD['Total Power'], CANRAD['Function'] = generate_telstra_canrad(total_ports_dict, df)\n",
    "    args = [df, EquipmentList, CANRAD, dfSiteInfo, dfSiteNames, dfStructureInfo]\n",
    "\n",
    "    if not IBC_data.empty:\n",
    "        args.append(IBC_data)\n",
    "\n",
    "    export_to_excel(*args)"
   ]
  }
 ],
 "metadata": {
  "kernelspec": {
   "display_name": "Python 3",
   "language": "python",
   "name": "python3"
  },
  "language_info": {
   "codemirror_mode": {
    "name": "ipython",
    "version": 3
   },
   "file_extension": ".py",
   "mimetype": "text/x-python",
   "name": "python",
   "nbconvert_exporter": "python",
   "pygments_lexer": "ipython3",
   "version": "3.7.16"
  }
 },
 "nbformat": 4,
 "nbformat_minor": 5
}
