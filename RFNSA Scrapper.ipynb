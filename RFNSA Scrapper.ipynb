{
 "cells": [
  {
   "cell_type": "markdown",
   "id": "fc11cf88",
   "metadata": {},
   "source": [
    "# RFNSA Antenna Details\n",
    "##### ©Haris Hassan\n"
   ]
  },
  {
   "cell_type": "code",
   "execution_count": 1,
   "id": "b177ee9f",
   "metadata": {},
   "outputs": [],
   "source": [
    "################ Import Libraries ################\n",
    "import sys\n",
    "#!conda install --yes --prefix {sys.prefix} natsort\n",
    "from IPython import get_ipython;\n",
    "#from natsort import index_natsorted\n",
    "get_ipython().magic('reset -sf')\n",
    "import pandas as pd\n",
    "pd.set_option('display.max_colwidth', None)\n",
    "from IPython.display import display, HTML\n",
    "import re\n",
    "import math\n",
    "import numpy as np\n",
    "from itertools import count\n",
    "class text_format:\n",
    "   PURPLE = '\\033[95m'\n",
    "   CYAN = '\\033[96m'\n",
    "   DARKCYAN = '\\033[36m'\n",
    "   BLUE = '\\033[94m'\n",
    "   GREEN = '\\033[92m'\n",
    "   YELLOW = '\\033[93m'\n",
    "   RED = '\\033[91m'\n",
    "   BOLD = '\\033[1m'\n",
    "   UNDERLINE = '\\033[4m'\n",
    "   END = '\\033[0m'\n",
    "    \n",
    "# Function to convert from mW to dBm\n",
    "def W2dBm(mW):\n",
    "    return 10.*log10(mW) + 30\n",
    "\n",
    "\n",
    "# Function to convert from dBm to mW\n",
    "def dBm2W(dBm):\n",
    "    return 10**((dBm-30)/10.)\n",
    "\n",
    "################################################"
   ]
  },
  {
   "cell_type": "code",
   "execution_count": 2,
   "id": "2e71d00d",
   "metadata": {},
   "outputs": [],
   "source": [
    "################### Replace with path to your excel file. \n",
    "data = pd.read_excel(r'C:\\Users\\Mewtwo\\Downloads\\New Microsoft Excel Worksheet.xlsx')\n",
    "\n",
    "#remove the proposed Antennas\n",
    "data = data.drop(data[data['Existing/Proposed'] == 'Proposed'].index)\n",
    "\n",
    "################ Create the dataframe from meaningful columns of STAD table and rename the columns ################\n",
    "df = pd.DataFrame(data, columns=['Antenna ID No','Add ID','Antenna Model','Sector','Height - Phase Centre (m)'\n",
    "                                 ,'Bearing Degrees (true)',\n",
    "                                 'Mech Downtilt','Elect Downtilt','System',\n",
    "                                 'Port Number (Band Power per Port (dBm))','Band Power per Port (dBm)','Notes'])\n",
    "df = df.rename(columns={'Antenna Model': 'Antenna', 'Antenna ID No': 'ID', 'Bearing Degrees (true)': 'Bearing'\n",
    "                  , 'Mech Downtilt': 'MDT', 'Elect Downtilt': 'EDT', 'Height - Phase Centre (m)': 'Height', \n",
    "                   'Port Number (Band Power per Port (dBm))': 'Possible Ports', \n",
    "                   'Band Power per Port (dBm)': 'Powers'})\n",
    "\n",
    "df.fillna(value = 0,inplace = True)\n",
    "df = df.reset_index(drop=True)\n"
   ]
  },
  {
   "cell_type": "code",
   "execution_count": 3,
   "id": "1824a2fc",
   "metadata": {},
   "outputs": [
    {
     "data": {
      "text/html": [
       "<div>\n",
       "<style scoped>\n",
       "    .dataframe tbody tr th:only-of-type {\n",
       "        vertical-align: middle;\n",
       "    }\n",
       "\n",
       "    .dataframe tbody tr th {\n",
       "        vertical-align: top;\n",
       "    }\n",
       "\n",
       "    .dataframe thead th {\n",
       "        text-align: right;\n",
       "    }\n",
       "</style>\n",
       "<table border=\"1\" class=\"dataframe\">\n",
       "  <thead>\n",
       "    <tr style=\"text-align: right;\">\n",
       "      <th></th>\n",
       "      <th>NSA</th>\n",
       "      <th>Region</th>\n",
       "      <th>Coordinates</th>\n",
       "    </tr>\n",
       "  </thead>\n",
       "  <tbody>\n",
       "    <tr>\n",
       "      <th>0</th>\n",
       "      <td>2567005</td>\n",
       "      <td>NSW</td>\n",
       "      <td>-34.07679, 150.74882</td>\n",
       "    </tr>\n",
       "  </tbody>\n",
       "</table>\n",
       "</div>"
      ],
      "text/plain": [
       "       NSA Region           Coordinates\n",
       "0  2567005    NSW  -34.07679, 150.74882"
      ]
     },
     "metadata": {},
     "output_type": "display_data"
    },
    {
     "data": {
      "text/html": [
       "<div>\n",
       "<style scoped>\n",
       "    .dataframe tbody tr th:only-of-type {\n",
       "        vertical-align: middle;\n",
       "    }\n",
       "\n",
       "    .dataframe tbody tr th {\n",
       "        vertical-align: top;\n",
       "    }\n",
       "\n",
       "    .dataframe thead th {\n",
       "        text-align: right;\n",
       "    }\n",
       "</style>\n",
       "<table border=\"1\" class=\"dataframe\">\n",
       "  <thead>\n",
       "    <tr style=\"text-align: right;\">\n",
       "      <th></th>\n",
       "      <th>Site Name</th>\n",
       "      <th>Operator</th>\n",
       "    </tr>\n",
       "  </thead>\n",
       "  <tbody>\n",
       "    <tr>\n",
       "      <th>0</th>\n",
       "      <td>Mt Annan Glenlee Rd</td>\n",
       "      <td>Telstra</td>\n",
       "    </tr>\n",
       "    <tr>\n",
       "      <th>27</th>\n",
       "      <td>Mount Annan</td>\n",
       "      <td>Optus</td>\n",
       "    </tr>\n",
       "    <tr>\n",
       "      <th>58</th>\n",
       "      <td>Spring Farm East</td>\n",
       "      <td>Vodafone</td>\n",
       "    </tr>\n",
       "  </tbody>\n",
       "</table>\n",
       "</div>"
      ],
      "text/plain": [
       "              Site Name  Operator\n",
       "0   Mt Annan Glenlee Rd   Telstra\n",
       "27          Mount Annan     Optus\n",
       "58     Spring Farm East  Vodafone"
      ]
     },
     "metadata": {},
     "output_type": "display_data"
    },
    {
     "data": {
      "text/html": [
       "<div>\n",
       "<style scoped>\n",
       "    .dataframe tbody tr th:only-of-type {\n",
       "        vertical-align: middle;\n",
       "    }\n",
       "\n",
       "    .dataframe tbody tr th {\n",
       "        vertical-align: top;\n",
       "    }\n",
       "\n",
       "    .dataframe thead th {\n",
       "        text-align: right;\n",
       "    }\n",
       "</style>\n",
       "<table border=\"1\" class=\"dataframe\">\n",
       "  <thead>\n",
       "    <tr style=\"text-align: right;\">\n",
       "      <th></th>\n",
       "      <th>Structure Owner</th>\n",
       "      <th>Structure</th>\n",
       "    </tr>\n",
       "  </thead>\n",
       "  <tbody>\n",
       "    <tr>\n",
       "      <th>0</th>\n",
       "      <td>ATN</td>\n",
       "      <td>Structure 1: 30m Steel Pole</td>\n",
       "    </tr>\n",
       "    <tr>\n",
       "      <th>58</th>\n",
       "      <td>Waveconn</td>\n",
       "      <td>Structure 2: 35m monopole</td>\n",
       "    </tr>\n",
       "  </tbody>\n",
       "</table>\n",
       "</div>"
      ],
      "text/plain": [
       "   Structure Owner                    Structure\n",
       "0              ATN  Structure 1: 30m Steel Pole\n",
       "58        Waveconn    Structure 2: 35m monopole"
      ]
     },
     "metadata": {},
     "output_type": "display_data"
    }
   ],
   "source": [
    "#dfSiteInfo = pd.DataFrame(data, columns=['Structure Owner','Latitude', 'Longitude', 'Region', 'Structure',\n",
    "#                                         'Site System (Structure No)','NSA','Site Name'])\n",
    "dfSiteInfo = pd.DataFrame(data, columns=['NSA','Latitude', 'Longitude', 'Region'])\n",
    "dfSiteInfo['Coordinates'] = dfSiteInfo.apply(lambda row: str(row['Latitude']) + ', ' + str(row['Longitude']), axis=1)\n",
    "dfSiteInfo = dfSiteInfo.drop('Latitude', axis=1)\n",
    "dfSiteInfo = dfSiteInfo.drop('Longitude', axis=1)\n",
    "\n",
    "dfStructureInfo = pd.DataFrame(data, columns=['Structure Owner','Structure',\n",
    "                                         'Site System (Structure No)',])\n",
    "dfSiteNames = pd.DataFrame(data, columns=['System','Site Name'])\n",
    "dfSiteNames['Operator'] = dfSiteNames['System'].str.split(\" /\").str[0]\n",
    "dfSiteNames = dfSiteNames.drop('System', axis=1)\n",
    "dfSiteNames['Site Name']=dfSiteNames['Site Name'].apply(lambda x: x.title())\n",
    "\n",
    "dfStructureInfo['Structure'] = ['Structure ' +f'{l}' + ': ' + ''.join(''.join(map(str, m))) for l, m in zip(dfStructureInfo['Site System (Structure No)'],dfStructureInfo['Structure'])]\n",
    "dfStructureInfo = dfStructureInfo.drop('Site System (Structure No)', axis=1)\n",
    "\n",
    "\n",
    "dfSiteNames = dfSiteNames.drop_duplicates(keep='first')\n",
    "dfSiteInfo = dfSiteInfo.drop_duplicates(keep='first')\n",
    "dfStructureInfo = dfStructureInfo.drop_duplicates(keep='first')\n",
    "\n",
    "display(dfSiteInfo)\n",
    "display(dfSiteNames)\n",
    "display(dfStructureInfo)"
   ]
  },
  {
   "cell_type": "code",
   "execution_count": 4,
   "id": "0af49bc4",
   "metadata": {},
   "outputs": [],
   "source": [
    "AntennasUnique = list( dict.fromkeys(df['Antenna']) )\n",
    "#AntennasUnique = sorted(AntennasUnique, key=lambda x: int(re.search('\\d+', x).group(0)))\n",
    "#display(AntennasUnique)\n",
    "IDUnique = list( dict.fromkeys(df['ID'],df['Antenna']) )\n",
    "#Special and Unique function to sort the ids string universally\n",
    "#IDUnique = sorted(IDUnique, key=lambda x: (2,int(x)) if re.search('^\\d+$', x) else (1,int(re.search('\\d+', x).group(0))) if re.search('\\d+$', x) else (0, x))"
   ]
  },
  {
   "cell_type": "code",
   "execution_count": 5,
   "id": "0799640f",
   "metadata": {},
   "outputs": [],
   "source": [
    "# Extracting Carrier (optus, telstra, Vodafone), technology/Frequency (i.e LTE900, NR2100, WCDMA850) information from System \n",
    "\n",
    "df['System'] = df['System'].str.replace(' - LOCKED', '', regex=True)\n",
    "df['System'] = df['System'].str.replace('[Macro]', '', regex=False)\n",
    "df['System'] = df['System'].str.replace(' \\[', ';', regex=True)\n",
    "df['System'] = df['System'].str.replace('/', ';', 1, regex=True)\n",
    "df['Operator'] = df['System'].str.split(\" ;\").str[0]"
   ]
  },
  {
   "cell_type": "code",
   "execution_count": 6,
   "id": "e17fa599",
   "metadata": {},
   "outputs": [],
   "source": [
    "#display(df.loc[(df['Antenna'] == 'RV4PX310R') &  (df['ID'] == '21-J'), {'ID','MDT'}])"
   ]
  },
  {
   "cell_type": "code",
   "execution_count": 7,
   "id": "f4dc2c61",
   "metadata": {},
   "outputs": [],
   "source": [
    "Carriers=[]\n",
    "for idx in IDUnique:\n",
    "    multicarrier = []\n",
    "    counter = 0\n",
    "    #display(df.loc[df['ID'] == idx, {'Antenna','System','Carrier','Tech'}])\n",
    "    for x in df.loc[df['ID'] == idx, 'Operator']:\n",
    "        multicarrier.append(x)\n",
    "        counter +=1\n",
    "        #display(idx)\n",
    "        #display(x)\n",
    "    for c in range(counter):\n",
    "        Carriers.append('/'.join(list( dict.fromkeys(multicarrier))))\n",
    "df['Carrier'] = Carriers"
   ]
  },
  {
   "cell_type": "code",
   "execution_count": 8,
   "id": "73030d67",
   "metadata": {},
   "outputs": [],
   "source": [
    "#df['Tech'] = df['System'].str.split(\";\").str[1]\n",
    "tech = []\n",
    "df['Tech'] = df['System'].str.split(\";\").str[1]\n",
    "for x, y in enumerate(df['Carrier']):\n",
    "    if '/' in y:\n",
    "        tech.append(''.join(df['System'][x].split(\";\")))\n",
    "    else:\n",
    "        tech.append(df['System'][x].split(\";\")[1])\n",
    "        \n",
    "df['Tech'] = tech"
   ]
  },
  {
   "cell_type": "code",
   "execution_count": 9,
   "id": "5fe4cc13",
   "metadata": {},
   "outputs": [],
   "source": [
    "\n",
    "df[\"sorter\"] =  df[\"Carrier\"] + df[\"ID\"].astype(str)\n",
    "df = df.iloc[df['sorter'].astype(str).apply(lambda x: (2, int(x)) if re.search('^\\d+$', x) else (1, int(re.search('\\d+', x).group(0))) if re.search('\\d+$', x) else (0, x)).argsort()]\n",
    "df = df.reset_index(drop=True)\n",
    "df.index += 1\n",
    "\n",
    "AntennasUnique = list( dict.fromkeys(df['Antenna']) )\n",
    "#AntennasUnique = sorted(AntennasUnique, key=lambda x: int(re.search('\\d+', x).group(0)))\n",
    "#display(AntennasUnique)\n",
    "IDUnique = list( dict.fromkeys(df['ID'],df['Antenna']) )\n",
    "#Special and Unique function to sort the ids string universally\n",
    "#IDUnique = sorted(IDUnique, key=lambda x: (2,int(x)) if re.search('^\\d+$', x) else (1,int(re.search('\\d+', x).group(0))) if re.search('\\d+$', x) else (0, x))\n",
    "AntennaIds = {}\n",
    "for antenna in AntennasUnique:\n",
    "    IdsForAntenna = list(dict.fromkeys(df.loc[df['Antenna'] == antenna, 'ID']))\n",
    "    AntennaIds[antenna] = IdsForAntenna\n",
    "    \n",
    "#df = df.iloc[index_natsorted(df.sorter)]\n",
    "# Sorting the STAD dataframe to match with RFNSA\n",
    "#df.index = df['sorter'].str.replace('[a-zA-Z]+','.').astype(float)\n",
    "#df = df.sort_index().reset_index(drop=True)\n",
    "#df.sort_values('sorter',key=lambda x: (2,int(x)) if re.search('^\\d+$', x) else (1,int(re.search('\\d+', x).group(0))) if re.search('\\d+$', x) else (0, x))\n",
    "#IDUnique = sorted(IDUnique, key=lambda x: (2,int(x)) if re.search('^\\d+$', x) else (1,int(re.search('\\d+', x).group(0))) if re.search('\\d+$', x) else (0, x))\n",
    "#df.sort_values(by=['sorter'], ascending=[True], inplace = True)\n",
    "#df.sort_values(by=['Carrier','ID'], ascending=[True, True], inplace = True)\n",
    "#Reset index of dataframe after sorting and start from 1\n",
    "\n",
    "\n",
    "#Count the total ports of each antenna\n",
    "df['Total Ports'] = df['Powers'].str.count(';')\n",
    "df.fillna(value = 0,inplace = True)\n",
    "df['Total Ports'] = df['Total Ports'] + 1\n",
    "df['Total Ports'] = list(x for x in df['Total Ports'])\n",
    "\n",
    "#Format/Clean the Data\n",
    "df['EDT'] = df['EDT'].str.replace(' to ', '-', regex=True)\n",
    "df['EDT'] = df['EDT'].str.replace(r'\\(.*\\)','', regex=True)\n",
    "df['Sector'] = df['Sector'].astype(str).replace('\\.0', '', regex=True)\n",
    "df['System/Sector']= [''.join(''.join(map(str, m))+' - Sector ' +f'{l}') for l, m in zip(df['Sector'],df['Tech'])]\n",
    "\n",
    "#Correcting microwavelinks\n",
    "templist = []\n",
    "for x in df['Powers']:\n",
    "    if ';' not in str(x):\n",
    "        templist.append(str(x)+';')\n",
    "    else:\n",
    "        templist.append(str(x))        \n",
    "df['Powers'] = templist"
   ]
  },
  {
   "cell_type": "code",
   "execution_count": 10,
   "id": "6a528be2",
   "metadata": {},
   "outputs": [],
   "source": [
    "# Find the sectors\n",
    "Sectors = []\n",
    "for idx in IDUnique:\n",
    "    Sectorstemp = []\n",
    "    counter = 0\n",
    "    for x in df.loc[df['ID'] == idx, 'Sector']:\n",
    "        Sectorstemp.append(str(x))\n",
    "        counter +=1\n",
    "        #display(idx)\n",
    "    for c in range(counter):\n",
    "        Sectors.append(', '.join(list( dict.fromkeys(Sectorstemp))))\n",
    "df['Sectors'] = Sectors"
   ]
  },
  {
   "cell_type": "code",
   "execution_count": 11,
   "id": "0f0c83fb",
   "metadata": {},
   "outputs": [],
   "source": [
    "### Convert te Power(dBm) into Watts\n",
    "temp_power = []\n",
    "for elm in df['Powers'].str.split(\";\"):\n",
    "    if isinstance(elm, (list, tuple)):\n",
    "        elm = [x for x in elm if x != '']  # Remove any empty strings from the list\n",
    "        converted_values = []\n",
    "        for sub in elm:\n",
    "            if float(sub) >= 30:\n",
    "                try:\n",
    "                    converted_values.append(round(dBm2W(float(sub)),1))\n",
    "                except ValueError:\n",
    "                    converted_values.append(sub)\n",
    "                    pass  # Skip the current value if it cannot be converted to a float\n",
    "            else:\n",
    "                 try:\n",
    "                    converted_values.append(round(dBm2W(float(sub)),4))\n",
    "                 except ValueError:\n",
    "                    converted_values.append(sub)\n",
    "                    pass  # Skip the current value if it cannot be converted to a float\n",
    "        temp_power.append(converted_values)\n",
    "    else:\n",
    "        try:\n",
    "            temp_power.append([dBm2W(float(elm))])\n",
    "        except ValueError:\n",
    "            temp_power.append([])\n",
    "\n",
    "df['Powers (W)'] = temp_power"
   ]
  },
  {
   "cell_type": "code",
   "execution_count": 12,
   "id": "93563635",
   "metadata": {},
   "outputs": [
    {
     "data": {
      "text/html": [
       "<div>\n",
       "<style scoped>\n",
       "    .dataframe tbody tr th:only-of-type {\n",
       "        vertical-align: middle;\n",
       "    }\n",
       "\n",
       "    .dataframe tbody tr th {\n",
       "        vertical-align: top;\n",
       "    }\n",
       "\n",
       "    .dataframe thead th {\n",
       "        text-align: right;\n",
       "    }\n",
       "</style>\n",
       "<table border=\"1\" class=\"dataframe\">\n",
       "  <thead>\n",
       "    <tr style=\"text-align: right;\">\n",
       "      <th></th>\n",
       "      <th>ID</th>\n",
       "      <th>Add ID</th>\n",
       "      <th>Antenna</th>\n",
       "      <th>Sector</th>\n",
       "      <th>Height</th>\n",
       "      <th>Bearing</th>\n",
       "      <th>MDT</th>\n",
       "      <th>EDT</th>\n",
       "      <th>System</th>\n",
       "      <th>Possible Ports</th>\n",
       "      <th>Powers</th>\n",
       "      <th>Notes</th>\n",
       "      <th>Operator</th>\n",
       "      <th>Carrier</th>\n",
       "      <th>Tech</th>\n",
       "      <th>sorter</th>\n",
       "      <th>Total Ports</th>\n",
       "      <th>System/Sector</th>\n",
       "      <th>Sectors</th>\n",
       "      <th>Powers (W)</th>\n",
       "    </tr>\n",
       "  </thead>\n",
       "  <tbody>\n",
       "    <tr>\n",
       "      <th>1</th>\n",
       "      <td>11-O</td>\n",
       "      <td>S1766</td>\n",
       "      <td>RRZZVVT4S4-65B-R8 [Service Beam]</td>\n",
       "      <td>1</td>\n",
       "      <td>30.00</td>\n",
       "      <td>40</td>\n",
       "      <td>0</td>\n",
       "      <td>2-12</td>\n",
       "      <td>Optus ; NR2300</td>\n",
       "      <td>5;6;7;8;9;10;11;12;13;14;15;16;17;18;19;20</td>\n",
       "      <td>;;;;;;;;38;38;38;38;38;38;38;38;;;;;;;;;;;;</td>\n",
       "      <td>Optus 5G Vision Upgrade: BF 8863</td>\n",
       "      <td>Optus</td>\n",
       "      <td>Optus</td>\n",
       "      <td>NR2300</td>\n",
       "      <td>Optus11-O</td>\n",
       "      <td>28</td>\n",
       "      <td>NR2300  - Sector 1</td>\n",
       "      <td>1</td>\n",
       "      <td>[6.3, 6.3, 6.3, 6.3, 6.3, 6.3, 6.3, 6.3]</td>\n",
       "    </tr>\n",
       "    <tr>\n",
       "      <th>2</th>\n",
       "      <td>11-O</td>\n",
       "      <td>S1766</td>\n",
       "      <td>RRZZVVT4S4-65B-R8 [Service Beam]</td>\n",
       "      <td>1</td>\n",
       "      <td>30.00</td>\n",
       "      <td>40</td>\n",
       "      <td>0</td>\n",
       "      <td>2-12</td>\n",
       "      <td>Optus ; LTE2600</td>\n",
       "      <td>5;6;7;8;9;10;11;12;13;14;15;16;17;18;19;20</td>\n",
       "      <td>;;;;;;47;47;;;;;;;;;;;47;47;;;;;;;;</td>\n",
       "      <td>Optus 5G Vision Upgrade: L26 RRU</td>\n",
       "      <td>Optus</td>\n",
       "      <td>Optus</td>\n",
       "      <td>LTE2600</td>\n",
       "      <td>Optus11-O</td>\n",
       "      <td>28</td>\n",
       "      <td>LTE2600  - Sector 1</td>\n",
       "      <td>1</td>\n",
       "      <td>[50.1, 50.1, 50.1, 50.1]</td>\n",
       "    </tr>\n",
       "    <tr>\n",
       "      <th>3</th>\n",
       "      <td>11-O</td>\n",
       "      <td>S1766</td>\n",
       "      <td>RRZZVVT4S4-65B-R8 [Service Beam]</td>\n",
       "      <td>1</td>\n",
       "      <td>30.00</td>\n",
       "      <td>40</td>\n",
       "      <td>0</td>\n",
       "      <td>2-12</td>\n",
       "      <td>Optus ; LTE1800</td>\n",
       "      <td>5;6;7;8;17;18;19;20</td>\n",
       "      <td>;;;;;;47;47;;;;;;;;;;;47;47;;;;;;;;</td>\n",
       "      <td>Optus 5G Vision Upgrade: L18 RRU</td>\n",
       "      <td>Optus</td>\n",
       "      <td>Optus</td>\n",
       "      <td>LTE1800</td>\n",
       "      <td>Optus11-O</td>\n",
       "      <td>28</td>\n",
       "      <td>LTE1800  - Sector 1</td>\n",
       "      <td>1</td>\n",
       "      <td>[50.1, 50.1, 50.1, 50.1]</td>\n",
       "    </tr>\n",
       "    <tr>\n",
       "      <th>4</th>\n",
       "      <td>11-O</td>\n",
       "      <td>S1766</td>\n",
       "      <td>RRZZVVT4S4-65B-R8 [Service Beam]</td>\n",
       "      <td>1</td>\n",
       "      <td>30.00</td>\n",
       "      <td>40</td>\n",
       "      <td>0</td>\n",
       "      <td>2-12</td>\n",
       "      <td>Optus ; NR/LTE900</td>\n",
       "      <td>1;2;3;4</td>\n",
       "      <td>48;48;;;;;;;;;;;;;;;;;;;;;;;;;;</td>\n",
       "      <td>Optus 5G Vision Upgrade: L9 RRU</td>\n",
       "      <td>Optus</td>\n",
       "      <td>Optus</td>\n",
       "      <td>NR/LTE900</td>\n",
       "      <td>Optus11-O</td>\n",
       "      <td>28</td>\n",
       "      <td>NR/LTE900  - Sector 1</td>\n",
       "      <td>1</td>\n",
       "      <td>[63.1, 63.1]</td>\n",
       "    </tr>\n",
       "    <tr>\n",
       "      <th>5</th>\n",
       "      <td>11-O</td>\n",
       "      <td>S1766</td>\n",
       "      <td>RRZZVVT4S4-65B-R8 [Service Beam]</td>\n",
       "      <td>1</td>\n",
       "      <td>30.00</td>\n",
       "      <td>40</td>\n",
       "      <td>0</td>\n",
       "      <td>2-12</td>\n",
       "      <td>Optus ; WCDMA900</td>\n",
       "      <td>1;2;3;4</td>\n",
       "      <td>48;;;;;;;;;;;;;;;;;;;;;;;;;;;</td>\n",
       "      <td>Optus 5G Vision Upgrade: U9 feeder + MHA</td>\n",
       "      <td>Optus</td>\n",
       "      <td>Optus</td>\n",
       "      <td>WCDMA900</td>\n",
       "      <td>Optus11-O</td>\n",
       "      <td>28</td>\n",
       "      <td>WCDMA900  - Sector 1</td>\n",
       "      <td>1</td>\n",
       "      <td>[63.1]</td>\n",
       "    </tr>\n",
       "    <tr>\n",
       "      <th>...</th>\n",
       "      <td>...</td>\n",
       "      <td>...</td>\n",
       "      <td>...</td>\n",
       "      <td>...</td>\n",
       "      <td>...</td>\n",
       "      <td>...</td>\n",
       "      <td>...</td>\n",
       "      <td>...</td>\n",
       "      <td>...</td>\n",
       "      <td>...</td>\n",
       "      <td>...</td>\n",
       "      <td>...</td>\n",
       "      <td>...</td>\n",
       "      <td>...</td>\n",
       "      <td>...</td>\n",
       "      <td>...</td>\n",
       "      <td>...</td>\n",
       "      <td>...</td>\n",
       "      <td>...</td>\n",
       "      <td>...</td>\n",
       "    </tr>\n",
       "    <tr>\n",
       "      <th>75</th>\n",
       "      <td>A9</td>\n",
       "      <td>201935</td>\n",
       "      <td>RVVPX310.11B-T2H</td>\n",
       "      <td>3</td>\n",
       "      <td>25.00</td>\n",
       "      <td>270</td>\n",
       "      <td>0</td>\n",
       "      <td>0-10</td>\n",
       "      <td>Telstra ; WCDMA850</td>\n",
       "      <td>1;2</td>\n",
       "      <td>45.3;45.3;;;;</td>\n",
       "      <td>0</td>\n",
       "      <td>Telstra</td>\n",
       "      <td>Telstra</td>\n",
       "      <td>WCDMA850</td>\n",
       "      <td>TelstraA9</td>\n",
       "      <td>6</td>\n",
       "      <td>WCDMA850  - Sector 3</td>\n",
       "      <td>3</td>\n",
       "      <td>[33.9, 33.9]</td>\n",
       "    </tr>\n",
       "    <tr>\n",
       "      <th>76</th>\n",
       "      <td>A9</td>\n",
       "      <td>201935</td>\n",
       "      <td>RVVPX310.11B-T2H</td>\n",
       "      <td>3</td>\n",
       "      <td>25.00</td>\n",
       "      <td>270</td>\n",
       "      <td>0</td>\n",
       "      <td>0-10</td>\n",
       "      <td>Telstra ; LTE700</td>\n",
       "      <td>1;2</td>\n",
       "      <td>43.5;43.5;;;;</td>\n",
       "      <td>0</td>\n",
       "      <td>Telstra</td>\n",
       "      <td>Telstra</td>\n",
       "      <td>LTE700</td>\n",
       "      <td>TelstraA9</td>\n",
       "      <td>6</td>\n",
       "      <td>LTE700  - Sector 3</td>\n",
       "      <td>3</td>\n",
       "      <td>[22.4, 22.4]</td>\n",
       "    </tr>\n",
       "    <tr>\n",
       "      <th>77</th>\n",
       "      <td>A10</td>\n",
       "      <td>201935</td>\n",
       "      <td>AIR6488</td>\n",
       "      <td>1</td>\n",
       "      <td>25.86</td>\n",
       "      <td>30</td>\n",
       "      <td>7</td>\n",
       "      <td>3</td>\n",
       "      <td>Telstra ; NR3500</td>\n",
       "      <td>1;2</td>\n",
       "      <td>47;47</td>\n",
       "      <td>Actual Mechanical Tilts for NR3500 AIR6488 0/0/0</td>\n",
       "      <td>Telstra</td>\n",
       "      <td>Telstra</td>\n",
       "      <td>NR3500</td>\n",
       "      <td>TelstraA10</td>\n",
       "      <td>2</td>\n",
       "      <td>NR3500  - Sector 1</td>\n",
       "      <td>1</td>\n",
       "      <td>[50.1, 50.1]</td>\n",
       "    </tr>\n",
       "    <tr>\n",
       "      <th>78</th>\n",
       "      <td>A11</td>\n",
       "      <td>201935</td>\n",
       "      <td>AIR6488</td>\n",
       "      <td>2</td>\n",
       "      <td>25.86</td>\n",
       "      <td>150</td>\n",
       "      <td>7</td>\n",
       "      <td>3</td>\n",
       "      <td>Telstra ; NR3500</td>\n",
       "      <td>1;2</td>\n",
       "      <td>47;47</td>\n",
       "      <td>Actual Mechanical Tilts for NR3500 AIR6488 0/0/0</td>\n",
       "      <td>Telstra</td>\n",
       "      <td>Telstra</td>\n",
       "      <td>NR3500</td>\n",
       "      <td>TelstraA11</td>\n",
       "      <td>2</td>\n",
       "      <td>NR3500  - Sector 2</td>\n",
       "      <td>2</td>\n",
       "      <td>[50.1, 50.1]</td>\n",
       "    </tr>\n",
       "    <tr>\n",
       "      <th>79</th>\n",
       "      <td>A12</td>\n",
       "      <td>201935</td>\n",
       "      <td>AIR6488</td>\n",
       "      <td>3</td>\n",
       "      <td>25.86</td>\n",
       "      <td>270</td>\n",
       "      <td>7</td>\n",
       "      <td>3</td>\n",
       "      <td>Telstra ; NR3500</td>\n",
       "      <td>1;2</td>\n",
       "      <td>47;47</td>\n",
       "      <td>Actual Mechanical Tilts for NR3500 AIR6488 0/0/0</td>\n",
       "      <td>Telstra</td>\n",
       "      <td>Telstra</td>\n",
       "      <td>NR3500</td>\n",
       "      <td>TelstraA12</td>\n",
       "      <td>2</td>\n",
       "      <td>NR3500  - Sector 3</td>\n",
       "      <td>3</td>\n",
       "      <td>[50.1, 50.1]</td>\n",
       "    </tr>\n",
       "  </tbody>\n",
       "</table>\n",
       "<p>79 rows × 20 columns</p>\n",
       "</div>"
      ],
      "text/plain": [
       "      ID  Add ID                           Antenna Sector  Height  Bearing  \\\n",
       "1   11-O   S1766  RRZZVVT4S4-65B-R8 [Service Beam]      1   30.00       40   \n",
       "2   11-O   S1766  RRZZVVT4S4-65B-R8 [Service Beam]      1   30.00       40   \n",
       "3   11-O   S1766  RRZZVVT4S4-65B-R8 [Service Beam]      1   30.00       40   \n",
       "4   11-O   S1766  RRZZVVT4S4-65B-R8 [Service Beam]      1   30.00       40   \n",
       "5   11-O   S1766  RRZZVVT4S4-65B-R8 [Service Beam]      1   30.00       40   \n",
       "..   ...     ...                               ...    ...     ...      ...   \n",
       "75    A9  201935                  RVVPX310.11B-T2H      3   25.00      270   \n",
       "76    A9  201935                  RVVPX310.11B-T2H      3   25.00      270   \n",
       "77   A10  201935                           AIR6488      1   25.86       30   \n",
       "78   A11  201935                           AIR6488      2   25.86      150   \n",
       "79   A12  201935                           AIR6488      3   25.86      270   \n",
       "\n",
       "    MDT    EDT               System  \\\n",
       "1     0  2-12       Optus ; NR2300    \n",
       "2     0  2-12      Optus ; LTE2600    \n",
       "3     0  2-12      Optus ; LTE1800    \n",
       "4     0  2-12    Optus ; NR/LTE900    \n",
       "5     0  2-12     Optus ; WCDMA900    \n",
       "..  ...    ...                  ...   \n",
       "75    0  0-10   Telstra ; WCDMA850    \n",
       "76    0  0-10     Telstra ; LTE700    \n",
       "77    7     3     Telstra ; NR3500    \n",
       "78    7     3     Telstra ; NR3500    \n",
       "79    7     3     Telstra ; NR3500    \n",
       "\n",
       "                                Possible Ports  \\\n",
       "1   5;6;7;8;9;10;11;12;13;14;15;16;17;18;19;20   \n",
       "2   5;6;7;8;9;10;11;12;13;14;15;16;17;18;19;20   \n",
       "3                          5;6;7;8;17;18;19;20   \n",
       "4                                      1;2;3;4   \n",
       "5                                      1;2;3;4   \n",
       "..                                         ...   \n",
       "75                                         1;2   \n",
       "76                                         1;2   \n",
       "77                                         1;2   \n",
       "78                                         1;2   \n",
       "79                                         1;2   \n",
       "\n",
       "                                         Powers  \\\n",
       "1   ;;;;;;;;38;38;38;38;38;38;38;38;;;;;;;;;;;;   \n",
       "2           ;;;;;;47;47;;;;;;;;;;;47;47;;;;;;;;   \n",
       "3           ;;;;;;47;47;;;;;;;;;;;47;47;;;;;;;;   \n",
       "4               48;48;;;;;;;;;;;;;;;;;;;;;;;;;;   \n",
       "5                 48;;;;;;;;;;;;;;;;;;;;;;;;;;;   \n",
       "..                                          ...   \n",
       "75                                45.3;45.3;;;;   \n",
       "76                                43.5;43.5;;;;   \n",
       "77                                        47;47   \n",
       "78                                        47;47   \n",
       "79                                        47;47   \n",
       "\n",
       "                                               Notes Operator  Carrier  \\\n",
       "1                   Optus 5G Vision Upgrade: BF 8863    Optus    Optus   \n",
       "2                   Optus 5G Vision Upgrade: L26 RRU    Optus    Optus   \n",
       "3                   Optus 5G Vision Upgrade: L18 RRU    Optus    Optus   \n",
       "4                    Optus 5G Vision Upgrade: L9 RRU    Optus    Optus   \n",
       "5           Optus 5G Vision Upgrade: U9 feeder + MHA    Optus    Optus   \n",
       "..                                               ...      ...      ...   \n",
       "75                                                 0  Telstra  Telstra   \n",
       "76                                                 0  Telstra  Telstra   \n",
       "77  Actual Mechanical Tilts for NR3500 AIR6488 0/0/0  Telstra  Telstra   \n",
       "78  Actual Mechanical Tilts for NR3500 AIR6488 0/0/0  Telstra  Telstra   \n",
       "79  Actual Mechanical Tilts for NR3500 AIR6488 0/0/0  Telstra  Telstra   \n",
       "\n",
       "           Tech      sorter  Total Ports           System/Sector Sectors  \\\n",
       "1       NR2300    Optus11-O           28      NR2300  - Sector 1       1   \n",
       "2      LTE2600    Optus11-O           28     LTE2600  - Sector 1       1   \n",
       "3      LTE1800    Optus11-O           28     LTE1800  - Sector 1       1   \n",
       "4    NR/LTE900    Optus11-O           28   NR/LTE900  - Sector 1       1   \n",
       "5     WCDMA900    Optus11-O           28    WCDMA900  - Sector 1       1   \n",
       "..          ...         ...          ...                     ...     ...   \n",
       "75    WCDMA850    TelstraA9            6    WCDMA850  - Sector 3       3   \n",
       "76      LTE700    TelstraA9            6      LTE700  - Sector 3       3   \n",
       "77      NR3500   TelstraA10            2      NR3500  - Sector 1       1   \n",
       "78      NR3500   TelstraA11            2      NR3500  - Sector 2       2   \n",
       "79      NR3500   TelstraA12            2      NR3500  - Sector 3       3   \n",
       "\n",
       "                                  Powers (W)  \n",
       "1   [6.3, 6.3, 6.3, 6.3, 6.3, 6.3, 6.3, 6.3]  \n",
       "2                   [50.1, 50.1, 50.1, 50.1]  \n",
       "3                   [50.1, 50.1, 50.1, 50.1]  \n",
       "4                               [63.1, 63.1]  \n",
       "5                                     [63.1]  \n",
       "..                                       ...  \n",
       "75                              [33.9, 33.9]  \n",
       "76                              [22.4, 22.4]  \n",
       "77                              [50.1, 50.1]  \n",
       "78                              [50.1, 50.1]  \n",
       "79                              [50.1, 50.1]  \n",
       "\n",
       "[79 rows x 20 columns]"
      ]
     },
     "metadata": {},
     "output_type": "display_data"
    }
   ],
   "source": [
    "display(df)"
   ]
  },
  {
   "cell_type": "code",
   "execution_count": 13,
   "id": "c1a6a22a",
   "metadata": {},
   "outputs": [],
   "source": [
    "######## what should be the frequency? ########\n",
    "Assess_Freq_list = []\n",
    "for i in df['Tech']:\n",
    "    if any([x in i for x in ['GSM900', 'WCDMA850', 'NB-IOT900', 'WCDMA900','LTE850', 'NR850','LTE900']]):\n",
    "        Assess_Freq_list.append('900')\n",
    "    elif any([x in i for x in ['NR/LTE2100', 'WCDMA2100', 'LTE2100']]):\n",
    "        Assess_Freq_list.append('2100')\n",
    "    elif any([x in i for x in ['NR/LTE1800', 'LTE1800']]):\n",
    "        Assess_Freq_list.append('1800')\n",
    "    elif any([x in i for x in ['LTE2600', 'NR2600']]):\n",
    "        Assess_Freq_list.append('2600')\n",
    "    elif 'LTE700' in i:\n",
    "        Assess_Freq_list.append('750')\n",
    "    elif 'LTE2300' in i:\n",
    "        Assess_Freq_list.append('2350')\n",
    "    else:\n",
    "        Assess_Freq_list.append(i)\n",
    "df['Assess Freq'] = Assess_Freq_list"
   ]
  },
  {
   "cell_type": "code",
   "execution_count": 14,
   "id": "959d53f2",
   "metadata": {},
   "outputs": [],
   "source": [
    "######## Which ports to add powers to? ########\n",
    "Mylist =[]\n",
    "\n",
    "for i in df['Powers']:\n",
    "    count = 1\n",
    "    lister = []\n",
    "    if isinstance(i, str):\n",
    "        for j in i:\n",
    "            if j==';':\n",
    "                count+=1\n",
    "            else:\n",
    "                lister.append(count)\n",
    "        Mylist.append(lister)\n",
    "    else:\n",
    "        Mylist.append(list(str(i))) \n",
    "        \n",
    "    \n",
    "new_k = []\n",
    "for elem in Mylist:\n",
    "    kiterator=[]\n",
    "    for el in elem:\n",
    "        if el not in kiterator:\n",
    "            kiterator.append(el)\n",
    "    new_k.append(kiterator)\n",
    "k = new_k\n",
    "\n",
    "df['WhereToAddPower'] = k"
   ]
  },
  {
   "cell_type": "code",
   "execution_count": 15,
   "id": "556375fe",
   "metadata": {},
   "outputs": [],
   "source": [
    "####Formatting Powers Column with ports numbers\n",
    "\n",
    "#itArr=[]\n",
    "#for index, elm in df['Powers'].iteritems():\n",
    "#    if isinstance(elm, (list, tuple)):\n",
    "#        itArr.append([f'{i+1}. {l}' for i, l in enumerate(elm)])\n",
    "#    else:\n",
    "#        itArr.append([elm])\n",
    "#df=df.drop(columns='Powers', axis=1)\n",
    "#df.insert(2, 'Powers', itArr)\n",
    "#############################################"
   ]
  },
  {
   "cell_type": "markdown",
   "id": "595edbc6",
   "metadata": {},
   "source": [
    "## Add these Antennas to prox5"
   ]
  },
  {
   "cell_type": "code",
   "execution_count": 16,
   "id": "e52e342b",
   "metadata": {},
   "outputs": [
    {
     "name": "stdout",
     "output_type": "stream",
     "text": [
      "You need to add these antennas\n",
      "\n",
      "RRZZVVT4S4-65B-R8 [Service Beam] \n",
      "RRZZVVT4S4-65D-R8 [Service Beam] \n",
      "T2040L3R011 \n",
      "AEQE \n",
      "RVVPX310.11B-T2H \n",
      "AIR6488 \n",
      "\n",
      "to PROX5\n"
     ]
    }
   ],
   "source": [
    "print('You need to add these antennas\\n\\n'+str.join(\" \\n\", AntennasUnique)+' \\n\\nto PROX5')"
   ]
  },
  {
   "cell_type": "markdown",
   "id": "f762f917",
   "metadata": {},
   "source": [
    "## IDs for Antennas"
   ]
  },
  {
   "cell_type": "code",
   "execution_count": 17,
   "id": "d7e3cf27",
   "metadata": {},
   "outputs": [
    {
     "name": "stdout",
     "output_type": "stream",
     "text": [
      "\n",
      "The id of \u001b[1mRRZZVVT4S4-65B-R8 [Service Beam]\u001b[0m are\n",
      "['11-O', '41-O']\n",
      "\n",
      "The id of \u001b[1mRRZZVVT4S4-65D-R8 [Service Beam]\u001b[0m are\n",
      "['21-O', '31-O']\n",
      "\n",
      "The id of \u001b[1mT2040L3R011\u001b[0m are\n",
      "['11-V', '21-V', '31-V']\n",
      "\n",
      "The id of \u001b[1mAEQE\u001b[0m are\n",
      "['12-V', '22-V', '32-V']\n",
      "\n",
      "The id of \u001b[1mRVVPX310.11B-T2H\u001b[0m are\n",
      "['A1', 'A3', 'A4', 'A6', 'A7', 'A9']\n",
      "\n",
      "The id of \u001b[1mAIR6488\u001b[0m are\n",
      "['A10', 'A11', 'A12']\n"
     ]
    }
   ],
   "source": [
    "for x, y in AntennaIds.items():\n",
    "    print(f'\\nThe id of '+text_format.BOLD+ x + text_format.END + ' are\\n'+str.join(\"\", str(y)))\n"
   ]
  },
  {
   "cell_type": "markdown",
   "id": "016b9f19",
   "metadata": {},
   "source": [
    "## Antenna Settings"
   ]
  },
  {
   "cell_type": "code",
   "execution_count": 18,
   "id": "64c239af",
   "metadata": {},
   "outputs": [
    {
     "data": {
      "text/plain": [
       "'Set Power and Frequency to ports in Prox5'"
      ]
     },
     "metadata": {},
     "output_type": "display_data"
    },
    {
     "name": "stdout",
     "output_type": "stream",
     "text": [
      "\n",
      "For \u001b[1m11-O\u001b[0m, the Settings are\n"
     ]
    },
    {
     "data": {
      "text/html": [
       "<div>\n",
       "<style scoped>\n",
       "    .dataframe tbody tr th:only-of-type {\n",
       "        vertical-align: middle;\n",
       "    }\n",
       "\n",
       "    .dataframe tbody tr th {\n",
       "        vertical-align: top;\n",
       "    }\n",
       "\n",
       "    .dataframe thead th {\n",
       "        text-align: right;\n",
       "    }\n",
       "</style>\n",
       "<table border=\"1\" class=\"dataframe\">\n",
       "  <thead>\n",
       "    <tr style=\"text-align: right;\">\n",
       "      <th></th>\n",
       "      <th>ID</th>\n",
       "      <th>Height</th>\n",
       "      <th>Bearing</th>\n",
       "      <th>MDT</th>\n",
       "    </tr>\n",
       "  </thead>\n",
       "  <tbody>\n",
       "    <tr>\n",
       "      <th>1</th>\n",
       "      <td>11-O</td>\n",
       "      <td>30.0</td>\n",
       "      <td>40</td>\n",
       "      <td>0</td>\n",
       "    </tr>\n",
       "    <tr>\n",
       "      <th>2</th>\n",
       "      <td>11-O</td>\n",
       "      <td>30.0</td>\n",
       "      <td>40</td>\n",
       "      <td>0</td>\n",
       "    </tr>\n",
       "    <tr>\n",
       "      <th>3</th>\n",
       "      <td>11-O</td>\n",
       "      <td>30.0</td>\n",
       "      <td>40</td>\n",
       "      <td>0</td>\n",
       "    </tr>\n",
       "    <tr>\n",
       "      <th>4</th>\n",
       "      <td>11-O</td>\n",
       "      <td>30.0</td>\n",
       "      <td>40</td>\n",
       "      <td>0</td>\n",
       "    </tr>\n",
       "    <tr>\n",
       "      <th>5</th>\n",
       "      <td>11-O</td>\n",
       "      <td>30.0</td>\n",
       "      <td>40</td>\n",
       "      <td>0</td>\n",
       "    </tr>\n",
       "    <tr>\n",
       "      <th>6</th>\n",
       "      <td>11-O</td>\n",
       "      <td>30.0</td>\n",
       "      <td>40</td>\n",
       "      <td>0</td>\n",
       "    </tr>\n",
       "    <tr>\n",
       "      <th>7</th>\n",
       "      <td>11-O</td>\n",
       "      <td>30.0</td>\n",
       "      <td>40</td>\n",
       "      <td>0</td>\n",
       "    </tr>\n",
       "    <tr>\n",
       "      <th>8</th>\n",
       "      <td>11-O</td>\n",
       "      <td>30.0</td>\n",
       "      <td>40</td>\n",
       "      <td>0</td>\n",
       "    </tr>\n",
       "  </tbody>\n",
       "</table>\n",
       "</div>"
      ],
      "text/plain": [
       "     ID  Height  Bearing  MDT\n",
       "1  11-O    30.0       40    0\n",
       "2  11-O    30.0       40    0\n",
       "3  11-O    30.0       40    0\n",
       "4  11-O    30.0       40    0\n",
       "5  11-O    30.0       40    0\n",
       "6  11-O    30.0       40    0\n",
       "7  11-O    30.0       40    0\n",
       "8  11-O    30.0       40    0"
      ]
     },
     "metadata": {},
     "output_type": "display_data"
    },
    {
     "name": "stdout",
     "output_type": "stream",
     "text": [
      "\n",
      "For \u001b[1m21-O\u001b[0m, the Settings are\n"
     ]
    },
    {
     "data": {
      "text/html": [
       "<div>\n",
       "<style scoped>\n",
       "    .dataframe tbody tr th:only-of-type {\n",
       "        vertical-align: middle;\n",
       "    }\n",
       "\n",
       "    .dataframe tbody tr th {\n",
       "        vertical-align: top;\n",
       "    }\n",
       "\n",
       "    .dataframe thead th {\n",
       "        text-align: right;\n",
       "    }\n",
       "</style>\n",
       "<table border=\"1\" class=\"dataframe\">\n",
       "  <thead>\n",
       "    <tr style=\"text-align: right;\">\n",
       "      <th></th>\n",
       "      <th>ID</th>\n",
       "      <th>Height</th>\n",
       "      <th>Bearing</th>\n",
       "      <th>MDT</th>\n",
       "    </tr>\n",
       "  </thead>\n",
       "  <tbody>\n",
       "    <tr>\n",
       "      <th>9</th>\n",
       "      <td>21-O</td>\n",
       "      <td>30.0</td>\n",
       "      <td>130</td>\n",
       "      <td>0</td>\n",
       "    </tr>\n",
       "    <tr>\n",
       "      <th>10</th>\n",
       "      <td>21-O</td>\n",
       "      <td>30.0</td>\n",
       "      <td>130</td>\n",
       "      <td>0</td>\n",
       "    </tr>\n",
       "    <tr>\n",
       "      <th>11</th>\n",
       "      <td>21-O</td>\n",
       "      <td>30.0</td>\n",
       "      <td>130</td>\n",
       "      <td>0</td>\n",
       "    </tr>\n",
       "    <tr>\n",
       "      <th>12</th>\n",
       "      <td>21-O</td>\n",
       "      <td>30.0</td>\n",
       "      <td>130</td>\n",
       "      <td>0</td>\n",
       "    </tr>\n",
       "    <tr>\n",
       "      <th>13</th>\n",
       "      <td>21-O</td>\n",
       "      <td>30.0</td>\n",
       "      <td>130</td>\n",
       "      <td>0</td>\n",
       "    </tr>\n",
       "    <tr>\n",
       "      <th>14</th>\n",
       "      <td>21-O</td>\n",
       "      <td>30.0</td>\n",
       "      <td>130</td>\n",
       "      <td>0</td>\n",
       "    </tr>\n",
       "    <tr>\n",
       "      <th>15</th>\n",
       "      <td>21-O</td>\n",
       "      <td>30.0</td>\n",
       "      <td>130</td>\n",
       "      <td>0</td>\n",
       "    </tr>\n",
       "    <tr>\n",
       "      <th>16</th>\n",
       "      <td>21-O</td>\n",
       "      <td>30.0</td>\n",
       "      <td>130</td>\n",
       "      <td>0</td>\n",
       "    </tr>\n",
       "  </tbody>\n",
       "</table>\n",
       "</div>"
      ],
      "text/plain": [
       "      ID  Height  Bearing  MDT\n",
       "9   21-O    30.0      130    0\n",
       "10  21-O    30.0      130    0\n",
       "11  21-O    30.0      130    0\n",
       "12  21-O    30.0      130    0\n",
       "13  21-O    30.0      130    0\n",
       "14  21-O    30.0      130    0\n",
       "15  21-O    30.0      130    0\n",
       "16  21-O    30.0      130    0"
      ]
     },
     "metadata": {},
     "output_type": "display_data"
    },
    {
     "name": "stdout",
     "output_type": "stream",
     "text": [
      "\n",
      "For \u001b[1m31-O\u001b[0m, the Settings are\n"
     ]
    },
    {
     "data": {
      "text/html": [
       "<div>\n",
       "<style scoped>\n",
       "    .dataframe tbody tr th:only-of-type {\n",
       "        vertical-align: middle;\n",
       "    }\n",
       "\n",
       "    .dataframe tbody tr th {\n",
       "        vertical-align: top;\n",
       "    }\n",
       "\n",
       "    .dataframe thead th {\n",
       "        text-align: right;\n",
       "    }\n",
       "</style>\n",
       "<table border=\"1\" class=\"dataframe\">\n",
       "  <thead>\n",
       "    <tr style=\"text-align: right;\">\n",
       "      <th></th>\n",
       "      <th>ID</th>\n",
       "      <th>Height</th>\n",
       "      <th>Bearing</th>\n",
       "      <th>MDT</th>\n",
       "    </tr>\n",
       "  </thead>\n",
       "  <tbody>\n",
       "    <tr>\n",
       "      <th>17</th>\n",
       "      <td>31-O</td>\n",
       "      <td>30.0</td>\n",
       "      <td>220</td>\n",
       "      <td>0</td>\n",
       "    </tr>\n",
       "    <tr>\n",
       "      <th>18</th>\n",
       "      <td>31-O</td>\n",
       "      <td>30.0</td>\n",
       "      <td>220</td>\n",
       "      <td>0</td>\n",
       "    </tr>\n",
       "    <tr>\n",
       "      <th>19</th>\n",
       "      <td>31-O</td>\n",
       "      <td>30.0</td>\n",
       "      <td>220</td>\n",
       "      <td>0</td>\n",
       "    </tr>\n",
       "    <tr>\n",
       "      <th>20</th>\n",
       "      <td>31-O</td>\n",
       "      <td>30.0</td>\n",
       "      <td>220</td>\n",
       "      <td>0</td>\n",
       "    </tr>\n",
       "    <tr>\n",
       "      <th>21</th>\n",
       "      <td>31-O</td>\n",
       "      <td>30.0</td>\n",
       "      <td>220</td>\n",
       "      <td>0</td>\n",
       "    </tr>\n",
       "    <tr>\n",
       "      <th>22</th>\n",
       "      <td>31-O</td>\n",
       "      <td>30.0</td>\n",
       "      <td>220</td>\n",
       "      <td>0</td>\n",
       "    </tr>\n",
       "    <tr>\n",
       "      <th>23</th>\n",
       "      <td>31-O</td>\n",
       "      <td>30.0</td>\n",
       "      <td>220</td>\n",
       "      <td>0</td>\n",
       "    </tr>\n",
       "    <tr>\n",
       "      <th>24</th>\n",
       "      <td>31-O</td>\n",
       "      <td>30.0</td>\n",
       "      <td>220</td>\n",
       "      <td>0</td>\n",
       "    </tr>\n",
       "  </tbody>\n",
       "</table>\n",
       "</div>"
      ],
      "text/plain": [
       "      ID  Height  Bearing  MDT\n",
       "17  31-O    30.0      220    0\n",
       "18  31-O    30.0      220    0\n",
       "19  31-O    30.0      220    0\n",
       "20  31-O    30.0      220    0\n",
       "21  31-O    30.0      220    0\n",
       "22  31-O    30.0      220    0\n",
       "23  31-O    30.0      220    0\n",
       "24  31-O    30.0      220    0"
      ]
     },
     "metadata": {},
     "output_type": "display_data"
    },
    {
     "name": "stdout",
     "output_type": "stream",
     "text": [
      "\n",
      "For \u001b[1m41-O\u001b[0m, the Settings are\n"
     ]
    },
    {
     "data": {
      "text/html": [
       "<div>\n",
       "<style scoped>\n",
       "    .dataframe tbody tr th:only-of-type {\n",
       "        vertical-align: middle;\n",
       "    }\n",
       "\n",
       "    .dataframe tbody tr th {\n",
       "        vertical-align: top;\n",
       "    }\n",
       "\n",
       "    .dataframe thead th {\n",
       "        text-align: right;\n",
       "    }\n",
       "</style>\n",
       "<table border=\"1\" class=\"dataframe\">\n",
       "  <thead>\n",
       "    <tr style=\"text-align: right;\">\n",
       "      <th></th>\n",
       "      <th>ID</th>\n",
       "      <th>Height</th>\n",
       "      <th>Bearing</th>\n",
       "      <th>MDT</th>\n",
       "    </tr>\n",
       "  </thead>\n",
       "  <tbody>\n",
       "    <tr>\n",
       "      <th>25</th>\n",
       "      <td>41-O</td>\n",
       "      <td>30.0</td>\n",
       "      <td>310</td>\n",
       "      <td>0</td>\n",
       "    </tr>\n",
       "    <tr>\n",
       "      <th>26</th>\n",
       "      <td>41-O</td>\n",
       "      <td>30.0</td>\n",
       "      <td>310</td>\n",
       "      <td>0</td>\n",
       "    </tr>\n",
       "    <tr>\n",
       "      <th>27</th>\n",
       "      <td>41-O</td>\n",
       "      <td>30.0</td>\n",
       "      <td>310</td>\n",
       "      <td>0</td>\n",
       "    </tr>\n",
       "    <tr>\n",
       "      <th>28</th>\n",
       "      <td>41-O</td>\n",
       "      <td>30.0</td>\n",
       "      <td>310</td>\n",
       "      <td>0</td>\n",
       "    </tr>\n",
       "    <tr>\n",
       "      <th>29</th>\n",
       "      <td>41-O</td>\n",
       "      <td>30.0</td>\n",
       "      <td>310</td>\n",
       "      <td>0</td>\n",
       "    </tr>\n",
       "    <tr>\n",
       "      <th>30</th>\n",
       "      <td>41-O</td>\n",
       "      <td>30.0</td>\n",
       "      <td>310</td>\n",
       "      <td>0</td>\n",
       "    </tr>\n",
       "    <tr>\n",
       "      <th>31</th>\n",
       "      <td>41-O</td>\n",
       "      <td>30.0</td>\n",
       "      <td>310</td>\n",
       "      <td>0</td>\n",
       "    </tr>\n",
       "  </tbody>\n",
       "</table>\n",
       "</div>"
      ],
      "text/plain": [
       "      ID  Height  Bearing  MDT\n",
       "25  41-O    30.0      310    0\n",
       "26  41-O    30.0      310    0\n",
       "27  41-O    30.0      310    0\n",
       "28  41-O    30.0      310    0\n",
       "29  41-O    30.0      310    0\n",
       "30  41-O    30.0      310    0\n",
       "31  41-O    30.0      310    0"
      ]
     },
     "metadata": {},
     "output_type": "display_data"
    },
    {
     "name": "stdout",
     "output_type": "stream",
     "text": [
      "\n",
      "For \u001b[1m11-V\u001b[0m, the Settings are\n"
     ]
    },
    {
     "data": {
      "text/html": [
       "<div>\n",
       "<style scoped>\n",
       "    .dataframe tbody tr th:only-of-type {\n",
       "        vertical-align: middle;\n",
       "    }\n",
       "\n",
       "    .dataframe tbody tr th {\n",
       "        vertical-align: top;\n",
       "    }\n",
       "\n",
       "    .dataframe thead th {\n",
       "        text-align: right;\n",
       "    }\n",
       "</style>\n",
       "<table border=\"1\" class=\"dataframe\">\n",
       "  <thead>\n",
       "    <tr style=\"text-align: right;\">\n",
       "      <th></th>\n",
       "      <th>ID</th>\n",
       "      <th>Height</th>\n",
       "      <th>Bearing</th>\n",
       "      <th>MDT</th>\n",
       "    </tr>\n",
       "  </thead>\n",
       "  <tbody>\n",
       "    <tr>\n",
       "      <th>32</th>\n",
       "      <td>11-V</td>\n",
       "      <td>37.0</td>\n",
       "      <td>20</td>\n",
       "      <td>0</td>\n",
       "    </tr>\n",
       "    <tr>\n",
       "      <th>33</th>\n",
       "      <td>11-V</td>\n",
       "      <td>37.0</td>\n",
       "      <td>20</td>\n",
       "      <td>0</td>\n",
       "    </tr>\n",
       "    <tr>\n",
       "      <th>34</th>\n",
       "      <td>11-V</td>\n",
       "      <td>37.0</td>\n",
       "      <td>20</td>\n",
       "      <td>0</td>\n",
       "    </tr>\n",
       "    <tr>\n",
       "      <th>35</th>\n",
       "      <td>11-V</td>\n",
       "      <td>37.0</td>\n",
       "      <td>20</td>\n",
       "      <td>0</td>\n",
       "    </tr>\n",
       "    <tr>\n",
       "      <th>36</th>\n",
       "      <td>11-V</td>\n",
       "      <td>37.0</td>\n",
       "      <td>20</td>\n",
       "      <td>0</td>\n",
       "    </tr>\n",
       "    <tr>\n",
       "      <th>37</th>\n",
       "      <td>11-V</td>\n",
       "      <td>37.0</td>\n",
       "      <td>20</td>\n",
       "      <td>0</td>\n",
       "    </tr>\n",
       "  </tbody>\n",
       "</table>\n",
       "</div>"
      ],
      "text/plain": [
       "      ID  Height  Bearing  MDT\n",
       "32  11-V    37.0       20    0\n",
       "33  11-V    37.0       20    0\n",
       "34  11-V    37.0       20    0\n",
       "35  11-V    37.0       20    0\n",
       "36  11-V    37.0       20    0\n",
       "37  11-V    37.0       20    0"
      ]
     },
     "metadata": {},
     "output_type": "display_data"
    },
    {
     "name": "stdout",
     "output_type": "stream",
     "text": [
      "\n",
      "For \u001b[1m12-V\u001b[0m, the Settings are\n"
     ]
    },
    {
     "data": {
      "text/html": [
       "<div>\n",
       "<style scoped>\n",
       "    .dataframe tbody tr th:only-of-type {\n",
       "        vertical-align: middle;\n",
       "    }\n",
       "\n",
       "    .dataframe tbody tr th {\n",
       "        vertical-align: top;\n",
       "    }\n",
       "\n",
       "    .dataframe thead th {\n",
       "        text-align: right;\n",
       "    }\n",
       "</style>\n",
       "<table border=\"1\" class=\"dataframe\">\n",
       "  <thead>\n",
       "    <tr style=\"text-align: right;\">\n",
       "      <th></th>\n",
       "      <th>ID</th>\n",
       "      <th>Height</th>\n",
       "      <th>Bearing</th>\n",
       "      <th>MDT</th>\n",
       "    </tr>\n",
       "  </thead>\n",
       "  <tbody>\n",
       "    <tr>\n",
       "      <th>38</th>\n",
       "      <td>12-V</td>\n",
       "      <td>36.89</td>\n",
       "      <td>20</td>\n",
       "      <td>0</td>\n",
       "    </tr>\n",
       "  </tbody>\n",
       "</table>\n",
       "</div>"
      ],
      "text/plain": [
       "      ID  Height  Bearing  MDT\n",
       "38  12-V   36.89       20    0"
      ]
     },
     "metadata": {},
     "output_type": "display_data"
    },
    {
     "name": "stdout",
     "output_type": "stream",
     "text": [
      "\n",
      "For \u001b[1m21-V\u001b[0m, the Settings are\n"
     ]
    },
    {
     "data": {
      "text/html": [
       "<div>\n",
       "<style scoped>\n",
       "    .dataframe tbody tr th:only-of-type {\n",
       "        vertical-align: middle;\n",
       "    }\n",
       "\n",
       "    .dataframe tbody tr th {\n",
       "        vertical-align: top;\n",
       "    }\n",
       "\n",
       "    .dataframe thead th {\n",
       "        text-align: right;\n",
       "    }\n",
       "</style>\n",
       "<table border=\"1\" class=\"dataframe\">\n",
       "  <thead>\n",
       "    <tr style=\"text-align: right;\">\n",
       "      <th></th>\n",
       "      <th>ID</th>\n",
       "      <th>Height</th>\n",
       "      <th>Bearing</th>\n",
       "      <th>MDT</th>\n",
       "    </tr>\n",
       "  </thead>\n",
       "  <tbody>\n",
       "    <tr>\n",
       "      <th>39</th>\n",
       "      <td>21-V</td>\n",
       "      <td>37.0</td>\n",
       "      <td>120</td>\n",
       "      <td>0</td>\n",
       "    </tr>\n",
       "    <tr>\n",
       "      <th>40</th>\n",
       "      <td>21-V</td>\n",
       "      <td>37.0</td>\n",
       "      <td>120</td>\n",
       "      <td>0</td>\n",
       "    </tr>\n",
       "    <tr>\n",
       "      <th>41</th>\n",
       "      <td>21-V</td>\n",
       "      <td>37.0</td>\n",
       "      <td>120</td>\n",
       "      <td>0</td>\n",
       "    </tr>\n",
       "    <tr>\n",
       "      <th>42</th>\n",
       "      <td>21-V</td>\n",
       "      <td>37.0</td>\n",
       "      <td>120</td>\n",
       "      <td>0</td>\n",
       "    </tr>\n",
       "    <tr>\n",
       "      <th>43</th>\n",
       "      <td>21-V</td>\n",
       "      <td>37.0</td>\n",
       "      <td>120</td>\n",
       "      <td>0</td>\n",
       "    </tr>\n",
       "    <tr>\n",
       "      <th>44</th>\n",
       "      <td>21-V</td>\n",
       "      <td>37.0</td>\n",
       "      <td>120</td>\n",
       "      <td>0</td>\n",
       "    </tr>\n",
       "  </tbody>\n",
       "</table>\n",
       "</div>"
      ],
      "text/plain": [
       "      ID  Height  Bearing  MDT\n",
       "39  21-V    37.0      120    0\n",
       "40  21-V    37.0      120    0\n",
       "41  21-V    37.0      120    0\n",
       "42  21-V    37.0      120    0\n",
       "43  21-V    37.0      120    0\n",
       "44  21-V    37.0      120    0"
      ]
     },
     "metadata": {},
     "output_type": "display_data"
    },
    {
     "name": "stdout",
     "output_type": "stream",
     "text": [
      "\n",
      "For \u001b[1m22-V\u001b[0m, the Settings are\n"
     ]
    },
    {
     "data": {
      "text/html": [
       "<div>\n",
       "<style scoped>\n",
       "    .dataframe tbody tr th:only-of-type {\n",
       "        vertical-align: middle;\n",
       "    }\n",
       "\n",
       "    .dataframe tbody tr th {\n",
       "        vertical-align: top;\n",
       "    }\n",
       "\n",
       "    .dataframe thead th {\n",
       "        text-align: right;\n",
       "    }\n",
       "</style>\n",
       "<table border=\"1\" class=\"dataframe\">\n",
       "  <thead>\n",
       "    <tr style=\"text-align: right;\">\n",
       "      <th></th>\n",
       "      <th>ID</th>\n",
       "      <th>Height</th>\n",
       "      <th>Bearing</th>\n",
       "      <th>MDT</th>\n",
       "    </tr>\n",
       "  </thead>\n",
       "  <tbody>\n",
       "    <tr>\n",
       "      <th>45</th>\n",
       "      <td>22-V</td>\n",
       "      <td>36.89</td>\n",
       "      <td>120</td>\n",
       "      <td>1</td>\n",
       "    </tr>\n",
       "  </tbody>\n",
       "</table>\n",
       "</div>"
      ],
      "text/plain": [
       "      ID  Height  Bearing  MDT\n",
       "45  22-V   36.89      120    1"
      ]
     },
     "metadata": {},
     "output_type": "display_data"
    },
    {
     "name": "stdout",
     "output_type": "stream",
     "text": [
      "\n",
      "For \u001b[1m31-V\u001b[0m, the Settings are\n"
     ]
    },
    {
     "data": {
      "text/html": [
       "<div>\n",
       "<style scoped>\n",
       "    .dataframe tbody tr th:only-of-type {\n",
       "        vertical-align: middle;\n",
       "    }\n",
       "\n",
       "    .dataframe tbody tr th {\n",
       "        vertical-align: top;\n",
       "    }\n",
       "\n",
       "    .dataframe thead th {\n",
       "        text-align: right;\n",
       "    }\n",
       "</style>\n",
       "<table border=\"1\" class=\"dataframe\">\n",
       "  <thead>\n",
       "    <tr style=\"text-align: right;\">\n",
       "      <th></th>\n",
       "      <th>ID</th>\n",
       "      <th>Height</th>\n",
       "      <th>Bearing</th>\n",
       "      <th>MDT</th>\n",
       "    </tr>\n",
       "  </thead>\n",
       "  <tbody>\n",
       "    <tr>\n",
       "      <th>46</th>\n",
       "      <td>31-V</td>\n",
       "      <td>37.0</td>\n",
       "      <td>220</td>\n",
       "      <td>1</td>\n",
       "    </tr>\n",
       "    <tr>\n",
       "      <th>47</th>\n",
       "      <td>31-V</td>\n",
       "      <td>37.0</td>\n",
       "      <td>220</td>\n",
       "      <td>1</td>\n",
       "    </tr>\n",
       "    <tr>\n",
       "      <th>48</th>\n",
       "      <td>31-V</td>\n",
       "      <td>37.0</td>\n",
       "      <td>220</td>\n",
       "      <td>1</td>\n",
       "    </tr>\n",
       "    <tr>\n",
       "      <th>49</th>\n",
       "      <td>31-V</td>\n",
       "      <td>37.0</td>\n",
       "      <td>220</td>\n",
       "      <td>1</td>\n",
       "    </tr>\n",
       "    <tr>\n",
       "      <th>50</th>\n",
       "      <td>31-V</td>\n",
       "      <td>37.0</td>\n",
       "      <td>220</td>\n",
       "      <td>1</td>\n",
       "    </tr>\n",
       "    <tr>\n",
       "      <th>51</th>\n",
       "      <td>31-V</td>\n",
       "      <td>37.0</td>\n",
       "      <td>220</td>\n",
       "      <td>1</td>\n",
       "    </tr>\n",
       "  </tbody>\n",
       "</table>\n",
       "</div>"
      ],
      "text/plain": [
       "      ID  Height  Bearing  MDT\n",
       "46  31-V    37.0      220    1\n",
       "47  31-V    37.0      220    1\n",
       "48  31-V    37.0      220    1\n",
       "49  31-V    37.0      220    1\n",
       "50  31-V    37.0      220    1\n",
       "51  31-V    37.0      220    1"
      ]
     },
     "metadata": {},
     "output_type": "display_data"
    },
    {
     "name": "stdout",
     "output_type": "stream",
     "text": [
      "\n",
      "For \u001b[1m32-V\u001b[0m, the Settings are\n"
     ]
    },
    {
     "data": {
      "text/html": [
       "<div>\n",
       "<style scoped>\n",
       "    .dataframe tbody tr th:only-of-type {\n",
       "        vertical-align: middle;\n",
       "    }\n",
       "\n",
       "    .dataframe tbody tr th {\n",
       "        vertical-align: top;\n",
       "    }\n",
       "\n",
       "    .dataframe thead th {\n",
       "        text-align: right;\n",
       "    }\n",
       "</style>\n",
       "<table border=\"1\" class=\"dataframe\">\n",
       "  <thead>\n",
       "    <tr style=\"text-align: right;\">\n",
       "      <th></th>\n",
       "      <th>ID</th>\n",
       "      <th>Height</th>\n",
       "      <th>Bearing</th>\n",
       "      <th>MDT</th>\n",
       "    </tr>\n",
       "  </thead>\n",
       "  <tbody>\n",
       "    <tr>\n",
       "      <th>52</th>\n",
       "      <td>32-V</td>\n",
       "      <td>36.89</td>\n",
       "      <td>220</td>\n",
       "      <td>1</td>\n",
       "    </tr>\n",
       "  </tbody>\n",
       "</table>\n",
       "</div>"
      ],
      "text/plain": [
       "      ID  Height  Bearing  MDT\n",
       "52  32-V   36.89      220    1"
      ]
     },
     "metadata": {},
     "output_type": "display_data"
    },
    {
     "name": "stdout",
     "output_type": "stream",
     "text": [
      "\n",
      "For \u001b[1mA1\u001b[0m, the Settings are\n"
     ]
    },
    {
     "data": {
      "text/html": [
       "<div>\n",
       "<style scoped>\n",
       "    .dataframe tbody tr th:only-of-type {\n",
       "        vertical-align: middle;\n",
       "    }\n",
       "\n",
       "    .dataframe tbody tr th {\n",
       "        vertical-align: top;\n",
       "    }\n",
       "\n",
       "    .dataframe thead th {\n",
       "        text-align: right;\n",
       "    }\n",
       "</style>\n",
       "<table border=\"1\" class=\"dataframe\">\n",
       "  <thead>\n",
       "    <tr style=\"text-align: right;\">\n",
       "      <th></th>\n",
       "      <th>ID</th>\n",
       "      <th>Height</th>\n",
       "      <th>Bearing</th>\n",
       "      <th>MDT</th>\n",
       "    </tr>\n",
       "  </thead>\n",
       "  <tbody>\n",
       "    <tr>\n",
       "      <th>53</th>\n",
       "      <td>A1</td>\n",
       "      <td>25.0</td>\n",
       "      <td>30</td>\n",
       "      <td>0</td>\n",
       "    </tr>\n",
       "    <tr>\n",
       "      <th>54</th>\n",
       "      <td>A1</td>\n",
       "      <td>25.0</td>\n",
       "      <td>30</td>\n",
       "      <td>0</td>\n",
       "    </tr>\n",
       "    <tr>\n",
       "      <th>55</th>\n",
       "      <td>A1</td>\n",
       "      <td>25.0</td>\n",
       "      <td>30</td>\n",
       "      <td>0</td>\n",
       "    </tr>\n",
       "    <tr>\n",
       "      <th>56</th>\n",
       "      <td>A1</td>\n",
       "      <td>25.0</td>\n",
       "      <td>30</td>\n",
       "      <td>0</td>\n",
       "    </tr>\n",
       "    <tr>\n",
       "      <th>57</th>\n",
       "      <td>A1</td>\n",
       "      <td>25.0</td>\n",
       "      <td>30</td>\n",
       "      <td>0</td>\n",
       "    </tr>\n",
       "  </tbody>\n",
       "</table>\n",
       "</div>"
      ],
      "text/plain": [
       "    ID  Height  Bearing  MDT\n",
       "53  A1    25.0       30    0\n",
       "54  A1    25.0       30    0\n",
       "55  A1    25.0       30    0\n",
       "56  A1    25.0       30    0\n",
       "57  A1    25.0       30    0"
      ]
     },
     "metadata": {},
     "output_type": "display_data"
    },
    {
     "name": "stdout",
     "output_type": "stream",
     "text": [
      "\n",
      "For \u001b[1mA3\u001b[0m, the Settings are\n"
     ]
    },
    {
     "data": {
      "text/html": [
       "<div>\n",
       "<style scoped>\n",
       "    .dataframe tbody tr th:only-of-type {\n",
       "        vertical-align: middle;\n",
       "    }\n",
       "\n",
       "    .dataframe tbody tr th {\n",
       "        vertical-align: top;\n",
       "    }\n",
       "\n",
       "    .dataframe thead th {\n",
       "        text-align: right;\n",
       "    }\n",
       "</style>\n",
       "<table border=\"1\" class=\"dataframe\">\n",
       "  <thead>\n",
       "    <tr style=\"text-align: right;\">\n",
       "      <th></th>\n",
       "      <th>ID</th>\n",
       "      <th>Height</th>\n",
       "      <th>Bearing</th>\n",
       "      <th>MDT</th>\n",
       "    </tr>\n",
       "  </thead>\n",
       "  <tbody>\n",
       "    <tr>\n",
       "      <th>58</th>\n",
       "      <td>A3</td>\n",
       "      <td>25.0</td>\n",
       "      <td>30</td>\n",
       "      <td>0</td>\n",
       "    </tr>\n",
       "    <tr>\n",
       "      <th>59</th>\n",
       "      <td>A3</td>\n",
       "      <td>25.0</td>\n",
       "      <td>30</td>\n",
       "      <td>0</td>\n",
       "    </tr>\n",
       "    <tr>\n",
       "      <th>60</th>\n",
       "      <td>A3</td>\n",
       "      <td>25.0</td>\n",
       "      <td>30</td>\n",
       "      <td>0</td>\n",
       "    </tr>\n",
       "  </tbody>\n",
       "</table>\n",
       "</div>"
      ],
      "text/plain": [
       "    ID  Height  Bearing  MDT\n",
       "58  A3    25.0       30    0\n",
       "59  A3    25.0       30    0\n",
       "60  A3    25.0       30    0"
      ]
     },
     "metadata": {},
     "output_type": "display_data"
    },
    {
     "name": "stdout",
     "output_type": "stream",
     "text": [
      "\n",
      "For \u001b[1mA4\u001b[0m, the Settings are\n"
     ]
    },
    {
     "data": {
      "text/html": [
       "<div>\n",
       "<style scoped>\n",
       "    .dataframe tbody tr th:only-of-type {\n",
       "        vertical-align: middle;\n",
       "    }\n",
       "\n",
       "    .dataframe tbody tr th {\n",
       "        vertical-align: top;\n",
       "    }\n",
       "\n",
       "    .dataframe thead th {\n",
       "        text-align: right;\n",
       "    }\n",
       "</style>\n",
       "<table border=\"1\" class=\"dataframe\">\n",
       "  <thead>\n",
       "    <tr style=\"text-align: right;\">\n",
       "      <th></th>\n",
       "      <th>ID</th>\n",
       "      <th>Height</th>\n",
       "      <th>Bearing</th>\n",
       "      <th>MDT</th>\n",
       "    </tr>\n",
       "  </thead>\n",
       "  <tbody>\n",
       "    <tr>\n",
       "      <th>61</th>\n",
       "      <td>A4</td>\n",
       "      <td>25.0</td>\n",
       "      <td>150</td>\n",
       "      <td>0</td>\n",
       "    </tr>\n",
       "    <tr>\n",
       "      <th>62</th>\n",
       "      <td>A4</td>\n",
       "      <td>25.0</td>\n",
       "      <td>150</td>\n",
       "      <td>0</td>\n",
       "    </tr>\n",
       "    <tr>\n",
       "      <th>63</th>\n",
       "      <td>A4</td>\n",
       "      <td>25.0</td>\n",
       "      <td>150</td>\n",
       "      <td>0</td>\n",
       "    </tr>\n",
       "    <tr>\n",
       "      <th>64</th>\n",
       "      <td>A4</td>\n",
       "      <td>25.0</td>\n",
       "      <td>150</td>\n",
       "      <td>0</td>\n",
       "    </tr>\n",
       "    <tr>\n",
       "      <th>65</th>\n",
       "      <td>A4</td>\n",
       "      <td>25.0</td>\n",
       "      <td>150</td>\n",
       "      <td>0</td>\n",
       "    </tr>\n",
       "  </tbody>\n",
       "</table>\n",
       "</div>"
      ],
      "text/plain": [
       "    ID  Height  Bearing  MDT\n",
       "61  A4    25.0      150    0\n",
       "62  A4    25.0      150    0\n",
       "63  A4    25.0      150    0\n",
       "64  A4    25.0      150    0\n",
       "65  A4    25.0      150    0"
      ]
     },
     "metadata": {},
     "output_type": "display_data"
    },
    {
     "name": "stdout",
     "output_type": "stream",
     "text": [
      "\n",
      "For \u001b[1mA6\u001b[0m, the Settings are\n"
     ]
    },
    {
     "data": {
      "text/html": [
       "<div>\n",
       "<style scoped>\n",
       "    .dataframe tbody tr th:only-of-type {\n",
       "        vertical-align: middle;\n",
       "    }\n",
       "\n",
       "    .dataframe tbody tr th {\n",
       "        vertical-align: top;\n",
       "    }\n",
       "\n",
       "    .dataframe thead th {\n",
       "        text-align: right;\n",
       "    }\n",
       "</style>\n",
       "<table border=\"1\" class=\"dataframe\">\n",
       "  <thead>\n",
       "    <tr style=\"text-align: right;\">\n",
       "      <th></th>\n",
       "      <th>ID</th>\n",
       "      <th>Height</th>\n",
       "      <th>Bearing</th>\n",
       "      <th>MDT</th>\n",
       "    </tr>\n",
       "  </thead>\n",
       "  <tbody>\n",
       "    <tr>\n",
       "      <th>66</th>\n",
       "      <td>A6</td>\n",
       "      <td>25.0</td>\n",
       "      <td>150</td>\n",
       "      <td>0</td>\n",
       "    </tr>\n",
       "    <tr>\n",
       "      <th>67</th>\n",
       "      <td>A6</td>\n",
       "      <td>25.0</td>\n",
       "      <td>150</td>\n",
       "      <td>0</td>\n",
       "    </tr>\n",
       "    <tr>\n",
       "      <th>68</th>\n",
       "      <td>A6</td>\n",
       "      <td>25.0</td>\n",
       "      <td>150</td>\n",
       "      <td>0</td>\n",
       "    </tr>\n",
       "  </tbody>\n",
       "</table>\n",
       "</div>"
      ],
      "text/plain": [
       "    ID  Height  Bearing  MDT\n",
       "66  A6    25.0      150    0\n",
       "67  A6    25.0      150    0\n",
       "68  A6    25.0      150    0"
      ]
     },
     "metadata": {},
     "output_type": "display_data"
    },
    {
     "name": "stdout",
     "output_type": "stream",
     "text": [
      "\n",
      "For \u001b[1mA7\u001b[0m, the Settings are\n"
     ]
    },
    {
     "data": {
      "text/html": [
       "<div>\n",
       "<style scoped>\n",
       "    .dataframe tbody tr th:only-of-type {\n",
       "        vertical-align: middle;\n",
       "    }\n",
       "\n",
       "    .dataframe tbody tr th {\n",
       "        vertical-align: top;\n",
       "    }\n",
       "\n",
       "    .dataframe thead th {\n",
       "        text-align: right;\n",
       "    }\n",
       "</style>\n",
       "<table border=\"1\" class=\"dataframe\">\n",
       "  <thead>\n",
       "    <tr style=\"text-align: right;\">\n",
       "      <th></th>\n",
       "      <th>ID</th>\n",
       "      <th>Height</th>\n",
       "      <th>Bearing</th>\n",
       "      <th>MDT</th>\n",
       "    </tr>\n",
       "  </thead>\n",
       "  <tbody>\n",
       "    <tr>\n",
       "      <th>69</th>\n",
       "      <td>A7</td>\n",
       "      <td>25.0</td>\n",
       "      <td>270</td>\n",
       "      <td>0</td>\n",
       "    </tr>\n",
       "    <tr>\n",
       "      <th>70</th>\n",
       "      <td>A7</td>\n",
       "      <td>25.0</td>\n",
       "      <td>270</td>\n",
       "      <td>0</td>\n",
       "    </tr>\n",
       "    <tr>\n",
       "      <th>71</th>\n",
       "      <td>A7</td>\n",
       "      <td>25.0</td>\n",
       "      <td>270</td>\n",
       "      <td>0</td>\n",
       "    </tr>\n",
       "    <tr>\n",
       "      <th>72</th>\n",
       "      <td>A7</td>\n",
       "      <td>25.0</td>\n",
       "      <td>270</td>\n",
       "      <td>0</td>\n",
       "    </tr>\n",
       "    <tr>\n",
       "      <th>73</th>\n",
       "      <td>A7</td>\n",
       "      <td>25.0</td>\n",
       "      <td>270</td>\n",
       "      <td>0</td>\n",
       "    </tr>\n",
       "  </tbody>\n",
       "</table>\n",
       "</div>"
      ],
      "text/plain": [
       "    ID  Height  Bearing  MDT\n",
       "69  A7    25.0      270    0\n",
       "70  A7    25.0      270    0\n",
       "71  A7    25.0      270    0\n",
       "72  A7    25.0      270    0\n",
       "73  A7    25.0      270    0"
      ]
     },
     "metadata": {},
     "output_type": "display_data"
    },
    {
     "name": "stdout",
     "output_type": "stream",
     "text": [
      "\n",
      "For \u001b[1mA9\u001b[0m, the Settings are\n"
     ]
    },
    {
     "data": {
      "text/html": [
       "<div>\n",
       "<style scoped>\n",
       "    .dataframe tbody tr th:only-of-type {\n",
       "        vertical-align: middle;\n",
       "    }\n",
       "\n",
       "    .dataframe tbody tr th {\n",
       "        vertical-align: top;\n",
       "    }\n",
       "\n",
       "    .dataframe thead th {\n",
       "        text-align: right;\n",
       "    }\n",
       "</style>\n",
       "<table border=\"1\" class=\"dataframe\">\n",
       "  <thead>\n",
       "    <tr style=\"text-align: right;\">\n",
       "      <th></th>\n",
       "      <th>ID</th>\n",
       "      <th>Height</th>\n",
       "      <th>Bearing</th>\n",
       "      <th>MDT</th>\n",
       "    </tr>\n",
       "  </thead>\n",
       "  <tbody>\n",
       "    <tr>\n",
       "      <th>74</th>\n",
       "      <td>A9</td>\n",
       "      <td>25.0</td>\n",
       "      <td>270</td>\n",
       "      <td>0</td>\n",
       "    </tr>\n",
       "    <tr>\n",
       "      <th>75</th>\n",
       "      <td>A9</td>\n",
       "      <td>25.0</td>\n",
       "      <td>270</td>\n",
       "      <td>0</td>\n",
       "    </tr>\n",
       "    <tr>\n",
       "      <th>76</th>\n",
       "      <td>A9</td>\n",
       "      <td>25.0</td>\n",
       "      <td>270</td>\n",
       "      <td>0</td>\n",
       "    </tr>\n",
       "  </tbody>\n",
       "</table>\n",
       "</div>"
      ],
      "text/plain": [
       "    ID  Height  Bearing  MDT\n",
       "74  A9    25.0      270    0\n",
       "75  A9    25.0      270    0\n",
       "76  A9    25.0      270    0"
      ]
     },
     "metadata": {},
     "output_type": "display_data"
    },
    {
     "name": "stdout",
     "output_type": "stream",
     "text": [
      "\n",
      "For \u001b[1mA10\u001b[0m, the Settings are\n"
     ]
    },
    {
     "data": {
      "text/html": [
       "<div>\n",
       "<style scoped>\n",
       "    .dataframe tbody tr th:only-of-type {\n",
       "        vertical-align: middle;\n",
       "    }\n",
       "\n",
       "    .dataframe tbody tr th {\n",
       "        vertical-align: top;\n",
       "    }\n",
       "\n",
       "    .dataframe thead th {\n",
       "        text-align: right;\n",
       "    }\n",
       "</style>\n",
       "<table border=\"1\" class=\"dataframe\">\n",
       "  <thead>\n",
       "    <tr style=\"text-align: right;\">\n",
       "      <th></th>\n",
       "      <th>ID</th>\n",
       "      <th>Height</th>\n",
       "      <th>Bearing</th>\n",
       "      <th>MDT</th>\n",
       "    </tr>\n",
       "  </thead>\n",
       "  <tbody>\n",
       "    <tr>\n",
       "      <th>77</th>\n",
       "      <td>A10</td>\n",
       "      <td>25.86</td>\n",
       "      <td>30</td>\n",
       "      <td>7</td>\n",
       "    </tr>\n",
       "  </tbody>\n",
       "</table>\n",
       "</div>"
      ],
      "text/plain": [
       "     ID  Height  Bearing  MDT\n",
       "77  A10   25.86       30    7"
      ]
     },
     "metadata": {},
     "output_type": "display_data"
    },
    {
     "name": "stdout",
     "output_type": "stream",
     "text": [
      "\n",
      "For \u001b[1mA11\u001b[0m, the Settings are\n"
     ]
    },
    {
     "data": {
      "text/html": [
       "<div>\n",
       "<style scoped>\n",
       "    .dataframe tbody tr th:only-of-type {\n",
       "        vertical-align: middle;\n",
       "    }\n",
       "\n",
       "    .dataframe tbody tr th {\n",
       "        vertical-align: top;\n",
       "    }\n",
       "\n",
       "    .dataframe thead th {\n",
       "        text-align: right;\n",
       "    }\n",
       "</style>\n",
       "<table border=\"1\" class=\"dataframe\">\n",
       "  <thead>\n",
       "    <tr style=\"text-align: right;\">\n",
       "      <th></th>\n",
       "      <th>ID</th>\n",
       "      <th>Height</th>\n",
       "      <th>Bearing</th>\n",
       "      <th>MDT</th>\n",
       "    </tr>\n",
       "  </thead>\n",
       "  <tbody>\n",
       "    <tr>\n",
       "      <th>78</th>\n",
       "      <td>A11</td>\n",
       "      <td>25.86</td>\n",
       "      <td>150</td>\n",
       "      <td>7</td>\n",
       "    </tr>\n",
       "  </tbody>\n",
       "</table>\n",
       "</div>"
      ],
      "text/plain": [
       "     ID  Height  Bearing  MDT\n",
       "78  A11   25.86      150    7"
      ]
     },
     "metadata": {},
     "output_type": "display_data"
    },
    {
     "name": "stdout",
     "output_type": "stream",
     "text": [
      "\n",
      "For \u001b[1mA12\u001b[0m, the Settings are\n"
     ]
    },
    {
     "data": {
      "text/html": [
       "<div>\n",
       "<style scoped>\n",
       "    .dataframe tbody tr th:only-of-type {\n",
       "        vertical-align: middle;\n",
       "    }\n",
       "\n",
       "    .dataframe tbody tr th {\n",
       "        vertical-align: top;\n",
       "    }\n",
       "\n",
       "    .dataframe thead th {\n",
       "        text-align: right;\n",
       "    }\n",
       "</style>\n",
       "<table border=\"1\" class=\"dataframe\">\n",
       "  <thead>\n",
       "    <tr style=\"text-align: right;\">\n",
       "      <th></th>\n",
       "      <th>ID</th>\n",
       "      <th>Height</th>\n",
       "      <th>Bearing</th>\n",
       "      <th>MDT</th>\n",
       "    </tr>\n",
       "  </thead>\n",
       "  <tbody>\n",
       "    <tr>\n",
       "      <th>79</th>\n",
       "      <td>A12</td>\n",
       "      <td>25.86</td>\n",
       "      <td>270</td>\n",
       "      <td>7</td>\n",
       "    </tr>\n",
       "  </tbody>\n",
       "</table>\n",
       "</div>"
      ],
      "text/plain": [
       "     ID  Height  Bearing  MDT\n",
       "79  A12   25.86      270    7"
      ]
     },
     "metadata": {},
     "output_type": "display_data"
    }
   ],
   "source": [
    "display('Set Power and Frequency to ports in Prox5')\n",
    "Settings = {}\n",
    "#for i in IDUnique:\n",
    "#    IdsForAntenna = list(dict.fromkeys(df.loc[df['ID'] == i, 'ID']))\n",
    "#    AntennaIds[antenna] = IdsForAntenna\n",
    "\n",
    "for i in IDUnique:\n",
    "        print(f'\\nFor '+text_format.BOLD+str(i)+text_format.END+f', the Settings are')\n",
    "        display(df.loc[(df['ID'] == i),['ID','Height','Bearing','MDT']])"
   ]
  },
  {
   "cell_type": "markdown",
   "id": "1d819800",
   "metadata": {},
   "source": [
    "## Set Power and Frequency to ports in Prox5"
   ]
  },
  {
   "cell_type": "code",
   "execution_count": 19,
   "id": "77cad71a",
   "metadata": {},
   "outputs": [
    {
     "data": {
      "text/plain": [
       "'Set Power and Frequency to ports in Prox5'"
      ]
     },
     "metadata": {},
     "output_type": "display_data"
    },
    {
     "name": "stdout",
     "output_type": "stream",
     "text": [
      "\u001b[1m11-O\n"
     ]
    },
    {
     "data": {
      "text/html": [
       "<div>\n",
       "<style scoped>\n",
       "    .dataframe tbody tr th:only-of-type {\n",
       "        vertical-align: middle;\n",
       "    }\n",
       "\n",
       "    .dataframe tbody tr th {\n",
       "        vertical-align: top;\n",
       "    }\n",
       "\n",
       "    .dataframe thead th {\n",
       "        text-align: right;\n",
       "    }\n",
       "</style>\n",
       "<table border=\"1\" class=\"dataframe\">\n",
       "  <thead>\n",
       "    <tr style=\"text-align: right;\">\n",
       "      <th></th>\n",
       "      <th>ID</th>\n",
       "      <th>EDT</th>\n",
       "      <th>Tech</th>\n",
       "      <th>Possible Ports</th>\n",
       "      <th>WhereToAddPower</th>\n",
       "      <th>Powers (W)</th>\n",
       "    </tr>\n",
       "  </thead>\n",
       "  <tbody>\n",
       "    <tr>\n",
       "      <th>1</th>\n",
       "      <td>11-O</td>\n",
       "      <td>2-12</td>\n",
       "      <td>NR2300</td>\n",
       "      <td>5;6;7;8;9;10;11;12;13;14;15;16;17;18;19;20</td>\n",
       "      <td>[9, 10, 11, 12, 13, 14, 15, 16]</td>\n",
       "      <td>[6.3, 6.3, 6.3, 6.3, 6.3, 6.3, 6.3, 6.3]</td>\n",
       "    </tr>\n",
       "    <tr>\n",
       "      <th>2</th>\n",
       "      <td>11-O</td>\n",
       "      <td>2-12</td>\n",
       "      <td>LTE2600</td>\n",
       "      <td>5;6;7;8;9;10;11;12;13;14;15;16;17;18;19;20</td>\n",
       "      <td>[7, 8, 19, 20]</td>\n",
       "      <td>[50.1, 50.1, 50.1, 50.1]</td>\n",
       "    </tr>\n",
       "    <tr>\n",
       "      <th>3</th>\n",
       "      <td>11-O</td>\n",
       "      <td>2-12</td>\n",
       "      <td>LTE1800</td>\n",
       "      <td>5;6;7;8;17;18;19;20</td>\n",
       "      <td>[7, 8, 19, 20]</td>\n",
       "      <td>[50.1, 50.1, 50.1, 50.1]</td>\n",
       "    </tr>\n",
       "    <tr>\n",
       "      <th>4</th>\n",
       "      <td>11-O</td>\n",
       "      <td>2-12</td>\n",
       "      <td>NR/LTE900</td>\n",
       "      <td>1;2;3;4</td>\n",
       "      <td>[1, 2]</td>\n",
       "      <td>[63.1, 63.1]</td>\n",
       "    </tr>\n",
       "    <tr>\n",
       "      <th>5</th>\n",
       "      <td>11-O</td>\n",
       "      <td>2-12</td>\n",
       "      <td>WCDMA900</td>\n",
       "      <td>1;2;3;4</td>\n",
       "      <td>[1]</td>\n",
       "      <td>[63.1]</td>\n",
       "    </tr>\n",
       "    <tr>\n",
       "      <th>6</th>\n",
       "      <td>11-O</td>\n",
       "      <td>2-12</td>\n",
       "      <td>LTE700</td>\n",
       "      <td>1;2;3;4</td>\n",
       "      <td>[1, 2, 3, 4]</td>\n",
       "      <td>[63.1, 63.1, 63.1, 63.1]</td>\n",
       "    </tr>\n",
       "    <tr>\n",
       "      <th>7</th>\n",
       "      <td>11-O</td>\n",
       "      <td>2-12</td>\n",
       "      <td>NR/LTE2100</td>\n",
       "      <td>5;6;7;8;17;18;19;20</td>\n",
       "      <td>[7, 8, 19, 20]</td>\n",
       "      <td>[50.1, 50.1, 50.1, 50.1]</td>\n",
       "    </tr>\n",
       "    <tr>\n",
       "      <th>8</th>\n",
       "      <td>11-O</td>\n",
       "      <td>2-12</td>\n",
       "      <td>NR3500</td>\n",
       "      <td>21;22;23;24;25;26;27;28</td>\n",
       "      <td>[21, 22, 23, 24, 25, 26, 27, 28]</td>\n",
       "      <td>[6.3, 6.3, 6.3, 6.3, 6.3, 6.3, 6.3, 6.3]</td>\n",
       "    </tr>\n",
       "  </tbody>\n",
       "</table>\n",
       "</div>"
      ],
      "text/plain": [
       "     ID    EDT          Tech                              Possible Ports  \\\n",
       "1  11-O  2-12        NR2300   5;6;7;8;9;10;11;12;13;14;15;16;17;18;19;20   \n",
       "2  11-O  2-12       LTE2600   5;6;7;8;9;10;11;12;13;14;15;16;17;18;19;20   \n",
       "3  11-O  2-12       LTE1800                          5;6;7;8;17;18;19;20   \n",
       "4  11-O  2-12     NR/LTE900                                      1;2;3;4   \n",
       "5  11-O  2-12      WCDMA900                                      1;2;3;4   \n",
       "6  11-O  2-12        LTE700                                      1;2;3;4   \n",
       "7  11-O  2-12    NR/LTE2100                          5;6;7;8;17;18;19;20   \n",
       "8  11-O  2-12        NR3500                      21;22;23;24;25;26;27;28   \n",
       "\n",
       "                    WhereToAddPower                                Powers (W)  \n",
       "1   [9, 10, 11, 12, 13, 14, 15, 16]  [6.3, 6.3, 6.3, 6.3, 6.3, 6.3, 6.3, 6.3]  \n",
       "2                    [7, 8, 19, 20]                  [50.1, 50.1, 50.1, 50.1]  \n",
       "3                    [7, 8, 19, 20]                  [50.1, 50.1, 50.1, 50.1]  \n",
       "4                            [1, 2]                              [63.1, 63.1]  \n",
       "5                               [1]                                    [63.1]  \n",
       "6                      [1, 2, 3, 4]                  [63.1, 63.1, 63.1, 63.1]  \n",
       "7                    [7, 8, 19, 20]                  [50.1, 50.1, 50.1, 50.1]  \n",
       "8  [21, 22, 23, 24, 25, 26, 27, 28]  [6.3, 6.3, 6.3, 6.3, 6.3, 6.3, 6.3, 6.3]  "
      ]
     },
     "metadata": {},
     "output_type": "display_data"
    },
    {
     "name": "stdout",
     "output_type": "stream",
     "text": [
      "\u001b[1m21-O\n"
     ]
    },
    {
     "data": {
      "text/html": [
       "<div>\n",
       "<style scoped>\n",
       "    .dataframe tbody tr th:only-of-type {\n",
       "        vertical-align: middle;\n",
       "    }\n",
       "\n",
       "    .dataframe tbody tr th {\n",
       "        vertical-align: top;\n",
       "    }\n",
       "\n",
       "    .dataframe thead th {\n",
       "        text-align: right;\n",
       "    }\n",
       "</style>\n",
       "<table border=\"1\" class=\"dataframe\">\n",
       "  <thead>\n",
       "    <tr style=\"text-align: right;\">\n",
       "      <th></th>\n",
       "      <th>ID</th>\n",
       "      <th>EDT</th>\n",
       "      <th>Tech</th>\n",
       "      <th>Possible Ports</th>\n",
       "      <th>WhereToAddPower</th>\n",
       "      <th>Powers (W)</th>\n",
       "    </tr>\n",
       "  </thead>\n",
       "  <tbody>\n",
       "    <tr>\n",
       "      <th>9</th>\n",
       "      <td>21-O</td>\n",
       "      <td>2-12</td>\n",
       "      <td>LTE2600</td>\n",
       "      <td>5;6;7;8;9;10;11;12;13;14;15;16;17;18;19;20</td>\n",
       "      <td>[7, 8, 19, 20]</td>\n",
       "      <td>[50.1, 50.1, 50.1, 50.1]</td>\n",
       "    </tr>\n",
       "    <tr>\n",
       "      <th>10</th>\n",
       "      <td>21-O</td>\n",
       "      <td>2-12</td>\n",
       "      <td>LTE1800</td>\n",
       "      <td>5;6;7;8;17;18;19;20</td>\n",
       "      <td>[7, 8, 19, 20]</td>\n",
       "      <td>[50.1, 50.1, 50.1, 50.1]</td>\n",
       "    </tr>\n",
       "    <tr>\n",
       "      <th>11</th>\n",
       "      <td>21-O</td>\n",
       "      <td>2-12</td>\n",
       "      <td>WCDMA900</td>\n",
       "      <td>1;2;3;4</td>\n",
       "      <td>[1]</td>\n",
       "      <td>[63.1]</td>\n",
       "    </tr>\n",
       "    <tr>\n",
       "      <th>12</th>\n",
       "      <td>21-O</td>\n",
       "      <td>2-12</td>\n",
       "      <td>LTE700</td>\n",
       "      <td>1;2;3;4</td>\n",
       "      <td>[1, 2, 3, 4]</td>\n",
       "      <td>[63.1, 63.1, 63.1, 63.1]</td>\n",
       "    </tr>\n",
       "    <tr>\n",
       "      <th>13</th>\n",
       "      <td>21-O</td>\n",
       "      <td>2-12</td>\n",
       "      <td>NR/LTE2100</td>\n",
       "      <td>5;6;7;8;17;18;19;20</td>\n",
       "      <td>[7, 8, 19, 20]</td>\n",
       "      <td>[50.1, 50.1, 50.1, 50.1]</td>\n",
       "    </tr>\n",
       "    <tr>\n",
       "      <th>14</th>\n",
       "      <td>21-O</td>\n",
       "      <td>2-12</td>\n",
       "      <td>NR2300</td>\n",
       "      <td>5;6;7;8;9;10;11;12;13;14;15;16;17;18;19;20</td>\n",
       "      <td>[9, 10, 11, 12, 13, 14, 15, 16]</td>\n",
       "      <td>[6.3, 6.3, 6.3, 6.3, 6.3, 6.3, 6.3, 6.3]</td>\n",
       "    </tr>\n",
       "    <tr>\n",
       "      <th>15</th>\n",
       "      <td>21-O</td>\n",
       "      <td>2-12</td>\n",
       "      <td>NR3500</td>\n",
       "      <td>21;22;23;24;25;26;27;28</td>\n",
       "      <td>[21, 22, 23, 24, 25, 26, 27, 28]</td>\n",
       "      <td>[6.3, 6.3, 6.3, 6.3, 6.3, 6.3, 6.3, 6.3]</td>\n",
       "    </tr>\n",
       "    <tr>\n",
       "      <th>16</th>\n",
       "      <td>21-O</td>\n",
       "      <td>2-12</td>\n",
       "      <td>NR/LTE900</td>\n",
       "      <td>1;2;3;4</td>\n",
       "      <td>[1, 2]</td>\n",
       "      <td>[63.1, 63.1]</td>\n",
       "    </tr>\n",
       "  </tbody>\n",
       "</table>\n",
       "</div>"
      ],
      "text/plain": [
       "      ID    EDT          Tech                              Possible Ports  \\\n",
       "9   21-O  2-12       LTE2600   5;6;7;8;9;10;11;12;13;14;15;16;17;18;19;20   \n",
       "10  21-O  2-12       LTE1800                          5;6;7;8;17;18;19;20   \n",
       "11  21-O  2-12      WCDMA900                                      1;2;3;4   \n",
       "12  21-O  2-12        LTE700                                      1;2;3;4   \n",
       "13  21-O  2-12    NR/LTE2100                          5;6;7;8;17;18;19;20   \n",
       "14  21-O  2-12        NR2300   5;6;7;8;9;10;11;12;13;14;15;16;17;18;19;20   \n",
       "15  21-O  2-12        NR3500                      21;22;23;24;25;26;27;28   \n",
       "16  21-O  2-12     NR/LTE900                                      1;2;3;4   \n",
       "\n",
       "                     WhereToAddPower                                Powers (W)  \n",
       "9                     [7, 8, 19, 20]                  [50.1, 50.1, 50.1, 50.1]  \n",
       "10                    [7, 8, 19, 20]                  [50.1, 50.1, 50.1, 50.1]  \n",
       "11                               [1]                                    [63.1]  \n",
       "12                      [1, 2, 3, 4]                  [63.1, 63.1, 63.1, 63.1]  \n",
       "13                    [7, 8, 19, 20]                  [50.1, 50.1, 50.1, 50.1]  \n",
       "14   [9, 10, 11, 12, 13, 14, 15, 16]  [6.3, 6.3, 6.3, 6.3, 6.3, 6.3, 6.3, 6.3]  \n",
       "15  [21, 22, 23, 24, 25, 26, 27, 28]  [6.3, 6.3, 6.3, 6.3, 6.3, 6.3, 6.3, 6.3]  \n",
       "16                            [1, 2]                              [63.1, 63.1]  "
      ]
     },
     "metadata": {},
     "output_type": "display_data"
    },
    {
     "name": "stdout",
     "output_type": "stream",
     "text": [
      "\u001b[1m31-O\n"
     ]
    },
    {
     "data": {
      "text/html": [
       "<div>\n",
       "<style scoped>\n",
       "    .dataframe tbody tr th:only-of-type {\n",
       "        vertical-align: middle;\n",
       "    }\n",
       "\n",
       "    .dataframe tbody tr th {\n",
       "        vertical-align: top;\n",
       "    }\n",
       "\n",
       "    .dataframe thead th {\n",
       "        text-align: right;\n",
       "    }\n",
       "</style>\n",
       "<table border=\"1\" class=\"dataframe\">\n",
       "  <thead>\n",
       "    <tr style=\"text-align: right;\">\n",
       "      <th></th>\n",
       "      <th>ID</th>\n",
       "      <th>EDT</th>\n",
       "      <th>Tech</th>\n",
       "      <th>Possible Ports</th>\n",
       "      <th>WhereToAddPower</th>\n",
       "      <th>Powers (W)</th>\n",
       "    </tr>\n",
       "  </thead>\n",
       "  <tbody>\n",
       "    <tr>\n",
       "      <th>17</th>\n",
       "      <td>31-O</td>\n",
       "      <td>2-12</td>\n",
       "      <td>LTE700</td>\n",
       "      <td>1;2;3;4</td>\n",
       "      <td>[1, 2, 3, 4]</td>\n",
       "      <td>[63.1, 63.1, 63.1, 63.1]</td>\n",
       "    </tr>\n",
       "    <tr>\n",
       "      <th>18</th>\n",
       "      <td>31-O</td>\n",
       "      <td>2-12</td>\n",
       "      <td>LTE2600</td>\n",
       "      <td>5;6;7;8;9;10;11;12;13;14;15;16;17;18;19;20</td>\n",
       "      <td>[7, 8, 19, 20]</td>\n",
       "      <td>[50.1, 50.1, 50.1, 50.1]</td>\n",
       "    </tr>\n",
       "    <tr>\n",
       "      <th>19</th>\n",
       "      <td>31-O</td>\n",
       "      <td>2-12</td>\n",
       "      <td>LTE1800</td>\n",
       "      <td>5;6;7;8;17;18;19;20</td>\n",
       "      <td>[7, 8, 19, 20]</td>\n",
       "      <td>[50.1, 50.1, 50.1, 50.1]</td>\n",
       "    </tr>\n",
       "    <tr>\n",
       "      <th>20</th>\n",
       "      <td>31-O</td>\n",
       "      <td>2-12</td>\n",
       "      <td>NR/LTE900</td>\n",
       "      <td>1;2;3;4</td>\n",
       "      <td>[1, 2]</td>\n",
       "      <td>[63.1, 63.1]</td>\n",
       "    </tr>\n",
       "    <tr>\n",
       "      <th>21</th>\n",
       "      <td>31-O</td>\n",
       "      <td>2-12</td>\n",
       "      <td>WCDMA900</td>\n",
       "      <td>1;2;3;4</td>\n",
       "      <td>[1]</td>\n",
       "      <td>[63.1]</td>\n",
       "    </tr>\n",
       "    <tr>\n",
       "      <th>22</th>\n",
       "      <td>31-O</td>\n",
       "      <td>2-12</td>\n",
       "      <td>NR/LTE2100</td>\n",
       "      <td>5;6;7;8;17;18;19;20</td>\n",
       "      <td>[7, 8, 19, 20]</td>\n",
       "      <td>[50.1, 50.1, 50.1, 50.1]</td>\n",
       "    </tr>\n",
       "    <tr>\n",
       "      <th>23</th>\n",
       "      <td>31-O</td>\n",
       "      <td>2-12</td>\n",
       "      <td>NR2300</td>\n",
       "      <td>5;6;7;8;9;10;11;12;13;14;15;16;17;18;19;20</td>\n",
       "      <td>[9, 10, 11, 12, 13, 14, 15, 16]</td>\n",
       "      <td>[6.3, 6.3, 6.3, 6.3, 6.3, 6.3, 6.3, 6.3]</td>\n",
       "    </tr>\n",
       "    <tr>\n",
       "      <th>24</th>\n",
       "      <td>31-O</td>\n",
       "      <td>2-12</td>\n",
       "      <td>NR3500</td>\n",
       "      <td>21;22;23;24;25;26;27;28</td>\n",
       "      <td>[21, 22, 23, 24, 25, 26, 27, 28]</td>\n",
       "      <td>[6.3, 6.3, 6.3, 6.3, 6.3, 6.3, 6.3, 6.3]</td>\n",
       "    </tr>\n",
       "  </tbody>\n",
       "</table>\n",
       "</div>"
      ],
      "text/plain": [
       "      ID    EDT          Tech                              Possible Ports  \\\n",
       "17  31-O  2-12        LTE700                                      1;2;3;4   \n",
       "18  31-O  2-12       LTE2600   5;6;7;8;9;10;11;12;13;14;15;16;17;18;19;20   \n",
       "19  31-O  2-12       LTE1800                          5;6;7;8;17;18;19;20   \n",
       "20  31-O  2-12     NR/LTE900                                      1;2;3;4   \n",
       "21  31-O  2-12      WCDMA900                                      1;2;3;4   \n",
       "22  31-O  2-12    NR/LTE2100                          5;6;7;8;17;18;19;20   \n",
       "23  31-O  2-12        NR2300   5;6;7;8;9;10;11;12;13;14;15;16;17;18;19;20   \n",
       "24  31-O  2-12        NR3500                      21;22;23;24;25;26;27;28   \n",
       "\n",
       "                     WhereToAddPower                                Powers (W)  \n",
       "17                      [1, 2, 3, 4]                  [63.1, 63.1, 63.1, 63.1]  \n",
       "18                    [7, 8, 19, 20]                  [50.1, 50.1, 50.1, 50.1]  \n",
       "19                    [7, 8, 19, 20]                  [50.1, 50.1, 50.1, 50.1]  \n",
       "20                            [1, 2]                              [63.1, 63.1]  \n",
       "21                               [1]                                    [63.1]  \n",
       "22                    [7, 8, 19, 20]                  [50.1, 50.1, 50.1, 50.1]  \n",
       "23   [9, 10, 11, 12, 13, 14, 15, 16]  [6.3, 6.3, 6.3, 6.3, 6.3, 6.3, 6.3, 6.3]  \n",
       "24  [21, 22, 23, 24, 25, 26, 27, 28]  [6.3, 6.3, 6.3, 6.3, 6.3, 6.3, 6.3, 6.3]  "
      ]
     },
     "metadata": {},
     "output_type": "display_data"
    },
    {
     "name": "stdout",
     "output_type": "stream",
     "text": [
      "\u001b[1m41-O\n"
     ]
    },
    {
     "data": {
      "text/html": [
       "<div>\n",
       "<style scoped>\n",
       "    .dataframe tbody tr th:only-of-type {\n",
       "        vertical-align: middle;\n",
       "    }\n",
       "\n",
       "    .dataframe tbody tr th {\n",
       "        vertical-align: top;\n",
       "    }\n",
       "\n",
       "    .dataframe thead th {\n",
       "        text-align: right;\n",
       "    }\n",
       "</style>\n",
       "<table border=\"1\" class=\"dataframe\">\n",
       "  <thead>\n",
       "    <tr style=\"text-align: right;\">\n",
       "      <th></th>\n",
       "      <th>ID</th>\n",
       "      <th>EDT</th>\n",
       "      <th>Tech</th>\n",
       "      <th>Possible Ports</th>\n",
       "      <th>WhereToAddPower</th>\n",
       "      <th>Powers (W)</th>\n",
       "    </tr>\n",
       "  </thead>\n",
       "  <tbody>\n",
       "    <tr>\n",
       "      <th>25</th>\n",
       "      <td>41-O</td>\n",
       "      <td>2-12</td>\n",
       "      <td>NR2300</td>\n",
       "      <td>5;6;7;8;9;10;11;12;13;14;15;16;17;18;19;20</td>\n",
       "      <td>[9, 10, 11, 12, 13, 14, 15, 16]</td>\n",
       "      <td>[6.3, 6.3, 6.3, 6.3, 6.3, 6.3, 6.3, 6.3]</td>\n",
       "    </tr>\n",
       "    <tr>\n",
       "      <th>26</th>\n",
       "      <td>41-O</td>\n",
       "      <td>2-12</td>\n",
       "      <td>LTE2600</td>\n",
       "      <td>5;6;7;8;9;10;11;12;13;14;15;16;17;18;19;20</td>\n",
       "      <td>[7, 8, 19, 20]</td>\n",
       "      <td>[50.1, 50.1, 50.1, 50.1]</td>\n",
       "    </tr>\n",
       "    <tr>\n",
       "      <th>27</th>\n",
       "      <td>41-O</td>\n",
       "      <td>2-12</td>\n",
       "      <td>LTE1800</td>\n",
       "      <td>5;6;7;8;17;18;19;20</td>\n",
       "      <td>[7, 8, 19, 20]</td>\n",
       "      <td>[50.1, 50.1, 50.1, 50.1]</td>\n",
       "    </tr>\n",
       "    <tr>\n",
       "      <th>28</th>\n",
       "      <td>41-O</td>\n",
       "      <td>2-12</td>\n",
       "      <td>NR/LTE900</td>\n",
       "      <td>1;2;3;4</td>\n",
       "      <td>[1, 2]</td>\n",
       "      <td>[63.1, 63.1]</td>\n",
       "    </tr>\n",
       "    <tr>\n",
       "      <th>29</th>\n",
       "      <td>41-O</td>\n",
       "      <td>2-12</td>\n",
       "      <td>NR/LTE2100</td>\n",
       "      <td>5;6;7;8;17;18;19;20</td>\n",
       "      <td>[7, 8, 19, 20]</td>\n",
       "      <td>[50.1, 50.1, 50.1, 50.1]</td>\n",
       "    </tr>\n",
       "    <tr>\n",
       "      <th>30</th>\n",
       "      <td>41-O</td>\n",
       "      <td>2-12</td>\n",
       "      <td>NR3500</td>\n",
       "      <td>21;22;23;24;25;26;27;28</td>\n",
       "      <td>[21, 22, 23, 24, 25, 26, 27, 28]</td>\n",
       "      <td>[6.3, 6.3, 6.3, 6.3, 6.3, 6.3, 6.3, 6.3]</td>\n",
       "    </tr>\n",
       "    <tr>\n",
       "      <th>31</th>\n",
       "      <td>41-O</td>\n",
       "      <td>2-12</td>\n",
       "      <td>LTE700</td>\n",
       "      <td>1;2;3;4</td>\n",
       "      <td>[1, 2, 3, 4]</td>\n",
       "      <td>[63.1, 63.1, 63.1, 63.1]</td>\n",
       "    </tr>\n",
       "  </tbody>\n",
       "</table>\n",
       "</div>"
      ],
      "text/plain": [
       "      ID    EDT          Tech                              Possible Ports  \\\n",
       "25  41-O  2-12        NR2300   5;6;7;8;9;10;11;12;13;14;15;16;17;18;19;20   \n",
       "26  41-O  2-12       LTE2600   5;6;7;8;9;10;11;12;13;14;15;16;17;18;19;20   \n",
       "27  41-O  2-12       LTE1800                          5;6;7;8;17;18;19;20   \n",
       "28  41-O  2-12     NR/LTE900                                      1;2;3;4   \n",
       "29  41-O  2-12    NR/LTE2100                          5;6;7;8;17;18;19;20   \n",
       "30  41-O  2-12        NR3500                      21;22;23;24;25;26;27;28   \n",
       "31  41-O  2-12        LTE700                                      1;2;3;4   \n",
       "\n",
       "                     WhereToAddPower                                Powers (W)  \n",
       "25   [9, 10, 11, 12, 13, 14, 15, 16]  [6.3, 6.3, 6.3, 6.3, 6.3, 6.3, 6.3, 6.3]  \n",
       "26                    [7, 8, 19, 20]                  [50.1, 50.1, 50.1, 50.1]  \n",
       "27                    [7, 8, 19, 20]                  [50.1, 50.1, 50.1, 50.1]  \n",
       "28                            [1, 2]                              [63.1, 63.1]  \n",
       "29                    [7, 8, 19, 20]                  [50.1, 50.1, 50.1, 50.1]  \n",
       "30  [21, 22, 23, 24, 25, 26, 27, 28]  [6.3, 6.3, 6.3, 6.3, 6.3, 6.3, 6.3, 6.3]  \n",
       "31                      [1, 2, 3, 4]                  [63.1, 63.1, 63.1, 63.1]  "
      ]
     },
     "metadata": {},
     "output_type": "display_data"
    },
    {
     "name": "stdout",
     "output_type": "stream",
     "text": [
      "\u001b[1m11-V\n"
     ]
    },
    {
     "data": {
      "text/html": [
       "<div>\n",
       "<style scoped>\n",
       "    .dataframe tbody tr th:only-of-type {\n",
       "        vertical-align: middle;\n",
       "    }\n",
       "\n",
       "    .dataframe tbody tr th {\n",
       "        vertical-align: top;\n",
       "    }\n",
       "\n",
       "    .dataframe thead th {\n",
       "        text-align: right;\n",
       "    }\n",
       "</style>\n",
       "<table border=\"1\" class=\"dataframe\">\n",
       "  <thead>\n",
       "    <tr style=\"text-align: right;\">\n",
       "      <th></th>\n",
       "      <th>ID</th>\n",
       "      <th>EDT</th>\n",
       "      <th>Tech</th>\n",
       "      <th>Possible Ports</th>\n",
       "      <th>WhereToAddPower</th>\n",
       "      <th>Powers (W)</th>\n",
       "    </tr>\n",
       "  </thead>\n",
       "  <tbody>\n",
       "    <tr>\n",
       "      <th>32</th>\n",
       "      <td>11-V</td>\n",
       "      <td>2-10</td>\n",
       "      <td>WCDMA900</td>\n",
       "      <td>1;2;3;4</td>\n",
       "      <td>[1, 2]</td>\n",
       "      <td>[50.1, 50.1]</td>\n",
       "    </tr>\n",
       "    <tr>\n",
       "      <th>33</th>\n",
       "      <td>11-V</td>\n",
       "      <td>2-10</td>\n",
       "      <td>NB-IOT900</td>\n",
       "      <td>1;2;3;4</td>\n",
       "      <td>[1, 2]</td>\n",
       "      <td>[15.8, 15.8]</td>\n",
       "    </tr>\n",
       "    <tr>\n",
       "      <th>34</th>\n",
       "      <td>11-V</td>\n",
       "      <td>2-10</td>\n",
       "      <td>NR/LTE700</td>\n",
       "      <td>1;2;3;4</td>\n",
       "      <td>[1, 2, 3, 4]</td>\n",
       "      <td>[50.1, 50.1, 50.1, 50.1]</td>\n",
       "    </tr>\n",
       "    <tr>\n",
       "      <th>35</th>\n",
       "      <td>11-V</td>\n",
       "      <td>2-10</td>\n",
       "      <td>NR/LTE2100</td>\n",
       "      <td>5;6;7;8;9;10;11;12</td>\n",
       "      <td>[5, 6, 7, 8, 9, 10, 11, 12]</td>\n",
       "      <td>[50.1, 50.1, 50.1, 50.1, 50.1, 50.1, 50.1, 50.1]</td>\n",
       "    </tr>\n",
       "    <tr>\n",
       "      <th>36</th>\n",
       "      <td>11-V</td>\n",
       "      <td>2-10</td>\n",
       "      <td>NR/LTE1800</td>\n",
       "      <td>5;6;7;8;9;10;11;12</td>\n",
       "      <td>[5, 6, 7, 8, 9, 10, 11, 12]</td>\n",
       "      <td>[50.1, 50.1, 50.1, 50.1, 50.1, 50.1, 50.1, 50.1]</td>\n",
       "    </tr>\n",
       "    <tr>\n",
       "      <th>37</th>\n",
       "      <td>11-V</td>\n",
       "      <td>2-10</td>\n",
       "      <td>NR/LTE850</td>\n",
       "      <td>1;2;3;4</td>\n",
       "      <td>[1, 2, 3, 4]</td>\n",
       "      <td>[50.1, 50.1, 50.1, 50.1]</td>\n",
       "    </tr>\n",
       "  </tbody>\n",
       "</table>\n",
       "</div>"
      ],
      "text/plain": [
       "      ID    EDT          Tech      Possible Ports  \\\n",
       "32  11-V  2-10      WCDMA900              1;2;3;4   \n",
       "33  11-V  2-10     NB-IOT900              1;2;3;4   \n",
       "34  11-V  2-10     NR/LTE700              1;2;3;4   \n",
       "35  11-V  2-10    NR/LTE2100   5;6;7;8;9;10;11;12   \n",
       "36  11-V  2-10    NR/LTE1800   5;6;7;8;9;10;11;12   \n",
       "37  11-V  2-10     NR/LTE850              1;2;3;4   \n",
       "\n",
       "                WhereToAddPower  \\\n",
       "32                       [1, 2]   \n",
       "33                       [1, 2]   \n",
       "34                 [1, 2, 3, 4]   \n",
       "35  [5, 6, 7, 8, 9, 10, 11, 12]   \n",
       "36  [5, 6, 7, 8, 9, 10, 11, 12]   \n",
       "37                 [1, 2, 3, 4]   \n",
       "\n",
       "                                          Powers (W)  \n",
       "32                                      [50.1, 50.1]  \n",
       "33                                      [15.8, 15.8]  \n",
       "34                          [50.1, 50.1, 50.1, 50.1]  \n",
       "35  [50.1, 50.1, 50.1, 50.1, 50.1, 50.1, 50.1, 50.1]  \n",
       "36  [50.1, 50.1, 50.1, 50.1, 50.1, 50.1, 50.1, 50.1]  \n",
       "37                          [50.1, 50.1, 50.1, 50.1]  "
      ]
     },
     "metadata": {},
     "output_type": "display_data"
    },
    {
     "name": "stdout",
     "output_type": "stream",
     "text": [
      "\u001b[1m12-V\n"
     ]
    },
    {
     "data": {
      "text/html": [
       "<div>\n",
       "<style scoped>\n",
       "    .dataframe tbody tr th:only-of-type {\n",
       "        vertical-align: middle;\n",
       "    }\n",
       "\n",
       "    .dataframe tbody tr th {\n",
       "        vertical-align: top;\n",
       "    }\n",
       "\n",
       "    .dataframe thead th {\n",
       "        text-align: right;\n",
       "    }\n",
       "</style>\n",
       "<table border=\"1\" class=\"dataframe\">\n",
       "  <thead>\n",
       "    <tr style=\"text-align: right;\">\n",
       "      <th></th>\n",
       "      <th>ID</th>\n",
       "      <th>EDT</th>\n",
       "      <th>Tech</th>\n",
       "      <th>Possible Ports</th>\n",
       "      <th>WhereToAddPower</th>\n",
       "      <th>Powers (W)</th>\n",
       "    </tr>\n",
       "  </thead>\n",
       "  <tbody>\n",
       "    <tr>\n",
       "      <th>38</th>\n",
       "      <td>12-V</td>\n",
       "      <td>6</td>\n",
       "      <td>NR3500</td>\n",
       "      <td>1;2</td>\n",
       "      <td>[1]</td>\n",
       "      <td>[50.1]</td>\n",
       "    </tr>\n",
       "  </tbody>\n",
       "</table>\n",
       "</div>"
      ],
      "text/plain": [
       "      ID EDT      Tech Possible Ports WhereToAddPower Powers (W)\n",
       "38  12-V  6    NR3500             1;2             [1]     [50.1]"
      ]
     },
     "metadata": {},
     "output_type": "display_data"
    },
    {
     "name": "stdout",
     "output_type": "stream",
     "text": [
      "\u001b[1m21-V\n"
     ]
    },
    {
     "data": {
      "text/html": [
       "<div>\n",
       "<style scoped>\n",
       "    .dataframe tbody tr th:only-of-type {\n",
       "        vertical-align: middle;\n",
       "    }\n",
       "\n",
       "    .dataframe tbody tr th {\n",
       "        vertical-align: top;\n",
       "    }\n",
       "\n",
       "    .dataframe thead th {\n",
       "        text-align: right;\n",
       "    }\n",
       "</style>\n",
       "<table border=\"1\" class=\"dataframe\">\n",
       "  <thead>\n",
       "    <tr style=\"text-align: right;\">\n",
       "      <th></th>\n",
       "      <th>ID</th>\n",
       "      <th>EDT</th>\n",
       "      <th>Tech</th>\n",
       "      <th>Possible Ports</th>\n",
       "      <th>WhereToAddPower</th>\n",
       "      <th>Powers (W)</th>\n",
       "    </tr>\n",
       "  </thead>\n",
       "  <tbody>\n",
       "    <tr>\n",
       "      <th>39</th>\n",
       "      <td>21-V</td>\n",
       "      <td>2-10</td>\n",
       "      <td>NR/LTE850</td>\n",
       "      <td>1;2;3;4</td>\n",
       "      <td>[1, 2, 3, 4]</td>\n",
       "      <td>[50.1, 50.1, 50.1, 50.1]</td>\n",
       "    </tr>\n",
       "    <tr>\n",
       "      <th>40</th>\n",
       "      <td>21-V</td>\n",
       "      <td>2-10</td>\n",
       "      <td>NB-IOT900</td>\n",
       "      <td>1;2;3;4</td>\n",
       "      <td>[1, 2]</td>\n",
       "      <td>[15.8, 15.8]</td>\n",
       "    </tr>\n",
       "    <tr>\n",
       "      <th>41</th>\n",
       "      <td>21-V</td>\n",
       "      <td>2-10</td>\n",
       "      <td>NR/LTE700</td>\n",
       "      <td>1;2;3;4</td>\n",
       "      <td>[1, 2, 3, 4]</td>\n",
       "      <td>[50.1, 50.1, 50.1, 50.1]</td>\n",
       "    </tr>\n",
       "    <tr>\n",
       "      <th>42</th>\n",
       "      <td>21-V</td>\n",
       "      <td>2-10</td>\n",
       "      <td>WCDMA900</td>\n",
       "      <td>1;2;3;4</td>\n",
       "      <td>[1, 2]</td>\n",
       "      <td>[50.1, 50.1]</td>\n",
       "    </tr>\n",
       "    <tr>\n",
       "      <th>43</th>\n",
       "      <td>21-V</td>\n",
       "      <td>2-10</td>\n",
       "      <td>NR/LTE1800</td>\n",
       "      <td>5;6;7;8;9;10;11;12</td>\n",
       "      <td>[5, 6, 7, 8, 9, 10, 11, 12]</td>\n",
       "      <td>[50.1, 50.1, 50.1, 50.1, 50.1, 50.1, 50.1, 50.1]</td>\n",
       "    </tr>\n",
       "    <tr>\n",
       "      <th>44</th>\n",
       "      <td>21-V</td>\n",
       "      <td>2-10</td>\n",
       "      <td>NR/LTE2100</td>\n",
       "      <td>5;6;7;8;9;10;11;12</td>\n",
       "      <td>[5, 6, 7, 8, 9, 10, 11, 12]</td>\n",
       "      <td>[50.1, 50.1, 50.1, 50.1, 50.1, 50.1, 50.1, 50.1]</td>\n",
       "    </tr>\n",
       "  </tbody>\n",
       "</table>\n",
       "</div>"
      ],
      "text/plain": [
       "      ID    EDT          Tech      Possible Ports  \\\n",
       "39  21-V  2-10     NR/LTE850              1;2;3;4   \n",
       "40  21-V  2-10     NB-IOT900              1;2;3;4   \n",
       "41  21-V  2-10     NR/LTE700              1;2;3;4   \n",
       "42  21-V  2-10      WCDMA900              1;2;3;4   \n",
       "43  21-V  2-10    NR/LTE1800   5;6;7;8;9;10;11;12   \n",
       "44  21-V  2-10    NR/LTE2100   5;6;7;8;9;10;11;12   \n",
       "\n",
       "                WhereToAddPower  \\\n",
       "39                 [1, 2, 3, 4]   \n",
       "40                       [1, 2]   \n",
       "41                 [1, 2, 3, 4]   \n",
       "42                       [1, 2]   \n",
       "43  [5, 6, 7, 8, 9, 10, 11, 12]   \n",
       "44  [5, 6, 7, 8, 9, 10, 11, 12]   \n",
       "\n",
       "                                          Powers (W)  \n",
       "39                          [50.1, 50.1, 50.1, 50.1]  \n",
       "40                                      [15.8, 15.8]  \n",
       "41                          [50.1, 50.1, 50.1, 50.1]  \n",
       "42                                      [50.1, 50.1]  \n",
       "43  [50.1, 50.1, 50.1, 50.1, 50.1, 50.1, 50.1, 50.1]  \n",
       "44  [50.1, 50.1, 50.1, 50.1, 50.1, 50.1, 50.1, 50.1]  "
      ]
     },
     "metadata": {},
     "output_type": "display_data"
    },
    {
     "name": "stdout",
     "output_type": "stream",
     "text": [
      "\u001b[1m22-V\n"
     ]
    },
    {
     "data": {
      "text/html": [
       "<div>\n",
       "<style scoped>\n",
       "    .dataframe tbody tr th:only-of-type {\n",
       "        vertical-align: middle;\n",
       "    }\n",
       "\n",
       "    .dataframe tbody tr th {\n",
       "        vertical-align: top;\n",
       "    }\n",
       "\n",
       "    .dataframe thead th {\n",
       "        text-align: right;\n",
       "    }\n",
       "</style>\n",
       "<table border=\"1\" class=\"dataframe\">\n",
       "  <thead>\n",
       "    <tr style=\"text-align: right;\">\n",
       "      <th></th>\n",
       "      <th>ID</th>\n",
       "      <th>EDT</th>\n",
       "      <th>Tech</th>\n",
       "      <th>Possible Ports</th>\n",
       "      <th>WhereToAddPower</th>\n",
       "      <th>Powers (W)</th>\n",
       "    </tr>\n",
       "  </thead>\n",
       "  <tbody>\n",
       "    <tr>\n",
       "      <th>45</th>\n",
       "      <td>22-V</td>\n",
       "      <td>6</td>\n",
       "      <td>NR3500</td>\n",
       "      <td>1;2</td>\n",
       "      <td>[1]</td>\n",
       "      <td>[50.1]</td>\n",
       "    </tr>\n",
       "  </tbody>\n",
       "</table>\n",
       "</div>"
      ],
      "text/plain": [
       "      ID EDT      Tech Possible Ports WhereToAddPower Powers (W)\n",
       "45  22-V  6    NR3500             1;2             [1]     [50.1]"
      ]
     },
     "metadata": {},
     "output_type": "display_data"
    },
    {
     "name": "stdout",
     "output_type": "stream",
     "text": [
      "\u001b[1m31-V\n"
     ]
    },
    {
     "data": {
      "text/html": [
       "<div>\n",
       "<style scoped>\n",
       "    .dataframe tbody tr th:only-of-type {\n",
       "        vertical-align: middle;\n",
       "    }\n",
       "\n",
       "    .dataframe tbody tr th {\n",
       "        vertical-align: top;\n",
       "    }\n",
       "\n",
       "    .dataframe thead th {\n",
       "        text-align: right;\n",
       "    }\n",
       "</style>\n",
       "<table border=\"1\" class=\"dataframe\">\n",
       "  <thead>\n",
       "    <tr style=\"text-align: right;\">\n",
       "      <th></th>\n",
       "      <th>ID</th>\n",
       "      <th>EDT</th>\n",
       "      <th>Tech</th>\n",
       "      <th>Possible Ports</th>\n",
       "      <th>WhereToAddPower</th>\n",
       "      <th>Powers (W)</th>\n",
       "    </tr>\n",
       "  </thead>\n",
       "  <tbody>\n",
       "    <tr>\n",
       "      <th>46</th>\n",
       "      <td>31-V</td>\n",
       "      <td>2-10</td>\n",
       "      <td>NR/LTE1800</td>\n",
       "      <td>5;6;7;8;9;10;11;12</td>\n",
       "      <td>[5, 6, 7, 8, 9, 10, 11, 12]</td>\n",
       "      <td>[50.1, 50.1, 50.1, 50.1, 50.1, 50.1, 50.1, 50.1]</td>\n",
       "    </tr>\n",
       "    <tr>\n",
       "      <th>47</th>\n",
       "      <td>31-V</td>\n",
       "      <td>2-10</td>\n",
       "      <td>NR/LTE850</td>\n",
       "      <td>1;2;3;4</td>\n",
       "      <td>[1, 2, 3, 4]</td>\n",
       "      <td>[50.1, 50.1, 50.1, 50.1]</td>\n",
       "    </tr>\n",
       "    <tr>\n",
       "      <th>48</th>\n",
       "      <td>31-V</td>\n",
       "      <td>2-10</td>\n",
       "      <td>NR/LTE2100</td>\n",
       "      <td>5;6;7;8;9;10;11;12</td>\n",
       "      <td>[5, 6, 7, 8, 9, 10, 11, 12]</td>\n",
       "      <td>[50.1, 50.1, 50.1, 50.1, 50.1, 50.1, 50.1, 50.1]</td>\n",
       "    </tr>\n",
       "    <tr>\n",
       "      <th>49</th>\n",
       "      <td>31-V</td>\n",
       "      <td>2-10</td>\n",
       "      <td>WCDMA900</td>\n",
       "      <td>1;2;3;4</td>\n",
       "      <td>[1, 2]</td>\n",
       "      <td>[50.1, 50.1]</td>\n",
       "    </tr>\n",
       "    <tr>\n",
       "      <th>50</th>\n",
       "      <td>31-V</td>\n",
       "      <td>2-10</td>\n",
       "      <td>NB-IOT900</td>\n",
       "      <td>1;2;3;4</td>\n",
       "      <td>[1, 2]</td>\n",
       "      <td>[15.8, 15.8]</td>\n",
       "    </tr>\n",
       "    <tr>\n",
       "      <th>51</th>\n",
       "      <td>31-V</td>\n",
       "      <td>2-10</td>\n",
       "      <td>NR/LTE700</td>\n",
       "      <td>1;2;3;4</td>\n",
       "      <td>[1, 2, 3, 4]</td>\n",
       "      <td>[50.1, 50.1, 50.1, 50.1]</td>\n",
       "    </tr>\n",
       "  </tbody>\n",
       "</table>\n",
       "</div>"
      ],
      "text/plain": [
       "      ID    EDT          Tech      Possible Ports  \\\n",
       "46  31-V  2-10    NR/LTE1800   5;6;7;8;9;10;11;12   \n",
       "47  31-V  2-10     NR/LTE850              1;2;3;4   \n",
       "48  31-V  2-10    NR/LTE2100   5;6;7;8;9;10;11;12   \n",
       "49  31-V  2-10      WCDMA900              1;2;3;4   \n",
       "50  31-V  2-10     NB-IOT900              1;2;3;4   \n",
       "51  31-V  2-10     NR/LTE700              1;2;3;4   \n",
       "\n",
       "                WhereToAddPower  \\\n",
       "46  [5, 6, 7, 8, 9, 10, 11, 12]   \n",
       "47                 [1, 2, 3, 4]   \n",
       "48  [5, 6, 7, 8, 9, 10, 11, 12]   \n",
       "49                       [1, 2]   \n",
       "50                       [1, 2]   \n",
       "51                 [1, 2, 3, 4]   \n",
       "\n",
       "                                          Powers (W)  \n",
       "46  [50.1, 50.1, 50.1, 50.1, 50.1, 50.1, 50.1, 50.1]  \n",
       "47                          [50.1, 50.1, 50.1, 50.1]  \n",
       "48  [50.1, 50.1, 50.1, 50.1, 50.1, 50.1, 50.1, 50.1]  \n",
       "49                                      [50.1, 50.1]  \n",
       "50                                      [15.8, 15.8]  \n",
       "51                          [50.1, 50.1, 50.1, 50.1]  "
      ]
     },
     "metadata": {},
     "output_type": "display_data"
    },
    {
     "name": "stdout",
     "output_type": "stream",
     "text": [
      "\u001b[1m32-V\n"
     ]
    },
    {
     "data": {
      "text/html": [
       "<div>\n",
       "<style scoped>\n",
       "    .dataframe tbody tr th:only-of-type {\n",
       "        vertical-align: middle;\n",
       "    }\n",
       "\n",
       "    .dataframe tbody tr th {\n",
       "        vertical-align: top;\n",
       "    }\n",
       "\n",
       "    .dataframe thead th {\n",
       "        text-align: right;\n",
       "    }\n",
       "</style>\n",
       "<table border=\"1\" class=\"dataframe\">\n",
       "  <thead>\n",
       "    <tr style=\"text-align: right;\">\n",
       "      <th></th>\n",
       "      <th>ID</th>\n",
       "      <th>EDT</th>\n",
       "      <th>Tech</th>\n",
       "      <th>Possible Ports</th>\n",
       "      <th>WhereToAddPower</th>\n",
       "      <th>Powers (W)</th>\n",
       "    </tr>\n",
       "  </thead>\n",
       "  <tbody>\n",
       "    <tr>\n",
       "      <th>52</th>\n",
       "      <td>32-V</td>\n",
       "      <td>6</td>\n",
       "      <td>NR3500</td>\n",
       "      <td>1;2</td>\n",
       "      <td>[1]</td>\n",
       "      <td>[50.1]</td>\n",
       "    </tr>\n",
       "  </tbody>\n",
       "</table>\n",
       "</div>"
      ],
      "text/plain": [
       "      ID EDT      Tech Possible Ports WhereToAddPower Powers (W)\n",
       "52  32-V  6    NR3500             1;2             [1]     [50.1]"
      ]
     },
     "metadata": {},
     "output_type": "display_data"
    },
    {
     "name": "stdout",
     "output_type": "stream",
     "text": [
      "\u001b[1mA1\n"
     ]
    },
    {
     "data": {
      "text/html": [
       "<div>\n",
       "<style scoped>\n",
       "    .dataframe tbody tr th:only-of-type {\n",
       "        vertical-align: middle;\n",
       "    }\n",
       "\n",
       "    .dataframe tbody tr th {\n",
       "        vertical-align: top;\n",
       "    }\n",
       "\n",
       "    .dataframe thead th {\n",
       "        text-align: right;\n",
       "    }\n",
       "</style>\n",
       "<table border=\"1\" class=\"dataframe\">\n",
       "  <thead>\n",
       "    <tr style=\"text-align: right;\">\n",
       "      <th></th>\n",
       "      <th>ID</th>\n",
       "      <th>EDT</th>\n",
       "      <th>Tech</th>\n",
       "      <th>Possible Ports</th>\n",
       "      <th>WhereToAddPower</th>\n",
       "      <th>Powers (W)</th>\n",
       "    </tr>\n",
       "  </thead>\n",
       "  <tbody>\n",
       "    <tr>\n",
       "      <th>53</th>\n",
       "      <td>A1</td>\n",
       "      <td>0-10</td>\n",
       "      <td>LTE1800</td>\n",
       "      <td>3;4;5;6</td>\n",
       "      <td>[3, 4, 5, 6]</td>\n",
       "      <td>[31.6, 31.6, 31.6, 31.6]</td>\n",
       "    </tr>\n",
       "    <tr>\n",
       "      <th>54</th>\n",
       "      <td>A1</td>\n",
       "      <td>0-10</td>\n",
       "      <td>LTE700</td>\n",
       "      <td>1;2</td>\n",
       "      <td>[1, 2]</td>\n",
       "      <td>[22.4, 22.4]</td>\n",
       "    </tr>\n",
       "    <tr>\n",
       "      <th>55</th>\n",
       "      <td>A1</td>\n",
       "      <td>0-10</td>\n",
       "      <td>LTE2100</td>\n",
       "      <td>3;4;5;6</td>\n",
       "      <td>[3, 4, 5, 6]</td>\n",
       "      <td>[31.6, 31.6, 31.6, 31.6]</td>\n",
       "    </tr>\n",
       "    <tr>\n",
       "      <th>56</th>\n",
       "      <td>A1</td>\n",
       "      <td>0-10</td>\n",
       "      <td>NR850</td>\n",
       "      <td>1;2</td>\n",
       "      <td>[1, 2]</td>\n",
       "      <td>[33.9, 33.9]</td>\n",
       "    </tr>\n",
       "    <tr>\n",
       "      <th>57</th>\n",
       "      <td>A1</td>\n",
       "      <td>0-10</td>\n",
       "      <td>NR/LTE2600</td>\n",
       "      <td>3;4;5;6</td>\n",
       "      <td>[3, 4, 5, 6]</td>\n",
       "      <td>[31.6, 31.6, 31.6, 31.6]</td>\n",
       "    </tr>\n",
       "  </tbody>\n",
       "</table>\n",
       "</div>"
      ],
      "text/plain": [
       "    ID    EDT          Tech Possible Ports WhereToAddPower  \\\n",
       "53  A1  0-10       LTE1800         3;4;5;6    [3, 4, 5, 6]   \n",
       "54  A1  0-10        LTE700             1;2          [1, 2]   \n",
       "55  A1  0-10       LTE2100         3;4;5;6    [3, 4, 5, 6]   \n",
       "56  A1  0-10         NR850             1;2          [1, 2]   \n",
       "57  A1  0-10    NR/LTE2600         3;4;5;6    [3, 4, 5, 6]   \n",
       "\n",
       "                  Powers (W)  \n",
       "53  [31.6, 31.6, 31.6, 31.6]  \n",
       "54              [22.4, 22.4]  \n",
       "55  [31.6, 31.6, 31.6, 31.6]  \n",
       "56              [33.9, 33.9]  \n",
       "57  [31.6, 31.6, 31.6, 31.6]  "
      ]
     },
     "metadata": {},
     "output_type": "display_data"
    },
    {
     "name": "stdout",
     "output_type": "stream",
     "text": [
      "\u001b[1mA3\n"
     ]
    },
    {
     "data": {
      "text/html": [
       "<div>\n",
       "<style scoped>\n",
       "    .dataframe tbody tr th:only-of-type {\n",
       "        vertical-align: middle;\n",
       "    }\n",
       "\n",
       "    .dataframe tbody tr th {\n",
       "        vertical-align: top;\n",
       "    }\n",
       "\n",
       "    .dataframe thead th {\n",
       "        text-align: right;\n",
       "    }\n",
       "</style>\n",
       "<table border=\"1\" class=\"dataframe\">\n",
       "  <thead>\n",
       "    <tr style=\"text-align: right;\">\n",
       "      <th></th>\n",
       "      <th>ID</th>\n",
       "      <th>EDT</th>\n",
       "      <th>Tech</th>\n",
       "      <th>Possible Ports</th>\n",
       "      <th>WhereToAddPower</th>\n",
       "      <th>Powers (W)</th>\n",
       "    </tr>\n",
       "  </thead>\n",
       "  <tbody>\n",
       "    <tr>\n",
       "      <th>58</th>\n",
       "      <td>A3</td>\n",
       "      <td>0-10</td>\n",
       "      <td>NR850</td>\n",
       "      <td>1;2</td>\n",
       "      <td>[1, 2]</td>\n",
       "      <td>[33.9, 33.9]</td>\n",
       "    </tr>\n",
       "    <tr>\n",
       "      <th>59</th>\n",
       "      <td>A3</td>\n",
       "      <td>0-10</td>\n",
       "      <td>WCDMA850</td>\n",
       "      <td>1;2</td>\n",
       "      <td>[1, 2]</td>\n",
       "      <td>[33.9, 33.9]</td>\n",
       "    </tr>\n",
       "    <tr>\n",
       "      <th>60</th>\n",
       "      <td>A3</td>\n",
       "      <td>0-10</td>\n",
       "      <td>LTE700</td>\n",
       "      <td>1;2</td>\n",
       "      <td>[1, 2]</td>\n",
       "      <td>[22.4, 22.4]</td>\n",
       "    </tr>\n",
       "  </tbody>\n",
       "</table>\n",
       "</div>"
      ],
      "text/plain": [
       "    ID    EDT        Tech Possible Ports WhereToAddPower    Powers (W)\n",
       "58  A3  0-10       NR850             1;2          [1, 2]  [33.9, 33.9]\n",
       "59  A3  0-10    WCDMA850             1;2          [1, 2]  [33.9, 33.9]\n",
       "60  A3  0-10      LTE700             1;2          [1, 2]  [22.4, 22.4]"
      ]
     },
     "metadata": {},
     "output_type": "display_data"
    },
    {
     "name": "stdout",
     "output_type": "stream",
     "text": [
      "\u001b[1mA4\n"
     ]
    },
    {
     "data": {
      "text/html": [
       "<div>\n",
       "<style scoped>\n",
       "    .dataframe tbody tr th:only-of-type {\n",
       "        vertical-align: middle;\n",
       "    }\n",
       "\n",
       "    .dataframe tbody tr th {\n",
       "        vertical-align: top;\n",
       "    }\n",
       "\n",
       "    .dataframe thead th {\n",
       "        text-align: right;\n",
       "    }\n",
       "</style>\n",
       "<table border=\"1\" class=\"dataframe\">\n",
       "  <thead>\n",
       "    <tr style=\"text-align: right;\">\n",
       "      <th></th>\n",
       "      <th>ID</th>\n",
       "      <th>EDT</th>\n",
       "      <th>Tech</th>\n",
       "      <th>Possible Ports</th>\n",
       "      <th>WhereToAddPower</th>\n",
       "      <th>Powers (W)</th>\n",
       "    </tr>\n",
       "  </thead>\n",
       "  <tbody>\n",
       "    <tr>\n",
       "      <th>61</th>\n",
       "      <td>A4</td>\n",
       "      <td>0-10</td>\n",
       "      <td>NR/LTE2600</td>\n",
       "      <td>3;4;5;6</td>\n",
       "      <td>[3, 4, 5, 6]</td>\n",
       "      <td>[31.6, 31.6, 31.6, 31.6]</td>\n",
       "    </tr>\n",
       "    <tr>\n",
       "      <th>62</th>\n",
       "      <td>A4</td>\n",
       "      <td>0-10</td>\n",
       "      <td>LTE2100</td>\n",
       "      <td>3;4;5;6</td>\n",
       "      <td>[3, 4, 5, 6]</td>\n",
       "      <td>[31.6, 31.6, 31.6, 31.6]</td>\n",
       "    </tr>\n",
       "    <tr>\n",
       "      <th>63</th>\n",
       "      <td>A4</td>\n",
       "      <td>0-10</td>\n",
       "      <td>NR850</td>\n",
       "      <td>1;2</td>\n",
       "      <td>[1, 2]</td>\n",
       "      <td>[33.9, 33.9]</td>\n",
       "    </tr>\n",
       "    <tr>\n",
       "      <th>64</th>\n",
       "      <td>A4</td>\n",
       "      <td>0-10</td>\n",
       "      <td>LTE1800</td>\n",
       "      <td>3;4;5;6</td>\n",
       "      <td>[3, 4, 5, 6]</td>\n",
       "      <td>[31.6, 31.6, 31.6, 31.6]</td>\n",
       "    </tr>\n",
       "    <tr>\n",
       "      <th>65</th>\n",
       "      <td>A4</td>\n",
       "      <td>0-10</td>\n",
       "      <td>LTE700</td>\n",
       "      <td>1;2</td>\n",
       "      <td>[1, 2]</td>\n",
       "      <td>[22.4, 22.4]</td>\n",
       "    </tr>\n",
       "  </tbody>\n",
       "</table>\n",
       "</div>"
      ],
      "text/plain": [
       "    ID    EDT          Tech Possible Ports WhereToAddPower  \\\n",
       "61  A4  0-10    NR/LTE2600         3;4;5;6    [3, 4, 5, 6]   \n",
       "62  A4  0-10       LTE2100         3;4;5;6    [3, 4, 5, 6]   \n",
       "63  A4  0-10         NR850             1;2          [1, 2]   \n",
       "64  A4  0-10       LTE1800         3;4;5;6    [3, 4, 5, 6]   \n",
       "65  A4  0-10        LTE700             1;2          [1, 2]   \n",
       "\n",
       "                  Powers (W)  \n",
       "61  [31.6, 31.6, 31.6, 31.6]  \n",
       "62  [31.6, 31.6, 31.6, 31.6]  \n",
       "63              [33.9, 33.9]  \n",
       "64  [31.6, 31.6, 31.6, 31.6]  \n",
       "65              [22.4, 22.4]  "
      ]
     },
     "metadata": {},
     "output_type": "display_data"
    },
    {
     "name": "stdout",
     "output_type": "stream",
     "text": [
      "\u001b[1mA6\n"
     ]
    },
    {
     "data": {
      "text/html": [
       "<div>\n",
       "<style scoped>\n",
       "    .dataframe tbody tr th:only-of-type {\n",
       "        vertical-align: middle;\n",
       "    }\n",
       "\n",
       "    .dataframe tbody tr th {\n",
       "        vertical-align: top;\n",
       "    }\n",
       "\n",
       "    .dataframe thead th {\n",
       "        text-align: right;\n",
       "    }\n",
       "</style>\n",
       "<table border=\"1\" class=\"dataframe\">\n",
       "  <thead>\n",
       "    <tr style=\"text-align: right;\">\n",
       "      <th></th>\n",
       "      <th>ID</th>\n",
       "      <th>EDT</th>\n",
       "      <th>Tech</th>\n",
       "      <th>Possible Ports</th>\n",
       "      <th>WhereToAddPower</th>\n",
       "      <th>Powers (W)</th>\n",
       "    </tr>\n",
       "  </thead>\n",
       "  <tbody>\n",
       "    <tr>\n",
       "      <th>66</th>\n",
       "      <td>A6</td>\n",
       "      <td>0-10</td>\n",
       "      <td>WCDMA850</td>\n",
       "      <td>1;2</td>\n",
       "      <td>[1, 2]</td>\n",
       "      <td>[33.9, 33.9]</td>\n",
       "    </tr>\n",
       "    <tr>\n",
       "      <th>67</th>\n",
       "      <td>A6</td>\n",
       "      <td>0-10</td>\n",
       "      <td>NR850</td>\n",
       "      <td>1;2</td>\n",
       "      <td>[1, 2]</td>\n",
       "      <td>[33.9, 33.9]</td>\n",
       "    </tr>\n",
       "    <tr>\n",
       "      <th>68</th>\n",
       "      <td>A6</td>\n",
       "      <td>0-10</td>\n",
       "      <td>LTE700</td>\n",
       "      <td>1;2</td>\n",
       "      <td>[1, 2]</td>\n",
       "      <td>[22.4, 22.4]</td>\n",
       "    </tr>\n",
       "  </tbody>\n",
       "</table>\n",
       "</div>"
      ],
      "text/plain": [
       "    ID    EDT        Tech Possible Ports WhereToAddPower    Powers (W)\n",
       "66  A6  0-10    WCDMA850             1;2          [1, 2]  [33.9, 33.9]\n",
       "67  A6  0-10       NR850             1;2          [1, 2]  [33.9, 33.9]\n",
       "68  A6  0-10      LTE700             1;2          [1, 2]  [22.4, 22.4]"
      ]
     },
     "metadata": {},
     "output_type": "display_data"
    },
    {
     "name": "stdout",
     "output_type": "stream",
     "text": [
      "\u001b[1mA7\n"
     ]
    },
    {
     "data": {
      "text/html": [
       "<div>\n",
       "<style scoped>\n",
       "    .dataframe tbody tr th:only-of-type {\n",
       "        vertical-align: middle;\n",
       "    }\n",
       "\n",
       "    .dataframe tbody tr th {\n",
       "        vertical-align: top;\n",
       "    }\n",
       "\n",
       "    .dataframe thead th {\n",
       "        text-align: right;\n",
       "    }\n",
       "</style>\n",
       "<table border=\"1\" class=\"dataframe\">\n",
       "  <thead>\n",
       "    <tr style=\"text-align: right;\">\n",
       "      <th></th>\n",
       "      <th>ID</th>\n",
       "      <th>EDT</th>\n",
       "      <th>Tech</th>\n",
       "      <th>Possible Ports</th>\n",
       "      <th>WhereToAddPower</th>\n",
       "      <th>Powers (W)</th>\n",
       "    </tr>\n",
       "  </thead>\n",
       "  <tbody>\n",
       "    <tr>\n",
       "      <th>69</th>\n",
       "      <td>A7</td>\n",
       "      <td>0-10</td>\n",
       "      <td>NR/LTE2600</td>\n",
       "      <td>3;4;5;6</td>\n",
       "      <td>[3, 4, 5, 6]</td>\n",
       "      <td>[31.6, 31.6, 31.6, 31.6]</td>\n",
       "    </tr>\n",
       "    <tr>\n",
       "      <th>70</th>\n",
       "      <td>A7</td>\n",
       "      <td>0-10</td>\n",
       "      <td>LTE2100</td>\n",
       "      <td>3;4;5;6</td>\n",
       "      <td>[3, 4, 5, 6]</td>\n",
       "      <td>[31.6, 31.6, 31.6, 31.6]</td>\n",
       "    </tr>\n",
       "    <tr>\n",
       "      <th>71</th>\n",
       "      <td>A7</td>\n",
       "      <td>0-10</td>\n",
       "      <td>LTE1800</td>\n",
       "      <td>3;4;5;6</td>\n",
       "      <td>[3, 4, 5, 6]</td>\n",
       "      <td>[31.6, 31.6, 31.6, 31.6]</td>\n",
       "    </tr>\n",
       "    <tr>\n",
       "      <th>72</th>\n",
       "      <td>A7</td>\n",
       "      <td>0-10</td>\n",
       "      <td>NR850</td>\n",
       "      <td>1;2</td>\n",
       "      <td>[1, 2]</td>\n",
       "      <td>[33.9, 33.9]</td>\n",
       "    </tr>\n",
       "    <tr>\n",
       "      <th>73</th>\n",
       "      <td>A7</td>\n",
       "      <td>0-10</td>\n",
       "      <td>LTE700</td>\n",
       "      <td>1;2</td>\n",
       "      <td>[1, 2]</td>\n",
       "      <td>[22.4, 22.4]</td>\n",
       "    </tr>\n",
       "  </tbody>\n",
       "</table>\n",
       "</div>"
      ],
      "text/plain": [
       "    ID    EDT          Tech Possible Ports WhereToAddPower  \\\n",
       "69  A7  0-10    NR/LTE2600         3;4;5;6    [3, 4, 5, 6]   \n",
       "70  A7  0-10       LTE2100         3;4;5;6    [3, 4, 5, 6]   \n",
       "71  A7  0-10       LTE1800         3;4;5;6    [3, 4, 5, 6]   \n",
       "72  A7  0-10         NR850             1;2          [1, 2]   \n",
       "73  A7  0-10        LTE700             1;2          [1, 2]   \n",
       "\n",
       "                  Powers (W)  \n",
       "69  [31.6, 31.6, 31.6, 31.6]  \n",
       "70  [31.6, 31.6, 31.6, 31.6]  \n",
       "71  [31.6, 31.6, 31.6, 31.6]  \n",
       "72              [33.9, 33.9]  \n",
       "73              [22.4, 22.4]  "
      ]
     },
     "metadata": {},
     "output_type": "display_data"
    },
    {
     "name": "stdout",
     "output_type": "stream",
     "text": [
      "\u001b[1mA9\n"
     ]
    },
    {
     "data": {
      "text/html": [
       "<div>\n",
       "<style scoped>\n",
       "    .dataframe tbody tr th:only-of-type {\n",
       "        vertical-align: middle;\n",
       "    }\n",
       "\n",
       "    .dataframe tbody tr th {\n",
       "        vertical-align: top;\n",
       "    }\n",
       "\n",
       "    .dataframe thead th {\n",
       "        text-align: right;\n",
       "    }\n",
       "</style>\n",
       "<table border=\"1\" class=\"dataframe\">\n",
       "  <thead>\n",
       "    <tr style=\"text-align: right;\">\n",
       "      <th></th>\n",
       "      <th>ID</th>\n",
       "      <th>EDT</th>\n",
       "      <th>Tech</th>\n",
       "      <th>Possible Ports</th>\n",
       "      <th>WhereToAddPower</th>\n",
       "      <th>Powers (W)</th>\n",
       "    </tr>\n",
       "  </thead>\n",
       "  <tbody>\n",
       "    <tr>\n",
       "      <th>74</th>\n",
       "      <td>A9</td>\n",
       "      <td>0-10</td>\n",
       "      <td>NR850</td>\n",
       "      <td>1;2</td>\n",
       "      <td>[1, 2]</td>\n",
       "      <td>[33.9, 33.9]</td>\n",
       "    </tr>\n",
       "    <tr>\n",
       "      <th>75</th>\n",
       "      <td>A9</td>\n",
       "      <td>0-10</td>\n",
       "      <td>WCDMA850</td>\n",
       "      <td>1;2</td>\n",
       "      <td>[1, 2]</td>\n",
       "      <td>[33.9, 33.9]</td>\n",
       "    </tr>\n",
       "    <tr>\n",
       "      <th>76</th>\n",
       "      <td>A9</td>\n",
       "      <td>0-10</td>\n",
       "      <td>LTE700</td>\n",
       "      <td>1;2</td>\n",
       "      <td>[1, 2]</td>\n",
       "      <td>[22.4, 22.4]</td>\n",
       "    </tr>\n",
       "  </tbody>\n",
       "</table>\n",
       "</div>"
      ],
      "text/plain": [
       "    ID    EDT        Tech Possible Ports WhereToAddPower    Powers (W)\n",
       "74  A9  0-10       NR850             1;2          [1, 2]  [33.9, 33.9]\n",
       "75  A9  0-10    WCDMA850             1;2          [1, 2]  [33.9, 33.9]\n",
       "76  A9  0-10      LTE700             1;2          [1, 2]  [22.4, 22.4]"
      ]
     },
     "metadata": {},
     "output_type": "display_data"
    },
    {
     "name": "stdout",
     "output_type": "stream",
     "text": [
      "\u001b[1mA10\n"
     ]
    },
    {
     "data": {
      "text/html": [
       "<div>\n",
       "<style scoped>\n",
       "    .dataframe tbody tr th:only-of-type {\n",
       "        vertical-align: middle;\n",
       "    }\n",
       "\n",
       "    .dataframe tbody tr th {\n",
       "        vertical-align: top;\n",
       "    }\n",
       "\n",
       "    .dataframe thead th {\n",
       "        text-align: right;\n",
       "    }\n",
       "</style>\n",
       "<table border=\"1\" class=\"dataframe\">\n",
       "  <thead>\n",
       "    <tr style=\"text-align: right;\">\n",
       "      <th></th>\n",
       "      <th>ID</th>\n",
       "      <th>EDT</th>\n",
       "      <th>Tech</th>\n",
       "      <th>Possible Ports</th>\n",
       "      <th>WhereToAddPower</th>\n",
       "      <th>Powers (W)</th>\n",
       "    </tr>\n",
       "  </thead>\n",
       "  <tbody>\n",
       "    <tr>\n",
       "      <th>77</th>\n",
       "      <td>A10</td>\n",
       "      <td>3</td>\n",
       "      <td>NR3500</td>\n",
       "      <td>1;2</td>\n",
       "      <td>[1, 2]</td>\n",
       "      <td>[50.1, 50.1]</td>\n",
       "    </tr>\n",
       "  </tbody>\n",
       "</table>\n",
       "</div>"
      ],
      "text/plain": [
       "     ID EDT      Tech Possible Ports WhereToAddPower    Powers (W)\n",
       "77  A10  3    NR3500             1;2          [1, 2]  [50.1, 50.1]"
      ]
     },
     "metadata": {},
     "output_type": "display_data"
    },
    {
     "name": "stdout",
     "output_type": "stream",
     "text": [
      "\u001b[1mA11\n"
     ]
    },
    {
     "data": {
      "text/html": [
       "<div>\n",
       "<style scoped>\n",
       "    .dataframe tbody tr th:only-of-type {\n",
       "        vertical-align: middle;\n",
       "    }\n",
       "\n",
       "    .dataframe tbody tr th {\n",
       "        vertical-align: top;\n",
       "    }\n",
       "\n",
       "    .dataframe thead th {\n",
       "        text-align: right;\n",
       "    }\n",
       "</style>\n",
       "<table border=\"1\" class=\"dataframe\">\n",
       "  <thead>\n",
       "    <tr style=\"text-align: right;\">\n",
       "      <th></th>\n",
       "      <th>ID</th>\n",
       "      <th>EDT</th>\n",
       "      <th>Tech</th>\n",
       "      <th>Possible Ports</th>\n",
       "      <th>WhereToAddPower</th>\n",
       "      <th>Powers (W)</th>\n",
       "    </tr>\n",
       "  </thead>\n",
       "  <tbody>\n",
       "    <tr>\n",
       "      <th>78</th>\n",
       "      <td>A11</td>\n",
       "      <td>3</td>\n",
       "      <td>NR3500</td>\n",
       "      <td>1;2</td>\n",
       "      <td>[1, 2]</td>\n",
       "      <td>[50.1, 50.1]</td>\n",
       "    </tr>\n",
       "  </tbody>\n",
       "</table>\n",
       "</div>"
      ],
      "text/plain": [
       "     ID EDT      Tech Possible Ports WhereToAddPower    Powers (W)\n",
       "78  A11  3    NR3500             1;2          [1, 2]  [50.1, 50.1]"
      ]
     },
     "metadata": {},
     "output_type": "display_data"
    },
    {
     "name": "stdout",
     "output_type": "stream",
     "text": [
      "\u001b[1mA12\n"
     ]
    },
    {
     "data": {
      "text/html": [
       "<div>\n",
       "<style scoped>\n",
       "    .dataframe tbody tr th:only-of-type {\n",
       "        vertical-align: middle;\n",
       "    }\n",
       "\n",
       "    .dataframe tbody tr th {\n",
       "        vertical-align: top;\n",
       "    }\n",
       "\n",
       "    .dataframe thead th {\n",
       "        text-align: right;\n",
       "    }\n",
       "</style>\n",
       "<table border=\"1\" class=\"dataframe\">\n",
       "  <thead>\n",
       "    <tr style=\"text-align: right;\">\n",
       "      <th></th>\n",
       "      <th>ID</th>\n",
       "      <th>EDT</th>\n",
       "      <th>Tech</th>\n",
       "      <th>Possible Ports</th>\n",
       "      <th>WhereToAddPower</th>\n",
       "      <th>Powers (W)</th>\n",
       "    </tr>\n",
       "  </thead>\n",
       "  <tbody>\n",
       "    <tr>\n",
       "      <th>79</th>\n",
       "      <td>A12</td>\n",
       "      <td>3</td>\n",
       "      <td>NR3500</td>\n",
       "      <td>1;2</td>\n",
       "      <td>[1, 2]</td>\n",
       "      <td>[50.1, 50.1]</td>\n",
       "    </tr>\n",
       "  </tbody>\n",
       "</table>\n",
       "</div>"
      ],
      "text/plain": [
       "     ID EDT      Tech Possible Ports WhereToAddPower    Powers (W)\n",
       "79  A12  3    NR3500             1;2          [1, 2]  [50.1, 50.1]"
      ]
     },
     "metadata": {},
     "output_type": "display_data"
    }
   ],
   "source": [
    "display('Set Power and Frequency to ports in Prox5')\n",
    "for i in IDUnique:\n",
    "        print(text_format.BOLD+str(i))\n",
    "        display(df.loc[(df['ID'] == i),['ID','EDT','Tech','Possible Ports','WhereToAddPower','Powers (W)']])"
   ]
  },
  {
   "cell_type": "markdown",
   "id": "747576e0",
   "metadata": {},
   "source": [
    "## EMEG Equipment List"
   ]
  },
  {
   "cell_type": "code",
   "execution_count": 20,
   "id": "94b304b6",
   "metadata": {},
   "outputs": [
    {
     "data": {
      "text/plain": [
       "'11-O'"
      ]
     },
     "metadata": {},
     "output_type": "display_data"
    },
    {
     "data": {
      "text/plain": [
       "'11-O'"
      ]
     },
     "metadata": {},
     "output_type": "display_data"
    },
    {
     "data": {
      "text/plain": [
       "'11-O'"
      ]
     },
     "metadata": {},
     "output_type": "display_data"
    },
    {
     "data": {
      "text/plain": [
       "'11-O'"
      ]
     },
     "metadata": {},
     "output_type": "display_data"
    },
    {
     "data": {
      "text/plain": [
       "'11-O'"
      ]
     },
     "metadata": {},
     "output_type": "display_data"
    },
    {
     "data": {
      "text/plain": [
       "0"
      ]
     },
     "metadata": {},
     "output_type": "display_data"
    },
    {
     "data": {
      "text/plain": [
       "'11-O'"
      ]
     },
     "metadata": {},
     "output_type": "display_data"
    },
    {
     "data": {
      "text/plain": [
       "'11-O'"
      ]
     },
     "metadata": {},
     "output_type": "display_data"
    },
    {
     "data": {
      "text/plain": [
       "'11-O'"
      ]
     },
     "metadata": {},
     "output_type": "display_data"
    },
    {
     "data": {
      "text/plain": [
       "'21-O'"
      ]
     },
     "metadata": {},
     "output_type": "display_data"
    },
    {
     "data": {
      "text/plain": [
       "'21-O'"
      ]
     },
     "metadata": {},
     "output_type": "display_data"
    },
    {
     "data": {
      "text/plain": [
       "'21-O'"
      ]
     },
     "metadata": {},
     "output_type": "display_data"
    },
    {
     "data": {
      "text/plain": [
       "0"
      ]
     },
     "metadata": {},
     "output_type": "display_data"
    },
    {
     "data": {
      "text/plain": [
       "'21-O'"
      ]
     },
     "metadata": {},
     "output_type": "display_data"
    },
    {
     "data": {
      "text/plain": [
       "'21-O'"
      ]
     },
     "metadata": {},
     "output_type": "display_data"
    },
    {
     "data": {
      "text/plain": [
       "'21-O'"
      ]
     },
     "metadata": {},
     "output_type": "display_data"
    },
    {
     "data": {
      "text/plain": [
       "'21-O'"
      ]
     },
     "metadata": {},
     "output_type": "display_data"
    },
    {
     "data": {
      "text/plain": [
       "'21-O'"
      ]
     },
     "metadata": {},
     "output_type": "display_data"
    },
    {
     "data": {
      "text/plain": [
       "'31-O'"
      ]
     },
     "metadata": {},
     "output_type": "display_data"
    },
    {
     "data": {
      "text/plain": [
       "'31-O'"
      ]
     },
     "metadata": {},
     "output_type": "display_data"
    },
    {
     "data": {
      "text/plain": [
       "'31-O'"
      ]
     },
     "metadata": {},
     "output_type": "display_data"
    },
    {
     "data": {
      "text/plain": [
       "'31-O'"
      ]
     },
     "metadata": {},
     "output_type": "display_data"
    },
    {
     "data": {
      "text/plain": [
       "'31-O'"
      ]
     },
     "metadata": {},
     "output_type": "display_data"
    },
    {
     "data": {
      "text/plain": [
       "0"
      ]
     },
     "metadata": {},
     "output_type": "display_data"
    },
    {
     "data": {
      "text/plain": [
       "'31-O'"
      ]
     },
     "metadata": {},
     "output_type": "display_data"
    },
    {
     "data": {
      "text/plain": [
       "'31-O'"
      ]
     },
     "metadata": {},
     "output_type": "display_data"
    },
    {
     "data": {
      "text/plain": [
       "'31-O'"
      ]
     },
     "metadata": {},
     "output_type": "display_data"
    },
    {
     "data": {
      "text/plain": [
       "'41-O'"
      ]
     },
     "metadata": {},
     "output_type": "display_data"
    },
    {
     "data": {
      "text/plain": [
       "'41-O'"
      ]
     },
     "metadata": {},
     "output_type": "display_data"
    },
    {
     "data": {
      "text/plain": [
       "'41-O'"
      ]
     },
     "metadata": {},
     "output_type": "display_data"
    },
    {
     "data": {
      "text/plain": [
       "'41-O'"
      ]
     },
     "metadata": {},
     "output_type": "display_data"
    },
    {
     "data": {
      "text/plain": [
       "'41-O'"
      ]
     },
     "metadata": {},
     "output_type": "display_data"
    },
    {
     "data": {
      "text/plain": [
       "'41-O'"
      ]
     },
     "metadata": {},
     "output_type": "display_data"
    },
    {
     "data": {
      "text/plain": [
       "'41-O'"
      ]
     },
     "metadata": {},
     "output_type": "display_data"
    },
    {
     "data": {
      "text/plain": [
       "'11-V'"
      ]
     },
     "metadata": {},
     "output_type": "display_data"
    },
    {
     "data": {
      "text/plain": [
       "'11-V'"
      ]
     },
     "metadata": {},
     "output_type": "display_data"
    },
    {
     "data": {
      "text/plain": [
       "'11-V'"
      ]
     },
     "metadata": {},
     "output_type": "display_data"
    },
    {
     "data": {
      "text/plain": [
       "'11-V'"
      ]
     },
     "metadata": {},
     "output_type": "display_data"
    },
    {
     "data": {
      "text/plain": [
       "'11-V'"
      ]
     },
     "metadata": {},
     "output_type": "display_data"
    },
    {
     "data": {
      "text/plain": [
       "'11-V'"
      ]
     },
     "metadata": {},
     "output_type": "display_data"
    },
    {
     "data": {
      "text/plain": [
       "'12-V'"
      ]
     },
     "metadata": {},
     "output_type": "display_data"
    },
    {
     "data": {
      "text/plain": [
       "0"
      ]
     },
     "metadata": {},
     "output_type": "display_data"
    },
    {
     "data": {
      "text/plain": [
       "'21-V'"
      ]
     },
     "metadata": {},
     "output_type": "display_data"
    },
    {
     "data": {
      "text/plain": [
       "'21-V'"
      ]
     },
     "metadata": {},
     "output_type": "display_data"
    },
    {
     "data": {
      "text/plain": [
       "'21-V'"
      ]
     },
     "metadata": {},
     "output_type": "display_data"
    },
    {
     "data": {
      "text/plain": [
       "'21-V'"
      ]
     },
     "metadata": {},
     "output_type": "display_data"
    },
    {
     "data": {
      "text/plain": [
       "'21-V'"
      ]
     },
     "metadata": {},
     "output_type": "display_data"
    },
    {
     "data": {
      "text/plain": [
       "'21-V'"
      ]
     },
     "metadata": {},
     "output_type": "display_data"
    },
    {
     "data": {
      "text/plain": [
       "'22-V'"
      ]
     },
     "metadata": {},
     "output_type": "display_data"
    },
    {
     "data": {
      "text/plain": [
       "0"
      ]
     },
     "metadata": {},
     "output_type": "display_data"
    },
    {
     "data": {
      "text/plain": [
       "'31-V'"
      ]
     },
     "metadata": {},
     "output_type": "display_data"
    },
    {
     "data": {
      "text/plain": [
       "'31-V'"
      ]
     },
     "metadata": {},
     "output_type": "display_data"
    },
    {
     "data": {
      "text/plain": [
       "'31-V'"
      ]
     },
     "metadata": {},
     "output_type": "display_data"
    },
    {
     "data": {
      "text/plain": [
       "'31-V'"
      ]
     },
     "metadata": {},
     "output_type": "display_data"
    },
    {
     "data": {
      "text/plain": [
       "'31-V'"
      ]
     },
     "metadata": {},
     "output_type": "display_data"
    },
    {
     "data": {
      "text/plain": [
       "'31-V'"
      ]
     },
     "metadata": {},
     "output_type": "display_data"
    },
    {
     "data": {
      "text/plain": [
       "'32-V'"
      ]
     },
     "metadata": {},
     "output_type": "display_data"
    },
    {
     "data": {
      "text/plain": [
       "0"
      ]
     },
     "metadata": {},
     "output_type": "display_data"
    },
    {
     "data": {
      "text/plain": [
       "'A1'"
      ]
     },
     "metadata": {},
     "output_type": "display_data"
    },
    {
     "data": {
      "text/plain": [
       "'A1'"
      ]
     },
     "metadata": {},
     "output_type": "display_data"
    },
    {
     "data": {
      "text/plain": [
       "'A1'"
      ]
     },
     "metadata": {},
     "output_type": "display_data"
    },
    {
     "data": {
      "text/plain": [
       "'A1'"
      ]
     },
     "metadata": {},
     "output_type": "display_data"
    },
    {
     "data": {
      "text/plain": [
       "'A1'"
      ]
     },
     "metadata": {},
     "output_type": "display_data"
    },
    {
     "data": {
      "text/plain": [
       "'A3'"
      ]
     },
     "metadata": {},
     "output_type": "display_data"
    },
    {
     "data": {
      "text/plain": [
       "'A3'"
      ]
     },
     "metadata": {},
     "output_type": "display_data"
    },
    {
     "data": {
      "text/plain": [
       "'A3'"
      ]
     },
     "metadata": {},
     "output_type": "display_data"
    },
    {
     "data": {
      "text/plain": [
       "'A4'"
      ]
     },
     "metadata": {},
     "output_type": "display_data"
    },
    {
     "data": {
      "text/plain": [
       "'A4'"
      ]
     },
     "metadata": {},
     "output_type": "display_data"
    },
    {
     "data": {
      "text/plain": [
       "'A4'"
      ]
     },
     "metadata": {},
     "output_type": "display_data"
    },
    {
     "data": {
      "text/plain": [
       "'A4'"
      ]
     },
     "metadata": {},
     "output_type": "display_data"
    },
    {
     "data": {
      "text/plain": [
       "'A4'"
      ]
     },
     "metadata": {},
     "output_type": "display_data"
    },
    {
     "data": {
      "text/plain": [
       "'A6'"
      ]
     },
     "metadata": {},
     "output_type": "display_data"
    },
    {
     "data": {
      "text/plain": [
       "'A6'"
      ]
     },
     "metadata": {},
     "output_type": "display_data"
    },
    {
     "data": {
      "text/plain": [
       "'A6'"
      ]
     },
     "metadata": {},
     "output_type": "display_data"
    },
    {
     "data": {
      "text/plain": [
       "'A7'"
      ]
     },
     "metadata": {},
     "output_type": "display_data"
    },
    {
     "data": {
      "text/plain": [
       "'A7'"
      ]
     },
     "metadata": {},
     "output_type": "display_data"
    },
    {
     "data": {
      "text/plain": [
       "'A7'"
      ]
     },
     "metadata": {},
     "output_type": "display_data"
    },
    {
     "data": {
      "text/plain": [
       "'A7'"
      ]
     },
     "metadata": {},
     "output_type": "display_data"
    },
    {
     "data": {
      "text/plain": [
       "'A7'"
      ]
     },
     "metadata": {},
     "output_type": "display_data"
    },
    {
     "data": {
      "text/plain": [
       "'A9'"
      ]
     },
     "metadata": {},
     "output_type": "display_data"
    },
    {
     "data": {
      "text/plain": [
       "'A9'"
      ]
     },
     "metadata": {},
     "output_type": "display_data"
    },
    {
     "data": {
      "text/plain": [
       "'A9'"
      ]
     },
     "metadata": {},
     "output_type": "display_data"
    },
    {
     "data": {
      "text/plain": [
       "'A10'"
      ]
     },
     "metadata": {},
     "output_type": "display_data"
    },
    {
     "data": {
      "text/plain": [
       "'A11'"
      ]
     },
     "metadata": {},
     "output_type": "display_data"
    },
    {
     "data": {
      "text/plain": [
       "'A12'"
      ]
     },
     "metadata": {},
     "output_type": "display_data"
    }
   ],
   "source": [
    "\n",
    "totalPortsdict = {}\n",
    "for idantenna in IDUnique:\n",
    "    totalPorts = list(dict.fromkeys(df.loc[df['ID'] == idantenna, 'Total Ports']))\n",
    "    totalPortsdict[idantenna] = totalPorts\n",
    "    \n",
    "#display(totalPortsdict)   \n",
    "#print(df.loc[(df['ID']=='11-O'), ['EDT','Sector','WhereToAddPower','Power (W)']])\n",
    "#display(df.loc[(df['ID'] == i),['ID','Height','Bearing','MDT']])\n",
    "\n",
    "listpow = []\n",
    "listsec = []\n",
    "x = 0\n",
    "yprev = 0\n",
    "for AntId, AntPorts in totalPortsdict.items():\n",
    "    templistpow = [''] * (int(AntPorts[0] / 2) + int(AntPorts[0] % 2))\n",
    "    templistsec = [''] * (int(AntPorts[0] / 2) + int(AntPorts[0] % 2))\n",
    "    tempdf = df.loc[(df['ID']==AntId), ['EDT','System/Sector','WhereToAddPower','Powers (W)']]\n",
    "    for sector, port, power in zip(tempdf['System/Sector'], tempdf['WhereToAddPower'], tempdf['Powers (W)']):\n",
    "        display(AntId)\n",
    "        if len(port)>1:\n",
    "            for x, y in enumerate(port):       \n",
    "                if sector not in templistsec[math.ceil(int(y)/2)-1]:\n",
    "                    templistsec[math.ceil(int(y)/2)-1] += sector +'\\n'\n",
    "                    templistpow[math.ceil(int(y)/2)-1] += '\\n'\n",
    "                templistpow[math.ceil(int(y)/2)-1] += '+' + str(power[x])\n",
    "        if len(port)==1:\n",
    "            for x, y in enumerate(port):\n",
    "                display(math.ceil(int(y)/2)-1)\n",
    "                templistsec[math.ceil(int(y)/2)-1] += sector +'\\n'\n",
    "                if y%2==0:\n",
    "                    templistpow[math.ceil(int(y)/2)-1] += '\\n0 ++ ' + str(power[x])\n",
    "                else:\n",
    "                    templistpow[math.ceil(int(y)/2)-1] += '\\n' + str(power[x]) + ' ++ 0'\n",
    "            \n",
    "    listpow.append(templistpow)\n",
    "    listsec.append(templistsec)\n",
    "\n",
    "for index1, x in enumerate(listpow):\n",
    "    for index2, y in enumerate(x):\n",
    "        if y == '':\n",
    "            listpow[index1][index2] = '0'\n",
    "        \n",
    "for index1, x in enumerate(listsec):\n",
    "    for index2, y in enumerate(x):\n",
    "        if y == '':\n",
    "            listsec[index1][index2] = '-'\n",
    "        \n",
    "\n",
    "EquipmentList = pd.DataFrame(totalPortsdict.items(), columns=['ID', 'No. of ports'])\n",
    "EquipmentList['System/Sector'] = listsec\n",
    "EquipmentList['Power (W)'] = listpow\n",
    "\n",
    "EquipmentList_final = pd.DataFrame([], columns=['ID','System/Sector', 'Power (W)'])\n",
    "\n",
    "for a, x, y in zip(EquipmentList['ID'],EquipmentList['System/Sector'], EquipmentList['Power (W)']): \n",
    "        EquipmentListAntenna = pd.DataFrame([a]*len(x),columns=['ID'])\n",
    "        EquipmentListAntenna['System/Sector'] = x\n",
    "        EquipmentListAntenna['Power (W)'] = y\n",
    "        EquipmentList_final = pd.concat([EquipmentList_final, EquipmentListAntenna], axis=0)\n",
    "\n",
    "EquipmentList_final['Power (W)'] = EquipmentList_final['Power (W)'].str.replace('\\+', '', 1, regex=True)\n",
    "EquipmentList_final['Power (W)'] = EquipmentList_final['Power (W)'].str.replace('\\+\\+', '+', regex=True)\n",
    "EquipmentList_final['Power (W)'] = EquipmentList_final['Power (W)'].str.replace('\\\\n\\+', '\\\\n', regex=True)\n",
    "EquipmentList_final['Power (W)'] = EquipmentList_final['Power (W)'].str.strip()\n",
    "EquipmentList_final['System/Sector'] = EquipmentList_final['System/Sector'].str.strip()\n",
    "#display(EquipmentList_final)\n"
   ]
  },
  {
   "cell_type": "markdown",
   "id": "a2765459",
   "metadata": {},
   "source": [
    "## CANRAD"
   ]
  },
  {
   "cell_type": "code",
   "execution_count": 21,
   "id": "bdaf2e0b",
   "metadata": {},
   "outputs": [
    {
     "data": {
      "text/html": [
       "<div>\n",
       "<style scoped>\n",
       "    .dataframe tbody tr th:only-of-type {\n",
       "        vertical-align: middle;\n",
       "    }\n",
       "\n",
       "    .dataframe tbody tr th {\n",
       "        vertical-align: top;\n",
       "    }\n",
       "\n",
       "    .dataframe thead th {\n",
       "        text-align: right;\n",
       "    }\n",
       "</style>\n",
       "<table border=\"1\" class=\"dataframe\">\n",
       "  <thead>\n",
       "    <tr style=\"text-align: right;\">\n",
       "      <th></th>\n",
       "      <th>ID</th>\n",
       "      <th>Function</th>\n",
       "      <th>Total Power</th>\n",
       "    </tr>\n",
       "  </thead>\n",
       "  <tbody>\n",
       "    <tr>\n",
       "      <th>0</th>\n",
       "      <td>11-O</td>\n",
       "      <td>NR/LTE900 / WCDMA900 / LTE700 /</td>\n",
       "      <td>189.3</td>\n",
       "    </tr>\n",
       "    <tr>\n",
       "      <th>1</th>\n",
       "      <td>11-O</td>\n",
       "      <td>NR/LTE900 / LTE700 /</td>\n",
       "      <td>126.2</td>\n",
       "    </tr>\n",
       "    <tr>\n",
       "      <th>2</th>\n",
       "      <td>11-O</td>\n",
       "      <td>LTE700 /</td>\n",
       "      <td>63.1</td>\n",
       "    </tr>\n",
       "    <tr>\n",
       "      <th>3</th>\n",
       "      <td>11-O</td>\n",
       "      <td>LTE700 /</td>\n",
       "      <td>63.1</td>\n",
       "    </tr>\n",
       "    <tr>\n",
       "      <th>4</th>\n",
       "      <td>11-O</td>\n",
       "      <td></td>\n",
       "      <td>0</td>\n",
       "    </tr>\n",
       "    <tr>\n",
       "      <th>...</th>\n",
       "      <td>...</td>\n",
       "      <td>...</td>\n",
       "      <td>...</td>\n",
       "    </tr>\n",
       "    <tr>\n",
       "      <th>1</th>\n",
       "      <td>A10</td>\n",
       "      <td>NR3500 /</td>\n",
       "      <td>50.1</td>\n",
       "    </tr>\n",
       "    <tr>\n",
       "      <th>0</th>\n",
       "      <td>A11</td>\n",
       "      <td>NR3500 /</td>\n",
       "      <td>50.1</td>\n",
       "    </tr>\n",
       "    <tr>\n",
       "      <th>1</th>\n",
       "      <td>A11</td>\n",
       "      <td>NR3500 /</td>\n",
       "      <td>50.1</td>\n",
       "    </tr>\n",
       "    <tr>\n",
       "      <th>0</th>\n",
       "      <td>A12</td>\n",
       "      <td>NR3500 /</td>\n",
       "      <td>50.1</td>\n",
       "    </tr>\n",
       "    <tr>\n",
       "      <th>1</th>\n",
       "      <td>A12</td>\n",
       "      <td>NR3500 /</td>\n",
       "      <td>50.1</td>\n",
       "    </tr>\n",
       "  </tbody>\n",
       "</table>\n",
       "<p>196 rows × 3 columns</p>\n",
       "</div>"
      ],
      "text/plain": [
       "      ID                          Function Total Power\n",
       "0   11-O   NR/LTE900 / WCDMA900 / LTE700 /       189.3\n",
       "1   11-O              NR/LTE900 / LTE700 /       126.2\n",
       "2   11-O                          LTE700 /        63.1\n",
       "3   11-O                          LTE700 /        63.1\n",
       "4   11-O                                             0\n",
       "..   ...                               ...         ...\n",
       "1    A10                          NR3500 /        50.1\n",
       "0    A11                          NR3500 /        50.1\n",
       "1    A11                          NR3500 /        50.1\n",
       "0    A12                          NR3500 /        50.1\n",
       "1    A12                          NR3500 /        50.1\n",
       "\n",
       "[196 rows x 3 columns]"
      ]
     },
     "metadata": {},
     "output_type": "display_data"
    }
   ],
   "source": [
    "listpow = []\n",
    "listfunc = []\n",
    "x = 0\n",
    "yprev = 0\n",
    "\n",
    "for AntId, AntPorts in totalPortsdict.items():\n",
    "    templistpow = [0] * int(AntPorts[0])\n",
    "    templistfunc = [''] * int(AntPorts[0])\n",
    "    #tempfunc = [''] * int(AntPorts[0])\n",
    "    tempdf = df.loc[(df['ID']==AntId), ['Sector','Tech','WhereToAddPower','Powers (W)']]\n",
    "    for sector, tech, port, power in zip(tempdf['Sector'], tempdf['Tech'], tempdf['WhereToAddPower'], tempdf['Powers (W)']):\n",
    "        for x, y in enumerate(port):       \n",
    "            #if sector not in templistfunc[y]:\n",
    "            templistfunc[y-1] += tech +'/'\n",
    "            templistpow[y-1] = str(float(templistpow[y-1]) + float(power[x]))\n",
    "    listpow.append(templistpow)\n",
    "    listfunc.append(templistfunc)\n",
    "        \n",
    "\n",
    "CANRAD = pd.DataFrame(totalPortsdict.items(), columns=['ID', 'No. of ports'])\n",
    "CANRAD['Function'] = listfunc\n",
    "CANRAD['Total Power'] = listpow\n",
    "\n",
    "CANRAD_final = pd.DataFrame([], columns=['ID','Function', 'Total Power'])\n",
    "\n",
    "for a, x, y in zip(CANRAD['ID'],CANRAD['Function'], CANRAD['Total Power']): \n",
    "        CANRADAntenna = pd.DataFrame([a]*len(x),columns=['ID'])\n",
    "        CANRADAntenna['Function'] = x\n",
    "        CANRADAntenna['Total Power'] = y\n",
    "        CANRAD_final = pd.concat([CANRAD_final, CANRADAntenna], axis=0)\n",
    "\n",
    "display(CANRAD_final)\n"
   ]
  },
  {
   "cell_type": "code",
   "execution_count": 22,
   "id": "6502367d",
   "metadata": {},
   "outputs": [
    {
     "data": {
      "text/plain": [
       "[' NR3500 /', ' NR3500 /']"
      ]
     },
     "metadata": {},
     "output_type": "display_data"
    }
   ],
   "source": [
    "display(templistfunc)"
   ]
  },
  {
   "cell_type": "markdown",
   "id": "1f3da6e5",
   "metadata": {},
   "source": [
    "## Exports"
   ]
  },
  {
   "cell_type": "code",
   "execution_count": 23,
   "id": "780bbe15",
   "metadata": {},
   "outputs": [],
   "source": [
    "#df3 = pd.DataFrame.from_dict(AntennaIds)\n",
    "df3 = pd.DataFrame(dict([(k,pd.Series(v)) for k,v in AntennaIds.items() ]))\n",
    "df3 = df3.fillna('')\n",
    "\n",
    "\n",
    "\n",
    "dfAntennaSettings = df[['Carrier','ID','Height','Bearing','MDT','Total Ports','Sectors']].copy()\n",
    "dfAntennaSettings = dfAntennaSettings.drop_duplicates(keep='first')\n",
    "\n",
    "path = r'C:\\Users\\Mewtwo\\Desktop'+'\\\\'+ data['NSA'][3]+data['Site Name'][3] + 'RFNSA Wrangled Data.xlsx'\n",
    "\n",
    "from openpyxl.utils import get_column_letter\n",
    "from openpyxl import Workbook\n",
    "from openpyxl import load_workbook\n",
    "\n",
    "wb = Workbook()\n",
    "wb.save(path)\n",
    "\n",
    "writer = pd.ExcelWriter(path, engine='openpyxl')\n",
    "df3.to_excel(writer, sheet_name = 'Antenna IDs', index=False)\n",
    "dfAntennaSettings.to_excel(writer, sheet_name = 'Antenna Settings', index=False)\n",
    "df.to_excel(writer, sheet_name = 'Add powers to Prox', columns = ['Antenna','ID','EDT','Tech','Possible Ports','WhereToAddPower','Powers (W)','Assess Freq','Notes'], index=False)\n",
    "EquipmentList_final.to_excel(writer, sheet_name = 'EMEG List', index=False)\n",
    "CANRAD_final.to_excel(writer, sheet_name = 'CANRAD', index=False)\n",
    "dfSiteInfo.to_excel(writer, sheet_name = 'Site Info', index=False)\n",
    "dfSiteNames.to_excel(writer, sheet_name = 'Site Info', startcol = 3,index=False)\n",
    "dfStructureInfo.to_excel(writer, sheet_name = 'Site Info',startcol = 5, index=False)\n",
    "\n",
    "\n",
    "# load the Excel file with openpyxl\n",
    "workbook = writer.book\n",
    "\n",
    "for sheet in workbook:\n",
    "    for column in range(1, sheet.max_column + 2):\n",
    "        letter = get_column_letter(column)\n",
    "        #sheet.column_dimensions[letter].auto_size = True\n",
    "        sheet.column_dimensions[letter].bestFit = True\n",
    "\n",
    "# save the modified workbook\n",
    "workbook.save(path)"
   ]
  },
  {
   "cell_type": "code",
   "execution_count": 24,
   "id": "0fc9c891",
   "metadata": {},
   "outputs": [
    {
     "name": "stderr",
     "output_type": "stream",
     "text": [
      "C:\\Users\\Mewtwo\\anaconda3\\lib\\site-packages\\ipykernel_launcher.py:5: FutureWarning: The default value of regex will change from True to False in a future version.\n",
      "  \"\"\"\n"
     ]
    }
   ],
   "source": [
    "#display( HTML( df.to_html().replace(\"\\\\n\",\"<br><li type='1'>\") ) )\n",
    "EquipmentList_final['Power (W)'] = EquipmentList_final['Power (W)'].str.replace(r'\\n','<br>', regex=True)\n",
    "#EquipmentList_final['System/Sector'] = EquipmentList_final['System/Sector'].str.replace((r'\\n','<br>', regex=True)\n",
    "\n",
    "EquipmentList_final['System/Sector'] = EquipmentList_final['System/Sector'].str.replace(r'\\n','&#10;')\n",
    "\n",
    "#EquipmentList_final.to_html(r'C:\\Users\\Mewtwo\\Desktop\\EMEGList.html', index=False)\n",
    "#dfAntennaSettings.to_html(r'C:\\Users\\Mewtwo\\Desktop\\Antennadata.html', index=False)\n",
    "#df3.to_html(r'C:\\Users\\Mewtwo\\Desktop\\Antennadata2.html',index=False)\n",
    "#df.to_html(r'C:\\Users\\Mewtwo\\Desktop\\Antennadata3.html', columns = ['ID','EDT','Tech','Possible Ports','WhereToAddPower','Powers (W)','Assess Freq','Notes'], index=False)\n",
    "\n",
    "#df.to_html(r'C:\\Users\\Mewtwo\\Desktop\\Antennadata4.html',columns = ['ID','EDT','Sector','WhereToAddPower','Powers (W)'],index=False)\n",
    "#import subprocess\n",
    "#subprocess.call('wkhtmltoimage -f png --width 0 Antennadata.html Antennadata.png', shell=True)\n"
   ]
  },
  {
   "cell_type": "code",
   "execution_count": 25,
   "id": "4c7789f3",
   "metadata": {},
   "outputs": [],
   "source": [
    "\n",
    "for sheetname in workbook.sheetnames:\n",
    "    worksheet = workbook[sheetname]\n",
    "\n",
    "    # set best fit attribute to true for all columns\n",
    "    for column_cells in worksheet.columns:\n",
    "        length = max(len(str(cell.value)) for cell in column_cells)\n",
    "        worksheet.column_dimensions[column_cells[0].column_letter].width = length + 5\n",
    "        worksheet.column_dimensions[column_cells[0].column_letter].bestFit = True\n",
    "\n",
    "worksheet = workbook.active\n",
    "\n",
    "# set the width of column A to 15\n",
    "column_letter = get_column_letter(1)  # A\n",
    "column_dimension = worksheet.column_dimensions[column_letter]\n",
    "column_dimension.width = 15\n",
    "column_dimension.bestFit = True\n"
   ]
  },
  {
   "cell_type": "code",
   "execution_count": 26,
   "id": "23d17a31",
   "metadata": {},
   "outputs": [],
   "source": [
    "#with open(\"C:\\\\Users\\\\Mewtwo\\\\Downloads\\\\RFNSA Scrapper_V2.html\", encoding=\"utf8\") as html_file:\n",
    "#    content = html_file.read()\n",
    "\n",
    "# Get rid off prompts and source code\n",
    "#content = content.replace(\"div.input_area {\",\"div.input_area {\\n\\tdisplay: none;\")    \n",
    "#content = content.replace(\".prompt {\",\".prompt {\\n\\tdisplay: none;\")\n",
    "\n",
    "#f = open(FILE, 'w')\n",
    "#f.write(content)\n",
    "#f.close()"
   ]
  },
  {
   "cell_type": "code",
   "execution_count": 27,
   "id": "032049c9",
   "metadata": {},
   "outputs": [],
   "source": [
    "#jupyter nbconvert --to pdf 'RFNSA Scrapper_V2.ipynb' --template=hidecode.tplx\n"
   ]
  }
 ],
 "metadata": {
  "kernelspec": {
   "display_name": "Python 3",
   "language": "python",
   "name": "python3"
  },
  "language_info": {
   "codemirror_mode": {
    "name": "ipython",
    "version": 3
   },
   "file_extension": ".py",
   "mimetype": "text/x-python",
   "name": "python",
   "nbconvert_exporter": "python",
   "pygments_lexer": "ipython3",
   "version": "3.7.16"
  }
 },
 "nbformat": 4,
 "nbformat_minor": 5
}
