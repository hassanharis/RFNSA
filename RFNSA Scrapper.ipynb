{
 "cells": [
  {
   "cell_type": "markdown",
   "id": "fc11cf88",
   "metadata": {},
   "source": [
    "# RFNSA Antenna Details\n",
    "##### ©Haris Hassan\n"
   ]
  },
  {
   "cell_type": "code",
   "execution_count": 1,
   "id": "b177ee9f",
   "metadata": {},
   "outputs": [],
   "source": [
    "################ Import Libraries ################\n",
    "import sys\n",
    "#!conda install --yes --prefix {sys.prefix} natsort\n",
    "from IPython import get_ipython;\n",
    "#from natsort import index_natsorted\n",
    "get_ipython().magic('reset -sf')\n",
    "import pandas as pd\n",
    "pd.set_option('display.max_colwidth', None)\n",
    "from IPython.display import display, HTML\n",
    "import re\n",
    "import math\n",
    "import numpy as np\n",
    "from itertools import count\n",
    "class text_format:\n",
    "   PURPLE = '\\033[95m'\n",
    "   CYAN = '\\033[96m'\n",
    "   DARKCYAN = '\\033[36m'\n",
    "   BLUE = '\\033[94m'\n",
    "   GREEN = '\\033[92m'\n",
    "   YELLOW = '\\033[93m'\n",
    "   RED = '\\033[91m'\n",
    "   BOLD = '\\033[1m'\n",
    "   UNDERLINE = '\\033[4m'\n",
    "   END = '\\033[0m'\n",
    "    \n",
    "# Function to convert from mW to dBm\n",
    "def W2dBm(mW):\n",
    "    return 10.*log10(mW) + 30\n",
    "\n",
    "\n",
    "# Function to convert from dBm to mW\n",
    "def dBm2W(dBm):\n",
    "    return 10**((dBm-30)/10.)\n",
    "\n",
    "################################################"
   ]
  },
  {
   "cell_type": "code",
   "execution_count": 2,
   "id": "2e71d00d",
   "metadata": {},
   "outputs": [],
   "source": [
    "################### Replace with path to your excel file. \n",
    "data = pd.read_excel(r'C:\\Users\\Mewtwo\\Downloads\\New Microsoft Excel Worksheet.xlsx')\n",
    "data.fillna(value = 0,inplace = True)\n",
    "\n",
    "#Height - Phase Centre (m)\tMount Height (m)\n",
    "MountHeight = []\n",
    "for l, m in zip(data['Height - Phase Centre (m)'], data['Mount Height (m)']):\n",
    "    if m == 0:\n",
    "        MountHeight.append(l)\n",
    "    else:\n",
    "        MountHeight.append(m)\n",
    "data['Height'] = MountHeight\n",
    "#remove the proposed Antennas\n",
    "data = data.drop(data[data['Existing/Proposed'] == 'Proposed'].index)\n",
    "data = data.reset_index(drop=True)"
   ]
  },
  {
   "cell_type": "code",
   "execution_count": 3,
   "id": "9ee4ffcf",
   "metadata": {},
   "outputs": [],
   "source": [
    "################ Create the dataframe from meaningful columns of STAD table and rename the columns ################\n",
    "df = pd.DataFrame(data, columns=['Antenna ID No','Add ID','Antenna Model','Sector','Height'\n",
    "                                 ,'Bearing Degrees (true)',\n",
    "                                 'Mech Downtilt','Elect Downtilt','System',\n",
    "                                 'Port Number (Band Power per Port (dBm))','Band Power per Port (dBm)','Notes'])\n",
    "df = df.rename(columns={'Antenna Model': 'Antenna', 'Antenna ID No': 'ID', 'Bearing Degrees (true)': 'Bearing'\n",
    "                  , 'Mech Downtilt': 'MDT', 'Elect Downtilt': 'EDT', \n",
    "                   'Port Number (Band Power per Port (dBm))': 'Possible Ports', \n",
    "                   'Band Power per Port (dBm)': 'Powers'})\n",
    "\n",
    "df.fillna(value = 0,inplace = True)\n",
    "df = df.reset_index(drop=True)\n"
   ]
  },
  {
   "cell_type": "code",
   "execution_count": 4,
   "id": "1824a2fc",
   "metadata": {},
   "outputs": [
    {
     "data": {
      "text/html": [
       "<div>\n",
       "<style scoped>\n",
       "    .dataframe tbody tr th:only-of-type {\n",
       "        vertical-align: middle;\n",
       "    }\n",
       "\n",
       "    .dataframe tbody tr th {\n",
       "        vertical-align: top;\n",
       "    }\n",
       "\n",
       "    .dataframe thead th {\n",
       "        text-align: right;\n",
       "    }\n",
       "</style>\n",
       "<table border=\"1\" class=\"dataframe\">\n",
       "  <thead>\n",
       "    <tr style=\"text-align: right;\">\n",
       "      <th></th>\n",
       "      <th>NSA</th>\n",
       "      <th>Region</th>\n",
       "      <th>Coordinates</th>\n",
       "    </tr>\n",
       "  </thead>\n",
       "  <tbody>\n",
       "    <tr>\n",
       "      <th>0</th>\n",
       "      <td>2795001</td>\n",
       "      <td>NSW</td>\n",
       "      <td>-33.45006, 149.547</td>\n",
       "    </tr>\n",
       "  </tbody>\n",
       "</table>\n",
       "</div>"
      ],
      "text/plain": [
       "       NSA Region         Coordinates\n",
       "0  2795001    NSW  -33.45006, 149.547"
      ]
     },
     "metadata": {},
     "output_type": "display_data"
    },
    {
     "data": {
      "text/html": [
       "<div>\n",
       "<style scoped>\n",
       "    .dataframe tbody tr th:only-of-type {\n",
       "        vertical-align: middle;\n",
       "    }\n",
       "\n",
       "    .dataframe tbody tr th {\n",
       "        vertical-align: top;\n",
       "    }\n",
       "\n",
       "    .dataframe thead th {\n",
       "        text-align: right;\n",
       "    }\n",
       "</style>\n",
       "<table border=\"1\" class=\"dataframe\">\n",
       "  <thead>\n",
       "    <tr style=\"text-align: right;\">\n",
       "      <th></th>\n",
       "      <th>Site Name</th>\n",
       "      <th>Operator</th>\n",
       "    </tr>\n",
       "  </thead>\n",
       "  <tbody>\n",
       "    <tr>\n",
       "      <th>0</th>\n",
       "      <td>Bathurst</td>\n",
       "      <td>Optus</td>\n",
       "    </tr>\n",
       "    <tr>\n",
       "      <th>38</th>\n",
       "      <td>Bathurst</td>\n",
       "      <td>Vodafone</td>\n",
       "    </tr>\n",
       "    <tr>\n",
       "      <th>62</th>\n",
       "      <td>Mt. Panorama / Wahluu</td>\n",
       "      <td>NSW Government - Telco Authority</td>\n",
       "    </tr>\n",
       "    <tr>\n",
       "      <th>65</th>\n",
       "      <td>Mt Panorama</td>\n",
       "      <td>NBN Co</td>\n",
       "    </tr>\n",
       "  </tbody>\n",
       "</table>\n",
       "</div>"
      ],
      "text/plain": [
       "                Site Name                          Operator\n",
       "0                Bathurst                             Optus\n",
       "38               Bathurst                          Vodafone\n",
       "62  Mt. Panorama / Wahluu  NSW Government - Telco Authority\n",
       "65            Mt Panorama                            NBN Co"
      ]
     },
     "metadata": {},
     "output_type": "display_data"
    },
    {
     "data": {
      "text/html": [
       "<div>\n",
       "<style scoped>\n",
       "    .dataframe tbody tr th:only-of-type {\n",
       "        vertical-align: middle;\n",
       "    }\n",
       "\n",
       "    .dataframe tbody tr th {\n",
       "        vertical-align: top;\n",
       "    }\n",
       "\n",
       "    .dataframe thead th {\n",
       "        text-align: right;\n",
       "    }\n",
       "</style>\n",
       "<table border=\"1\" class=\"dataframe\">\n",
       "  <thead>\n",
       "    <tr style=\"text-align: right;\">\n",
       "      <th></th>\n",
       "      <th>Structure Owner</th>\n",
       "      <th>Structure</th>\n",
       "    </tr>\n",
       "  </thead>\n",
       "  <tbody>\n",
       "    <tr>\n",
       "      <th>0</th>\n",
       "      <td>Axicom</td>\n",
       "      <td>Structure 1: 47.8m Lattice Tower</td>\n",
       "    </tr>\n",
       "  </tbody>\n",
       "</table>\n",
       "</div>"
      ],
      "text/plain": [
       "  Structure Owner                         Structure\n",
       "0          Axicom  Structure 1: 47.8m Lattice Tower"
      ]
     },
     "metadata": {},
     "output_type": "display_data"
    }
   ],
   "source": [
    "#dfSiteInfo = pd.DataFrame(data, columns=['Structure Owner','Latitude', 'Longitude', 'Region', 'Structure',\n",
    "#                                         'Site System (Structure No)','NSA','Site Name'])\n",
    "dfSiteInfo = pd.DataFrame(data, columns=['NSA','Latitude', 'Longitude', 'Region'])\n",
    "dfSiteInfo['Coordinates'] = dfSiteInfo.apply(lambda row: str(row['Latitude']) + ', ' + str(row['Longitude']), axis=1)\n",
    "dfSiteInfo = dfSiteInfo.drop('Latitude', axis=1)\n",
    "dfSiteInfo = dfSiteInfo.drop('Longitude', axis=1)\n",
    "\n",
    "dfStructureInfo = pd.DataFrame(data, columns=['Structure Owner','Structure',\n",
    "                                         'Site System (Structure No)',])\n",
    "dfSiteNames = pd.DataFrame(data, columns=['System','Site Name'])\n",
    "dfSiteNames['Operator'] = dfSiteNames['System'].str.split(\" /\").str[0]\n",
    "dfSiteNames = dfSiteNames.drop('System', axis=1)\n",
    "dfSiteNames['Site Name']=dfSiteNames['Site Name'].apply(lambda x: x.title())\n",
    "\n",
    "dfStructureInfo['Structure'] = ['Structure ' +f'{l}' + ': ' + ''.join(''.join(map(str, m))) for l, m in zip(dfStructureInfo['Site System (Structure No)'],dfStructureInfo['Structure'])]\n",
    "dfStructureInfo = dfStructureInfo.drop('Site System (Structure No)', axis=1)\n",
    "\n",
    "\n",
    "dfSiteNames = dfSiteNames.drop_duplicates(keep='first')\n",
    "dfSiteInfo = dfSiteInfo.drop_duplicates(keep='first')\n",
    "dfStructureInfo = dfStructureInfo.drop_duplicates(keep='first')\n",
    "\n",
    "display(dfSiteInfo)\n",
    "display(dfSiteNames)\n",
    "display(dfStructureInfo)"
   ]
  },
  {
   "cell_type": "code",
   "execution_count": 5,
   "id": "0af49bc4",
   "metadata": {},
   "outputs": [],
   "source": [
    "AntennasUnique = list( dict.fromkeys(df['Antenna']) )\n",
    "#AntennasUnique = sorted(AntennasUnique, key=lambda x: int(re.search('\\d+', x).group(0)))\n",
    "#display(AntennasUnique)\n",
    "IDUnique = list( dict.fromkeys(df['ID'],df['Antenna']) )\n",
    "#Special and Unique function to sort the ids string universally\n",
    "#IDUnique = sorted(IDUnique, key=lambda x: (2,int(x)) if re.search('^\\d+$', x) else (1,int(re.search('\\d+', x).group(0))) if re.search('\\d+$', x) else (0, x))"
   ]
  },
  {
   "cell_type": "code",
   "execution_count": 6,
   "id": "0799640f",
   "metadata": {},
   "outputs": [],
   "source": [
    "# Extracting Carrier (optus, telstra, Vodafone), technology/Frequency (i.e LTE900, NR2100, WCDMA850) information from System \n",
    "\n",
    "df['System'] = df['System'].str.replace(' - LOCKED', '', regex=True)\n",
    "df['System'] = df['System'].str.replace('[Macro]', '', regex=False)\n",
    "df['System'] = df['System'].str.replace(' \\[', ';', regex=True)\n",
    "df['System'] = df['System'].str.replace('/', ';', 1, regex=True)\n",
    "df['Operator'] = df['System'].str.split(\" ;\").str[0]"
   ]
  },
  {
   "cell_type": "code",
   "execution_count": 7,
   "id": "e17fa599",
   "metadata": {},
   "outputs": [],
   "source": [
    "#display(df.loc[(df['Antenna'] == 'RV4PX310R') &  (df['ID'] == '21-J'), {'ID','MDT'}])"
   ]
  },
  {
   "cell_type": "code",
   "execution_count": 8,
   "id": "f4dc2c61",
   "metadata": {},
   "outputs": [],
   "source": [
    "Carriers=[]\n",
    "for idx in IDUnique:\n",
    "    multicarrier = []\n",
    "    counter = 0\n",
    "    #display(df.loc[df['ID'] == idx, {'Antenna','System','Carrier','Tech'}])\n",
    "    for x in df.loc[df['ID'] == idx, 'Operator']:\n",
    "        multicarrier.append(x)\n",
    "        counter +=1\n",
    "        #display(idx)\n",
    "        #display(x)\n",
    "    for c in range(counter):\n",
    "        Carriers.append('/'.join(list( dict.fromkeys(multicarrier))))\n",
    "df['Carrier'] = Carriers"
   ]
  },
  {
   "cell_type": "code",
   "execution_count": 9,
   "id": "73030d67",
   "metadata": {},
   "outputs": [],
   "source": [
    "#df['Tech'] = df['System'].str.split(\";\").str[1]\n",
    "tech = []\n",
    "df['Tech'] = df['System'].str.split(\";\").str[1]\n",
    "for x, y in enumerate(df['Carrier']):\n",
    "    if '/' in y:\n",
    "        tech.append(''.join(df['System'][x].split(\";\")))\n",
    "    else:\n",
    "        tech.append(df['System'][x].split(\";\")[1])\n",
    "        \n",
    "df['Tech'] = tech"
   ]
  },
  {
   "cell_type": "code",
   "execution_count": 10,
   "id": "5fe4cc13",
   "metadata": {},
   "outputs": [],
   "source": [
    "\n",
    "df[\"sorter\"] =  df[\"Carrier\"] + df[\"ID\"].astype(str)\n",
    "df = df.iloc[df['sorter'].astype(str).apply(lambda x: (2, int(x)) if re.search('^\\d+$', x) else (1, int(re.search('\\d+', x).group(0))) if re.search('\\d+$', x) else (0, x)).argsort()]\n",
    "df = df.reset_index(drop=True)\n",
    "df.index += 1\n",
    "\n",
    "AntennasUnique = list( dict.fromkeys(df['Antenna']) )\n",
    "#AntennasUnique = sorted(AntennasUnique, key=lambda x: int(re.search('\\d+', x).group(0)))\n",
    "#display(AntennasUnique)\n",
    "IDUnique = list( dict.fromkeys(df['ID'],df['Antenna']) )\n",
    "#Special and Unique function to sort the ids string universally\n",
    "#IDUnique = sorted(IDUnique, key=lambda x: (2,int(x)) if re.search('^\\d+$', x) else (1,int(re.search('\\d+', x).group(0))) if re.search('\\d+$', x) else (0, x))\n",
    "AntennaIds = {}\n",
    "for antenna in AntennasUnique:\n",
    "    IdsForAntenna = list(dict.fromkeys(df.loc[df['Antenna'] == antenna, 'ID']))\n",
    "    AntennaIds[antenna] = IdsForAntenna\n",
    "    \n",
    "#df = df.iloc[index_natsorted(df.sorter)]\n",
    "# Sorting the STAD dataframe to match with RFNSA\n",
    "#df.index = df['sorter'].str.replace('[a-zA-Z]+','.').astype(float)\n",
    "#df = df.sort_index().reset_index(drop=True)\n",
    "#df.sort_values('sorter',key=lambda x: (2,int(x)) if re.search('^\\d+$', x) else (1,int(re.search('\\d+', x).group(0))) if re.search('\\d+$', x) else (0, x))\n",
    "#IDUnique = sorted(IDUnique, key=lambda x: (2,int(x)) if re.search('^\\d+$', x) else (1,int(re.search('\\d+', x).group(0))) if re.search('\\d+$', x) else (0, x))\n",
    "#df.sort_values(by=['sorter'], ascending=[True], inplace = True)\n",
    "#df.sort_values(by=['Carrier','ID'], ascending=[True, True], inplace = True)\n",
    "#Reset index of dataframe after sorting and start from 1\n",
    "\n",
    "\n",
    "#Count the total ports of each antenna\n",
    "df['Total Ports'] = df['Powers'].str.count(';')\n",
    "df.fillna(value = 0,inplace = True)\n",
    "df['Total Ports'] = df['Total Ports'] + 1\n",
    "df['Total Ports'] = list(x for x in df['Total Ports'])\n",
    "\n",
    "#Format/Clean the Data\n",
    "df['EDT'] = df['EDT'].str.replace(' to ', '-', regex=True)\n",
    "df['EDT'] = df['EDT'].str.replace(r'\\(.*\\)','', regex=True)\n",
    "df['Sector'] = df['Sector'].astype(str).replace('\\.0', '', regex=True)\n",
    "df['System/Sector']= [''.join(''.join(map(str, m))+' - Sector ' +f'{l}') for l, m in zip(df['Sector'],df['Tech'])]\n",
    "\n",
    "#Correcting microwavelinks\n",
    "templist = []\n",
    "for x in df['Powers']:\n",
    "    if ';' not in str(x):\n",
    "        templist.append(str(x)+';')\n",
    "    else:\n",
    "        templist.append(str(x))        \n",
    "df['Powers'] = templist"
   ]
  },
  {
   "cell_type": "code",
   "execution_count": 11,
   "id": "6a528be2",
   "metadata": {},
   "outputs": [],
   "source": [
    "# Find the sectors\n",
    "Sectors = []\n",
    "for idx in IDUnique:\n",
    "    Sectorstemp = []\n",
    "    counter = 0\n",
    "    for x in df.loc[df['ID'] == idx, 'Sector']:\n",
    "        Sectorstemp.append(str(x))\n",
    "        counter +=1\n",
    "        #display(idx)\n",
    "    for c in range(counter):\n",
    "        Sectors.append(', '.join(list( dict.fromkeys(Sectorstemp))))\n",
    "df['Sectors'] = Sectors"
   ]
  },
  {
   "cell_type": "code",
   "execution_count": 12,
   "id": "0f0c83fb",
   "metadata": {},
   "outputs": [],
   "source": [
    "### Convert te Power(dBm) into Watts\n",
    "temp_power = []\n",
    "for elm in df['Powers'].str.split(\";\"):\n",
    "    if isinstance(elm, (list, tuple)):\n",
    "        elm = [x for x in elm if x != '']  # Remove any empty strings from the list\n",
    "        converted_values = []\n",
    "        for sub in elm:\n",
    "            if float(sub) >= 30:\n",
    "                try:\n",
    "                    converted_values.append(round(dBm2W(float(sub)),1))\n",
    "                except ValueError:\n",
    "                    converted_values.append(sub)\n",
    "                    pass  # Skip the current value if it cannot be converted to a float\n",
    "            else:\n",
    "                 try:\n",
    "                    converted_values.append(round(dBm2W(float(sub)),4))\n",
    "                 except ValueError:\n",
    "                    converted_values.append(sub)\n",
    "                    pass  # Skip the current value if it cannot be converted to a float\n",
    "        temp_power.append(converted_values)\n",
    "    else:\n",
    "        try:\n",
    "            temp_power.append([dBm2W(float(elm))])\n",
    "        except ValueError:\n",
    "            temp_power.append([])\n",
    "\n",
    "df['Powers (W)'] = temp_power"
   ]
  },
  {
   "cell_type": "code",
   "execution_count": 13,
   "id": "93563635",
   "metadata": {},
   "outputs": [
    {
     "data": {
      "text/html": [
       "<div>\n",
       "<style scoped>\n",
       "    .dataframe tbody tr th:only-of-type {\n",
       "        vertical-align: middle;\n",
       "    }\n",
       "\n",
       "    .dataframe tbody tr th {\n",
       "        vertical-align: top;\n",
       "    }\n",
       "\n",
       "    .dataframe thead th {\n",
       "        text-align: right;\n",
       "    }\n",
       "</style>\n",
       "<table border=\"1\" class=\"dataframe\">\n",
       "  <thead>\n",
       "    <tr style=\"text-align: right;\">\n",
       "      <th></th>\n",
       "      <th>ID</th>\n",
       "      <th>Add ID</th>\n",
       "      <th>Antenna</th>\n",
       "      <th>Sector</th>\n",
       "      <th>Height</th>\n",
       "      <th>Bearing</th>\n",
       "      <th>MDT</th>\n",
       "      <th>EDT</th>\n",
       "      <th>System</th>\n",
       "      <th>Possible Ports</th>\n",
       "      <th>Powers</th>\n",
       "      <th>Notes</th>\n",
       "      <th>Operator</th>\n",
       "      <th>Carrier</th>\n",
       "      <th>Tech</th>\n",
       "      <th>sorter</th>\n",
       "      <th>Total Ports</th>\n",
       "      <th>System/Sector</th>\n",
       "      <th>Sectors</th>\n",
       "      <th>Powers (W)</th>\n",
       "    </tr>\n",
       "  </thead>\n",
       "  <tbody>\n",
       "    <tr>\n",
       "      <th>1</th>\n",
       "      <td>A</td>\n",
       "      <td>2BTH-51-08-MPRP</td>\n",
       "      <td>UKY 220 28/DC15</td>\n",
       "      <td>0</td>\n",
       "      <td>38.85</td>\n",
       "      <td>208</td>\n",
       "      <td>0</td>\n",
       "      <td>0</td>\n",
       "      <td>NBN Co ; Microwave Link</td>\n",
       "      <td>0</td>\n",
       "      <td>25;25</td>\n",
       "      <td>NBN Co. Microwave Link Configuration(R01)</td>\n",
       "      <td>NBN Co</td>\n",
       "      <td>NBN Co</td>\n",
       "      <td>Microwave Link</td>\n",
       "      <td>NBN CoA</td>\n",
       "      <td>2.0</td>\n",
       "      <td>Microwave Link - Sector 0</td>\n",
       "      <td>0</td>\n",
       "      <td>[0.3162, 0.3162]</td>\n",
       "    </tr>\n",
       "    <tr>\n",
       "      <th>2</th>\n",
       "      <td>GRNA01L</td>\n",
       "      <td>201251</td>\n",
       "      <td>BA80-67 2X4</td>\n",
       "      <td>0</td>\n",
       "      <td>48.60</td>\n",
       "      <td>0</td>\n",
       "      <td>0</td>\n",
       "      <td>0</td>\n",
       "      <td>NSW Government - Telco Authority ; Gov. Radio Network</td>\n",
       "      <td>0</td>\n",
       "      <td>48.82;</td>\n",
       "      <td>0</td>\n",
       "      <td>NSW Government - Telco Authority</td>\n",
       "      <td>NSW Government - Telco Authority</td>\n",
       "      <td>Gov. Radio Network</td>\n",
       "      <td>NSW Government - Telco AuthorityGRNA01L</td>\n",
       "      <td>1.0</td>\n",
       "      <td>Gov. Radio Network - Sector 0</td>\n",
       "      <td>0</td>\n",
       "      <td>[76.2]</td>\n",
       "    </tr>\n",
       "    <tr>\n",
       "      <th>3</th>\n",
       "      <td>GRNA01U</td>\n",
       "      <td>201251</td>\n",
       "      <td>BA80-67 2X4</td>\n",
       "      <td>0</td>\n",
       "      <td>51.60</td>\n",
       "      <td>0</td>\n",
       "      <td>0</td>\n",
       "      <td>0</td>\n",
       "      <td>NSW Government - Telco Authority ; Gov. Radio Network</td>\n",
       "      <td>0</td>\n",
       "      <td>0;</td>\n",
       "      <td>0</td>\n",
       "      <td>NSW Government - Telco Authority</td>\n",
       "      <td>NSW Government - Telco Authority</td>\n",
       "      <td>Gov. Radio Network</td>\n",
       "      <td>NSW Government - Telco AuthorityGRNA01U</td>\n",
       "      <td>1.0</td>\n",
       "      <td>Gov. Radio Network - Sector 0</td>\n",
       "      <td>0</td>\n",
       "      <td>[0.001]</td>\n",
       "    </tr>\n",
       "    <tr>\n",
       "      <th>4</th>\n",
       "      <td>11-O</td>\n",
       "      <td>S0120</td>\n",
       "      <td>R2V4PX310R</td>\n",
       "      <td>1</td>\n",
       "      <td>46.61</td>\n",
       "      <td>0</td>\n",
       "      <td>0</td>\n",
       "      <td>0-10</td>\n",
       "      <td>Optus ; WCDMA2100</td>\n",
       "      <td>5;6;7;8;9;10;11;12</td>\n",
       "      <td>;;;;43;;;;;;;</td>\n",
       "      <td>OPTUS RANCAP: TU, RFU Solution, FY21 power config;</td>\n",
       "      <td>Optus</td>\n",
       "      <td>Optus</td>\n",
       "      <td>WCDMA2100</td>\n",
       "      <td>Optus11-O</td>\n",
       "      <td>12.0</td>\n",
       "      <td>WCDMA2100  - Sector 1</td>\n",
       "      <td>1</td>\n",
       "      <td>[20.0]</td>\n",
       "    </tr>\n",
       "    <tr>\n",
       "      <th>5</th>\n",
       "      <td>11-O</td>\n",
       "      <td>S0120</td>\n",
       "      <td>R2V4PX310R</td>\n",
       "      <td>1</td>\n",
       "      <td>46.61</td>\n",
       "      <td>0</td>\n",
       "      <td>0</td>\n",
       "      <td>0-10</td>\n",
       "      <td>Optus ; WCDMA900</td>\n",
       "      <td>1;2;3;4</td>\n",
       "      <td>;;46;;;;;;;;;</td>\n",
       "      <td>OPTUS RANCAP: U900, RFU Solution, FY21 power config;</td>\n",
       "      <td>Optus</td>\n",
       "      <td>Optus</td>\n",
       "      <td>WCDMA900</td>\n",
       "      <td>Optus11-O</td>\n",
       "      <td>12.0</td>\n",
       "      <td>WCDMA900  - Sector 1</td>\n",
       "      <td>1</td>\n",
       "      <td>[39.8]</td>\n",
       "    </tr>\n",
       "    <tr>\n",
       "      <th>...</th>\n",
       "      <td>...</td>\n",
       "      <td>...</td>\n",
       "      <td>...</td>\n",
       "      <td>...</td>\n",
       "      <td>...</td>\n",
       "      <td>...</td>\n",
       "      <td>...</td>\n",
       "      <td>...</td>\n",
       "      <td>...</td>\n",
       "      <td>...</td>\n",
       "      <td>...</td>\n",
       "      <td>...</td>\n",
       "      <td>...</td>\n",
       "      <td>...</td>\n",
       "      <td>...</td>\n",
       "      <td>...</td>\n",
       "      <td>...</td>\n",
       "      <td>...</td>\n",
       "      <td>...</td>\n",
       "      <td>...</td>\n",
       "    </tr>\n",
       "    <tr>\n",
       "      <th>73</th>\n",
       "      <td>3</td>\n",
       "      <td>2BTH-51-08-MPRP</td>\n",
       "      <td>LLPX310R</td>\n",
       "      <td>3</td>\n",
       "      <td>43.50</td>\n",
       "      <td>170</td>\n",
       "      <td>0</td>\n",
       "      <td>0-10</td>\n",
       "      <td>NBN Co ; LTE2300</td>\n",
       "      <td>1;2;3;4</td>\n",
       "      <td>46;46;;</td>\n",
       "      <td>NBN Co. LTE2300 Configuration(R01)</td>\n",
       "      <td>NBN Co</td>\n",
       "      <td>NBN Co</td>\n",
       "      <td>LTE2300</td>\n",
       "      <td>NBN Co3</td>\n",
       "      <td>4.0</td>\n",
       "      <td>LTE2300  - Sector 3</td>\n",
       "      <td>3</td>\n",
       "      <td>[39.8, 39.8]</td>\n",
       "    </tr>\n",
       "    <tr>\n",
       "      <th>74</th>\n",
       "      <td>4</td>\n",
       "      <td>2BTH-51-08-MPRP</td>\n",
       "      <td>LLPX210R-V1</td>\n",
       "      <td>4</td>\n",
       "      <td>43.50</td>\n",
       "      <td>80</td>\n",
       "      <td>0</td>\n",
       "      <td>0-10</td>\n",
       "      <td>NBN Co ; LTE2300</td>\n",
       "      <td>1;2;3;4</td>\n",
       "      <td>46;46;;</td>\n",
       "      <td>NBN Co. LTE2300 Configuration(R01)</td>\n",
       "      <td>NBN Co</td>\n",
       "      <td>NBN Co</td>\n",
       "      <td>LTE2300</td>\n",
       "      <td>NBN Co4</td>\n",
       "      <td>4.0</td>\n",
       "      <td>LTE2300  - Sector 4</td>\n",
       "      <td>4</td>\n",
       "      <td>[39.8, 39.8]</td>\n",
       "    </tr>\n",
       "    <tr>\n",
       "      <th>75</th>\n",
       "      <td>5</td>\n",
       "      <td>2BTH-51-08-MPRP</td>\n",
       "      <td>LLPX310R</td>\n",
       "      <td>5</td>\n",
       "      <td>43.50</td>\n",
       "      <td>130</td>\n",
       "      <td>0</td>\n",
       "      <td>0-10</td>\n",
       "      <td>NBN Co ; LTE2300</td>\n",
       "      <td>1;2;3;4</td>\n",
       "      <td>46;46;;</td>\n",
       "      <td>NBN Co. LTE2300 Configuration(R01)</td>\n",
       "      <td>NBN Co</td>\n",
       "      <td>NBN Co</td>\n",
       "      <td>LTE2300</td>\n",
       "      <td>NBN Co5</td>\n",
       "      <td>4.0</td>\n",
       "      <td>LTE2300  - Sector 5</td>\n",
       "      <td>5</td>\n",
       "      <td>[39.8, 39.8]</td>\n",
       "    </tr>\n",
       "    <tr>\n",
       "      <th>76</th>\n",
       "      <td>5</td>\n",
       "      <td>2BTH-51-08-MPRP</td>\n",
       "      <td>LLPX310R</td>\n",
       "      <td>5</td>\n",
       "      <td>43.50</td>\n",
       "      <td>130</td>\n",
       "      <td>0</td>\n",
       "      <td>0-10</td>\n",
       "      <td>NBN Co ; LTE2300</td>\n",
       "      <td>1;2;3;4</td>\n",
       "      <td>;;46;46</td>\n",
       "      <td>NBN Co. LTE2300 Configuration(R01)</td>\n",
       "      <td>NBN Co</td>\n",
       "      <td>NBN Co</td>\n",
       "      <td>LTE2300</td>\n",
       "      <td>NBN Co5</td>\n",
       "      <td>4.0</td>\n",
       "      <td>LTE2300  - Sector 5</td>\n",
       "      <td>5</td>\n",
       "      <td>[39.8, 39.8]</td>\n",
       "    </tr>\n",
       "    <tr>\n",
       "      <th>77</th>\n",
       "      <td>6</td>\n",
       "      <td>2BTH-51-08-MPRP</td>\n",
       "      <td>LLPX310R</td>\n",
       "      <td>6</td>\n",
       "      <td>43.50</td>\n",
       "      <td>260</td>\n",
       "      <td>0</td>\n",
       "      <td>0-10</td>\n",
       "      <td>NBN Co ; LTE2300</td>\n",
       "      <td>1;2;3;4</td>\n",
       "      <td>46;46;;</td>\n",
       "      <td>NBN Co. LTE2300 Configuration(R01)</td>\n",
       "      <td>NBN Co</td>\n",
       "      <td>NBN Co</td>\n",
       "      <td>LTE2300</td>\n",
       "      <td>NBN Co6</td>\n",
       "      <td>4.0</td>\n",
       "      <td>LTE2300  - Sector 6</td>\n",
       "      <td>6</td>\n",
       "      <td>[39.8, 39.8]</td>\n",
       "    </tr>\n",
       "  </tbody>\n",
       "</table>\n",
       "<p>77 rows × 20 columns</p>\n",
       "</div>"
      ],
      "text/plain": [
       "         ID           Add ID          Antenna Sector  Height  Bearing  MDT  \\\n",
       "1         A  2BTH-51-08-MPRP  UKY 220 28/DC15      0   38.85      208    0   \n",
       "2   GRNA01L           201251      BA80-67 2X4      0   48.60        0    0   \n",
       "3   GRNA01U           201251      BA80-67 2X4      0   51.60        0    0   \n",
       "4      11-O            S0120       R2V4PX310R      1   46.61        0    0   \n",
       "5      11-O            S0120       R2V4PX310R      1   46.61        0    0   \n",
       "..      ...              ...              ...    ...     ...      ...  ...   \n",
       "73        3  2BTH-51-08-MPRP         LLPX310R      3   43.50      170    0   \n",
       "74        4  2BTH-51-08-MPRP      LLPX210R-V1      4   43.50       80    0   \n",
       "75        5  2BTH-51-08-MPRP         LLPX310R      5   43.50      130    0   \n",
       "76        5  2BTH-51-08-MPRP         LLPX310R      5   43.50      130    0   \n",
       "77        6  2BTH-51-08-MPRP         LLPX310R      6   43.50      260    0   \n",
       "\n",
       "      EDT                                                 System  \\\n",
       "1      0                                 NBN Co ; Microwave Link   \n",
       "2      0   NSW Government - Telco Authority ; Gov. Radio Network   \n",
       "3      0   NSW Government - Telco Authority ; Gov. Radio Network   \n",
       "4   0-10                                      Optus ; WCDMA2100    \n",
       "5   0-10                                       Optus ; WCDMA900    \n",
       "..    ...                                                    ...   \n",
       "73  0-10                                       NBN Co ; LTE2300    \n",
       "74  0-10                                       NBN Co ; LTE2300    \n",
       "75  0-10                                       NBN Co ; LTE2300    \n",
       "76  0-10                                       NBN Co ; LTE2300    \n",
       "77  0-10                                       NBN Co ; LTE2300    \n",
       "\n",
       "        Possible Ports         Powers  \\\n",
       "1                    0          25;25   \n",
       "2                    0         48.82;   \n",
       "3                    0             0;   \n",
       "4   5;6;7;8;9;10;11;12  ;;;;43;;;;;;;   \n",
       "5              1;2;3;4  ;;46;;;;;;;;;   \n",
       "..                 ...            ...   \n",
       "73             1;2;3;4        46;46;;   \n",
       "74             1;2;3;4        46;46;;   \n",
       "75             1;2;3;4        46;46;;   \n",
       "76             1;2;3;4        ;;46;46   \n",
       "77             1;2;3;4        46;46;;   \n",
       "\n",
       "                                                   Notes  \\\n",
       "1              NBN Co. Microwave Link Configuration(R01)   \n",
       "2                                                      0   \n",
       "3                                                      0   \n",
       "4     OPTUS RANCAP: TU, RFU Solution, FY21 power config;   \n",
       "5   OPTUS RANCAP: U900, RFU Solution, FY21 power config;   \n",
       "..                                                   ...   \n",
       "73                    NBN Co. LTE2300 Configuration(R01)   \n",
       "74                    NBN Co. LTE2300 Configuration(R01)   \n",
       "75                    NBN Co. LTE2300 Configuration(R01)   \n",
       "76                    NBN Co. LTE2300 Configuration(R01)   \n",
       "77                    NBN Co. LTE2300 Configuration(R01)   \n",
       "\n",
       "                            Operator                           Carrier  \\\n",
       "1                             NBN Co                            NBN Co   \n",
       "2   NSW Government - Telco Authority  NSW Government - Telco Authority   \n",
       "3   NSW Government - Telco Authority  NSW Government - Telco Authority   \n",
       "4                              Optus                             Optus   \n",
       "5                              Optus                             Optus   \n",
       "..                               ...                               ...   \n",
       "73                            NBN Co                            NBN Co   \n",
       "74                            NBN Co                            NBN Co   \n",
       "75                            NBN Co                            NBN Co   \n",
       "76                            NBN Co                            NBN Co   \n",
       "77                            NBN Co                            NBN Co   \n",
       "\n",
       "                   Tech                                   sorter  Total Ports  \\\n",
       "1        Microwave Link                                  NBN CoA          2.0   \n",
       "2    Gov. Radio Network  NSW Government - Telco AuthorityGRNA01L          1.0   \n",
       "3    Gov. Radio Network  NSW Government - Telco AuthorityGRNA01U          1.0   \n",
       "4            WCDMA2100                                 Optus11-O         12.0   \n",
       "5             WCDMA900                                 Optus11-O         12.0   \n",
       "..                  ...                                      ...          ...   \n",
       "73             LTE2300                                   NBN Co3          4.0   \n",
       "74             LTE2300                                   NBN Co4          4.0   \n",
       "75             LTE2300                                   NBN Co5          4.0   \n",
       "76             LTE2300                                   NBN Co5          4.0   \n",
       "77             LTE2300                                   NBN Co6          4.0   \n",
       "\n",
       "                     System/Sector Sectors        Powers (W)  \n",
       "1        Microwave Link - Sector 0       0  [0.3162, 0.3162]  \n",
       "2    Gov. Radio Network - Sector 0       0            [76.2]  \n",
       "3    Gov. Radio Network - Sector 0       0           [0.001]  \n",
       "4            WCDMA2100  - Sector 1       1            [20.0]  \n",
       "5             WCDMA900  - Sector 1       1            [39.8]  \n",
       "..                             ...     ...               ...  \n",
       "73             LTE2300  - Sector 3       3      [39.8, 39.8]  \n",
       "74             LTE2300  - Sector 4       4      [39.8, 39.8]  \n",
       "75             LTE2300  - Sector 5       5      [39.8, 39.8]  \n",
       "76             LTE2300  - Sector 5       5      [39.8, 39.8]  \n",
       "77             LTE2300  - Sector 6       6      [39.8, 39.8]  \n",
       "\n",
       "[77 rows x 20 columns]"
      ]
     },
     "metadata": {},
     "output_type": "display_data"
    }
   ],
   "source": [
    "display(df)"
   ]
  },
  {
   "cell_type": "code",
   "execution_count": 14,
   "id": "c1a6a22a",
   "metadata": {},
   "outputs": [],
   "source": [
    "######## what should be the frequency? ########\n",
    "Assess_Freq_list = []\n",
    "for i in df['Tech']:\n",
    "    if any([x in i for x in ['GSM900', 'WCDMA850', 'NB-IOT900', 'WCDMA900','LTE850', 'NR850','LTE900']]):\n",
    "        Assess_Freq_list.append('900')\n",
    "    elif any([x in i for x in ['NR/LTE2100', 'WCDMA2100', 'LTE2100']]):\n",
    "        Assess_Freq_list.append('2100')\n",
    "    elif any([x in i for x in ['NR/LTE1800', 'LTE1800']]):\n",
    "        Assess_Freq_list.append('1800')\n",
    "    elif any([x in i for x in ['LTE2600', 'NR2600']]):\n",
    "        Assess_Freq_list.append('2600')\n",
    "    elif 'LTE700' in i:\n",
    "        Assess_Freq_list.append('750')\n",
    "    elif 'LTE2300' in i:\n",
    "        Assess_Freq_list.append('2350')\n",
    "    else:\n",
    "        Assess_Freq_list.append(i)\n",
    "df['Assess Freq'] = Assess_Freq_list"
   ]
  },
  {
   "cell_type": "code",
   "execution_count": 15,
   "id": "959d53f2",
   "metadata": {},
   "outputs": [],
   "source": [
    "######## Which ports to add powers to? ########\n",
    "Mylist =[]\n",
    "\n",
    "for i in df['Powers']:\n",
    "    count = 1\n",
    "    lister = []\n",
    "    if isinstance(i, str):\n",
    "        for j in i:\n",
    "            if j==';':\n",
    "                count+=1\n",
    "            else:\n",
    "                lister.append(count)\n",
    "        Mylist.append(lister)\n",
    "    else:\n",
    "        Mylist.append(list(str(i))) \n",
    "        \n",
    "    \n",
    "new_k = []\n",
    "for elem in Mylist:\n",
    "    kiterator=[]\n",
    "    for el in elem:\n",
    "        if el not in kiterator:\n",
    "            kiterator.append(el)\n",
    "    new_k.append(kiterator)\n",
    "k = new_k\n",
    "\n",
    "df['WhereToAddPower'] = k"
   ]
  },
  {
   "cell_type": "code",
   "execution_count": 16,
   "id": "556375fe",
   "metadata": {},
   "outputs": [],
   "source": [
    "####Formatting Powers Column with ports numbers\n",
    "\n",
    "#itArr=[]\n",
    "#for index, elm in df['Powers'].iteritems():\n",
    "#    if isinstance(elm, (list, tuple)):\n",
    "#        itArr.append([f'{i+1}. {l}' for i, l in enumerate(elm)])\n",
    "#    else:\n",
    "#        itArr.append([elm])\n",
    "#df=df.drop(columns='Powers', axis=1)\n",
    "#df.insert(2, 'Powers', itArr)\n",
    "#############################################"
   ]
  },
  {
   "cell_type": "markdown",
   "id": "595edbc6",
   "metadata": {},
   "source": [
    "## Add these Antennas to prox5"
   ]
  },
  {
   "cell_type": "code",
   "execution_count": 17,
   "id": "e52e342b",
   "metadata": {},
   "outputs": [
    {
     "name": "stdout",
     "output_type": "stream",
     "text": [
      "You need to add these antennas\n",
      "\n",
      "UKY 220 28/DC15 \n",
      "BA80-67 2X4 \n",
      "R2V4PX310R \n",
      "AIR6488 B78H \n",
      "6W22ME-01 \n",
      "TTB-609017/172717/172717DER-60F(B) \n",
      "SSPX310R \n",
      "LLPX310R \n",
      "BA40-41 2X2 \n",
      "LLPX210R-V1 \n",
      "\n",
      "to PROX5\n"
     ]
    }
   ],
   "source": [
    "print('You need to add these antennas\\n\\n'+str.join(\" \\n\", AntennasUnique)+' \\n\\nto PROX5')"
   ]
  },
  {
   "cell_type": "markdown",
   "id": "f762f917",
   "metadata": {},
   "source": [
    "## IDs for Antennas"
   ]
  },
  {
   "cell_type": "code",
   "execution_count": 18,
   "id": "d7e3cf27",
   "metadata": {},
   "outputs": [
    {
     "name": "stdout",
     "output_type": "stream",
     "text": [
      "\n",
      "The id of \u001b[1mUKY 220 28/DC15\u001b[0m are\n",
      "['A']\n",
      "\n",
      "The id of \u001b[1mBA80-67 2X4\u001b[0m are\n",
      "['GRNA01L', 'GRNA01U']\n",
      "\n",
      "The id of \u001b[1mR2V4PX310R\u001b[0m are\n",
      "['11-O', '21-O', '31-O', '41-O']\n",
      "\n",
      "The id of \u001b[1mAIR6488 B78H\u001b[0m are\n",
      "['12-O', '22-O', '32-O', '42-O']\n",
      "\n",
      "The id of \u001b[1m6W22ME-01\u001b[0m are\n",
      "['23-O']\n",
      "\n",
      "The id of \u001b[1mTTB-609017/172717/172717DER-60F(B)\u001b[0m are\n",
      "['11-V', '12-V', '21-V', '22-V', '31-V', '32-V']\n",
      "\n",
      "The id of \u001b[1mSSPX310R\u001b[0m are\n",
      "['B1']\n",
      "\n",
      "The id of \u001b[1mLLPX310R\u001b[0m are\n",
      "[1, 3, 5, 6]\n",
      "\n",
      "The id of \u001b[1mBA40-41 2X2\u001b[0m are\n",
      "['GRNA02']\n",
      "\n",
      "The id of \u001b[1mLLPX210R-V1\u001b[0m are\n",
      "[2, 4]\n"
     ]
    }
   ],
   "source": [
    "for x, y in AntennaIds.items():\n",
    "    print(f'\\nThe id of '+text_format.BOLD+ x + text_format.END + ' are\\n'+str.join(\"\", str(y)))\n"
   ]
  },
  {
   "cell_type": "markdown",
   "id": "016b9f19",
   "metadata": {},
   "source": [
    "## Antenna Settings"
   ]
  },
  {
   "cell_type": "code",
   "execution_count": 19,
   "id": "64c239af",
   "metadata": {},
   "outputs": [
    {
     "data": {
      "text/plain": [
       "'Set Power and Frequency to ports in Prox5'"
      ]
     },
     "metadata": {},
     "output_type": "display_data"
    },
    {
     "name": "stdout",
     "output_type": "stream",
     "text": [
      "\n",
      "For \u001b[1mA\u001b[0m, the Settings are\n"
     ]
    },
    {
     "data": {
      "text/html": [
       "<div>\n",
       "<style scoped>\n",
       "    .dataframe tbody tr th:only-of-type {\n",
       "        vertical-align: middle;\n",
       "    }\n",
       "\n",
       "    .dataframe tbody tr th {\n",
       "        vertical-align: top;\n",
       "    }\n",
       "\n",
       "    .dataframe thead th {\n",
       "        text-align: right;\n",
       "    }\n",
       "</style>\n",
       "<table border=\"1\" class=\"dataframe\">\n",
       "  <thead>\n",
       "    <tr style=\"text-align: right;\">\n",
       "      <th></th>\n",
       "      <th>ID</th>\n",
       "      <th>Height</th>\n",
       "      <th>Bearing</th>\n",
       "      <th>MDT</th>\n",
       "    </tr>\n",
       "  </thead>\n",
       "  <tbody>\n",
       "    <tr>\n",
       "      <th>1</th>\n",
       "      <td>A</td>\n",
       "      <td>38.85</td>\n",
       "      <td>208</td>\n",
       "      <td>0</td>\n",
       "    </tr>\n",
       "  </tbody>\n",
       "</table>\n",
       "</div>"
      ],
      "text/plain": [
       "  ID  Height  Bearing  MDT\n",
       "1  A   38.85      208    0"
      ]
     },
     "metadata": {},
     "output_type": "display_data"
    },
    {
     "name": "stdout",
     "output_type": "stream",
     "text": [
      "\n",
      "For \u001b[1mGRNA01L\u001b[0m, the Settings are\n"
     ]
    },
    {
     "data": {
      "text/html": [
       "<div>\n",
       "<style scoped>\n",
       "    .dataframe tbody tr th:only-of-type {\n",
       "        vertical-align: middle;\n",
       "    }\n",
       "\n",
       "    .dataframe tbody tr th {\n",
       "        vertical-align: top;\n",
       "    }\n",
       "\n",
       "    .dataframe thead th {\n",
       "        text-align: right;\n",
       "    }\n",
       "</style>\n",
       "<table border=\"1\" class=\"dataframe\">\n",
       "  <thead>\n",
       "    <tr style=\"text-align: right;\">\n",
       "      <th></th>\n",
       "      <th>ID</th>\n",
       "      <th>Height</th>\n",
       "      <th>Bearing</th>\n",
       "      <th>MDT</th>\n",
       "    </tr>\n",
       "  </thead>\n",
       "  <tbody>\n",
       "    <tr>\n",
       "      <th>2</th>\n",
       "      <td>GRNA01L</td>\n",
       "      <td>48.6</td>\n",
       "      <td>0</td>\n",
       "      <td>0</td>\n",
       "    </tr>\n",
       "  </tbody>\n",
       "</table>\n",
       "</div>"
      ],
      "text/plain": [
       "        ID  Height  Bearing  MDT\n",
       "2  GRNA01L    48.6        0    0"
      ]
     },
     "metadata": {},
     "output_type": "display_data"
    },
    {
     "name": "stdout",
     "output_type": "stream",
     "text": [
      "\n",
      "For \u001b[1mGRNA01U\u001b[0m, the Settings are\n"
     ]
    },
    {
     "data": {
      "text/html": [
       "<div>\n",
       "<style scoped>\n",
       "    .dataframe tbody tr th:only-of-type {\n",
       "        vertical-align: middle;\n",
       "    }\n",
       "\n",
       "    .dataframe tbody tr th {\n",
       "        vertical-align: top;\n",
       "    }\n",
       "\n",
       "    .dataframe thead th {\n",
       "        text-align: right;\n",
       "    }\n",
       "</style>\n",
       "<table border=\"1\" class=\"dataframe\">\n",
       "  <thead>\n",
       "    <tr style=\"text-align: right;\">\n",
       "      <th></th>\n",
       "      <th>ID</th>\n",
       "      <th>Height</th>\n",
       "      <th>Bearing</th>\n",
       "      <th>MDT</th>\n",
       "    </tr>\n",
       "  </thead>\n",
       "  <tbody>\n",
       "    <tr>\n",
       "      <th>3</th>\n",
       "      <td>GRNA01U</td>\n",
       "      <td>51.6</td>\n",
       "      <td>0</td>\n",
       "      <td>0</td>\n",
       "    </tr>\n",
       "  </tbody>\n",
       "</table>\n",
       "</div>"
      ],
      "text/plain": [
       "        ID  Height  Bearing  MDT\n",
       "3  GRNA01U    51.6        0    0"
      ]
     },
     "metadata": {},
     "output_type": "display_data"
    },
    {
     "name": "stdout",
     "output_type": "stream",
     "text": [
      "\n",
      "For \u001b[1m11-O\u001b[0m, the Settings are\n"
     ]
    },
    {
     "data": {
      "text/html": [
       "<div>\n",
       "<style scoped>\n",
       "    .dataframe tbody tr th:only-of-type {\n",
       "        vertical-align: middle;\n",
       "    }\n",
       "\n",
       "    .dataframe tbody tr th {\n",
       "        vertical-align: top;\n",
       "    }\n",
       "\n",
       "    .dataframe thead th {\n",
       "        text-align: right;\n",
       "    }\n",
       "</style>\n",
       "<table border=\"1\" class=\"dataframe\">\n",
       "  <thead>\n",
       "    <tr style=\"text-align: right;\">\n",
       "      <th></th>\n",
       "      <th>ID</th>\n",
       "      <th>Height</th>\n",
       "      <th>Bearing</th>\n",
       "      <th>MDT</th>\n",
       "    </tr>\n",
       "  </thead>\n",
       "  <tbody>\n",
       "    <tr>\n",
       "      <th>4</th>\n",
       "      <td>11-O</td>\n",
       "      <td>46.61</td>\n",
       "      <td>0</td>\n",
       "      <td>0</td>\n",
       "    </tr>\n",
       "    <tr>\n",
       "      <th>5</th>\n",
       "      <td>11-O</td>\n",
       "      <td>46.61</td>\n",
       "      <td>0</td>\n",
       "      <td>0</td>\n",
       "    </tr>\n",
       "    <tr>\n",
       "      <th>6</th>\n",
       "      <td>11-O</td>\n",
       "      <td>46.61</td>\n",
       "      <td>0</td>\n",
       "      <td>0</td>\n",
       "    </tr>\n",
       "    <tr>\n",
       "      <th>7</th>\n",
       "      <td>11-O</td>\n",
       "      <td>46.61</td>\n",
       "      <td>0</td>\n",
       "      <td>0</td>\n",
       "    </tr>\n",
       "    <tr>\n",
       "      <th>8</th>\n",
       "      <td>11-O</td>\n",
       "      <td>46.61</td>\n",
       "      <td>0</td>\n",
       "      <td>0</td>\n",
       "    </tr>\n",
       "    <tr>\n",
       "      <th>9</th>\n",
       "      <td>11-O</td>\n",
       "      <td>46.61</td>\n",
       "      <td>0</td>\n",
       "      <td>0</td>\n",
       "    </tr>\n",
       "    <tr>\n",
       "      <th>10</th>\n",
       "      <td>11-O</td>\n",
       "      <td>46.61</td>\n",
       "      <td>0</td>\n",
       "      <td>0</td>\n",
       "    </tr>\n",
       "  </tbody>\n",
       "</table>\n",
       "</div>"
      ],
      "text/plain": [
       "      ID  Height  Bearing  MDT\n",
       "4   11-O   46.61        0    0\n",
       "5   11-O   46.61        0    0\n",
       "6   11-O   46.61        0    0\n",
       "7   11-O   46.61        0    0\n",
       "8   11-O   46.61        0    0\n",
       "9   11-O   46.61        0    0\n",
       "10  11-O   46.61        0    0"
      ]
     },
     "metadata": {},
     "output_type": "display_data"
    },
    {
     "name": "stdout",
     "output_type": "stream",
     "text": [
      "\n",
      "For \u001b[1m12-O\u001b[0m, the Settings are\n"
     ]
    },
    {
     "data": {
      "text/html": [
       "<div>\n",
       "<style scoped>\n",
       "    .dataframe tbody tr th:only-of-type {\n",
       "        vertical-align: middle;\n",
       "    }\n",
       "\n",
       "    .dataframe tbody tr th {\n",
       "        vertical-align: top;\n",
       "    }\n",
       "\n",
       "    .dataframe thead th {\n",
       "        text-align: right;\n",
       "    }\n",
       "</style>\n",
       "<table border=\"1\" class=\"dataframe\">\n",
       "  <thead>\n",
       "    <tr style=\"text-align: right;\">\n",
       "      <th></th>\n",
       "      <th>ID</th>\n",
       "      <th>Height</th>\n",
       "      <th>Bearing</th>\n",
       "      <th>MDT</th>\n",
       "    </tr>\n",
       "  </thead>\n",
       "  <tbody>\n",
       "    <tr>\n",
       "      <th>11</th>\n",
       "      <td>12-O</td>\n",
       "      <td>47.45</td>\n",
       "      <td>0</td>\n",
       "      <td>0</td>\n",
       "    </tr>\n",
       "  </tbody>\n",
       "</table>\n",
       "</div>"
      ],
      "text/plain": [
       "      ID  Height  Bearing  MDT\n",
       "11  12-O   47.45        0    0"
      ]
     },
     "metadata": {},
     "output_type": "display_data"
    },
    {
     "name": "stdout",
     "output_type": "stream",
     "text": [
      "\n",
      "For \u001b[1m21-O\u001b[0m, the Settings are\n"
     ]
    },
    {
     "data": {
      "text/html": [
       "<div>\n",
       "<style scoped>\n",
       "    .dataframe tbody tr th:only-of-type {\n",
       "        vertical-align: middle;\n",
       "    }\n",
       "\n",
       "    .dataframe tbody tr th {\n",
       "        vertical-align: top;\n",
       "    }\n",
       "\n",
       "    .dataframe thead th {\n",
       "        text-align: right;\n",
       "    }\n",
       "</style>\n",
       "<table border=\"1\" class=\"dataframe\">\n",
       "  <thead>\n",
       "    <tr style=\"text-align: right;\">\n",
       "      <th></th>\n",
       "      <th>ID</th>\n",
       "      <th>Height</th>\n",
       "      <th>Bearing</th>\n",
       "      <th>MDT</th>\n",
       "    </tr>\n",
       "  </thead>\n",
       "  <tbody>\n",
       "    <tr>\n",
       "      <th>12</th>\n",
       "      <td>21-O</td>\n",
       "      <td>46.61</td>\n",
       "      <td>80</td>\n",
       "      <td>0</td>\n",
       "    </tr>\n",
       "    <tr>\n",
       "      <th>13</th>\n",
       "      <td>21-O</td>\n",
       "      <td>46.61</td>\n",
       "      <td>80</td>\n",
       "      <td>0</td>\n",
       "    </tr>\n",
       "    <tr>\n",
       "      <th>14</th>\n",
       "      <td>21-O</td>\n",
       "      <td>46.61</td>\n",
       "      <td>80</td>\n",
       "      <td>0</td>\n",
       "    </tr>\n",
       "    <tr>\n",
       "      <th>15</th>\n",
       "      <td>21-O</td>\n",
       "      <td>46.61</td>\n",
       "      <td>80</td>\n",
       "      <td>0</td>\n",
       "    </tr>\n",
       "  </tbody>\n",
       "</table>\n",
       "</div>"
      ],
      "text/plain": [
       "      ID  Height  Bearing  MDT\n",
       "12  21-O   46.61       80    0\n",
       "13  21-O   46.61       80    0\n",
       "14  21-O   46.61       80    0\n",
       "15  21-O   46.61       80    0"
      ]
     },
     "metadata": {},
     "output_type": "display_data"
    },
    {
     "name": "stdout",
     "output_type": "stream",
     "text": [
      "\n",
      "For \u001b[1m22-O\u001b[0m, the Settings are\n"
     ]
    },
    {
     "data": {
      "text/html": [
       "<div>\n",
       "<style scoped>\n",
       "    .dataframe tbody tr th:only-of-type {\n",
       "        vertical-align: middle;\n",
       "    }\n",
       "\n",
       "    .dataframe tbody tr th {\n",
       "        vertical-align: top;\n",
       "    }\n",
       "\n",
       "    .dataframe thead th {\n",
       "        text-align: right;\n",
       "    }\n",
       "</style>\n",
       "<table border=\"1\" class=\"dataframe\">\n",
       "  <thead>\n",
       "    <tr style=\"text-align: right;\">\n",
       "      <th></th>\n",
       "      <th>ID</th>\n",
       "      <th>Height</th>\n",
       "      <th>Bearing</th>\n",
       "      <th>MDT</th>\n",
       "    </tr>\n",
       "  </thead>\n",
       "  <tbody>\n",
       "    <tr>\n",
       "      <th>16</th>\n",
       "      <td>22-O</td>\n",
       "      <td>47.45</td>\n",
       "      <td>110</td>\n",
       "      <td>0</td>\n",
       "    </tr>\n",
       "  </tbody>\n",
       "</table>\n",
       "</div>"
      ],
      "text/plain": [
       "      ID  Height  Bearing  MDT\n",
       "16  22-O   47.45      110    0"
      ]
     },
     "metadata": {},
     "output_type": "display_data"
    },
    {
     "name": "stdout",
     "output_type": "stream",
     "text": [
      "\n",
      "For \u001b[1m23-O\u001b[0m, the Settings are\n"
     ]
    },
    {
     "data": {
      "text/html": [
       "<div>\n",
       "<style scoped>\n",
       "    .dataframe tbody tr th:only-of-type {\n",
       "        vertical-align: middle;\n",
       "    }\n",
       "\n",
       "    .dataframe tbody tr th {\n",
       "        vertical-align: top;\n",
       "    }\n",
       "\n",
       "    .dataframe thead th {\n",
       "        text-align: right;\n",
       "    }\n",
       "</style>\n",
       "<table border=\"1\" class=\"dataframe\">\n",
       "  <thead>\n",
       "    <tr style=\"text-align: right;\">\n",
       "      <th></th>\n",
       "      <th>ID</th>\n",
       "      <th>Height</th>\n",
       "      <th>Bearing</th>\n",
       "      <th>MDT</th>\n",
       "    </tr>\n",
       "  </thead>\n",
       "  <tbody>\n",
       "    <tr>\n",
       "      <th>17</th>\n",
       "      <td>23-O</td>\n",
       "      <td>46.8</td>\n",
       "      <td>110</td>\n",
       "      <td>0</td>\n",
       "    </tr>\n",
       "    <tr>\n",
       "      <th>18</th>\n",
       "      <td>23-O</td>\n",
       "      <td>46.8</td>\n",
       "      <td>110</td>\n",
       "      <td>0</td>\n",
       "    </tr>\n",
       "    <tr>\n",
       "      <th>19</th>\n",
       "      <td>23-O</td>\n",
       "      <td>46.8</td>\n",
       "      <td>110</td>\n",
       "      <td>0</td>\n",
       "    </tr>\n",
       "    <tr>\n",
       "      <th>20</th>\n",
       "      <td>23-O</td>\n",
       "      <td>46.8</td>\n",
       "      <td>110</td>\n",
       "      <td>0</td>\n",
       "    </tr>\n",
       "    <tr>\n",
       "      <th>21</th>\n",
       "      <td>23-O</td>\n",
       "      <td>46.8</td>\n",
       "      <td>110</td>\n",
       "      <td>0</td>\n",
       "    </tr>\n",
       "    <tr>\n",
       "      <th>22</th>\n",
       "      <td>23-O</td>\n",
       "      <td>46.8</td>\n",
       "      <td>110</td>\n",
       "      <td>0</td>\n",
       "    </tr>\n",
       "    <tr>\n",
       "      <th>23</th>\n",
       "      <td>23-O</td>\n",
       "      <td>46.8</td>\n",
       "      <td>110</td>\n",
       "      <td>0</td>\n",
       "    </tr>\n",
       "    <tr>\n",
       "      <th>24</th>\n",
       "      <td>23-O</td>\n",
       "      <td>46.8</td>\n",
       "      <td>110</td>\n",
       "      <td>0</td>\n",
       "    </tr>\n",
       "    <tr>\n",
       "      <th>25</th>\n",
       "      <td>23-O</td>\n",
       "      <td>46.8</td>\n",
       "      <td>110</td>\n",
       "      <td>0</td>\n",
       "    </tr>\n",
       "  </tbody>\n",
       "</table>\n",
       "</div>"
      ],
      "text/plain": [
       "      ID  Height  Bearing  MDT\n",
       "17  23-O    46.8      110    0\n",
       "18  23-O    46.8      110    0\n",
       "19  23-O    46.8      110    0\n",
       "20  23-O    46.8      110    0\n",
       "21  23-O    46.8      110    0\n",
       "22  23-O    46.8      110    0\n",
       "23  23-O    46.8      110    0\n",
       "24  23-O    46.8      110    0\n",
       "25  23-O    46.8      110    0"
      ]
     },
     "metadata": {},
     "output_type": "display_data"
    },
    {
     "name": "stdout",
     "output_type": "stream",
     "text": [
      "\n",
      "For \u001b[1m31-O\u001b[0m, the Settings are\n"
     ]
    },
    {
     "data": {
      "text/html": [
       "<div>\n",
       "<style scoped>\n",
       "    .dataframe tbody tr th:only-of-type {\n",
       "        vertical-align: middle;\n",
       "    }\n",
       "\n",
       "    .dataframe tbody tr th {\n",
       "        vertical-align: top;\n",
       "    }\n",
       "\n",
       "    .dataframe thead th {\n",
       "        text-align: right;\n",
       "    }\n",
       "</style>\n",
       "<table border=\"1\" class=\"dataframe\">\n",
       "  <thead>\n",
       "    <tr style=\"text-align: right;\">\n",
       "      <th></th>\n",
       "      <th>ID</th>\n",
       "      <th>Height</th>\n",
       "      <th>Bearing</th>\n",
       "      <th>MDT</th>\n",
       "    </tr>\n",
       "  </thead>\n",
       "  <tbody>\n",
       "    <tr>\n",
       "      <th>26</th>\n",
       "      <td>31-O</td>\n",
       "      <td>46.61</td>\n",
       "      <td>180</td>\n",
       "      <td>0</td>\n",
       "    </tr>\n",
       "    <tr>\n",
       "      <th>27</th>\n",
       "      <td>31-O</td>\n",
       "      <td>46.61</td>\n",
       "      <td>180</td>\n",
       "      <td>0</td>\n",
       "    </tr>\n",
       "    <tr>\n",
       "      <th>28</th>\n",
       "      <td>31-O</td>\n",
       "      <td>46.61</td>\n",
       "      <td>180</td>\n",
       "      <td>0</td>\n",
       "    </tr>\n",
       "    <tr>\n",
       "      <th>29</th>\n",
       "      <td>31-O</td>\n",
       "      <td>46.61</td>\n",
       "      <td>180</td>\n",
       "      <td>0</td>\n",
       "    </tr>\n",
       "    <tr>\n",
       "      <th>30</th>\n",
       "      <td>31-O</td>\n",
       "      <td>46.61</td>\n",
       "      <td>180</td>\n",
       "      <td>0</td>\n",
       "    </tr>\n",
       "    <tr>\n",
       "      <th>31</th>\n",
       "      <td>31-O</td>\n",
       "      <td>46.61</td>\n",
       "      <td>180</td>\n",
       "      <td>0</td>\n",
       "    </tr>\n",
       "    <tr>\n",
       "      <th>32</th>\n",
       "      <td>31-O</td>\n",
       "      <td>46.61</td>\n",
       "      <td>180</td>\n",
       "      <td>0</td>\n",
       "    </tr>\n",
       "  </tbody>\n",
       "</table>\n",
       "</div>"
      ],
      "text/plain": [
       "      ID  Height  Bearing  MDT\n",
       "26  31-O   46.61      180    0\n",
       "27  31-O   46.61      180    0\n",
       "28  31-O   46.61      180    0\n",
       "29  31-O   46.61      180    0\n",
       "30  31-O   46.61      180    0\n",
       "31  31-O   46.61      180    0\n",
       "32  31-O   46.61      180    0"
      ]
     },
     "metadata": {},
     "output_type": "display_data"
    },
    {
     "name": "stdout",
     "output_type": "stream",
     "text": [
      "\n",
      "For \u001b[1m32-O\u001b[0m, the Settings are\n"
     ]
    },
    {
     "data": {
      "text/html": [
       "<div>\n",
       "<style scoped>\n",
       "    .dataframe tbody tr th:only-of-type {\n",
       "        vertical-align: middle;\n",
       "    }\n",
       "\n",
       "    .dataframe tbody tr th {\n",
       "        vertical-align: top;\n",
       "    }\n",
       "\n",
       "    .dataframe thead th {\n",
       "        text-align: right;\n",
       "    }\n",
       "</style>\n",
       "<table border=\"1\" class=\"dataframe\">\n",
       "  <thead>\n",
       "    <tr style=\"text-align: right;\">\n",
       "      <th></th>\n",
       "      <th>ID</th>\n",
       "      <th>Height</th>\n",
       "      <th>Bearing</th>\n",
       "      <th>MDT</th>\n",
       "    </tr>\n",
       "  </thead>\n",
       "  <tbody>\n",
       "    <tr>\n",
       "      <th>33</th>\n",
       "      <td>32-O</td>\n",
       "      <td>47.45</td>\n",
       "      <td>180</td>\n",
       "      <td>0</td>\n",
       "    </tr>\n",
       "  </tbody>\n",
       "</table>\n",
       "</div>"
      ],
      "text/plain": [
       "      ID  Height  Bearing  MDT\n",
       "33  32-O   47.45      180    0"
      ]
     },
     "metadata": {},
     "output_type": "display_data"
    },
    {
     "name": "stdout",
     "output_type": "stream",
     "text": [
      "\n",
      "For \u001b[1m41-O\u001b[0m, the Settings are\n"
     ]
    },
    {
     "data": {
      "text/html": [
       "<div>\n",
       "<style scoped>\n",
       "    .dataframe tbody tr th:only-of-type {\n",
       "        vertical-align: middle;\n",
       "    }\n",
       "\n",
       "    .dataframe tbody tr th {\n",
       "        vertical-align: top;\n",
       "    }\n",
       "\n",
       "    .dataframe thead th {\n",
       "        text-align: right;\n",
       "    }\n",
       "</style>\n",
       "<table border=\"1\" class=\"dataframe\">\n",
       "  <thead>\n",
       "    <tr style=\"text-align: right;\">\n",
       "      <th></th>\n",
       "      <th>ID</th>\n",
       "      <th>Height</th>\n",
       "      <th>Bearing</th>\n",
       "      <th>MDT</th>\n",
       "    </tr>\n",
       "  </thead>\n",
       "  <tbody>\n",
       "    <tr>\n",
       "      <th>34</th>\n",
       "      <td>41-O</td>\n",
       "      <td>46.61</td>\n",
       "      <td>290</td>\n",
       "      <td>0</td>\n",
       "    </tr>\n",
       "    <tr>\n",
       "      <th>35</th>\n",
       "      <td>41-O</td>\n",
       "      <td>46.61</td>\n",
       "      <td>290</td>\n",
       "      <td>0</td>\n",
       "    </tr>\n",
       "    <tr>\n",
       "      <th>36</th>\n",
       "      <td>41-O</td>\n",
       "      <td>46.61</td>\n",
       "      <td>290</td>\n",
       "      <td>0</td>\n",
       "    </tr>\n",
       "    <tr>\n",
       "      <th>37</th>\n",
       "      <td>41-O</td>\n",
       "      <td>46.61</td>\n",
       "      <td>290</td>\n",
       "      <td>0</td>\n",
       "    </tr>\n",
       "    <tr>\n",
       "      <th>38</th>\n",
       "      <td>41-O</td>\n",
       "      <td>46.61</td>\n",
       "      <td>290</td>\n",
       "      <td>0</td>\n",
       "    </tr>\n",
       "    <tr>\n",
       "      <th>39</th>\n",
       "      <td>41-O</td>\n",
       "      <td>46.61</td>\n",
       "      <td>290</td>\n",
       "      <td>0</td>\n",
       "    </tr>\n",
       "    <tr>\n",
       "      <th>40</th>\n",
       "      <td>41-O</td>\n",
       "      <td>46.61</td>\n",
       "      <td>290</td>\n",
       "      <td>0</td>\n",
       "    </tr>\n",
       "  </tbody>\n",
       "</table>\n",
       "</div>"
      ],
      "text/plain": [
       "      ID  Height  Bearing  MDT\n",
       "34  41-O   46.61      290    0\n",
       "35  41-O   46.61      290    0\n",
       "36  41-O   46.61      290    0\n",
       "37  41-O   46.61      290    0\n",
       "38  41-O   46.61      290    0\n",
       "39  41-O   46.61      290    0\n",
       "40  41-O   46.61      290    0"
      ]
     },
     "metadata": {},
     "output_type": "display_data"
    },
    {
     "name": "stdout",
     "output_type": "stream",
     "text": [
      "\n",
      "For \u001b[1m42-O\u001b[0m, the Settings are\n"
     ]
    },
    {
     "data": {
      "text/html": [
       "<div>\n",
       "<style scoped>\n",
       "    .dataframe tbody tr th:only-of-type {\n",
       "        vertical-align: middle;\n",
       "    }\n",
       "\n",
       "    .dataframe tbody tr th {\n",
       "        vertical-align: top;\n",
       "    }\n",
       "\n",
       "    .dataframe thead th {\n",
       "        text-align: right;\n",
       "    }\n",
       "</style>\n",
       "<table border=\"1\" class=\"dataframe\">\n",
       "  <thead>\n",
       "    <tr style=\"text-align: right;\">\n",
       "      <th></th>\n",
       "      <th>ID</th>\n",
       "      <th>Height</th>\n",
       "      <th>Bearing</th>\n",
       "      <th>MDT</th>\n",
       "    </tr>\n",
       "  </thead>\n",
       "  <tbody>\n",
       "    <tr>\n",
       "      <th>41</th>\n",
       "      <td>42-O</td>\n",
       "      <td>47.45</td>\n",
       "      <td>290</td>\n",
       "      <td>0</td>\n",
       "    </tr>\n",
       "  </tbody>\n",
       "</table>\n",
       "</div>"
      ],
      "text/plain": [
       "      ID  Height  Bearing  MDT\n",
       "41  42-O   47.45      290    0"
      ]
     },
     "metadata": {},
     "output_type": "display_data"
    },
    {
     "name": "stdout",
     "output_type": "stream",
     "text": [
      "\n",
      "For \u001b[1m11-V\u001b[0m, the Settings are\n"
     ]
    },
    {
     "data": {
      "text/html": [
       "<div>\n",
       "<style scoped>\n",
       "    .dataframe tbody tr th:only-of-type {\n",
       "        vertical-align: middle;\n",
       "    }\n",
       "\n",
       "    .dataframe tbody tr th {\n",
       "        vertical-align: top;\n",
       "    }\n",
       "\n",
       "    .dataframe thead th {\n",
       "        text-align: right;\n",
       "    }\n",
       "</style>\n",
       "<table border=\"1\" class=\"dataframe\">\n",
       "  <thead>\n",
       "    <tr style=\"text-align: right;\">\n",
       "      <th></th>\n",
       "      <th>ID</th>\n",
       "      <th>Height</th>\n",
       "      <th>Bearing</th>\n",
       "      <th>MDT</th>\n",
       "    </tr>\n",
       "  </thead>\n",
       "  <tbody>\n",
       "    <tr>\n",
       "      <th>42</th>\n",
       "      <td>11-V</td>\n",
       "      <td>35.69</td>\n",
       "      <td>90</td>\n",
       "      <td>3</td>\n",
       "    </tr>\n",
       "    <tr>\n",
       "      <th>43</th>\n",
       "      <td>11-V</td>\n",
       "      <td>35.69</td>\n",
       "      <td>90</td>\n",
       "      <td>3</td>\n",
       "    </tr>\n",
       "    <tr>\n",
       "      <th>44</th>\n",
       "      <td>11-V</td>\n",
       "      <td>35.69</td>\n",
       "      <td>90</td>\n",
       "      <td>3</td>\n",
       "    </tr>\n",
       "    <tr>\n",
       "      <th>45</th>\n",
       "      <td>11-V</td>\n",
       "      <td>35.69</td>\n",
       "      <td>90</td>\n",
       "      <td>3</td>\n",
       "    </tr>\n",
       "  </tbody>\n",
       "</table>\n",
       "</div>"
      ],
      "text/plain": [
       "      ID  Height  Bearing  MDT\n",
       "42  11-V   35.69       90    3\n",
       "43  11-V   35.69       90    3\n",
       "44  11-V   35.69       90    3\n",
       "45  11-V   35.69       90    3"
      ]
     },
     "metadata": {},
     "output_type": "display_data"
    },
    {
     "name": "stdout",
     "output_type": "stream",
     "text": [
      "\n",
      "For \u001b[1m12-V\u001b[0m, the Settings are\n"
     ]
    },
    {
     "data": {
      "text/html": [
       "<div>\n",
       "<style scoped>\n",
       "    .dataframe tbody tr th:only-of-type {\n",
       "        vertical-align: middle;\n",
       "    }\n",
       "\n",
       "    .dataframe tbody tr th {\n",
       "        vertical-align: top;\n",
       "    }\n",
       "\n",
       "    .dataframe thead th {\n",
       "        text-align: right;\n",
       "    }\n",
       "</style>\n",
       "<table border=\"1\" class=\"dataframe\">\n",
       "  <thead>\n",
       "    <tr style=\"text-align: right;\">\n",
       "      <th></th>\n",
       "      <th>ID</th>\n",
       "      <th>Height</th>\n",
       "      <th>Bearing</th>\n",
       "      <th>MDT</th>\n",
       "    </tr>\n",
       "  </thead>\n",
       "  <tbody>\n",
       "    <tr>\n",
       "      <th>46</th>\n",
       "      <td>12-V</td>\n",
       "      <td>35.69</td>\n",
       "      <td>90</td>\n",
       "      <td>3</td>\n",
       "    </tr>\n",
       "    <tr>\n",
       "      <th>47</th>\n",
       "      <td>12-V</td>\n",
       "      <td>35.69</td>\n",
       "      <td>90</td>\n",
       "      <td>3</td>\n",
       "    </tr>\n",
       "    <tr>\n",
       "      <th>48</th>\n",
       "      <td>12-V</td>\n",
       "      <td>35.69</td>\n",
       "      <td>90</td>\n",
       "      <td>3</td>\n",
       "    </tr>\n",
       "    <tr>\n",
       "      <th>49</th>\n",
       "      <td>12-V</td>\n",
       "      <td>35.69</td>\n",
       "      <td>90</td>\n",
       "      <td>3</td>\n",
       "    </tr>\n",
       "  </tbody>\n",
       "</table>\n",
       "</div>"
      ],
      "text/plain": [
       "      ID  Height  Bearing  MDT\n",
       "46  12-V   35.69       90    3\n",
       "47  12-V   35.69       90    3\n",
       "48  12-V   35.69       90    3\n",
       "49  12-V   35.69       90    3"
      ]
     },
     "metadata": {},
     "output_type": "display_data"
    },
    {
     "name": "stdout",
     "output_type": "stream",
     "text": [
      "\n",
      "For \u001b[1m21-V\u001b[0m, the Settings are\n"
     ]
    },
    {
     "data": {
      "text/html": [
       "<div>\n",
       "<style scoped>\n",
       "    .dataframe tbody tr th:only-of-type {\n",
       "        vertical-align: middle;\n",
       "    }\n",
       "\n",
       "    .dataframe tbody tr th {\n",
       "        vertical-align: top;\n",
       "    }\n",
       "\n",
       "    .dataframe thead th {\n",
       "        text-align: right;\n",
       "    }\n",
       "</style>\n",
       "<table border=\"1\" class=\"dataframe\">\n",
       "  <thead>\n",
       "    <tr style=\"text-align: right;\">\n",
       "      <th></th>\n",
       "      <th>ID</th>\n",
       "      <th>Height</th>\n",
       "      <th>Bearing</th>\n",
       "      <th>MDT</th>\n",
       "    </tr>\n",
       "  </thead>\n",
       "  <tbody>\n",
       "    <tr>\n",
       "      <th>50</th>\n",
       "      <td>21-V</td>\n",
       "      <td>35.69</td>\n",
       "      <td>180</td>\n",
       "      <td>1</td>\n",
       "    </tr>\n",
       "    <tr>\n",
       "      <th>51</th>\n",
       "      <td>21-V</td>\n",
       "      <td>35.69</td>\n",
       "      <td>180</td>\n",
       "      <td>1</td>\n",
       "    </tr>\n",
       "    <tr>\n",
       "      <th>52</th>\n",
       "      <td>21-V</td>\n",
       "      <td>35.69</td>\n",
       "      <td>180</td>\n",
       "      <td>1</td>\n",
       "    </tr>\n",
       "    <tr>\n",
       "      <th>53</th>\n",
       "      <td>21-V</td>\n",
       "      <td>35.69</td>\n",
       "      <td>180</td>\n",
       "      <td>1</td>\n",
       "    </tr>\n",
       "  </tbody>\n",
       "</table>\n",
       "</div>"
      ],
      "text/plain": [
       "      ID  Height  Bearing  MDT\n",
       "50  21-V   35.69      180    1\n",
       "51  21-V   35.69      180    1\n",
       "52  21-V   35.69      180    1\n",
       "53  21-V   35.69      180    1"
      ]
     },
     "metadata": {},
     "output_type": "display_data"
    },
    {
     "name": "stdout",
     "output_type": "stream",
     "text": [
      "\n",
      "For \u001b[1m22-V\u001b[0m, the Settings are\n"
     ]
    },
    {
     "data": {
      "text/html": [
       "<div>\n",
       "<style scoped>\n",
       "    .dataframe tbody tr th:only-of-type {\n",
       "        vertical-align: middle;\n",
       "    }\n",
       "\n",
       "    .dataframe tbody tr th {\n",
       "        vertical-align: top;\n",
       "    }\n",
       "\n",
       "    .dataframe thead th {\n",
       "        text-align: right;\n",
       "    }\n",
       "</style>\n",
       "<table border=\"1\" class=\"dataframe\">\n",
       "  <thead>\n",
       "    <tr style=\"text-align: right;\">\n",
       "      <th></th>\n",
       "      <th>ID</th>\n",
       "      <th>Height</th>\n",
       "      <th>Bearing</th>\n",
       "      <th>MDT</th>\n",
       "    </tr>\n",
       "  </thead>\n",
       "  <tbody>\n",
       "    <tr>\n",
       "      <th>54</th>\n",
       "      <td>22-V</td>\n",
       "      <td>35.69</td>\n",
       "      <td>180</td>\n",
       "      <td>1</td>\n",
       "    </tr>\n",
       "    <tr>\n",
       "      <th>55</th>\n",
       "      <td>22-V</td>\n",
       "      <td>35.69</td>\n",
       "      <td>180</td>\n",
       "      <td>1</td>\n",
       "    </tr>\n",
       "    <tr>\n",
       "      <th>56</th>\n",
       "      <td>22-V</td>\n",
       "      <td>35.69</td>\n",
       "      <td>180</td>\n",
       "      <td>1</td>\n",
       "    </tr>\n",
       "    <tr>\n",
       "      <th>57</th>\n",
       "      <td>22-V</td>\n",
       "      <td>35.69</td>\n",
       "      <td>180</td>\n",
       "      <td>1</td>\n",
       "    </tr>\n",
       "  </tbody>\n",
       "</table>\n",
       "</div>"
      ],
      "text/plain": [
       "      ID  Height  Bearing  MDT\n",
       "54  22-V   35.69      180    1\n",
       "55  22-V   35.69      180    1\n",
       "56  22-V   35.69      180    1\n",
       "57  22-V   35.69      180    1"
      ]
     },
     "metadata": {},
     "output_type": "display_data"
    },
    {
     "name": "stdout",
     "output_type": "stream",
     "text": [
      "\n",
      "For \u001b[1m31-V\u001b[0m, the Settings are\n"
     ]
    },
    {
     "data": {
      "text/html": [
       "<div>\n",
       "<style scoped>\n",
       "    .dataframe tbody tr th:only-of-type {\n",
       "        vertical-align: middle;\n",
       "    }\n",
       "\n",
       "    .dataframe tbody tr th {\n",
       "        vertical-align: top;\n",
       "    }\n",
       "\n",
       "    .dataframe thead th {\n",
       "        text-align: right;\n",
       "    }\n",
       "</style>\n",
       "<table border=\"1\" class=\"dataframe\">\n",
       "  <thead>\n",
       "    <tr style=\"text-align: right;\">\n",
       "      <th></th>\n",
       "      <th>ID</th>\n",
       "      <th>Height</th>\n",
       "      <th>Bearing</th>\n",
       "      <th>MDT</th>\n",
       "    </tr>\n",
       "  </thead>\n",
       "  <tbody>\n",
       "    <tr>\n",
       "      <th>58</th>\n",
       "      <td>31-V</td>\n",
       "      <td>35.69</td>\n",
       "      <td>270</td>\n",
       "      <td>2</td>\n",
       "    </tr>\n",
       "    <tr>\n",
       "      <th>59</th>\n",
       "      <td>31-V</td>\n",
       "      <td>35.69</td>\n",
       "      <td>270</td>\n",
       "      <td>2</td>\n",
       "    </tr>\n",
       "    <tr>\n",
       "      <th>60</th>\n",
       "      <td>31-V</td>\n",
       "      <td>35.69</td>\n",
       "      <td>270</td>\n",
       "      <td>2</td>\n",
       "    </tr>\n",
       "    <tr>\n",
       "      <th>61</th>\n",
       "      <td>31-V</td>\n",
       "      <td>35.69</td>\n",
       "      <td>270</td>\n",
       "      <td>2</td>\n",
       "    </tr>\n",
       "  </tbody>\n",
       "</table>\n",
       "</div>"
      ],
      "text/plain": [
       "      ID  Height  Bearing  MDT\n",
       "58  31-V   35.69      270    2\n",
       "59  31-V   35.69      270    2\n",
       "60  31-V   35.69      270    2\n",
       "61  31-V   35.69      270    2"
      ]
     },
     "metadata": {},
     "output_type": "display_data"
    },
    {
     "name": "stdout",
     "output_type": "stream",
     "text": [
      "\n",
      "For \u001b[1m32-V\u001b[0m, the Settings are\n"
     ]
    },
    {
     "data": {
      "text/html": [
       "<div>\n",
       "<style scoped>\n",
       "    .dataframe tbody tr th:only-of-type {\n",
       "        vertical-align: middle;\n",
       "    }\n",
       "\n",
       "    .dataframe tbody tr th {\n",
       "        vertical-align: top;\n",
       "    }\n",
       "\n",
       "    .dataframe thead th {\n",
       "        text-align: right;\n",
       "    }\n",
       "</style>\n",
       "<table border=\"1\" class=\"dataframe\">\n",
       "  <thead>\n",
       "    <tr style=\"text-align: right;\">\n",
       "      <th></th>\n",
       "      <th>ID</th>\n",
       "      <th>Height</th>\n",
       "      <th>Bearing</th>\n",
       "      <th>MDT</th>\n",
       "    </tr>\n",
       "  </thead>\n",
       "  <tbody>\n",
       "    <tr>\n",
       "      <th>62</th>\n",
       "      <td>32-V</td>\n",
       "      <td>35.69</td>\n",
       "      <td>270</td>\n",
       "      <td>2</td>\n",
       "    </tr>\n",
       "    <tr>\n",
       "      <th>63</th>\n",
       "      <td>32-V</td>\n",
       "      <td>35.69</td>\n",
       "      <td>270</td>\n",
       "      <td>2</td>\n",
       "    </tr>\n",
       "    <tr>\n",
       "      <th>64</th>\n",
       "      <td>32-V</td>\n",
       "      <td>35.69</td>\n",
       "      <td>270</td>\n",
       "      <td>2</td>\n",
       "    </tr>\n",
       "    <tr>\n",
       "      <th>65</th>\n",
       "      <td>32-V</td>\n",
       "      <td>35.69</td>\n",
       "      <td>270</td>\n",
       "      <td>2</td>\n",
       "    </tr>\n",
       "  </tbody>\n",
       "</table>\n",
       "</div>"
      ],
      "text/plain": [
       "      ID  Height  Bearing  MDT\n",
       "62  32-V   35.69      270    2\n",
       "63  32-V   35.69      270    2\n",
       "64  32-V   35.69      270    2\n",
       "65  32-V   35.69      270    2"
      ]
     },
     "metadata": {},
     "output_type": "display_data"
    },
    {
     "name": "stdout",
     "output_type": "stream",
     "text": [
      "\n",
      "For \u001b[1mB1\u001b[0m, the Settings are\n"
     ]
    },
    {
     "data": {
      "text/html": [
       "<div>\n",
       "<style scoped>\n",
       "    .dataframe tbody tr th:only-of-type {\n",
       "        vertical-align: middle;\n",
       "    }\n",
       "\n",
       "    .dataframe tbody tr th {\n",
       "        vertical-align: top;\n",
       "    }\n",
       "\n",
       "    .dataframe thead th {\n",
       "        text-align: right;\n",
       "    }\n",
       "</style>\n",
       "<table border=\"1\" class=\"dataframe\">\n",
       "  <thead>\n",
       "    <tr style=\"text-align: right;\">\n",
       "      <th></th>\n",
       "      <th>ID</th>\n",
       "      <th>Height</th>\n",
       "      <th>Bearing</th>\n",
       "      <th>MDT</th>\n",
       "    </tr>\n",
       "  </thead>\n",
       "  <tbody>\n",
       "    <tr>\n",
       "      <th>66</th>\n",
       "      <td>B1</td>\n",
       "      <td>43.5</td>\n",
       "      <td>170</td>\n",
       "      <td>0</td>\n",
       "    </tr>\n",
       "    <tr>\n",
       "      <th>69</th>\n",
       "      <td>B1</td>\n",
       "      <td>43.5</td>\n",
       "      <td>170</td>\n",
       "      <td>0</td>\n",
       "    </tr>\n",
       "  </tbody>\n",
       "</table>\n",
       "</div>"
      ],
      "text/plain": [
       "    ID  Height  Bearing  MDT\n",
       "66  B1    43.5      170    0\n",
       "69  B1    43.5      170    0"
      ]
     },
     "metadata": {},
     "output_type": "display_data"
    },
    {
     "name": "stdout",
     "output_type": "stream",
     "text": [
      "\n",
      "For \u001b[1m1\u001b[0m, the Settings are\n"
     ]
    },
    {
     "data": {
      "text/html": [
       "<div>\n",
       "<style scoped>\n",
       "    .dataframe tbody tr th:only-of-type {\n",
       "        vertical-align: middle;\n",
       "    }\n",
       "\n",
       "    .dataframe tbody tr th {\n",
       "        vertical-align: top;\n",
       "    }\n",
       "\n",
       "    .dataframe thead th {\n",
       "        text-align: right;\n",
       "    }\n",
       "</style>\n",
       "<table border=\"1\" class=\"dataframe\">\n",
       "  <thead>\n",
       "    <tr style=\"text-align: right;\">\n",
       "      <th></th>\n",
       "      <th>ID</th>\n",
       "      <th>Height</th>\n",
       "      <th>Bearing</th>\n",
       "      <th>MDT</th>\n",
       "    </tr>\n",
       "  </thead>\n",
       "  <tbody>\n",
       "    <tr>\n",
       "      <th>67</th>\n",
       "      <td>1</td>\n",
       "      <td>43.5</td>\n",
       "      <td>310</td>\n",
       "      <td>0</td>\n",
       "    </tr>\n",
       "    <tr>\n",
       "      <th>68</th>\n",
       "      <td>1</td>\n",
       "      <td>43.5</td>\n",
       "      <td>310</td>\n",
       "      <td>0</td>\n",
       "    </tr>\n",
       "  </tbody>\n",
       "</table>\n",
       "</div>"
      ],
      "text/plain": [
       "   ID  Height  Bearing  MDT\n",
       "67  1    43.5      310    0\n",
       "68  1    43.5      310    0"
      ]
     },
     "metadata": {},
     "output_type": "display_data"
    },
    {
     "name": "stdout",
     "output_type": "stream",
     "text": [
      "\n",
      "For \u001b[1mGRNA02\u001b[0m, the Settings are\n"
     ]
    },
    {
     "data": {
      "text/html": [
       "<div>\n",
       "<style scoped>\n",
       "    .dataframe tbody tr th:only-of-type {\n",
       "        vertical-align: middle;\n",
       "    }\n",
       "\n",
       "    .dataframe tbody tr th {\n",
       "        vertical-align: top;\n",
       "    }\n",
       "\n",
       "    .dataframe thead th {\n",
       "        text-align: right;\n",
       "    }\n",
       "</style>\n",
       "<table border=\"1\" class=\"dataframe\">\n",
       "  <thead>\n",
       "    <tr style=\"text-align: right;\">\n",
       "      <th></th>\n",
       "      <th>ID</th>\n",
       "      <th>Height</th>\n",
       "      <th>Bearing</th>\n",
       "      <th>MDT</th>\n",
       "    </tr>\n",
       "  </thead>\n",
       "  <tbody>\n",
       "    <tr>\n",
       "      <th>70</th>\n",
       "      <td>GRNA02</td>\n",
       "      <td>37.2</td>\n",
       "      <td>0</td>\n",
       "      <td>0</td>\n",
       "    </tr>\n",
       "  </tbody>\n",
       "</table>\n",
       "</div>"
      ],
      "text/plain": [
       "        ID  Height  Bearing  MDT\n",
       "70  GRNA02    37.2        0    0"
      ]
     },
     "metadata": {},
     "output_type": "display_data"
    },
    {
     "name": "stdout",
     "output_type": "stream",
     "text": [
      "\n",
      "For \u001b[1m2\u001b[0m, the Settings are\n"
     ]
    },
    {
     "data": {
      "text/html": [
       "<div>\n",
       "<style scoped>\n",
       "    .dataframe tbody tr th:only-of-type {\n",
       "        vertical-align: middle;\n",
       "    }\n",
       "\n",
       "    .dataframe tbody tr th {\n",
       "        vertical-align: top;\n",
       "    }\n",
       "\n",
       "    .dataframe thead th {\n",
       "        text-align: right;\n",
       "    }\n",
       "</style>\n",
       "<table border=\"1\" class=\"dataframe\">\n",
       "  <thead>\n",
       "    <tr style=\"text-align: right;\">\n",
       "      <th></th>\n",
       "      <th>ID</th>\n",
       "      <th>Height</th>\n",
       "      <th>Bearing</th>\n",
       "      <th>MDT</th>\n",
       "    </tr>\n",
       "  </thead>\n",
       "  <tbody>\n",
       "    <tr>\n",
       "      <th>71</th>\n",
       "      <td>2</td>\n",
       "      <td>43.5</td>\n",
       "      <td>40</td>\n",
       "      <td>0</td>\n",
       "    </tr>\n",
       "  </tbody>\n",
       "</table>\n",
       "</div>"
      ],
      "text/plain": [
       "   ID  Height  Bearing  MDT\n",
       "71  2    43.5       40    0"
      ]
     },
     "metadata": {},
     "output_type": "display_data"
    },
    {
     "name": "stdout",
     "output_type": "stream",
     "text": [
      "\n",
      "For \u001b[1m3\u001b[0m, the Settings are\n"
     ]
    },
    {
     "data": {
      "text/html": [
       "<div>\n",
       "<style scoped>\n",
       "    .dataframe tbody tr th:only-of-type {\n",
       "        vertical-align: middle;\n",
       "    }\n",
       "\n",
       "    .dataframe tbody tr th {\n",
       "        vertical-align: top;\n",
       "    }\n",
       "\n",
       "    .dataframe thead th {\n",
       "        text-align: right;\n",
       "    }\n",
       "</style>\n",
       "<table border=\"1\" class=\"dataframe\">\n",
       "  <thead>\n",
       "    <tr style=\"text-align: right;\">\n",
       "      <th></th>\n",
       "      <th>ID</th>\n",
       "      <th>Height</th>\n",
       "      <th>Bearing</th>\n",
       "      <th>MDT</th>\n",
       "    </tr>\n",
       "  </thead>\n",
       "  <tbody>\n",
       "    <tr>\n",
       "      <th>72</th>\n",
       "      <td>3</td>\n",
       "      <td>43.5</td>\n",
       "      <td>170</td>\n",
       "      <td>0</td>\n",
       "    </tr>\n",
       "    <tr>\n",
       "      <th>73</th>\n",
       "      <td>3</td>\n",
       "      <td>43.5</td>\n",
       "      <td>170</td>\n",
       "      <td>0</td>\n",
       "    </tr>\n",
       "  </tbody>\n",
       "</table>\n",
       "</div>"
      ],
      "text/plain": [
       "   ID  Height  Bearing  MDT\n",
       "72  3    43.5      170    0\n",
       "73  3    43.5      170    0"
      ]
     },
     "metadata": {},
     "output_type": "display_data"
    },
    {
     "name": "stdout",
     "output_type": "stream",
     "text": [
      "\n",
      "For \u001b[1m4\u001b[0m, the Settings are\n"
     ]
    },
    {
     "data": {
      "text/html": [
       "<div>\n",
       "<style scoped>\n",
       "    .dataframe tbody tr th:only-of-type {\n",
       "        vertical-align: middle;\n",
       "    }\n",
       "\n",
       "    .dataframe tbody tr th {\n",
       "        vertical-align: top;\n",
       "    }\n",
       "\n",
       "    .dataframe thead th {\n",
       "        text-align: right;\n",
       "    }\n",
       "</style>\n",
       "<table border=\"1\" class=\"dataframe\">\n",
       "  <thead>\n",
       "    <tr style=\"text-align: right;\">\n",
       "      <th></th>\n",
       "      <th>ID</th>\n",
       "      <th>Height</th>\n",
       "      <th>Bearing</th>\n",
       "      <th>MDT</th>\n",
       "    </tr>\n",
       "  </thead>\n",
       "  <tbody>\n",
       "    <tr>\n",
       "      <th>74</th>\n",
       "      <td>4</td>\n",
       "      <td>43.5</td>\n",
       "      <td>80</td>\n",
       "      <td>0</td>\n",
       "    </tr>\n",
       "  </tbody>\n",
       "</table>\n",
       "</div>"
      ],
      "text/plain": [
       "   ID  Height  Bearing  MDT\n",
       "74  4    43.5       80    0"
      ]
     },
     "metadata": {},
     "output_type": "display_data"
    },
    {
     "name": "stdout",
     "output_type": "stream",
     "text": [
      "\n",
      "For \u001b[1m5\u001b[0m, the Settings are\n"
     ]
    },
    {
     "data": {
      "text/html": [
       "<div>\n",
       "<style scoped>\n",
       "    .dataframe tbody tr th:only-of-type {\n",
       "        vertical-align: middle;\n",
       "    }\n",
       "\n",
       "    .dataframe tbody tr th {\n",
       "        vertical-align: top;\n",
       "    }\n",
       "\n",
       "    .dataframe thead th {\n",
       "        text-align: right;\n",
       "    }\n",
       "</style>\n",
       "<table border=\"1\" class=\"dataframe\">\n",
       "  <thead>\n",
       "    <tr style=\"text-align: right;\">\n",
       "      <th></th>\n",
       "      <th>ID</th>\n",
       "      <th>Height</th>\n",
       "      <th>Bearing</th>\n",
       "      <th>MDT</th>\n",
       "    </tr>\n",
       "  </thead>\n",
       "  <tbody>\n",
       "    <tr>\n",
       "      <th>75</th>\n",
       "      <td>5</td>\n",
       "      <td>43.5</td>\n",
       "      <td>130</td>\n",
       "      <td>0</td>\n",
       "    </tr>\n",
       "    <tr>\n",
       "      <th>76</th>\n",
       "      <td>5</td>\n",
       "      <td>43.5</td>\n",
       "      <td>130</td>\n",
       "      <td>0</td>\n",
       "    </tr>\n",
       "  </tbody>\n",
       "</table>\n",
       "</div>"
      ],
      "text/plain": [
       "   ID  Height  Bearing  MDT\n",
       "75  5    43.5      130    0\n",
       "76  5    43.5      130    0"
      ]
     },
     "metadata": {},
     "output_type": "display_data"
    },
    {
     "name": "stdout",
     "output_type": "stream",
     "text": [
      "\n",
      "For \u001b[1m6\u001b[0m, the Settings are\n"
     ]
    },
    {
     "data": {
      "text/html": [
       "<div>\n",
       "<style scoped>\n",
       "    .dataframe tbody tr th:only-of-type {\n",
       "        vertical-align: middle;\n",
       "    }\n",
       "\n",
       "    .dataframe tbody tr th {\n",
       "        vertical-align: top;\n",
       "    }\n",
       "\n",
       "    .dataframe thead th {\n",
       "        text-align: right;\n",
       "    }\n",
       "</style>\n",
       "<table border=\"1\" class=\"dataframe\">\n",
       "  <thead>\n",
       "    <tr style=\"text-align: right;\">\n",
       "      <th></th>\n",
       "      <th>ID</th>\n",
       "      <th>Height</th>\n",
       "      <th>Bearing</th>\n",
       "      <th>MDT</th>\n",
       "    </tr>\n",
       "  </thead>\n",
       "  <tbody>\n",
       "    <tr>\n",
       "      <th>77</th>\n",
       "      <td>6</td>\n",
       "      <td>43.5</td>\n",
       "      <td>260</td>\n",
       "      <td>0</td>\n",
       "    </tr>\n",
       "  </tbody>\n",
       "</table>\n",
       "</div>"
      ],
      "text/plain": [
       "   ID  Height  Bearing  MDT\n",
       "77  6    43.5      260    0"
      ]
     },
     "metadata": {},
     "output_type": "display_data"
    }
   ],
   "source": [
    "display('Set Power and Frequency to ports in Prox5')\n",
    "Settings = {}\n",
    "#for i in IDUnique:\n",
    "#    IdsForAntenna = list(dict.fromkeys(df.loc[df['ID'] == i, 'ID']))\n",
    "#    AntennaIds[antenna] = IdsForAntenna\n",
    "\n",
    "for i in IDUnique:\n",
    "        print(f'\\nFor '+text_format.BOLD+str(i)+text_format.END+f', the Settings are')\n",
    "        display(df.loc[(df['ID'] == i),['ID','Height','Bearing','MDT']])"
   ]
  },
  {
   "cell_type": "markdown",
   "id": "1d819800",
   "metadata": {},
   "source": [
    "## Set Power and Frequency to ports in Prox5"
   ]
  },
  {
   "cell_type": "code",
   "execution_count": 20,
   "id": "77cad71a",
   "metadata": {},
   "outputs": [
    {
     "data": {
      "text/plain": [
       "'Set Power and Frequency to ports in Prox5'"
      ]
     },
     "metadata": {},
     "output_type": "display_data"
    },
    {
     "name": "stdout",
     "output_type": "stream",
     "text": [
      "\u001b[1mA\n"
     ]
    },
    {
     "data": {
      "text/html": [
       "<div>\n",
       "<style scoped>\n",
       "    .dataframe tbody tr th:only-of-type {\n",
       "        vertical-align: middle;\n",
       "    }\n",
       "\n",
       "    .dataframe tbody tr th {\n",
       "        vertical-align: top;\n",
       "    }\n",
       "\n",
       "    .dataframe thead th {\n",
       "        text-align: right;\n",
       "    }\n",
       "</style>\n",
       "<table border=\"1\" class=\"dataframe\">\n",
       "  <thead>\n",
       "    <tr style=\"text-align: right;\">\n",
       "      <th></th>\n",
       "      <th>ID</th>\n",
       "      <th>EDT</th>\n",
       "      <th>Tech</th>\n",
       "      <th>Possible Ports</th>\n",
       "      <th>WhereToAddPower</th>\n",
       "      <th>Powers (W)</th>\n",
       "    </tr>\n",
       "  </thead>\n",
       "  <tbody>\n",
       "    <tr>\n",
       "      <th>1</th>\n",
       "      <td>A</td>\n",
       "      <td>0</td>\n",
       "      <td>Microwave Link</td>\n",
       "      <td>0</td>\n",
       "      <td>[1, 2]</td>\n",
       "      <td>[0.3162, 0.3162]</td>\n",
       "    </tr>\n",
       "  </tbody>\n",
       "</table>\n",
       "</div>"
      ],
      "text/plain": [
       "  ID EDT             Tech Possible Ports WhereToAddPower        Powers (W)\n",
       "1  A  0    Microwave Link              0          [1, 2]  [0.3162, 0.3162]"
      ]
     },
     "metadata": {},
     "output_type": "display_data"
    },
    {
     "name": "stdout",
     "output_type": "stream",
     "text": [
      "\u001b[1mGRNA01L\n"
     ]
    },
    {
     "data": {
      "text/html": [
       "<div>\n",
       "<style scoped>\n",
       "    .dataframe tbody tr th:only-of-type {\n",
       "        vertical-align: middle;\n",
       "    }\n",
       "\n",
       "    .dataframe tbody tr th {\n",
       "        vertical-align: top;\n",
       "    }\n",
       "\n",
       "    .dataframe thead th {\n",
       "        text-align: right;\n",
       "    }\n",
       "</style>\n",
       "<table border=\"1\" class=\"dataframe\">\n",
       "  <thead>\n",
       "    <tr style=\"text-align: right;\">\n",
       "      <th></th>\n",
       "      <th>ID</th>\n",
       "      <th>EDT</th>\n",
       "      <th>Tech</th>\n",
       "      <th>Possible Ports</th>\n",
       "      <th>WhereToAddPower</th>\n",
       "      <th>Powers (W)</th>\n",
       "    </tr>\n",
       "  </thead>\n",
       "  <tbody>\n",
       "    <tr>\n",
       "      <th>2</th>\n",
       "      <td>GRNA01L</td>\n",
       "      <td>0</td>\n",
       "      <td>Gov. Radio Network</td>\n",
       "      <td>0</td>\n",
       "      <td>[1]</td>\n",
       "      <td>[76.2]</td>\n",
       "    </tr>\n",
       "  </tbody>\n",
       "</table>\n",
       "</div>"
      ],
      "text/plain": [
       "        ID EDT                 Tech Possible Ports WhereToAddPower Powers (W)\n",
       "2  GRNA01L  0    Gov. Radio Network              0             [1]     [76.2]"
      ]
     },
     "metadata": {},
     "output_type": "display_data"
    },
    {
     "name": "stdout",
     "output_type": "stream",
     "text": [
      "\u001b[1mGRNA01U\n"
     ]
    },
    {
     "data": {
      "text/html": [
       "<div>\n",
       "<style scoped>\n",
       "    .dataframe tbody tr th:only-of-type {\n",
       "        vertical-align: middle;\n",
       "    }\n",
       "\n",
       "    .dataframe tbody tr th {\n",
       "        vertical-align: top;\n",
       "    }\n",
       "\n",
       "    .dataframe thead th {\n",
       "        text-align: right;\n",
       "    }\n",
       "</style>\n",
       "<table border=\"1\" class=\"dataframe\">\n",
       "  <thead>\n",
       "    <tr style=\"text-align: right;\">\n",
       "      <th></th>\n",
       "      <th>ID</th>\n",
       "      <th>EDT</th>\n",
       "      <th>Tech</th>\n",
       "      <th>Possible Ports</th>\n",
       "      <th>WhereToAddPower</th>\n",
       "      <th>Powers (W)</th>\n",
       "    </tr>\n",
       "  </thead>\n",
       "  <tbody>\n",
       "    <tr>\n",
       "      <th>3</th>\n",
       "      <td>GRNA01U</td>\n",
       "      <td>0</td>\n",
       "      <td>Gov. Radio Network</td>\n",
       "      <td>0</td>\n",
       "      <td>[1]</td>\n",
       "      <td>[0.001]</td>\n",
       "    </tr>\n",
       "  </tbody>\n",
       "</table>\n",
       "</div>"
      ],
      "text/plain": [
       "        ID EDT                 Tech Possible Ports WhereToAddPower Powers (W)\n",
       "3  GRNA01U  0    Gov. Radio Network              0             [1]    [0.001]"
      ]
     },
     "metadata": {},
     "output_type": "display_data"
    },
    {
     "name": "stdout",
     "output_type": "stream",
     "text": [
      "\u001b[1m11-O\n"
     ]
    },
    {
     "data": {
      "text/html": [
       "<div>\n",
       "<style scoped>\n",
       "    .dataframe tbody tr th:only-of-type {\n",
       "        vertical-align: middle;\n",
       "    }\n",
       "\n",
       "    .dataframe tbody tr th {\n",
       "        vertical-align: top;\n",
       "    }\n",
       "\n",
       "    .dataframe thead th {\n",
       "        text-align: right;\n",
       "    }\n",
       "</style>\n",
       "<table border=\"1\" class=\"dataframe\">\n",
       "  <thead>\n",
       "    <tr style=\"text-align: right;\">\n",
       "      <th></th>\n",
       "      <th>ID</th>\n",
       "      <th>EDT</th>\n",
       "      <th>Tech</th>\n",
       "      <th>Possible Ports</th>\n",
       "      <th>WhereToAddPower</th>\n",
       "      <th>Powers (W)</th>\n",
       "    </tr>\n",
       "  </thead>\n",
       "  <tbody>\n",
       "    <tr>\n",
       "      <th>4</th>\n",
       "      <td>11-O</td>\n",
       "      <td>0-10</td>\n",
       "      <td>WCDMA2100</td>\n",
       "      <td>5;6;7;8;9;10;11;12</td>\n",
       "      <td>[5]</td>\n",
       "      <td>[20.0]</td>\n",
       "    </tr>\n",
       "    <tr>\n",
       "      <th>5</th>\n",
       "      <td>11-O</td>\n",
       "      <td>0-10</td>\n",
       "      <td>WCDMA900</td>\n",
       "      <td>1;2;3;4</td>\n",
       "      <td>[3]</td>\n",
       "      <td>[39.8]</td>\n",
       "    </tr>\n",
       "    <tr>\n",
       "      <th>6</th>\n",
       "      <td>11-O</td>\n",
       "      <td>0-10</td>\n",
       "      <td>NR/LTE900</td>\n",
       "      <td>1;2;3;4</td>\n",
       "      <td>[3, 4]</td>\n",
       "      <td>[63.1, 63.1]</td>\n",
       "    </tr>\n",
       "    <tr>\n",
       "      <th>7</th>\n",
       "      <td>11-O</td>\n",
       "      <td>0-10</td>\n",
       "      <td>LTE700</td>\n",
       "      <td>1;2;3;4</td>\n",
       "      <td>[1, 2, 3, 4]</td>\n",
       "      <td>[63.1, 63.1, 63.1, 63.1]</td>\n",
       "    </tr>\n",
       "    <tr>\n",
       "      <th>8</th>\n",
       "      <td>11-O</td>\n",
       "      <td>0-10</td>\n",
       "      <td>LTE2600</td>\n",
       "      <td>5;6;7;8;9;10;11;12</td>\n",
       "      <td>[5, 6, 7, 8]</td>\n",
       "      <td>[50.1, 50.1, 50.1, 50.1]</td>\n",
       "    </tr>\n",
       "    <tr>\n",
       "      <th>9</th>\n",
       "      <td>11-O</td>\n",
       "      <td>0-10</td>\n",
       "      <td>LTE1800</td>\n",
       "      <td>5;6;7;8;9;10;11;12</td>\n",
       "      <td>[9, 10, 11, 12]</td>\n",
       "      <td>[50.1, 50.1, 50.1, 50.1]</td>\n",
       "    </tr>\n",
       "    <tr>\n",
       "      <th>10</th>\n",
       "      <td>11-O</td>\n",
       "      <td>0-10</td>\n",
       "      <td>NR/LTE2100</td>\n",
       "      <td>5;6;7;8;9;10;11;12</td>\n",
       "      <td>[9, 10, 11, 12]</td>\n",
       "      <td>[50.1, 50.1, 50.1, 50.1]</td>\n",
       "    </tr>\n",
       "  </tbody>\n",
       "</table>\n",
       "</div>"
      ],
      "text/plain": [
       "      ID    EDT          Tech      Possible Ports  WhereToAddPower  \\\n",
       "4   11-O  0-10     WCDMA2100   5;6;7;8;9;10;11;12              [5]   \n",
       "5   11-O  0-10      WCDMA900              1;2;3;4              [3]   \n",
       "6   11-O  0-10     NR/LTE900              1;2;3;4           [3, 4]   \n",
       "7   11-O  0-10        LTE700              1;2;3;4     [1, 2, 3, 4]   \n",
       "8   11-O  0-10       LTE2600   5;6;7;8;9;10;11;12     [5, 6, 7, 8]   \n",
       "9   11-O  0-10       LTE1800   5;6;7;8;9;10;11;12  [9, 10, 11, 12]   \n",
       "10  11-O  0-10    NR/LTE2100   5;6;7;8;9;10;11;12  [9, 10, 11, 12]   \n",
       "\n",
       "                  Powers (W)  \n",
       "4                     [20.0]  \n",
       "5                     [39.8]  \n",
       "6               [63.1, 63.1]  \n",
       "7   [63.1, 63.1, 63.1, 63.1]  \n",
       "8   [50.1, 50.1, 50.1, 50.1]  \n",
       "9   [50.1, 50.1, 50.1, 50.1]  \n",
       "10  [50.1, 50.1, 50.1, 50.1]  "
      ]
     },
     "metadata": {},
     "output_type": "display_data"
    },
    {
     "name": "stdout",
     "output_type": "stream",
     "text": [
      "\u001b[1m12-O\n"
     ]
    },
    {
     "data": {
      "text/html": [
       "<div>\n",
       "<style scoped>\n",
       "    .dataframe tbody tr th:only-of-type {\n",
       "        vertical-align: middle;\n",
       "    }\n",
       "\n",
       "    .dataframe tbody tr th {\n",
       "        vertical-align: top;\n",
       "    }\n",
       "\n",
       "    .dataframe thead th {\n",
       "        text-align: right;\n",
       "    }\n",
       "</style>\n",
       "<table border=\"1\" class=\"dataframe\">\n",
       "  <thead>\n",
       "    <tr style=\"text-align: right;\">\n",
       "      <th></th>\n",
       "      <th>ID</th>\n",
       "      <th>EDT</th>\n",
       "      <th>Tech</th>\n",
       "      <th>Possible Ports</th>\n",
       "      <th>WhereToAddPower</th>\n",
       "      <th>Powers (W)</th>\n",
       "    </tr>\n",
       "  </thead>\n",
       "  <tbody>\n",
       "    <tr>\n",
       "      <th>11</th>\n",
       "      <td>12-O</td>\n",
       "      <td>3</td>\n",
       "      <td>NR3500</td>\n",
       "      <td>1;2</td>\n",
       "      <td>[1]</td>\n",
       "      <td>[79.4]</td>\n",
       "    </tr>\n",
       "  </tbody>\n",
       "</table>\n",
       "</div>"
      ],
      "text/plain": [
       "      ID EDT      Tech Possible Ports WhereToAddPower Powers (W)\n",
       "11  12-O  3    NR3500             1;2             [1]     [79.4]"
      ]
     },
     "metadata": {},
     "output_type": "display_data"
    },
    {
     "name": "stdout",
     "output_type": "stream",
     "text": [
      "\u001b[1m21-O\n"
     ]
    },
    {
     "data": {
      "text/html": [
       "<div>\n",
       "<style scoped>\n",
       "    .dataframe tbody tr th:only-of-type {\n",
       "        vertical-align: middle;\n",
       "    }\n",
       "\n",
       "    .dataframe tbody tr th {\n",
       "        vertical-align: top;\n",
       "    }\n",
       "\n",
       "    .dataframe thead th {\n",
       "        text-align: right;\n",
       "    }\n",
       "</style>\n",
       "<table border=\"1\" class=\"dataframe\">\n",
       "  <thead>\n",
       "    <tr style=\"text-align: right;\">\n",
       "      <th></th>\n",
       "      <th>ID</th>\n",
       "      <th>EDT</th>\n",
       "      <th>Tech</th>\n",
       "      <th>Possible Ports</th>\n",
       "      <th>WhereToAddPower</th>\n",
       "      <th>Powers (W)</th>\n",
       "    </tr>\n",
       "  </thead>\n",
       "  <tbody>\n",
       "    <tr>\n",
       "      <th>12</th>\n",
       "      <td>21-O</td>\n",
       "      <td>0-10</td>\n",
       "      <td>WCDMA900</td>\n",
       "      <td>1;2;3;4</td>\n",
       "      <td>[3]</td>\n",
       "      <td>[39.8]</td>\n",
       "    </tr>\n",
       "    <tr>\n",
       "      <th>13</th>\n",
       "      <td>21-O</td>\n",
       "      <td>0-10</td>\n",
       "      <td>WCDMA2100</td>\n",
       "      <td>5;6;7;8;9;10;11;12</td>\n",
       "      <td>[5]</td>\n",
       "      <td>[20.0]</td>\n",
       "    </tr>\n",
       "    <tr>\n",
       "      <th>14</th>\n",
       "      <td>21-O</td>\n",
       "      <td>0-10</td>\n",
       "      <td>NR/LTE900</td>\n",
       "      <td>1;2;3;4</td>\n",
       "      <td>[3, 4]</td>\n",
       "      <td>[63.1, 63.1]</td>\n",
       "    </tr>\n",
       "    <tr>\n",
       "      <th>15</th>\n",
       "      <td>21-O</td>\n",
       "      <td>0-10</td>\n",
       "      <td>LTE700</td>\n",
       "      <td>1;2;3;4</td>\n",
       "      <td>[1, 2, 3, 4]</td>\n",
       "      <td>[63.1, 63.1, 63.1, 63.1]</td>\n",
       "    </tr>\n",
       "  </tbody>\n",
       "</table>\n",
       "</div>"
      ],
      "text/plain": [
       "      ID    EDT         Tech      Possible Ports WhereToAddPower  \\\n",
       "12  21-O  0-10     WCDMA900              1;2;3;4             [3]   \n",
       "13  21-O  0-10    WCDMA2100   5;6;7;8;9;10;11;12             [5]   \n",
       "14  21-O  0-10    NR/LTE900              1;2;3;4          [3, 4]   \n",
       "15  21-O  0-10       LTE700              1;2;3;4    [1, 2, 3, 4]   \n",
       "\n",
       "                  Powers (W)  \n",
       "12                    [39.8]  \n",
       "13                    [20.0]  \n",
       "14              [63.1, 63.1]  \n",
       "15  [63.1, 63.1, 63.1, 63.1]  "
      ]
     },
     "metadata": {},
     "output_type": "display_data"
    },
    {
     "name": "stdout",
     "output_type": "stream",
     "text": [
      "\u001b[1m22-O\n"
     ]
    },
    {
     "data": {
      "text/html": [
       "<div>\n",
       "<style scoped>\n",
       "    .dataframe tbody tr th:only-of-type {\n",
       "        vertical-align: middle;\n",
       "    }\n",
       "\n",
       "    .dataframe tbody tr th {\n",
       "        vertical-align: top;\n",
       "    }\n",
       "\n",
       "    .dataframe thead th {\n",
       "        text-align: right;\n",
       "    }\n",
       "</style>\n",
       "<table border=\"1\" class=\"dataframe\">\n",
       "  <thead>\n",
       "    <tr style=\"text-align: right;\">\n",
       "      <th></th>\n",
       "      <th>ID</th>\n",
       "      <th>EDT</th>\n",
       "      <th>Tech</th>\n",
       "      <th>Possible Ports</th>\n",
       "      <th>WhereToAddPower</th>\n",
       "      <th>Powers (W)</th>\n",
       "    </tr>\n",
       "  </thead>\n",
       "  <tbody>\n",
       "    <tr>\n",
       "      <th>16</th>\n",
       "      <td>22-O</td>\n",
       "      <td>3</td>\n",
       "      <td>NR3500</td>\n",
       "      <td>1;2</td>\n",
       "      <td>[1]</td>\n",
       "      <td>[79.4]</td>\n",
       "    </tr>\n",
       "  </tbody>\n",
       "</table>\n",
       "</div>"
      ],
      "text/plain": [
       "      ID EDT      Tech Possible Ports WhereToAddPower Powers (W)\n",
       "16  22-O  3    NR3500             1;2             [1]     [79.4]"
      ]
     },
     "metadata": {},
     "output_type": "display_data"
    },
    {
     "name": "stdout",
     "output_type": "stream",
     "text": [
      "\u001b[1m23-O\n"
     ]
    },
    {
     "data": {
      "text/html": [
       "<div>\n",
       "<style scoped>\n",
       "    .dataframe tbody tr th:only-of-type {\n",
       "        vertical-align: middle;\n",
       "    }\n",
       "\n",
       "    .dataframe tbody tr th {\n",
       "        vertical-align: top;\n",
       "    }\n",
       "\n",
       "    .dataframe thead th {\n",
       "        text-align: right;\n",
       "    }\n",
       "</style>\n",
       "<table border=\"1\" class=\"dataframe\">\n",
       "  <thead>\n",
       "    <tr style=\"text-align: right;\">\n",
       "      <th></th>\n",
       "      <th>ID</th>\n",
       "      <th>EDT</th>\n",
       "      <th>Tech</th>\n",
       "      <th>Possible Ports</th>\n",
       "      <th>WhereToAddPower</th>\n",
       "      <th>Powers (W)</th>\n",
       "    </tr>\n",
       "  </thead>\n",
       "  <tbody>\n",
       "    <tr>\n",
       "      <th>17</th>\n",
       "      <td>23-O</td>\n",
       "      <td>2-10</td>\n",
       "      <td>NR/LTE2100</td>\n",
       "      <td>1;2;3;4;5;6;7;8;9;10;11;12</td>\n",
       "      <td>[9, 10, 11, 12]</td>\n",
       "      <td>[50.1, 50.1, 50.1, 50.1]</td>\n",
       "    </tr>\n",
       "    <tr>\n",
       "      <th>18</th>\n",
       "      <td>23-O</td>\n",
       "      <td>2-10</td>\n",
       "      <td>NR/LTE2100</td>\n",
       "      <td>1;2;3;4;5;6;7;8;9;10;11;12</td>\n",
       "      <td>[5, 6, 7, 8]</td>\n",
       "      <td>[50.1, 50.1, 50.1, 50.1]</td>\n",
       "    </tr>\n",
       "    <tr>\n",
       "      <th>19</th>\n",
       "      <td>23-O</td>\n",
       "      <td>2-10</td>\n",
       "      <td>LTE1800</td>\n",
       "      <td>1;2;3;4;5;6;7;8;9;10;11;12</td>\n",
       "      <td>[9, 10, 11, 12]</td>\n",
       "      <td>[50.1, 50.1, 50.1, 50.1]</td>\n",
       "    </tr>\n",
       "    <tr>\n",
       "      <th>20</th>\n",
       "      <td>23-O</td>\n",
       "      <td>2-10</td>\n",
       "      <td>LTE2600</td>\n",
       "      <td>1;2;3;4;5;6;7;8;9;10;11;12</td>\n",
       "      <td>[9, 10, 11, 12]</td>\n",
       "      <td>[50.1, 50.1, 50.1, 50.1]</td>\n",
       "    </tr>\n",
       "    <tr>\n",
       "      <th>21</th>\n",
       "      <td>23-O</td>\n",
       "      <td>2-10</td>\n",
       "      <td>LTE2600</td>\n",
       "      <td>1;2;3;4;5;6;7;8;9;10;11;12</td>\n",
       "      <td>[5, 6, 7, 8]</td>\n",
       "      <td>[50.1, 50.1, 50.1, 50.1]</td>\n",
       "    </tr>\n",
       "    <tr>\n",
       "      <th>22</th>\n",
       "      <td>23-O</td>\n",
       "      <td>2-10</td>\n",
       "      <td>LTE2600</td>\n",
       "      <td>1;2;3;4;5;6;7;8;9;10;11;12</td>\n",
       "      <td>[1, 2, 3, 4]</td>\n",
       "      <td>[50.1, 50.1, 50.1, 50.1]</td>\n",
       "    </tr>\n",
       "    <tr>\n",
       "      <th>23</th>\n",
       "      <td>23-O</td>\n",
       "      <td>2-10</td>\n",
       "      <td>NR/LTE2100</td>\n",
       "      <td>1;2;3;4;5;6;7;8;9;10;11;12</td>\n",
       "      <td>[1, 2, 3, 4]</td>\n",
       "      <td>[50.1, 50.1, 50.1, 50.1]</td>\n",
       "    </tr>\n",
       "    <tr>\n",
       "      <th>24</th>\n",
       "      <td>23-O</td>\n",
       "      <td>2-10</td>\n",
       "      <td>LTE1800</td>\n",
       "      <td>1;2;3;4;5;6;7;8;9;10;11;12</td>\n",
       "      <td>[5, 6, 7, 8]</td>\n",
       "      <td>[50.1, 50.1, 50.1, 50.1]</td>\n",
       "    </tr>\n",
       "    <tr>\n",
       "      <th>25</th>\n",
       "      <td>23-O</td>\n",
       "      <td>2-10</td>\n",
       "      <td>LTE1800</td>\n",
       "      <td>1;2;3;4;5;6;7;8;9;10;11;12</td>\n",
       "      <td>[1, 2, 3, 4]</td>\n",
       "      <td>[50.1, 50.1, 50.1, 50.1]</td>\n",
       "    </tr>\n",
       "  </tbody>\n",
       "</table>\n",
       "</div>"
      ],
      "text/plain": [
       "      ID    EDT          Tech              Possible Ports  WhereToAddPower  \\\n",
       "17  23-O  2-10    NR/LTE2100   1;2;3;4;5;6;7;8;9;10;11;12  [9, 10, 11, 12]   \n",
       "18  23-O  2-10    NR/LTE2100   1;2;3;4;5;6;7;8;9;10;11;12     [5, 6, 7, 8]   \n",
       "19  23-O  2-10       LTE1800   1;2;3;4;5;6;7;8;9;10;11;12  [9, 10, 11, 12]   \n",
       "20  23-O  2-10       LTE2600   1;2;3;4;5;6;7;8;9;10;11;12  [9, 10, 11, 12]   \n",
       "21  23-O  2-10       LTE2600   1;2;3;4;5;6;7;8;9;10;11;12     [5, 6, 7, 8]   \n",
       "22  23-O  2-10       LTE2600   1;2;3;4;5;6;7;8;9;10;11;12     [1, 2, 3, 4]   \n",
       "23  23-O  2-10    NR/LTE2100   1;2;3;4;5;6;7;8;9;10;11;12     [1, 2, 3, 4]   \n",
       "24  23-O  2-10       LTE1800   1;2;3;4;5;6;7;8;9;10;11;12     [5, 6, 7, 8]   \n",
       "25  23-O  2-10       LTE1800   1;2;3;4;5;6;7;8;9;10;11;12     [1, 2, 3, 4]   \n",
       "\n",
       "                  Powers (W)  \n",
       "17  [50.1, 50.1, 50.1, 50.1]  \n",
       "18  [50.1, 50.1, 50.1, 50.1]  \n",
       "19  [50.1, 50.1, 50.1, 50.1]  \n",
       "20  [50.1, 50.1, 50.1, 50.1]  \n",
       "21  [50.1, 50.1, 50.1, 50.1]  \n",
       "22  [50.1, 50.1, 50.1, 50.1]  \n",
       "23  [50.1, 50.1, 50.1, 50.1]  \n",
       "24  [50.1, 50.1, 50.1, 50.1]  \n",
       "25  [50.1, 50.1, 50.1, 50.1]  "
      ]
     },
     "metadata": {},
     "output_type": "display_data"
    },
    {
     "name": "stdout",
     "output_type": "stream",
     "text": [
      "\u001b[1m31-O\n"
     ]
    },
    {
     "data": {
      "text/html": [
       "<div>\n",
       "<style scoped>\n",
       "    .dataframe tbody tr th:only-of-type {\n",
       "        vertical-align: middle;\n",
       "    }\n",
       "\n",
       "    .dataframe tbody tr th {\n",
       "        vertical-align: top;\n",
       "    }\n",
       "\n",
       "    .dataframe thead th {\n",
       "        text-align: right;\n",
       "    }\n",
       "</style>\n",
       "<table border=\"1\" class=\"dataframe\">\n",
       "  <thead>\n",
       "    <tr style=\"text-align: right;\">\n",
       "      <th></th>\n",
       "      <th>ID</th>\n",
       "      <th>EDT</th>\n",
       "      <th>Tech</th>\n",
       "      <th>Possible Ports</th>\n",
       "      <th>WhereToAddPower</th>\n",
       "      <th>Powers (W)</th>\n",
       "    </tr>\n",
       "  </thead>\n",
       "  <tbody>\n",
       "    <tr>\n",
       "      <th>26</th>\n",
       "      <td>31-O</td>\n",
       "      <td>0-10</td>\n",
       "      <td>LTE2600</td>\n",
       "      <td>5;6;7;8;9;10;11;12</td>\n",
       "      <td>[5, 6, 7, 8]</td>\n",
       "      <td>[50.1, 50.1, 50.1, 50.1]</td>\n",
       "    </tr>\n",
       "    <tr>\n",
       "      <th>27</th>\n",
       "      <td>31-O</td>\n",
       "      <td>0-10</td>\n",
       "      <td>WCDMA900</td>\n",
       "      <td>1;2;3;4</td>\n",
       "      <td>[3]</td>\n",
       "      <td>[39.8]</td>\n",
       "    </tr>\n",
       "    <tr>\n",
       "      <th>28</th>\n",
       "      <td>31-O</td>\n",
       "      <td>0-10</td>\n",
       "      <td>LTE700</td>\n",
       "      <td>1;2;3;4</td>\n",
       "      <td>[1, 2, 3, 4]</td>\n",
       "      <td>[63.1, 63.1, 63.1, 63.1]</td>\n",
       "    </tr>\n",
       "    <tr>\n",
       "      <th>29</th>\n",
       "      <td>31-O</td>\n",
       "      <td>0-10</td>\n",
       "      <td>WCDMA2100</td>\n",
       "      <td>5;6;7;8;9;10;11;12</td>\n",
       "      <td>[5]</td>\n",
       "      <td>[20.0]</td>\n",
       "    </tr>\n",
       "    <tr>\n",
       "      <th>30</th>\n",
       "      <td>31-O</td>\n",
       "      <td>0-10</td>\n",
       "      <td>NR/LTE900</td>\n",
       "      <td>1;2;3;4</td>\n",
       "      <td>[3, 4]</td>\n",
       "      <td>[63.1, 63.1]</td>\n",
       "    </tr>\n",
       "    <tr>\n",
       "      <th>31</th>\n",
       "      <td>31-O</td>\n",
       "      <td>0-10</td>\n",
       "      <td>LTE1800</td>\n",
       "      <td>5;6;7;8;9;10;11;12</td>\n",
       "      <td>[9, 10, 11, 12]</td>\n",
       "      <td>[50.1, 50.1, 50.1, 50.1]</td>\n",
       "    </tr>\n",
       "    <tr>\n",
       "      <th>32</th>\n",
       "      <td>31-O</td>\n",
       "      <td>0-10</td>\n",
       "      <td>NR/LTE2100</td>\n",
       "      <td>5;6;7;8;9;10;11;12</td>\n",
       "      <td>[9, 10, 11, 12]</td>\n",
       "      <td>[50.1, 50.1, 50.1, 50.1]</td>\n",
       "    </tr>\n",
       "  </tbody>\n",
       "</table>\n",
       "</div>"
      ],
      "text/plain": [
       "      ID    EDT          Tech      Possible Ports  WhereToAddPower  \\\n",
       "26  31-O  0-10       LTE2600   5;6;7;8;9;10;11;12     [5, 6, 7, 8]   \n",
       "27  31-O  0-10      WCDMA900              1;2;3;4              [3]   \n",
       "28  31-O  0-10        LTE700              1;2;3;4     [1, 2, 3, 4]   \n",
       "29  31-O  0-10     WCDMA2100   5;6;7;8;9;10;11;12              [5]   \n",
       "30  31-O  0-10     NR/LTE900              1;2;3;4           [3, 4]   \n",
       "31  31-O  0-10       LTE1800   5;6;7;8;9;10;11;12  [9, 10, 11, 12]   \n",
       "32  31-O  0-10    NR/LTE2100   5;6;7;8;9;10;11;12  [9, 10, 11, 12]   \n",
       "\n",
       "                  Powers (W)  \n",
       "26  [50.1, 50.1, 50.1, 50.1]  \n",
       "27                    [39.8]  \n",
       "28  [63.1, 63.1, 63.1, 63.1]  \n",
       "29                    [20.0]  \n",
       "30              [63.1, 63.1]  \n",
       "31  [50.1, 50.1, 50.1, 50.1]  \n",
       "32  [50.1, 50.1, 50.1, 50.1]  "
      ]
     },
     "metadata": {},
     "output_type": "display_data"
    },
    {
     "name": "stdout",
     "output_type": "stream",
     "text": [
      "\u001b[1m32-O\n"
     ]
    },
    {
     "data": {
      "text/html": [
       "<div>\n",
       "<style scoped>\n",
       "    .dataframe tbody tr th:only-of-type {\n",
       "        vertical-align: middle;\n",
       "    }\n",
       "\n",
       "    .dataframe tbody tr th {\n",
       "        vertical-align: top;\n",
       "    }\n",
       "\n",
       "    .dataframe thead th {\n",
       "        text-align: right;\n",
       "    }\n",
       "</style>\n",
       "<table border=\"1\" class=\"dataframe\">\n",
       "  <thead>\n",
       "    <tr style=\"text-align: right;\">\n",
       "      <th></th>\n",
       "      <th>ID</th>\n",
       "      <th>EDT</th>\n",
       "      <th>Tech</th>\n",
       "      <th>Possible Ports</th>\n",
       "      <th>WhereToAddPower</th>\n",
       "      <th>Powers (W)</th>\n",
       "    </tr>\n",
       "  </thead>\n",
       "  <tbody>\n",
       "    <tr>\n",
       "      <th>33</th>\n",
       "      <td>32-O</td>\n",
       "      <td>3</td>\n",
       "      <td>NR3500</td>\n",
       "      <td>1;2</td>\n",
       "      <td>[1]</td>\n",
       "      <td>[79.4]</td>\n",
       "    </tr>\n",
       "  </tbody>\n",
       "</table>\n",
       "</div>"
      ],
      "text/plain": [
       "      ID EDT      Tech Possible Ports WhereToAddPower Powers (W)\n",
       "33  32-O  3    NR3500             1;2             [1]     [79.4]"
      ]
     },
     "metadata": {},
     "output_type": "display_data"
    },
    {
     "name": "stdout",
     "output_type": "stream",
     "text": [
      "\u001b[1m41-O\n"
     ]
    },
    {
     "data": {
      "text/html": [
       "<div>\n",
       "<style scoped>\n",
       "    .dataframe tbody tr th:only-of-type {\n",
       "        vertical-align: middle;\n",
       "    }\n",
       "\n",
       "    .dataframe tbody tr th {\n",
       "        vertical-align: top;\n",
       "    }\n",
       "\n",
       "    .dataframe thead th {\n",
       "        text-align: right;\n",
       "    }\n",
       "</style>\n",
       "<table border=\"1\" class=\"dataframe\">\n",
       "  <thead>\n",
       "    <tr style=\"text-align: right;\">\n",
       "      <th></th>\n",
       "      <th>ID</th>\n",
       "      <th>EDT</th>\n",
       "      <th>Tech</th>\n",
       "      <th>Possible Ports</th>\n",
       "      <th>WhereToAddPower</th>\n",
       "      <th>Powers (W)</th>\n",
       "    </tr>\n",
       "  </thead>\n",
       "  <tbody>\n",
       "    <tr>\n",
       "      <th>34</th>\n",
       "      <td>41-O</td>\n",
       "      <td>0-10</td>\n",
       "      <td>WCDMA2100</td>\n",
       "      <td>5;6;7;8;9;10;11;12</td>\n",
       "      <td>[5]</td>\n",
       "      <td>[20.0]</td>\n",
       "    </tr>\n",
       "    <tr>\n",
       "      <th>35</th>\n",
       "      <td>41-O</td>\n",
       "      <td>0-10</td>\n",
       "      <td>LTE1800</td>\n",
       "      <td>5;6;7;8;9;10;11;12</td>\n",
       "      <td>[9, 10, 11, 12]</td>\n",
       "      <td>[50.1, 50.1, 50.1, 50.1]</td>\n",
       "    </tr>\n",
       "    <tr>\n",
       "      <th>36</th>\n",
       "      <td>41-O</td>\n",
       "      <td>0-10</td>\n",
       "      <td>NR/LTE900</td>\n",
       "      <td>1;2;3;4</td>\n",
       "      <td>[3, 4]</td>\n",
       "      <td>[63.1, 63.1]</td>\n",
       "    </tr>\n",
       "    <tr>\n",
       "      <th>37</th>\n",
       "      <td>41-O</td>\n",
       "      <td>0-10</td>\n",
       "      <td>LTE700</td>\n",
       "      <td>1;2;3;4</td>\n",
       "      <td>[1, 2, 3, 4]</td>\n",
       "      <td>[63.1, 63.1, 63.1, 63.1]</td>\n",
       "    </tr>\n",
       "    <tr>\n",
       "      <th>38</th>\n",
       "      <td>41-O</td>\n",
       "      <td>0-10</td>\n",
       "      <td>LTE2600</td>\n",
       "      <td>5;6;7;8;9;10;11;12</td>\n",
       "      <td>[5, 6, 7, 8]</td>\n",
       "      <td>[50.1, 50.1, 50.1, 50.1]</td>\n",
       "    </tr>\n",
       "    <tr>\n",
       "      <th>39</th>\n",
       "      <td>41-O</td>\n",
       "      <td>0-10</td>\n",
       "      <td>NR/LTE2100</td>\n",
       "      <td>5;6;7;8;9;10;11;12</td>\n",
       "      <td>[9, 10, 11, 12]</td>\n",
       "      <td>[50.1, 50.1, 50.1, 50.1]</td>\n",
       "    </tr>\n",
       "    <tr>\n",
       "      <th>40</th>\n",
       "      <td>41-O</td>\n",
       "      <td>0-10</td>\n",
       "      <td>WCDMA900</td>\n",
       "      <td>1;2;3;4</td>\n",
       "      <td>[3]</td>\n",
       "      <td>[39.8]</td>\n",
       "    </tr>\n",
       "  </tbody>\n",
       "</table>\n",
       "</div>"
      ],
      "text/plain": [
       "      ID    EDT          Tech      Possible Ports  WhereToAddPower  \\\n",
       "34  41-O  0-10     WCDMA2100   5;6;7;8;9;10;11;12              [5]   \n",
       "35  41-O  0-10       LTE1800   5;6;7;8;9;10;11;12  [9, 10, 11, 12]   \n",
       "36  41-O  0-10     NR/LTE900              1;2;3;4           [3, 4]   \n",
       "37  41-O  0-10        LTE700              1;2;3;4     [1, 2, 3, 4]   \n",
       "38  41-O  0-10       LTE2600   5;6;7;8;9;10;11;12     [5, 6, 7, 8]   \n",
       "39  41-O  0-10    NR/LTE2100   5;6;7;8;9;10;11;12  [9, 10, 11, 12]   \n",
       "40  41-O  0-10      WCDMA900              1;2;3;4              [3]   \n",
       "\n",
       "                  Powers (W)  \n",
       "34                    [20.0]  \n",
       "35  [50.1, 50.1, 50.1, 50.1]  \n",
       "36              [63.1, 63.1]  \n",
       "37  [63.1, 63.1, 63.1, 63.1]  \n",
       "38  [50.1, 50.1, 50.1, 50.1]  \n",
       "39  [50.1, 50.1, 50.1, 50.1]  \n",
       "40                    [39.8]  "
      ]
     },
     "metadata": {},
     "output_type": "display_data"
    },
    {
     "name": "stdout",
     "output_type": "stream",
     "text": [
      "\u001b[1m42-O\n"
     ]
    },
    {
     "data": {
      "text/html": [
       "<div>\n",
       "<style scoped>\n",
       "    .dataframe tbody tr th:only-of-type {\n",
       "        vertical-align: middle;\n",
       "    }\n",
       "\n",
       "    .dataframe tbody tr th {\n",
       "        vertical-align: top;\n",
       "    }\n",
       "\n",
       "    .dataframe thead th {\n",
       "        text-align: right;\n",
       "    }\n",
       "</style>\n",
       "<table border=\"1\" class=\"dataframe\">\n",
       "  <thead>\n",
       "    <tr style=\"text-align: right;\">\n",
       "      <th></th>\n",
       "      <th>ID</th>\n",
       "      <th>EDT</th>\n",
       "      <th>Tech</th>\n",
       "      <th>Possible Ports</th>\n",
       "      <th>WhereToAddPower</th>\n",
       "      <th>Powers (W)</th>\n",
       "    </tr>\n",
       "  </thead>\n",
       "  <tbody>\n",
       "    <tr>\n",
       "      <th>41</th>\n",
       "      <td>42-O</td>\n",
       "      <td>3</td>\n",
       "      <td>NR3500</td>\n",
       "      <td>1;2</td>\n",
       "      <td>[1]</td>\n",
       "      <td>[79.4]</td>\n",
       "    </tr>\n",
       "  </tbody>\n",
       "</table>\n",
       "</div>"
      ],
      "text/plain": [
       "      ID EDT      Tech Possible Ports WhereToAddPower Powers (W)\n",
       "41  42-O  3    NR3500             1;2             [1]     [79.4]"
      ]
     },
     "metadata": {},
     "output_type": "display_data"
    },
    {
     "name": "stdout",
     "output_type": "stream",
     "text": [
      "\u001b[1m11-V\n"
     ]
    },
    {
     "data": {
      "text/html": [
       "<div>\n",
       "<style scoped>\n",
       "    .dataframe tbody tr th:only-of-type {\n",
       "        vertical-align: middle;\n",
       "    }\n",
       "\n",
       "    .dataframe tbody tr th {\n",
       "        vertical-align: top;\n",
       "    }\n",
       "\n",
       "    .dataframe thead th {\n",
       "        text-align: right;\n",
       "    }\n",
       "</style>\n",
       "<table border=\"1\" class=\"dataframe\">\n",
       "  <thead>\n",
       "    <tr style=\"text-align: right;\">\n",
       "      <th></th>\n",
       "      <th>ID</th>\n",
       "      <th>EDT</th>\n",
       "      <th>Tech</th>\n",
       "      <th>Possible Ports</th>\n",
       "      <th>WhereToAddPower</th>\n",
       "      <th>Powers (W)</th>\n",
       "    </tr>\n",
       "  </thead>\n",
       "  <tbody>\n",
       "    <tr>\n",
       "      <th>42</th>\n",
       "      <td>11-V</td>\n",
       "      <td>0-10</td>\n",
       "      <td>LTE2100</td>\n",
       "      <td>3;4;5;6</td>\n",
       "      <td>[6]</td>\n",
       "      <td>[50.1]</td>\n",
       "    </tr>\n",
       "    <tr>\n",
       "      <th>43</th>\n",
       "      <td>11-V</td>\n",
       "      <td>0-10</td>\n",
       "      <td>WCDMA900</td>\n",
       "      <td>1;2</td>\n",
       "      <td>[]</td>\n",
       "      <td>[]</td>\n",
       "    </tr>\n",
       "    <tr>\n",
       "      <th>44</th>\n",
       "      <td>11-V</td>\n",
       "      <td>0-10</td>\n",
       "      <td>WCDMA2100</td>\n",
       "      <td>3;4;5;6</td>\n",
       "      <td>[5]</td>\n",
       "      <td>[50.1]</td>\n",
       "    </tr>\n",
       "    <tr>\n",
       "      <th>45</th>\n",
       "      <td>11-V</td>\n",
       "      <td>0-10</td>\n",
       "      <td>LTE850</td>\n",
       "      <td>1;2</td>\n",
       "      <td>[1, 2]</td>\n",
       "      <td>[50.1, 50.1]</td>\n",
       "    </tr>\n",
       "  </tbody>\n",
       "</table>\n",
       "</div>"
      ],
      "text/plain": [
       "      ID    EDT        Tech Possible Ports WhereToAddPower    Powers (W)\n",
       "42  11-V  0-10      LTE2100        3;4;5;6             [6]        [50.1]\n",
       "43  11-V  0-10    WCDMA900             1;2              []            []\n",
       "44  11-V  0-10    WCDMA2100        3;4;5;6             [5]        [50.1]\n",
       "45  11-V  0-10       LTE850            1;2          [1, 2]  [50.1, 50.1]"
      ]
     },
     "metadata": {},
     "output_type": "display_data"
    },
    {
     "name": "stdout",
     "output_type": "stream",
     "text": [
      "\u001b[1m12-V\n"
     ]
    },
    {
     "data": {
      "text/html": [
       "<div>\n",
       "<style scoped>\n",
       "    .dataframe tbody tr th:only-of-type {\n",
       "        vertical-align: middle;\n",
       "    }\n",
       "\n",
       "    .dataframe tbody tr th {\n",
       "        vertical-align: top;\n",
       "    }\n",
       "\n",
       "    .dataframe thead th {\n",
       "        text-align: right;\n",
       "    }\n",
       "</style>\n",
       "<table border=\"1\" class=\"dataframe\">\n",
       "  <thead>\n",
       "    <tr style=\"text-align: right;\">\n",
       "      <th></th>\n",
       "      <th>ID</th>\n",
       "      <th>EDT</th>\n",
       "      <th>Tech</th>\n",
       "      <th>Possible Ports</th>\n",
       "      <th>WhereToAddPower</th>\n",
       "      <th>Powers (W)</th>\n",
       "    </tr>\n",
       "  </thead>\n",
       "  <tbody>\n",
       "    <tr>\n",
       "      <th>46</th>\n",
       "      <td>12-V</td>\n",
       "      <td>0-10</td>\n",
       "      <td>LTE850</td>\n",
       "      <td>1;2</td>\n",
       "      <td>[]</td>\n",
       "      <td>[]</td>\n",
       "    </tr>\n",
       "    <tr>\n",
       "      <th>47</th>\n",
       "      <td>12-V</td>\n",
       "      <td>0-10</td>\n",
       "      <td>WCDMA2100</td>\n",
       "      <td>3;4;5;6</td>\n",
       "      <td>[]</td>\n",
       "      <td>[]</td>\n",
       "    </tr>\n",
       "    <tr>\n",
       "      <th>48</th>\n",
       "      <td>12-V</td>\n",
       "      <td>0-10</td>\n",
       "      <td>WCDMA900</td>\n",
       "      <td>1;2</td>\n",
       "      <td>[2]</td>\n",
       "      <td>[50.1]</td>\n",
       "    </tr>\n",
       "    <tr>\n",
       "      <th>49</th>\n",
       "      <td>12-V</td>\n",
       "      <td>0-10</td>\n",
       "      <td>LTE2100</td>\n",
       "      <td>3;4;5;6</td>\n",
       "      <td>[]</td>\n",
       "      <td>[]</td>\n",
       "    </tr>\n",
       "  </tbody>\n",
       "</table>\n",
       "</div>"
      ],
      "text/plain": [
       "      ID    EDT        Tech Possible Ports WhereToAddPower Powers (W)\n",
       "46  12-V  0-10       LTE850            1;2              []         []\n",
       "47  12-V  0-10    WCDMA2100        3;4;5;6              []         []\n",
       "48  12-V  0-10    WCDMA900             1;2             [2]     [50.1]\n",
       "49  12-V  0-10      LTE2100        3;4;5;6              []         []"
      ]
     },
     "metadata": {},
     "output_type": "display_data"
    },
    {
     "name": "stdout",
     "output_type": "stream",
     "text": [
      "\u001b[1m21-V\n"
     ]
    },
    {
     "data": {
      "text/html": [
       "<div>\n",
       "<style scoped>\n",
       "    .dataframe tbody tr th:only-of-type {\n",
       "        vertical-align: middle;\n",
       "    }\n",
       "\n",
       "    .dataframe tbody tr th {\n",
       "        vertical-align: top;\n",
       "    }\n",
       "\n",
       "    .dataframe thead th {\n",
       "        text-align: right;\n",
       "    }\n",
       "</style>\n",
       "<table border=\"1\" class=\"dataframe\">\n",
       "  <thead>\n",
       "    <tr style=\"text-align: right;\">\n",
       "      <th></th>\n",
       "      <th>ID</th>\n",
       "      <th>EDT</th>\n",
       "      <th>Tech</th>\n",
       "      <th>Possible Ports</th>\n",
       "      <th>WhereToAddPower</th>\n",
       "      <th>Powers (W)</th>\n",
       "    </tr>\n",
       "  </thead>\n",
       "  <tbody>\n",
       "    <tr>\n",
       "      <th>50</th>\n",
       "      <td>21-V</td>\n",
       "      <td>0-10</td>\n",
       "      <td>WCDMA2100</td>\n",
       "      <td>3;4;5;6</td>\n",
       "      <td>[5]</td>\n",
       "      <td>[50.1]</td>\n",
       "    </tr>\n",
       "    <tr>\n",
       "      <th>51</th>\n",
       "      <td>21-V</td>\n",
       "      <td>0-10</td>\n",
       "      <td>LTE850</td>\n",
       "      <td>1;2</td>\n",
       "      <td>[1, 2]</td>\n",
       "      <td>[50.1, 50.1]</td>\n",
       "    </tr>\n",
       "    <tr>\n",
       "      <th>52</th>\n",
       "      <td>21-V</td>\n",
       "      <td>0-10</td>\n",
       "      <td>WCDMA900</td>\n",
       "      <td>1;2</td>\n",
       "      <td>[]</td>\n",
       "      <td>[]</td>\n",
       "    </tr>\n",
       "    <tr>\n",
       "      <th>53</th>\n",
       "      <td>21-V</td>\n",
       "      <td>0-10</td>\n",
       "      <td>LTE2100</td>\n",
       "      <td>3;4;5;6</td>\n",
       "      <td>[6]</td>\n",
       "      <td>[50.1]</td>\n",
       "    </tr>\n",
       "  </tbody>\n",
       "</table>\n",
       "</div>"
      ],
      "text/plain": [
       "      ID    EDT        Tech Possible Ports WhereToAddPower    Powers (W)\n",
       "50  21-V  0-10    WCDMA2100        3;4;5;6             [5]        [50.1]\n",
       "51  21-V  0-10       LTE850            1;2          [1, 2]  [50.1, 50.1]\n",
       "52  21-V  0-10    WCDMA900             1;2              []            []\n",
       "53  21-V  0-10      LTE2100        3;4;5;6             [6]        [50.1]"
      ]
     },
     "metadata": {},
     "output_type": "display_data"
    },
    {
     "name": "stdout",
     "output_type": "stream",
     "text": [
      "\u001b[1m22-V\n"
     ]
    },
    {
     "data": {
      "text/html": [
       "<div>\n",
       "<style scoped>\n",
       "    .dataframe tbody tr th:only-of-type {\n",
       "        vertical-align: middle;\n",
       "    }\n",
       "\n",
       "    .dataframe tbody tr th {\n",
       "        vertical-align: top;\n",
       "    }\n",
       "\n",
       "    .dataframe thead th {\n",
       "        text-align: right;\n",
       "    }\n",
       "</style>\n",
       "<table border=\"1\" class=\"dataframe\">\n",
       "  <thead>\n",
       "    <tr style=\"text-align: right;\">\n",
       "      <th></th>\n",
       "      <th>ID</th>\n",
       "      <th>EDT</th>\n",
       "      <th>Tech</th>\n",
       "      <th>Possible Ports</th>\n",
       "      <th>WhereToAddPower</th>\n",
       "      <th>Powers (W)</th>\n",
       "    </tr>\n",
       "  </thead>\n",
       "  <tbody>\n",
       "    <tr>\n",
       "      <th>54</th>\n",
       "      <td>22-V</td>\n",
       "      <td>0-10</td>\n",
       "      <td>WCDMA2100</td>\n",
       "      <td>3;4;5;6</td>\n",
       "      <td>[]</td>\n",
       "      <td>[]</td>\n",
       "    </tr>\n",
       "    <tr>\n",
       "      <th>55</th>\n",
       "      <td>22-V</td>\n",
       "      <td>0-10</td>\n",
       "      <td>WCDMA900</td>\n",
       "      <td>1;2</td>\n",
       "      <td>[2]</td>\n",
       "      <td>[50.1]</td>\n",
       "    </tr>\n",
       "    <tr>\n",
       "      <th>56</th>\n",
       "      <td>22-V</td>\n",
       "      <td>0-10</td>\n",
       "      <td>LTE2100</td>\n",
       "      <td>3;4;5;6</td>\n",
       "      <td>[]</td>\n",
       "      <td>[]</td>\n",
       "    </tr>\n",
       "    <tr>\n",
       "      <th>57</th>\n",
       "      <td>22-V</td>\n",
       "      <td>0-10</td>\n",
       "      <td>LTE850</td>\n",
       "      <td>1;2</td>\n",
       "      <td>[]</td>\n",
       "      <td>[]</td>\n",
       "    </tr>\n",
       "  </tbody>\n",
       "</table>\n",
       "</div>"
      ],
      "text/plain": [
       "      ID    EDT        Tech Possible Ports WhereToAddPower Powers (W)\n",
       "54  22-V  0-10    WCDMA2100        3;4;5;6              []         []\n",
       "55  22-V  0-10    WCDMA900             1;2             [2]     [50.1]\n",
       "56  22-V  0-10      LTE2100        3;4;5;6              []         []\n",
       "57  22-V  0-10       LTE850            1;2              []         []"
      ]
     },
     "metadata": {},
     "output_type": "display_data"
    },
    {
     "name": "stdout",
     "output_type": "stream",
     "text": [
      "\u001b[1m31-V\n"
     ]
    },
    {
     "data": {
      "text/html": [
       "<div>\n",
       "<style scoped>\n",
       "    .dataframe tbody tr th:only-of-type {\n",
       "        vertical-align: middle;\n",
       "    }\n",
       "\n",
       "    .dataframe tbody tr th {\n",
       "        vertical-align: top;\n",
       "    }\n",
       "\n",
       "    .dataframe thead th {\n",
       "        text-align: right;\n",
       "    }\n",
       "</style>\n",
       "<table border=\"1\" class=\"dataframe\">\n",
       "  <thead>\n",
       "    <tr style=\"text-align: right;\">\n",
       "      <th></th>\n",
       "      <th>ID</th>\n",
       "      <th>EDT</th>\n",
       "      <th>Tech</th>\n",
       "      <th>Possible Ports</th>\n",
       "      <th>WhereToAddPower</th>\n",
       "      <th>Powers (W)</th>\n",
       "    </tr>\n",
       "  </thead>\n",
       "  <tbody>\n",
       "    <tr>\n",
       "      <th>58</th>\n",
       "      <td>31-V</td>\n",
       "      <td>0-10</td>\n",
       "      <td>LTE850</td>\n",
       "      <td>1;2</td>\n",
       "      <td>[1, 2]</td>\n",
       "      <td>[50.1, 50.1]</td>\n",
       "    </tr>\n",
       "    <tr>\n",
       "      <th>59</th>\n",
       "      <td>31-V</td>\n",
       "      <td>0-10</td>\n",
       "      <td>LTE2100</td>\n",
       "      <td>3;4;5;6</td>\n",
       "      <td>[6]</td>\n",
       "      <td>[50.1]</td>\n",
       "    </tr>\n",
       "    <tr>\n",
       "      <th>60</th>\n",
       "      <td>31-V</td>\n",
       "      <td>0-10</td>\n",
       "      <td>WCDMA2100</td>\n",
       "      <td>3;4;5;6</td>\n",
       "      <td>[5]</td>\n",
       "      <td>[50.1]</td>\n",
       "    </tr>\n",
       "    <tr>\n",
       "      <th>61</th>\n",
       "      <td>31-V</td>\n",
       "      <td>0-10</td>\n",
       "      <td>WCDMA900</td>\n",
       "      <td>1;2</td>\n",
       "      <td>[]</td>\n",
       "      <td>[]</td>\n",
       "    </tr>\n",
       "  </tbody>\n",
       "</table>\n",
       "</div>"
      ],
      "text/plain": [
       "      ID    EDT        Tech Possible Ports WhereToAddPower    Powers (W)\n",
       "58  31-V  0-10       LTE850            1;2          [1, 2]  [50.1, 50.1]\n",
       "59  31-V  0-10      LTE2100        3;4;5;6             [6]        [50.1]\n",
       "60  31-V  0-10    WCDMA2100        3;4;5;6             [5]        [50.1]\n",
       "61  31-V  0-10    WCDMA900             1;2              []            []"
      ]
     },
     "metadata": {},
     "output_type": "display_data"
    },
    {
     "name": "stdout",
     "output_type": "stream",
     "text": [
      "\u001b[1m32-V\n"
     ]
    },
    {
     "data": {
      "text/html": [
       "<div>\n",
       "<style scoped>\n",
       "    .dataframe tbody tr th:only-of-type {\n",
       "        vertical-align: middle;\n",
       "    }\n",
       "\n",
       "    .dataframe tbody tr th {\n",
       "        vertical-align: top;\n",
       "    }\n",
       "\n",
       "    .dataframe thead th {\n",
       "        text-align: right;\n",
       "    }\n",
       "</style>\n",
       "<table border=\"1\" class=\"dataframe\">\n",
       "  <thead>\n",
       "    <tr style=\"text-align: right;\">\n",
       "      <th></th>\n",
       "      <th>ID</th>\n",
       "      <th>EDT</th>\n",
       "      <th>Tech</th>\n",
       "      <th>Possible Ports</th>\n",
       "      <th>WhereToAddPower</th>\n",
       "      <th>Powers (W)</th>\n",
       "    </tr>\n",
       "  </thead>\n",
       "  <tbody>\n",
       "    <tr>\n",
       "      <th>62</th>\n",
       "      <td>32-V</td>\n",
       "      <td>0-10</td>\n",
       "      <td>WCDMA900</td>\n",
       "      <td>1;2</td>\n",
       "      <td>[2]</td>\n",
       "      <td>[50.1]</td>\n",
       "    </tr>\n",
       "    <tr>\n",
       "      <th>63</th>\n",
       "      <td>32-V</td>\n",
       "      <td>0-10</td>\n",
       "      <td>LTE850</td>\n",
       "      <td>1;2</td>\n",
       "      <td>[]</td>\n",
       "      <td>[]</td>\n",
       "    </tr>\n",
       "    <tr>\n",
       "      <th>64</th>\n",
       "      <td>32-V</td>\n",
       "      <td>0-10</td>\n",
       "      <td>LTE2100</td>\n",
       "      <td>3;4;5;6</td>\n",
       "      <td>[]</td>\n",
       "      <td>[]</td>\n",
       "    </tr>\n",
       "    <tr>\n",
       "      <th>65</th>\n",
       "      <td>32-V</td>\n",
       "      <td>0-10</td>\n",
       "      <td>WCDMA2100</td>\n",
       "      <td>3;4;5;6</td>\n",
       "      <td>[]</td>\n",
       "      <td>[]</td>\n",
       "    </tr>\n",
       "  </tbody>\n",
       "</table>\n",
       "</div>"
      ],
      "text/plain": [
       "      ID    EDT        Tech Possible Ports WhereToAddPower Powers (W)\n",
       "62  32-V  0-10    WCDMA900             1;2             [2]     [50.1]\n",
       "63  32-V  0-10       LTE850            1;2              []         []\n",
       "64  32-V  0-10      LTE2100        3;4;5;6              []         []\n",
       "65  32-V  0-10    WCDMA2100        3;4;5;6              []         []"
      ]
     },
     "metadata": {},
     "output_type": "display_data"
    },
    {
     "name": "stdout",
     "output_type": "stream",
     "text": [
      "\u001b[1mB1\n"
     ]
    },
    {
     "data": {
      "text/html": [
       "<div>\n",
       "<style scoped>\n",
       "    .dataframe tbody tr th:only-of-type {\n",
       "        vertical-align: middle;\n",
       "    }\n",
       "\n",
       "    .dataframe tbody tr th {\n",
       "        vertical-align: top;\n",
       "    }\n",
       "\n",
       "    .dataframe thead th {\n",
       "        text-align: right;\n",
       "    }\n",
       "</style>\n",
       "<table border=\"1\" class=\"dataframe\">\n",
       "  <thead>\n",
       "    <tr style=\"text-align: right;\">\n",
       "      <th></th>\n",
       "      <th>ID</th>\n",
       "      <th>EDT</th>\n",
       "      <th>Tech</th>\n",
       "      <th>Possible Ports</th>\n",
       "      <th>WhereToAddPower</th>\n",
       "      <th>Powers (W)</th>\n",
       "    </tr>\n",
       "  </thead>\n",
       "  <tbody>\n",
       "    <tr>\n",
       "      <th>66</th>\n",
       "      <td>B1</td>\n",
       "      <td>0-10</td>\n",
       "      <td>LTE3500</td>\n",
       "      <td>1;2;3;4</td>\n",
       "      <td>[1, 2]</td>\n",
       "      <td>[39.8, 39.8]</td>\n",
       "    </tr>\n",
       "    <tr>\n",
       "      <th>69</th>\n",
       "      <td>B1</td>\n",
       "      <td>0-10</td>\n",
       "      <td>LTE3500</td>\n",
       "      <td>1;2;3;4</td>\n",
       "      <td>[3, 4]</td>\n",
       "      <td>[39.8, 39.8]</td>\n",
       "    </tr>\n",
       "  </tbody>\n",
       "</table>\n",
       "</div>"
      ],
      "text/plain": [
       "    ID    EDT       Tech Possible Ports WhereToAddPower    Powers (W)\n",
       "66  B1  0-10    LTE3500         1;2;3;4          [1, 2]  [39.8, 39.8]\n",
       "69  B1  0-10    LTE3500         1;2;3;4          [3, 4]  [39.8, 39.8]"
      ]
     },
     "metadata": {},
     "output_type": "display_data"
    },
    {
     "name": "stdout",
     "output_type": "stream",
     "text": [
      "\u001b[1m1\n"
     ]
    },
    {
     "data": {
      "text/html": [
       "<div>\n",
       "<style scoped>\n",
       "    .dataframe tbody tr th:only-of-type {\n",
       "        vertical-align: middle;\n",
       "    }\n",
       "\n",
       "    .dataframe tbody tr th {\n",
       "        vertical-align: top;\n",
       "    }\n",
       "\n",
       "    .dataframe thead th {\n",
       "        text-align: right;\n",
       "    }\n",
       "</style>\n",
       "<table border=\"1\" class=\"dataframe\">\n",
       "  <thead>\n",
       "    <tr style=\"text-align: right;\">\n",
       "      <th></th>\n",
       "      <th>ID</th>\n",
       "      <th>EDT</th>\n",
       "      <th>Tech</th>\n",
       "      <th>Possible Ports</th>\n",
       "      <th>WhereToAddPower</th>\n",
       "      <th>Powers (W)</th>\n",
       "    </tr>\n",
       "  </thead>\n",
       "  <tbody>\n",
       "    <tr>\n",
       "      <th>67</th>\n",
       "      <td>1</td>\n",
       "      <td>0-10</td>\n",
       "      <td>LTE2300</td>\n",
       "      <td>1;2;3;4</td>\n",
       "      <td>[3, 4]</td>\n",
       "      <td>[39.8, 39.8]</td>\n",
       "    </tr>\n",
       "    <tr>\n",
       "      <th>68</th>\n",
       "      <td>1</td>\n",
       "      <td>0-10</td>\n",
       "      <td>LTE2300</td>\n",
       "      <td>1;2;3;4</td>\n",
       "      <td>[1, 2]</td>\n",
       "      <td>[39.8, 39.8]</td>\n",
       "    </tr>\n",
       "  </tbody>\n",
       "</table>\n",
       "</div>"
      ],
      "text/plain": [
       "   ID    EDT       Tech Possible Ports WhereToAddPower    Powers (W)\n",
       "67  1  0-10    LTE2300         1;2;3;4          [3, 4]  [39.8, 39.8]\n",
       "68  1  0-10    LTE2300         1;2;3;4          [1, 2]  [39.8, 39.8]"
      ]
     },
     "metadata": {},
     "output_type": "display_data"
    },
    {
     "name": "stdout",
     "output_type": "stream",
     "text": [
      "\u001b[1mGRNA02\n"
     ]
    },
    {
     "data": {
      "text/html": [
       "<div>\n",
       "<style scoped>\n",
       "    .dataframe tbody tr th:only-of-type {\n",
       "        vertical-align: middle;\n",
       "    }\n",
       "\n",
       "    .dataframe tbody tr th {\n",
       "        vertical-align: top;\n",
       "    }\n",
       "\n",
       "    .dataframe thead th {\n",
       "        text-align: right;\n",
       "    }\n",
       "</style>\n",
       "<table border=\"1\" class=\"dataframe\">\n",
       "  <thead>\n",
       "    <tr style=\"text-align: right;\">\n",
       "      <th></th>\n",
       "      <th>ID</th>\n",
       "      <th>EDT</th>\n",
       "      <th>Tech</th>\n",
       "      <th>Possible Ports</th>\n",
       "      <th>WhereToAddPower</th>\n",
       "      <th>Powers (W)</th>\n",
       "    </tr>\n",
       "  </thead>\n",
       "  <tbody>\n",
       "    <tr>\n",
       "      <th>70</th>\n",
       "      <td>GRNA02</td>\n",
       "      <td>0</td>\n",
       "      <td>Gov. Radio Network</td>\n",
       "      <td>0</td>\n",
       "      <td>[1]</td>\n",
       "      <td>[79.4]</td>\n",
       "    </tr>\n",
       "  </tbody>\n",
       "</table>\n",
       "</div>"
      ],
      "text/plain": [
       "        ID EDT                 Tech Possible Ports WhereToAddPower Powers (W)\n",
       "70  GRNA02  0    Gov. Radio Network              0             [1]     [79.4]"
      ]
     },
     "metadata": {},
     "output_type": "display_data"
    },
    {
     "name": "stdout",
     "output_type": "stream",
     "text": [
      "\u001b[1m2\n"
     ]
    },
    {
     "data": {
      "text/html": [
       "<div>\n",
       "<style scoped>\n",
       "    .dataframe tbody tr th:only-of-type {\n",
       "        vertical-align: middle;\n",
       "    }\n",
       "\n",
       "    .dataframe tbody tr th {\n",
       "        vertical-align: top;\n",
       "    }\n",
       "\n",
       "    .dataframe thead th {\n",
       "        text-align: right;\n",
       "    }\n",
       "</style>\n",
       "<table border=\"1\" class=\"dataframe\">\n",
       "  <thead>\n",
       "    <tr style=\"text-align: right;\">\n",
       "      <th></th>\n",
       "      <th>ID</th>\n",
       "      <th>EDT</th>\n",
       "      <th>Tech</th>\n",
       "      <th>Possible Ports</th>\n",
       "      <th>WhereToAddPower</th>\n",
       "      <th>Powers (W)</th>\n",
       "    </tr>\n",
       "  </thead>\n",
       "  <tbody>\n",
       "    <tr>\n",
       "      <th>71</th>\n",
       "      <td>2</td>\n",
       "      <td>0-10</td>\n",
       "      <td>LTE2300</td>\n",
       "      <td>1;2;3;4</td>\n",
       "      <td>[1, 2]</td>\n",
       "      <td>[39.8, 39.8]</td>\n",
       "    </tr>\n",
       "  </tbody>\n",
       "</table>\n",
       "</div>"
      ],
      "text/plain": [
       "   ID    EDT       Tech Possible Ports WhereToAddPower    Powers (W)\n",
       "71  2  0-10    LTE2300         1;2;3;4          [1, 2]  [39.8, 39.8]"
      ]
     },
     "metadata": {},
     "output_type": "display_data"
    },
    {
     "name": "stdout",
     "output_type": "stream",
     "text": [
      "\u001b[1m3\n"
     ]
    },
    {
     "data": {
      "text/html": [
       "<div>\n",
       "<style scoped>\n",
       "    .dataframe tbody tr th:only-of-type {\n",
       "        vertical-align: middle;\n",
       "    }\n",
       "\n",
       "    .dataframe tbody tr th {\n",
       "        vertical-align: top;\n",
       "    }\n",
       "\n",
       "    .dataframe thead th {\n",
       "        text-align: right;\n",
       "    }\n",
       "</style>\n",
       "<table border=\"1\" class=\"dataframe\">\n",
       "  <thead>\n",
       "    <tr style=\"text-align: right;\">\n",
       "      <th></th>\n",
       "      <th>ID</th>\n",
       "      <th>EDT</th>\n",
       "      <th>Tech</th>\n",
       "      <th>Possible Ports</th>\n",
       "      <th>WhereToAddPower</th>\n",
       "      <th>Powers (W)</th>\n",
       "    </tr>\n",
       "  </thead>\n",
       "  <tbody>\n",
       "    <tr>\n",
       "      <th>72</th>\n",
       "      <td>3</td>\n",
       "      <td>0-10</td>\n",
       "      <td>LTE2300</td>\n",
       "      <td>1;2;3;4</td>\n",
       "      <td>[3, 4]</td>\n",
       "      <td>[39.8, 39.8]</td>\n",
       "    </tr>\n",
       "    <tr>\n",
       "      <th>73</th>\n",
       "      <td>3</td>\n",
       "      <td>0-10</td>\n",
       "      <td>LTE2300</td>\n",
       "      <td>1;2;3;4</td>\n",
       "      <td>[1, 2]</td>\n",
       "      <td>[39.8, 39.8]</td>\n",
       "    </tr>\n",
       "  </tbody>\n",
       "</table>\n",
       "</div>"
      ],
      "text/plain": [
       "   ID    EDT       Tech Possible Ports WhereToAddPower    Powers (W)\n",
       "72  3  0-10    LTE2300         1;2;3;4          [3, 4]  [39.8, 39.8]\n",
       "73  3  0-10    LTE2300         1;2;3;4          [1, 2]  [39.8, 39.8]"
      ]
     },
     "metadata": {},
     "output_type": "display_data"
    },
    {
     "name": "stdout",
     "output_type": "stream",
     "text": [
      "\u001b[1m4\n"
     ]
    },
    {
     "data": {
      "text/html": [
       "<div>\n",
       "<style scoped>\n",
       "    .dataframe tbody tr th:only-of-type {\n",
       "        vertical-align: middle;\n",
       "    }\n",
       "\n",
       "    .dataframe tbody tr th {\n",
       "        vertical-align: top;\n",
       "    }\n",
       "\n",
       "    .dataframe thead th {\n",
       "        text-align: right;\n",
       "    }\n",
       "</style>\n",
       "<table border=\"1\" class=\"dataframe\">\n",
       "  <thead>\n",
       "    <tr style=\"text-align: right;\">\n",
       "      <th></th>\n",
       "      <th>ID</th>\n",
       "      <th>EDT</th>\n",
       "      <th>Tech</th>\n",
       "      <th>Possible Ports</th>\n",
       "      <th>WhereToAddPower</th>\n",
       "      <th>Powers (W)</th>\n",
       "    </tr>\n",
       "  </thead>\n",
       "  <tbody>\n",
       "    <tr>\n",
       "      <th>74</th>\n",
       "      <td>4</td>\n",
       "      <td>0-10</td>\n",
       "      <td>LTE2300</td>\n",
       "      <td>1;2;3;4</td>\n",
       "      <td>[1, 2]</td>\n",
       "      <td>[39.8, 39.8]</td>\n",
       "    </tr>\n",
       "  </tbody>\n",
       "</table>\n",
       "</div>"
      ],
      "text/plain": [
       "   ID    EDT       Tech Possible Ports WhereToAddPower    Powers (W)\n",
       "74  4  0-10    LTE2300         1;2;3;4          [1, 2]  [39.8, 39.8]"
      ]
     },
     "metadata": {},
     "output_type": "display_data"
    },
    {
     "name": "stdout",
     "output_type": "stream",
     "text": [
      "\u001b[1m5\n"
     ]
    },
    {
     "data": {
      "text/html": [
       "<div>\n",
       "<style scoped>\n",
       "    .dataframe tbody tr th:only-of-type {\n",
       "        vertical-align: middle;\n",
       "    }\n",
       "\n",
       "    .dataframe tbody tr th {\n",
       "        vertical-align: top;\n",
       "    }\n",
       "\n",
       "    .dataframe thead th {\n",
       "        text-align: right;\n",
       "    }\n",
       "</style>\n",
       "<table border=\"1\" class=\"dataframe\">\n",
       "  <thead>\n",
       "    <tr style=\"text-align: right;\">\n",
       "      <th></th>\n",
       "      <th>ID</th>\n",
       "      <th>EDT</th>\n",
       "      <th>Tech</th>\n",
       "      <th>Possible Ports</th>\n",
       "      <th>WhereToAddPower</th>\n",
       "      <th>Powers (W)</th>\n",
       "    </tr>\n",
       "  </thead>\n",
       "  <tbody>\n",
       "    <tr>\n",
       "      <th>75</th>\n",
       "      <td>5</td>\n",
       "      <td>0-10</td>\n",
       "      <td>LTE2300</td>\n",
       "      <td>1;2;3;4</td>\n",
       "      <td>[1, 2]</td>\n",
       "      <td>[39.8, 39.8]</td>\n",
       "    </tr>\n",
       "    <tr>\n",
       "      <th>76</th>\n",
       "      <td>5</td>\n",
       "      <td>0-10</td>\n",
       "      <td>LTE2300</td>\n",
       "      <td>1;2;3;4</td>\n",
       "      <td>[3, 4]</td>\n",
       "      <td>[39.8, 39.8]</td>\n",
       "    </tr>\n",
       "  </tbody>\n",
       "</table>\n",
       "</div>"
      ],
      "text/plain": [
       "   ID    EDT       Tech Possible Ports WhereToAddPower    Powers (W)\n",
       "75  5  0-10    LTE2300         1;2;3;4          [1, 2]  [39.8, 39.8]\n",
       "76  5  0-10    LTE2300         1;2;3;4          [3, 4]  [39.8, 39.8]"
      ]
     },
     "metadata": {},
     "output_type": "display_data"
    },
    {
     "name": "stdout",
     "output_type": "stream",
     "text": [
      "\u001b[1m6\n"
     ]
    },
    {
     "data": {
      "text/html": [
       "<div>\n",
       "<style scoped>\n",
       "    .dataframe tbody tr th:only-of-type {\n",
       "        vertical-align: middle;\n",
       "    }\n",
       "\n",
       "    .dataframe tbody tr th {\n",
       "        vertical-align: top;\n",
       "    }\n",
       "\n",
       "    .dataframe thead th {\n",
       "        text-align: right;\n",
       "    }\n",
       "</style>\n",
       "<table border=\"1\" class=\"dataframe\">\n",
       "  <thead>\n",
       "    <tr style=\"text-align: right;\">\n",
       "      <th></th>\n",
       "      <th>ID</th>\n",
       "      <th>EDT</th>\n",
       "      <th>Tech</th>\n",
       "      <th>Possible Ports</th>\n",
       "      <th>WhereToAddPower</th>\n",
       "      <th>Powers (W)</th>\n",
       "    </tr>\n",
       "  </thead>\n",
       "  <tbody>\n",
       "    <tr>\n",
       "      <th>77</th>\n",
       "      <td>6</td>\n",
       "      <td>0-10</td>\n",
       "      <td>LTE2300</td>\n",
       "      <td>1;2;3;4</td>\n",
       "      <td>[1, 2]</td>\n",
       "      <td>[39.8, 39.8]</td>\n",
       "    </tr>\n",
       "  </tbody>\n",
       "</table>\n",
       "</div>"
      ],
      "text/plain": [
       "   ID    EDT       Tech Possible Ports WhereToAddPower    Powers (W)\n",
       "77  6  0-10    LTE2300         1;2;3;4          [1, 2]  [39.8, 39.8]"
      ]
     },
     "metadata": {},
     "output_type": "display_data"
    }
   ],
   "source": [
    "display('Set Power and Frequency to ports in Prox5')\n",
    "for i in IDUnique:\n",
    "        print(text_format.BOLD+str(i))\n",
    "        display(df.loc[(df['ID'] == i),['ID','EDT','Tech','Possible Ports','WhereToAddPower','Powers (W)']])"
   ]
  },
  {
   "cell_type": "markdown",
   "id": "747576e0",
   "metadata": {},
   "source": [
    "## EMEG Equipment List"
   ]
  },
  {
   "cell_type": "code",
   "execution_count": 21,
   "id": "94b304b6",
   "metadata": {},
   "outputs": [
    {
     "data": {
      "text/plain": [
       "'A'"
      ]
     },
     "metadata": {},
     "output_type": "display_data"
    },
    {
     "data": {
      "text/plain": [
       "'GRNA01L'"
      ]
     },
     "metadata": {},
     "output_type": "display_data"
    },
    {
     "data": {
      "text/plain": [
       "0"
      ]
     },
     "metadata": {},
     "output_type": "display_data"
    },
    {
     "data": {
      "text/plain": [
       "'GRNA01U'"
      ]
     },
     "metadata": {},
     "output_type": "display_data"
    },
    {
     "data": {
      "text/plain": [
       "0"
      ]
     },
     "metadata": {},
     "output_type": "display_data"
    },
    {
     "data": {
      "text/plain": [
       "'11-O'"
      ]
     },
     "metadata": {},
     "output_type": "display_data"
    },
    {
     "data": {
      "text/plain": [
       "2"
      ]
     },
     "metadata": {},
     "output_type": "display_data"
    },
    {
     "data": {
      "text/plain": [
       "'11-O'"
      ]
     },
     "metadata": {},
     "output_type": "display_data"
    },
    {
     "data": {
      "text/plain": [
       "1"
      ]
     },
     "metadata": {},
     "output_type": "display_data"
    },
    {
     "data": {
      "text/plain": [
       "'11-O'"
      ]
     },
     "metadata": {},
     "output_type": "display_data"
    },
    {
     "data": {
      "text/plain": [
       "'11-O'"
      ]
     },
     "metadata": {},
     "output_type": "display_data"
    },
    {
     "data": {
      "text/plain": [
       "'11-O'"
      ]
     },
     "metadata": {},
     "output_type": "display_data"
    },
    {
     "data": {
      "text/plain": [
       "'11-O'"
      ]
     },
     "metadata": {},
     "output_type": "display_data"
    },
    {
     "data": {
      "text/plain": [
       "'11-O'"
      ]
     },
     "metadata": {},
     "output_type": "display_data"
    },
    {
     "data": {
      "text/plain": [
       "'12-O'"
      ]
     },
     "metadata": {},
     "output_type": "display_data"
    },
    {
     "data": {
      "text/plain": [
       "0"
      ]
     },
     "metadata": {},
     "output_type": "display_data"
    },
    {
     "data": {
      "text/plain": [
       "'21-O'"
      ]
     },
     "metadata": {},
     "output_type": "display_data"
    },
    {
     "data": {
      "text/plain": [
       "1"
      ]
     },
     "metadata": {},
     "output_type": "display_data"
    },
    {
     "data": {
      "text/plain": [
       "'21-O'"
      ]
     },
     "metadata": {},
     "output_type": "display_data"
    },
    {
     "data": {
      "text/plain": [
       "2"
      ]
     },
     "metadata": {},
     "output_type": "display_data"
    },
    {
     "data": {
      "text/plain": [
       "'21-O'"
      ]
     },
     "metadata": {},
     "output_type": "display_data"
    },
    {
     "data": {
      "text/plain": [
       "'21-O'"
      ]
     },
     "metadata": {},
     "output_type": "display_data"
    },
    {
     "data": {
      "text/plain": [
       "'22-O'"
      ]
     },
     "metadata": {},
     "output_type": "display_data"
    },
    {
     "data": {
      "text/plain": [
       "0"
      ]
     },
     "metadata": {},
     "output_type": "display_data"
    },
    {
     "data": {
      "text/plain": [
       "'23-O'"
      ]
     },
     "metadata": {},
     "output_type": "display_data"
    },
    {
     "data": {
      "text/plain": [
       "'23-O'"
      ]
     },
     "metadata": {},
     "output_type": "display_data"
    },
    {
     "data": {
      "text/plain": [
       "'23-O'"
      ]
     },
     "metadata": {},
     "output_type": "display_data"
    },
    {
     "data": {
      "text/plain": [
       "'23-O'"
      ]
     },
     "metadata": {},
     "output_type": "display_data"
    },
    {
     "data": {
      "text/plain": [
       "'23-O'"
      ]
     },
     "metadata": {},
     "output_type": "display_data"
    },
    {
     "data": {
      "text/plain": [
       "'23-O'"
      ]
     },
     "metadata": {},
     "output_type": "display_data"
    },
    {
     "data": {
      "text/plain": [
       "'23-O'"
      ]
     },
     "metadata": {},
     "output_type": "display_data"
    },
    {
     "data": {
      "text/plain": [
       "'23-O'"
      ]
     },
     "metadata": {},
     "output_type": "display_data"
    },
    {
     "data": {
      "text/plain": [
       "'23-O'"
      ]
     },
     "metadata": {},
     "output_type": "display_data"
    },
    {
     "data": {
      "text/plain": [
       "'31-O'"
      ]
     },
     "metadata": {},
     "output_type": "display_data"
    },
    {
     "data": {
      "text/plain": [
       "'31-O'"
      ]
     },
     "metadata": {},
     "output_type": "display_data"
    },
    {
     "data": {
      "text/plain": [
       "1"
      ]
     },
     "metadata": {},
     "output_type": "display_data"
    },
    {
     "data": {
      "text/plain": [
       "'31-O'"
      ]
     },
     "metadata": {},
     "output_type": "display_data"
    },
    {
     "data": {
      "text/plain": [
       "'31-O'"
      ]
     },
     "metadata": {},
     "output_type": "display_data"
    },
    {
     "data": {
      "text/plain": [
       "2"
      ]
     },
     "metadata": {},
     "output_type": "display_data"
    },
    {
     "data": {
      "text/plain": [
       "'31-O'"
      ]
     },
     "metadata": {},
     "output_type": "display_data"
    },
    {
     "data": {
      "text/plain": [
       "'31-O'"
      ]
     },
     "metadata": {},
     "output_type": "display_data"
    },
    {
     "data": {
      "text/plain": [
       "'31-O'"
      ]
     },
     "metadata": {},
     "output_type": "display_data"
    },
    {
     "data": {
      "text/plain": [
       "'32-O'"
      ]
     },
     "metadata": {},
     "output_type": "display_data"
    },
    {
     "data": {
      "text/plain": [
       "0"
      ]
     },
     "metadata": {},
     "output_type": "display_data"
    },
    {
     "data": {
      "text/plain": [
       "'41-O'"
      ]
     },
     "metadata": {},
     "output_type": "display_data"
    },
    {
     "data": {
      "text/plain": [
       "2"
      ]
     },
     "metadata": {},
     "output_type": "display_data"
    },
    {
     "data": {
      "text/plain": [
       "'41-O'"
      ]
     },
     "metadata": {},
     "output_type": "display_data"
    },
    {
     "data": {
      "text/plain": [
       "'41-O'"
      ]
     },
     "metadata": {},
     "output_type": "display_data"
    },
    {
     "data": {
      "text/plain": [
       "'41-O'"
      ]
     },
     "metadata": {},
     "output_type": "display_data"
    },
    {
     "data": {
      "text/plain": [
       "'41-O'"
      ]
     },
     "metadata": {},
     "output_type": "display_data"
    },
    {
     "data": {
      "text/plain": [
       "'41-O'"
      ]
     },
     "metadata": {},
     "output_type": "display_data"
    },
    {
     "data": {
      "text/plain": [
       "'41-O'"
      ]
     },
     "metadata": {},
     "output_type": "display_data"
    },
    {
     "data": {
      "text/plain": [
       "1"
      ]
     },
     "metadata": {},
     "output_type": "display_data"
    },
    {
     "data": {
      "text/plain": [
       "'42-O'"
      ]
     },
     "metadata": {},
     "output_type": "display_data"
    },
    {
     "data": {
      "text/plain": [
       "0"
      ]
     },
     "metadata": {},
     "output_type": "display_data"
    },
    {
     "data": {
      "text/plain": [
       "'11-V'"
      ]
     },
     "metadata": {},
     "output_type": "display_data"
    },
    {
     "data": {
      "text/plain": [
       "2"
      ]
     },
     "metadata": {},
     "output_type": "display_data"
    },
    {
     "data": {
      "text/plain": [
       "'11-V'"
      ]
     },
     "metadata": {},
     "output_type": "display_data"
    },
    {
     "data": {
      "text/plain": [
       "'11-V'"
      ]
     },
     "metadata": {},
     "output_type": "display_data"
    },
    {
     "data": {
      "text/plain": [
       "2"
      ]
     },
     "metadata": {},
     "output_type": "display_data"
    },
    {
     "data": {
      "text/plain": [
       "'11-V'"
      ]
     },
     "metadata": {},
     "output_type": "display_data"
    },
    {
     "data": {
      "text/plain": [
       "'12-V'"
      ]
     },
     "metadata": {},
     "output_type": "display_data"
    },
    {
     "data": {
      "text/plain": [
       "'12-V'"
      ]
     },
     "metadata": {},
     "output_type": "display_data"
    },
    {
     "data": {
      "text/plain": [
       "'12-V'"
      ]
     },
     "metadata": {},
     "output_type": "display_data"
    },
    {
     "data": {
      "text/plain": [
       "0"
      ]
     },
     "metadata": {},
     "output_type": "display_data"
    },
    {
     "data": {
      "text/plain": [
       "'12-V'"
      ]
     },
     "metadata": {},
     "output_type": "display_data"
    },
    {
     "data": {
      "text/plain": [
       "'21-V'"
      ]
     },
     "metadata": {},
     "output_type": "display_data"
    },
    {
     "data": {
      "text/plain": [
       "2"
      ]
     },
     "metadata": {},
     "output_type": "display_data"
    },
    {
     "data": {
      "text/plain": [
       "'21-V'"
      ]
     },
     "metadata": {},
     "output_type": "display_data"
    },
    {
     "data": {
      "text/plain": [
       "'21-V'"
      ]
     },
     "metadata": {},
     "output_type": "display_data"
    },
    {
     "data": {
      "text/plain": [
       "'21-V'"
      ]
     },
     "metadata": {},
     "output_type": "display_data"
    },
    {
     "data": {
      "text/plain": [
       "2"
      ]
     },
     "metadata": {},
     "output_type": "display_data"
    },
    {
     "data": {
      "text/plain": [
       "'22-V'"
      ]
     },
     "metadata": {},
     "output_type": "display_data"
    },
    {
     "data": {
      "text/plain": [
       "'22-V'"
      ]
     },
     "metadata": {},
     "output_type": "display_data"
    },
    {
     "data": {
      "text/plain": [
       "0"
      ]
     },
     "metadata": {},
     "output_type": "display_data"
    },
    {
     "data": {
      "text/plain": [
       "'22-V'"
      ]
     },
     "metadata": {},
     "output_type": "display_data"
    },
    {
     "data": {
      "text/plain": [
       "'22-V'"
      ]
     },
     "metadata": {},
     "output_type": "display_data"
    },
    {
     "data": {
      "text/plain": [
       "'31-V'"
      ]
     },
     "metadata": {},
     "output_type": "display_data"
    },
    {
     "data": {
      "text/plain": [
       "'31-V'"
      ]
     },
     "metadata": {},
     "output_type": "display_data"
    },
    {
     "data": {
      "text/plain": [
       "2"
      ]
     },
     "metadata": {},
     "output_type": "display_data"
    },
    {
     "data": {
      "text/plain": [
       "'31-V'"
      ]
     },
     "metadata": {},
     "output_type": "display_data"
    },
    {
     "data": {
      "text/plain": [
       "2"
      ]
     },
     "metadata": {},
     "output_type": "display_data"
    },
    {
     "data": {
      "text/plain": [
       "'31-V'"
      ]
     },
     "metadata": {},
     "output_type": "display_data"
    },
    {
     "data": {
      "text/plain": [
       "'32-V'"
      ]
     },
     "metadata": {},
     "output_type": "display_data"
    },
    {
     "data": {
      "text/plain": [
       "0"
      ]
     },
     "metadata": {},
     "output_type": "display_data"
    },
    {
     "data": {
      "text/plain": [
       "'32-V'"
      ]
     },
     "metadata": {},
     "output_type": "display_data"
    },
    {
     "data": {
      "text/plain": [
       "'32-V'"
      ]
     },
     "metadata": {},
     "output_type": "display_data"
    },
    {
     "data": {
      "text/plain": [
       "'32-V'"
      ]
     },
     "metadata": {},
     "output_type": "display_data"
    },
    {
     "data": {
      "text/plain": [
       "'B1'"
      ]
     },
     "metadata": {},
     "output_type": "display_data"
    },
    {
     "data": {
      "text/plain": [
       "'B1'"
      ]
     },
     "metadata": {},
     "output_type": "display_data"
    },
    {
     "data": {
      "text/plain": [
       "1"
      ]
     },
     "metadata": {},
     "output_type": "display_data"
    },
    {
     "data": {
      "text/plain": [
       "1"
      ]
     },
     "metadata": {},
     "output_type": "display_data"
    },
    {
     "data": {
      "text/plain": [
       "'GRNA02'"
      ]
     },
     "metadata": {},
     "output_type": "display_data"
    },
    {
     "data": {
      "text/plain": [
       "0"
      ]
     },
     "metadata": {},
     "output_type": "display_data"
    },
    {
     "data": {
      "text/plain": [
       "2"
      ]
     },
     "metadata": {},
     "output_type": "display_data"
    },
    {
     "data": {
      "text/plain": [
       "3"
      ]
     },
     "metadata": {},
     "output_type": "display_data"
    },
    {
     "data": {
      "text/plain": [
       "3"
      ]
     },
     "metadata": {},
     "output_type": "display_data"
    },
    {
     "data": {
      "text/plain": [
       "4"
      ]
     },
     "metadata": {},
     "output_type": "display_data"
    },
    {
     "data": {
      "text/plain": [
       "5"
      ]
     },
     "metadata": {},
     "output_type": "display_data"
    },
    {
     "data": {
      "text/plain": [
       "5"
      ]
     },
     "metadata": {},
     "output_type": "display_data"
    },
    {
     "data": {
      "text/plain": [
       "6"
      ]
     },
     "metadata": {},
     "output_type": "display_data"
    }
   ],
   "source": [
    "\n",
    "totalPortsdict = {}\n",
    "for idantenna in IDUnique:\n",
    "    totalPorts = list(dict.fromkeys(df.loc[df['ID'] == idantenna, 'Total Ports']))\n",
    "    totalPortsdict[idantenna] = totalPorts\n",
    "    \n",
    "#display(totalPortsdict)   \n",
    "#print(df.loc[(df['ID']=='11-O'), ['EDT','Sector','WhereToAddPower','Power (W)']])\n",
    "#display(df.loc[(df['ID'] == i),['ID','Height','Bearing','MDT']])\n",
    "\n",
    "listpow = []\n",
    "listsec = []\n",
    "x = 0\n",
    "yprev = 0\n",
    "for AntId, AntPorts in totalPortsdict.items():\n",
    "    templistpow = [''] * (int(AntPorts[0] / 2) + int(AntPorts[0] % 2))\n",
    "    templistsec = [''] * (int(AntPorts[0] / 2) + int(AntPorts[0] % 2))\n",
    "    tempdf = df.loc[(df['ID']==AntId), ['EDT','System/Sector','WhereToAddPower','Powers (W)']]\n",
    "    for sector, port, power in zip(tempdf['System/Sector'], tempdf['WhereToAddPower'], tempdf['Powers (W)']):\n",
    "        display(AntId)\n",
    "        if len(port)>1:\n",
    "            for x, y in enumerate(port):       \n",
    "                if sector not in templistsec[math.ceil(int(y)/2)-1]:\n",
    "                    templistsec[math.ceil(int(y)/2)-1] += sector +'\\n'\n",
    "                    templistpow[math.ceil(int(y)/2)-1] += '\\n'\n",
    "                templistpow[math.ceil(int(y)/2)-1] += '+' + str(power[x])\n",
    "        if len(port)==1:\n",
    "            for x, y in enumerate(port):\n",
    "                display(math.ceil(int(y)/2)-1)\n",
    "                templistsec[math.ceil(int(y)/2)-1] += sector +'\\n'\n",
    "                if y%2==0:\n",
    "                    templistpow[math.ceil(int(y)/2)-1] += '\\n0++' + str(power[x])\n",
    "                else:\n",
    "                    templistpow[math.ceil(int(y)/2)-1] += '\\n' + str(power[x]) + '++0'\n",
    "            \n",
    "    listpow.append(templistpow)\n",
    "    listsec.append(templistsec)\n",
    "\n",
    "for index1, x in enumerate(listpow):\n",
    "    for index2, y in enumerate(x):\n",
    "        if y == '':\n",
    "            listpow[index1][index2] = '0'\n",
    "        \n",
    "for index1, x in enumerate(listsec):\n",
    "    for index2, y in enumerate(x):\n",
    "        if y == '':\n",
    "            listsec[index1][index2] = '-'\n",
    "        \n",
    "\n",
    "EquipmentList = pd.DataFrame(totalPortsdict.items(), columns=['ID', 'No. of ports'])\n",
    "EquipmentList['System/Sector'] = listsec\n",
    "EquipmentList['Power (W)'] = listpow\n",
    "\n",
    "EquipmentList_final = pd.DataFrame([], columns=['ID','System/Sector', 'Power (W)'])\n",
    "\n",
    "for a, x, y in zip(EquipmentList['ID'],EquipmentList['System/Sector'], EquipmentList['Power (W)']): \n",
    "        EquipmentListAntenna = pd.DataFrame([a]*len(x),columns=['ID'])\n",
    "        EquipmentListAntenna['System/Sector'] = x\n",
    "        EquipmentListAntenna['Power (W)'] = y\n",
    "        EquipmentList_final = pd.concat([EquipmentList_final, EquipmentListAntenna], axis=0)\n",
    "\n",
    "EquipmentList_final['Power (W)'] = EquipmentList_final['Power (W)'].str.replace('\\+', '', 1, regex=True)\n",
    "EquipmentList_final['Power (W)'] = EquipmentList_final['Power (W)'].str.replace('\\+\\+', '+', regex=True)\n",
    "EquipmentList_final['Power (W)'] = EquipmentList_final['Power (W)'].str.replace('\\\\n\\+', '\\\\n', regex=True)\n",
    "EquipmentList_final['Power (W)'] = EquipmentList_final['Power (W)'].str.replace('+', ' + ', regex=False)\n",
    "EquipmentList_final['Power (W)'] = EquipmentList_final['Power (W)'].str.strip()\n",
    "\n",
    "EquipmentList_final['System/Sector'] = EquipmentList_final['System/Sector'].str.replace('\\n ', '\\n', regex=False)\n",
    "EquipmentList_final['System/Sector'] = EquipmentList_final['System/Sector'].str.strip()\n",
    "#display(EquipmentList_final)\n"
   ]
  },
  {
   "cell_type": "markdown",
   "id": "a2765459",
   "metadata": {},
   "source": [
    "## CANRAD"
   ]
  },
  {
   "cell_type": "code",
   "execution_count": 22,
   "id": "bdaf2e0b",
   "metadata": {},
   "outputs": [
    {
     "data": {
      "text/html": [
       "<div>\n",
       "<style scoped>\n",
       "    .dataframe tbody tr th:only-of-type {\n",
       "        vertical-align: middle;\n",
       "    }\n",
       "\n",
       "    .dataframe tbody tr th {\n",
       "        vertical-align: top;\n",
       "    }\n",
       "\n",
       "    .dataframe thead th {\n",
       "        text-align: right;\n",
       "    }\n",
       "</style>\n",
       "<table border=\"1\" class=\"dataframe\">\n",
       "  <thead>\n",
       "    <tr style=\"text-align: right;\">\n",
       "      <th></th>\n",
       "      <th>ID</th>\n",
       "      <th>Port</th>\n",
       "      <th>Function</th>\n",
       "      <th>Total Power</th>\n",
       "    </tr>\n",
       "  </thead>\n",
       "  <tbody>\n",
       "    <tr>\n",
       "      <th>0</th>\n",
       "      <td>A</td>\n",
       "      <td>1.0</td>\n",
       "      <td>Microwave Link/</td>\n",
       "      <td>0.316</td>\n",
       "    </tr>\n",
       "    <tr>\n",
       "      <th>1</th>\n",
       "      <td>A</td>\n",
       "      <td>2.0</td>\n",
       "      <td>Microwave Link/</td>\n",
       "      <td>0.316</td>\n",
       "    </tr>\n",
       "    <tr>\n",
       "      <th>0</th>\n",
       "      <td>GRNA01L</td>\n",
       "      <td>1.0</td>\n",
       "      <td>Gov. Radio Network/</td>\n",
       "      <td>76.2</td>\n",
       "    </tr>\n",
       "    <tr>\n",
       "      <th>0</th>\n",
       "      <td>GRNA01U</td>\n",
       "      <td>1.0</td>\n",
       "      <td>Gov. Radio Network/</td>\n",
       "      <td>0.001</td>\n",
       "    </tr>\n",
       "    <tr>\n",
       "      <th>0</th>\n",
       "      <td>11-O</td>\n",
       "      <td>1.0</td>\n",
       "      <td>LTE700 /</td>\n",
       "      <td>63.1</td>\n",
       "    </tr>\n",
       "    <tr>\n",
       "      <th>...</th>\n",
       "      <td>...</td>\n",
       "      <td>...</td>\n",
       "      <td>...</td>\n",
       "      <td>...</td>\n",
       "    </tr>\n",
       "    <tr>\n",
       "      <th>3</th>\n",
       "      <td>5</td>\n",
       "      <td>4.0</td>\n",
       "      <td>LTE2300 /</td>\n",
       "      <td>39.8</td>\n",
       "    </tr>\n",
       "    <tr>\n",
       "      <th>0</th>\n",
       "      <td>6</td>\n",
       "      <td>1.0</td>\n",
       "      <td>LTE2300 /</td>\n",
       "      <td>39.8</td>\n",
       "    </tr>\n",
       "    <tr>\n",
       "      <th>1</th>\n",
       "      <td>6</td>\n",
       "      <td>2.0</td>\n",
       "      <td>LTE2300 /</td>\n",
       "      <td>39.8</td>\n",
       "    </tr>\n",
       "    <tr>\n",
       "      <th>2</th>\n",
       "      <td>6</td>\n",
       "      <td>3.0</td>\n",
       "      <td></td>\n",
       "      <td>0</td>\n",
       "    </tr>\n",
       "    <tr>\n",
       "      <th>3</th>\n",
       "      <td>6</td>\n",
       "      <td>4.0</td>\n",
       "      <td></td>\n",
       "      <td>0</td>\n",
       "    </tr>\n",
       "  </tbody>\n",
       "</table>\n",
       "<p>137 rows × 4 columns</p>\n",
       "</div>"
      ],
      "text/plain": [
       "         ID  Port              Function Total Power\n",
       "0         A   1.0       Microwave Link/       0.316\n",
       "1         A   2.0       Microwave Link/       0.316\n",
       "0   GRNA01L   1.0   Gov. Radio Network/        76.2\n",
       "0   GRNA01U   1.0   Gov. Radio Network/       0.001\n",
       "0      11-O   1.0              LTE700 /        63.1\n",
       "..      ...   ...                   ...         ...\n",
       "3         5   4.0             LTE2300 /        39.8\n",
       "0         6   1.0             LTE2300 /        39.8\n",
       "1         6   2.0             LTE2300 /        39.8\n",
       "2         6   3.0                                 0\n",
       "3         6   4.0                                 0\n",
       "\n",
       "[137 rows x 4 columns]"
      ]
     },
     "metadata": {},
     "output_type": "display_data"
    }
   ],
   "source": [
    "listpow = []\n",
    "listfunc = []\n",
    "listport = []\n",
    "x = 0\n",
    "yprev = 0\n",
    "\n",
    "for AntId, AntPorts in totalPortsdict.items():\n",
    "    templistpow = [0] * int(AntPorts[0])\n",
    "    templistfunc = [''] * int(AntPorts[0])\n",
    "    templistport = list(range(1,int(AntPorts[0])+1))\n",
    "    #tempfunc = [''] * int(AntPorts[0])\n",
    "    tempdf = df.loc[(df['ID']==AntId), ['Sector','Tech','WhereToAddPower','Powers (W)']]\n",
    "    for sector, tech, port, power in zip(tempdf['Sector'], tempdf['Tech'], tempdf['WhereToAddPower'], tempdf['Powers (W)']):\n",
    "        for x, y in enumerate(port):       \n",
    "            #if sector not in templistfunc[y]:\n",
    "            templistfunc[y-1] += tech +'/'\n",
    "            templistpow[y-1] = str(round(float(templistpow[y-1]) + float(power[x]),3))\n",
    "    listpow.append(templistpow)\n",
    "    listport.append(templistport)\n",
    "    listfunc.append(templistfunc)\n",
    "\n",
    "CANRAD = pd.DataFrame(totalPortsdict.items(), columns=['ID', 'No. of ports'])\n",
    "CANRAD['Port'] = listport\n",
    "CANRAD['Function'] = listfunc\n",
    "CANRAD['Total Power'] = listpow\n",
    "\n",
    "CANRAD_final = pd.DataFrame([], columns=['ID','Function', 'Total Power'])\n",
    "\n",
    "for a, z, x, y in zip(CANRAD['ID'], CANRAD['Port'],CANRAD['Function'], CANRAD['Total Power']): \n",
    "        CANRADAntenna = pd.DataFrame([a]*len(x),columns=['ID'])\n",
    "        CANRADAntenna['Port'] = z\n",
    "        CANRADAntenna['Function'] = x\n",
    "        CANRADAntenna['Total Power'] = y\n",
    "        CANRAD_final = pd.concat([CANRAD_final, CANRADAntenna], axis=0)\n",
    "CANRAD_final=CANRAD_final.iloc[:, [0,3,1,2]]\n",
    "display(CANRAD_final)\n"
   ]
  },
  {
   "cell_type": "markdown",
   "id": "1f3da6e5",
   "metadata": {},
   "source": [
    "## Exports"
   ]
  },
  {
   "cell_type": "code",
   "execution_count": 23,
   "id": "780bbe15",
   "metadata": {},
   "outputs": [],
   "source": [
    "#df3 = pd.DataFrame.from_dict(AntennaIds)\n",
    "df3 = pd.DataFrame(dict([(k,pd.Series(v)) for k,v in AntennaIds.items() ]))\n",
    "df3 = df3.fillna('')\n",
    "\n",
    "\n",
    "\n",
    "dfAntennaSettings = df[['Carrier','ID','Height','Bearing','MDT','Total Ports','Sectors']].copy()\n",
    "dfAntennaSettings = dfAntennaSettings.drop_duplicates(keep='first')\n",
    "\n",
    "path = r'C:\\Users\\Mewtwo\\Desktop'+'\\\\'+ str(data['NSA'][3])+ ' ' + data['Site Name'][3] + ' RFNSA Wrangled Data.xlsx'\n",
    "\n",
    "from openpyxl.utils import get_column_letter\n",
    "from openpyxl import Workbook\n",
    "from openpyxl import load_workbook\n",
    "\n",
    "wb = Workbook()\n",
    "wb.save(path)\n",
    "\n",
    "writer = pd.ExcelWriter(path, engine='openpyxl')\n",
    "df3.to_excel(writer, sheet_name = 'Antenna IDs', index=False)\n",
    "dfAntennaSettings.to_excel(writer, sheet_name = 'Antenna Settings', index=False)\n",
    "df.to_excel(writer, sheet_name = 'Add powers to Prox', columns = ['Antenna','ID','EDT','Tech','Possible Ports','WhereToAddPower','Powers (W)','Assess Freq','Notes'], index=False)\n",
    "EquipmentList_final.to_excel(writer, sheet_name = 'EMEG List', index=False)\n",
    "CANRAD_final.to_excel(writer, sheet_name = 'CANRAD', index=False)\n",
    "dfSiteInfo.to_excel(writer, sheet_name = 'Site Info', index=False)\n",
    "dfSiteNames.to_excel(writer, sheet_name = 'Site Info', startcol = 3,index=False)\n",
    "dfStructureInfo.to_excel(writer, sheet_name = 'Site Info',startcol = 5, index=False)\n",
    "\n",
    "\n",
    "# load the Excel file with openpyxl\n",
    "workbook = writer.book\n",
    "\n",
    "for sheet in workbook:\n",
    "    for column in range(1, sheet.max_column + 2):\n",
    "        letter = get_column_letter(column)\n",
    "        #sheet.column_dimensions[letter].auto_size = True\n",
    "        sheet.column_dimensions[letter].bestFit = True\n",
    "\n",
    "# save the modified workbook\n",
    "workbook.save(path)"
   ]
  },
  {
   "cell_type": "code",
   "execution_count": 24,
   "id": "0fc9c891",
   "metadata": {},
   "outputs": [
    {
     "name": "stderr",
     "output_type": "stream",
     "text": [
      "C:\\Users\\Mewtwo\\anaconda3\\lib\\site-packages\\ipykernel_launcher.py:5: FutureWarning: The default value of regex will change from True to False in a future version.\n",
      "  \"\"\"\n"
     ]
    }
   ],
   "source": [
    "#display( HTML( df.to_html().replace(\"\\\\n\",\"<br><li type='1'>\") ) )\n",
    "EquipmentList_final['Power (W)'] = EquipmentList_final['Power (W)'].str.replace(r'\\n','<br>', regex=True)\n",
    "#EquipmentList_final['System/Sector'] = EquipmentList_final['System/Sector'].str.replace((r'\\n','<br>', regex=True)\n",
    "\n",
    "EquipmentList_final['System/Sector'] = EquipmentList_final['System/Sector'].str.replace(r'\\n','&#10;')\n",
    "\n",
    "#EquipmentList_final.to_html(r'C:\\Users\\Mewtwo\\Desktop\\EMEGList.html', index=False)\n",
    "#dfAntennaSettings.to_html(r'C:\\Users\\Mewtwo\\Desktop\\Antennadata.html', index=False)\n",
    "#df3.to_html(r'C:\\Users\\Mewtwo\\Desktop\\Antennadata2.html',index=False)\n",
    "#df.to_html(r'C:\\Users\\Mewtwo\\Desktop\\Antennadata3.html', columns = ['ID','EDT','Tech','Possible Ports','WhereToAddPower','Powers (W)','Assess Freq','Notes'], index=False)\n",
    "\n",
    "#df.to_html(r'C:\\Users\\Mewtwo\\Desktop\\Antennadata4.html',columns = ['ID','EDT','Sector','WhereToAddPower','Powers (W)'],index=False)\n",
    "#import subprocess\n",
    "#subprocess.call('wkhtmltoimage -f png --width 0 Antennadata.html Antennadata.png', shell=True)\n"
   ]
  },
  {
   "cell_type": "code",
   "execution_count": 25,
   "id": "4c7789f3",
   "metadata": {},
   "outputs": [],
   "source": [
    "\n",
    "for sheetname in workbook.sheetnames:\n",
    "    worksheet = workbook[sheetname]\n",
    "\n",
    "    # set best fit attribute to true for all columns\n",
    "    for column_cells in worksheet.columns:\n",
    "        length = max(len(str(cell.value)) for cell in column_cells)\n",
    "        worksheet.column_dimensions[column_cells[0].column_letter].width = length + 5\n",
    "        worksheet.column_dimensions[column_cells[0].column_letter].bestFit = True\n",
    "\n",
    "worksheet = workbook.active\n",
    "\n",
    "# set the width of column A to 15\n",
    "column_letter = get_column_letter(1)  # A\n",
    "column_dimension = worksheet.column_dimensions[column_letter]\n",
    "column_dimension.width = 15\n",
    "column_dimension.bestFit = True\n"
   ]
  },
  {
   "cell_type": "code",
   "execution_count": 26,
   "id": "23d17a31",
   "metadata": {},
   "outputs": [],
   "source": [
    "#with open(\"C:\\\\Users\\\\Mewtwo\\\\Downloads\\\\RFNSA Scrapper_V2.html\", encoding=\"utf8\") as html_file:\n",
    "#    content = html_file.read()\n",
    "\n",
    "# Get rid off prompts and source code\n",
    "#content = content.replace(\"div.input_area {\",\"div.input_area {\\n\\tdisplay: none;\")    \n",
    "#content = content.replace(\".prompt {\",\".prompt {\\n\\tdisplay: none;\")\n",
    "\n",
    "#f = open(FILE, 'w')\n",
    "#f.write(content)\n",
    "#f.close()"
   ]
  },
  {
   "cell_type": "code",
   "execution_count": 27,
   "id": "032049c9",
   "metadata": {},
   "outputs": [],
   "source": [
    "#jupyter nbconvert --to pdf 'RFNSA Scrapper_V2.ipynb' --template=hidecode.tplx\n"
   ]
  }
 ],
 "metadata": {
  "kernelspec": {
   "display_name": "Python 3",
   "language": "python",
   "name": "python3"
  },
  "language_info": {
   "codemirror_mode": {
    "name": "ipython",
    "version": 3
   },
   "file_extension": ".py",
   "mimetype": "text/x-python",
   "name": "python",
   "nbconvert_exporter": "python",
   "pygments_lexer": "ipython3",
   "version": "3.7.16"
  }
 },
 "nbformat": 4,
 "nbformat_minor": 5
}
